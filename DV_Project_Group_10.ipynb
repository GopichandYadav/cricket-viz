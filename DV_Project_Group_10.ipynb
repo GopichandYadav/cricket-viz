{
  "nbformat": 4,
  "nbformat_minor": 0,
  "metadata": {
    "colab": {
      "name": "DV Project Group 10",
      "provenance": [],
      "collapsed_sections": []
    },
    "kernelspec": {
      "name": "python3",
      "display_name": "Python 3"
    },
    "language_info": {
      "name": "python"
    }
  },
  "cells": [
    {
      "cell_type": "markdown",
      "source": [
        "Data Visualization -Group 10\n",
        "\n",
        "1.PALLEBOYINA GOPICHAND -20181CSE0519\n",
        "\n",
        "2.SUNKARA VIVEK -20181CSE0719\n",
        "\n",
        "3.AISHWARYA S RAJANAL -20191LCS0016\n",
        "\n",
        "4.NETHRAVATHI.P-20181CSE0483\n",
        "\n",
        "5.N.Pulla Reddy -20181CSE0482"
      ],
      "metadata": {
        "id": "ZikfRJRmsRs_"
      }
    },
    {
      "cell_type": "markdown",
      "source": [
        "Cricket Visualization "
      ],
      "metadata": {
        "id": "JnyGlH4h0yPD"
      }
    },
    {
      "cell_type": "markdown",
      "source": [
        "Importing Libraries "
      ],
      "metadata": {
        "id": "E8usvKHEwbua"
      }
    },
    {
      "cell_type": "code",
      "source": [
        "import pandas as pd\n",
        "import matplotlib.pyplot as plt\n",
        "import seaborn as sns\n",
        "import plotly.express as px\n",
        "import plotly.graph_objects as go\n",
        "from plotly.subplots import make_subplots\n",
        "import numpy\n",
        "import altair as alt"
      ],
      "metadata": {
        "id": "LOtgsQ-GsOll"
      },
      "execution_count": 46,
      "outputs": []
    },
    {
      "cell_type": "code",
      "source": [
        "import warnings\n",
        "warnings.filterwarnings('ignore')"
      ],
      "metadata": {
        "id": "miEhFFcJ9hFY"
      },
      "execution_count": 47,
      "outputs": []
    },
    {
      "cell_type": "markdown",
      "source": [
        "Dataset"
      ],
      "metadata": {
        "id": "SZ00hpzSwjf5"
      }
    },
    {
      "cell_type": "code",
      "source": [
        "odi_data = pd.read_csv('/content/ODIMatchResults_Inn.csv')\n",
        "odi_data"
      ],
      "metadata": {
        "colab": {
          "base_uri": "https://localhost:8080/",
          "height": 423
        },
        "id": "H8kH-5-dwsSV",
        "outputId": "1b2da143-b2e5-4b8e-e9c6-60d04292b70b"
      },
      "execution_count": 4,
      "outputs": [
        {
          "output_type": "execute_result",
          "data": {
            "text/html": [
              "<div>\n",
              "<style scoped>\n",
              "    .dataframe tbody tr th:only-of-type {\n",
              "        vertical-align: middle;\n",
              "    }\n",
              "\n",
              "    .dataframe tbody tr th {\n",
              "        vertical-align: top;\n",
              "    }\n",
              "\n",
              "    .dataframe thead th {\n",
              "        text-align: right;\n",
              "    }\n",
              "</style>\n",
              "<table border=\"1\" class=\"dataframe\">\n",
              "  <thead>\n",
              "    <tr style=\"text-align: right;\">\n",
              "      <th></th>\n",
              "      <th>team1</th>\n",
              "      <th>runs</th>\n",
              "      <th>Inn</th>\n",
              "      <th>overs</th>\n",
              "      <th>rpo</th>\n",
              "      <th>Date</th>\n",
              "      <th>result</th>\n",
              "      <th>team2</th>\n",
              "      <th>Ground</th>\n",
              "    </tr>\n",
              "  </thead>\n",
              "  <tbody>\n",
              "    <tr>\n",
              "      <th>0</th>\n",
              "      <td>Australia</td>\n",
              "      <td>240</td>\n",
              "      <td>1</td>\n",
              "      <td>50.0</td>\n",
              "      <td>4.80</td>\n",
              "      <td>6 Jan 1985</td>\n",
              "      <td>lost</td>\n",
              "      <td>West Indies</td>\n",
              "      <td>Melbourne</td>\n",
              "    </tr>\n",
              "    <tr>\n",
              "      <th>1</th>\n",
              "      <td>West Indies</td>\n",
              "      <td>241</td>\n",
              "      <td>2</td>\n",
              "      <td>44.5</td>\n",
              "      <td>5.37</td>\n",
              "      <td>6 Jan 1985</td>\n",
              "      <td>won</td>\n",
              "      <td>Australia</td>\n",
              "      <td>Melbourne</td>\n",
              "    </tr>\n",
              "    <tr>\n",
              "      <th>2</th>\n",
              "      <td>Sri Lanka</td>\n",
              "      <td>239</td>\n",
              "      <td>1</td>\n",
              "      <td>49.0</td>\n",
              "      <td>4.87</td>\n",
              "      <td>8 Jan 1985</td>\n",
              "      <td>lost</td>\n",
              "      <td>Australia</td>\n",
              "      <td>Sydney</td>\n",
              "    </tr>\n",
              "    <tr>\n",
              "      <th>3</th>\n",
              "      <td>Australia</td>\n",
              "      <td>240</td>\n",
              "      <td>2</td>\n",
              "      <td>46.2</td>\n",
              "      <td>5.17</td>\n",
              "      <td>8 Jan 1985</td>\n",
              "      <td>won</td>\n",
              "      <td>Sri Lanka</td>\n",
              "      <td>Sydney</td>\n",
              "    </tr>\n",
              "    <tr>\n",
              "      <th>4</th>\n",
              "      <td>Sri Lanka</td>\n",
              "      <td>197</td>\n",
              "      <td>1</td>\n",
              "      <td>50.0</td>\n",
              "      <td>3.94</td>\n",
              "      <td>10 Jan 1985</td>\n",
              "      <td>lost</td>\n",
              "      <td>West Indies</td>\n",
              "      <td>Hobart</td>\n",
              "    </tr>\n",
              "    <tr>\n",
              "      <th>...</th>\n",
              "      <td>...</td>\n",
              "      <td>...</td>\n",
              "      <td>...</td>\n",
              "      <td>...</td>\n",
              "      <td>...</td>\n",
              "      <td>...</td>\n",
              "      <td>...</td>\n",
              "      <td>...</td>\n",
              "      <td>...</td>\n",
              "    </tr>\n",
              "    <tr>\n",
              "      <th>7597</th>\n",
              "      <td>Zimbabwe</td>\n",
              "      <td>218</td>\n",
              "      <td>2</td>\n",
              "      <td>37.3</td>\n",
              "      <td>5.81</td>\n",
              "      <td>6 Mar 2020</td>\n",
              "      <td>lost</td>\n",
              "      <td>Bangladesh</td>\n",
              "      <td>Sylhet</td>\n",
              "    </tr>\n",
              "    <tr>\n",
              "      <th>7598</th>\n",
              "      <td>Australia</td>\n",
              "      <td>254</td>\n",
              "      <td>1</td>\n",
              "      <td>50.0</td>\n",
              "      <td>5.08</td>\n",
              "      <td>7 Mar 2020</td>\n",
              "      <td>lost</td>\n",
              "      <td>South Africa</td>\n",
              "      <td>Potchefstroom</td>\n",
              "    </tr>\n",
              "    <tr>\n",
              "      <th>7599</th>\n",
              "      <td>South Africa</td>\n",
              "      <td>258</td>\n",
              "      <td>2</td>\n",
              "      <td>45.3</td>\n",
              "      <td>5.67</td>\n",
              "      <td>7 Mar 2020</td>\n",
              "      <td>won</td>\n",
              "      <td>Australia</td>\n",
              "      <td>Potchefstroom</td>\n",
              "    </tr>\n",
              "    <tr>\n",
              "      <th>7600</th>\n",
              "      <td>Australia</td>\n",
              "      <td>258</td>\n",
              "      <td>1</td>\n",
              "      <td>50.0</td>\n",
              "      <td>5.16</td>\n",
              "      <td>13 Mar 2020</td>\n",
              "      <td>won</td>\n",
              "      <td>New Zealand</td>\n",
              "      <td>Sydney</td>\n",
              "    </tr>\n",
              "    <tr>\n",
              "      <th>7601</th>\n",
              "      <td>New Zealand</td>\n",
              "      <td>187</td>\n",
              "      <td>2</td>\n",
              "      <td>41.0</td>\n",
              "      <td>4.56</td>\n",
              "      <td>13 Mar 2020</td>\n",
              "      <td>lost</td>\n",
              "      <td>Australia</td>\n",
              "      <td>Sydney</td>\n",
              "    </tr>\n",
              "  </tbody>\n",
              "</table>\n",
              "<p>7602 rows × 9 columns</p>\n",
              "</div>"
            ],
            "text/plain": [
              "             team1  runs  Inn  ...  result         team2         Ground\n",
              "0        Australia   240    1  ...    lost   West Indies      Melbourne\n",
              "1      West Indies   241    2  ...     won     Australia      Melbourne\n",
              "2        Sri Lanka   239    1  ...    lost     Australia         Sydney\n",
              "3        Australia   240    2  ...     won     Sri Lanka         Sydney\n",
              "4        Sri Lanka   197    1  ...    lost   West Indies         Hobart\n",
              "...            ...   ...  ...  ...     ...           ...            ...\n",
              "7597      Zimbabwe   218    2  ...    lost    Bangladesh         Sylhet\n",
              "7598     Australia   254    1  ...    lost  South Africa  Potchefstroom\n",
              "7599  South Africa   258    2  ...     won     Australia  Potchefstroom\n",
              "7600     Australia   258    1  ...     won   New Zealand         Sydney\n",
              "7601   New Zealand   187    2  ...    lost     Australia         Sydney\n",
              "\n",
              "[7602 rows x 9 columns]"
            ]
          },
          "metadata": {},
          "execution_count": 4
        }
      ]
    },
    {
      "cell_type": "code",
      "source": [
        "odi_data.info()"
      ],
      "metadata": {
        "colab": {
          "base_uri": "https://localhost:8080/"
        },
        "id": "tXEOuhPrxLN9",
        "outputId": "b507ff18-260c-4535-8ea4-7f06a3ecedf3"
      },
      "execution_count": null,
      "outputs": [
        {
          "output_type": "stream",
          "name": "stdout",
          "text": [
            "<class 'pandas.core.frame.DataFrame'>\n",
            "RangeIndex: 7602 entries, 0 to 7601\n",
            "Data columns (total 9 columns):\n",
            " #   Column  Non-Null Count  Dtype  \n",
            "---  ------  --------------  -----  \n",
            " 0   team1   7602 non-null   object \n",
            " 1   runs    7602 non-null   int64  \n",
            " 2   Inn     7602 non-null   int64  \n",
            " 3   overs   7602 non-null   float64\n",
            " 4   rpo     7602 non-null   float64\n",
            " 5   Date    7602 non-null   object \n",
            " 6   result  7602 non-null   object \n",
            " 7   team2   7602 non-null   object \n",
            " 8   Ground  7602 non-null   object \n",
            "dtypes: float64(2), int64(2), object(5)\n",
            "memory usage: 534.6+ KB\n"
          ]
        }
      ]
    },
    {
      "cell_type": "code",
      "source": [
        "sns.heatmap(odi_data.isnull())"
      ],
      "metadata": {
        "colab": {
          "base_uri": "https://localhost:8080/",
          "height": 314
        },
        "id": "JskkI6YJxYjU",
        "outputId": "6b5ceef1-19ed-447f-8dcc-cd5e4e8b825b"
      },
      "execution_count": 5,
      "outputs": [
        {
          "output_type": "execute_result",
          "data": {
            "text/plain": [
              "<matplotlib.axes._subplots.AxesSubplot at 0x7f87796a78d0>"
            ]
          },
          "metadata": {},
          "execution_count": 5
        },
        {
          "output_type": "display_data",
          "data": {
            "image/png": "[encoded data removed]",
            "text/plain": [
              "<Figure size 432x288 with 2 Axes>"
            ]
          },
          "metadata": {
            "needs_background": "light"
          }
        }
      ]
    },
    {
      "cell_type": "markdown",
      "source": [
        "Preparing the Data"
      ],
      "metadata": {
        "id": "YgfLjxlHY6Q4"
      }
    },
    {
      "cell_type": "code",
      "source": [
        "odi_data['Year'] = odi_data['Date'].apply(lambda date : date.split(\" \")[2])\n",
        "odi_data['Month']  = odi_data['Date'].apply(lambda date : date.split(\" \")[1])\n",
        "odi_data.drop('Date',axis=1,inplace=True)"
      ],
      "metadata": {
        "id": "jjmCjTUDxg_H"
      },
      "execution_count": 6,
      "outputs": []
    },
    {
      "cell_type": "code",
      "source": [
        "odi_data.head()"
      ],
      "metadata": {
        "colab": {
          "base_uri": "https://localhost:8080/",
          "height": 206
        },
        "id": "UcmUz34HxmDt",
        "outputId": "0a177377-45a7-43ba-d598-ce0a68470821"
      },
      "execution_count": 7,
      "outputs": [
        {
          "output_type": "execute_result",
          "data": {
            "text/html": [
              "<div>\n",
              "<style scoped>\n",
              "    .dataframe tbody tr th:only-of-type {\n",
              "        vertical-align: middle;\n",
              "    }\n",
              "\n",
              "    .dataframe tbody tr th {\n",
              "        vertical-align: top;\n",
              "    }\n",
              "\n",
              "    .dataframe thead th {\n",
              "        text-align: right;\n",
              "    }\n",
              "</style>\n",
              "<table border=\"1\" class=\"dataframe\">\n",
              "  <thead>\n",
              "    <tr style=\"text-align: right;\">\n",
              "      <th></th>\n",
              "      <th>team1</th>\n",
              "      <th>runs</th>\n",
              "      <th>Inn</th>\n",
              "      <th>overs</th>\n",
              "      <th>rpo</th>\n",
              "      <th>result</th>\n",
              "      <th>team2</th>\n",
              "      <th>Ground</th>\n",
              "      <th>Year</th>\n",
              "      <th>Month</th>\n",
              "    </tr>\n",
              "  </thead>\n",
              "  <tbody>\n",
              "    <tr>\n",
              "      <th>0</th>\n",
              "      <td>Australia</td>\n",
              "      <td>240</td>\n",
              "      <td>1</td>\n",
              "      <td>50.0</td>\n",
              "      <td>4.80</td>\n",
              "      <td>lost</td>\n",
              "      <td>West Indies</td>\n",
              "      <td>Melbourne</td>\n",
              "      <td>1985</td>\n",
              "      <td>Jan</td>\n",
              "    </tr>\n",
              "    <tr>\n",
              "      <th>1</th>\n",
              "      <td>West Indies</td>\n",
              "      <td>241</td>\n",
              "      <td>2</td>\n",
              "      <td>44.5</td>\n",
              "      <td>5.37</td>\n",
              "      <td>won</td>\n",
              "      <td>Australia</td>\n",
              "      <td>Melbourne</td>\n",
              "      <td>1985</td>\n",
              "      <td>Jan</td>\n",
              "    </tr>\n",
              "    <tr>\n",
              "      <th>2</th>\n",
              "      <td>Sri Lanka</td>\n",
              "      <td>239</td>\n",
              "      <td>1</td>\n",
              "      <td>49.0</td>\n",
              "      <td>4.87</td>\n",
              "      <td>lost</td>\n",
              "      <td>Australia</td>\n",
              "      <td>Sydney</td>\n",
              "      <td>1985</td>\n",
              "      <td>Jan</td>\n",
              "    </tr>\n",
              "    <tr>\n",
              "      <th>3</th>\n",
              "      <td>Australia</td>\n",
              "      <td>240</td>\n",
              "      <td>2</td>\n",
              "      <td>46.2</td>\n",
              "      <td>5.17</td>\n",
              "      <td>won</td>\n",
              "      <td>Sri Lanka</td>\n",
              "      <td>Sydney</td>\n",
              "      <td>1985</td>\n",
              "      <td>Jan</td>\n",
              "    </tr>\n",
              "    <tr>\n",
              "      <th>4</th>\n",
              "      <td>Sri Lanka</td>\n",
              "      <td>197</td>\n",
              "      <td>1</td>\n",
              "      <td>50.0</td>\n",
              "      <td>3.94</td>\n",
              "      <td>lost</td>\n",
              "      <td>West Indies</td>\n",
              "      <td>Hobart</td>\n",
              "      <td>1985</td>\n",
              "      <td>Jan</td>\n",
              "    </tr>\n",
              "  </tbody>\n",
              "</table>\n",
              "</div>"
            ],
            "text/plain": [
              "         team1  runs  Inn  overs  ...        team2     Ground  Year Month\n",
              "0    Australia   240    1   50.0  ...  West Indies  Melbourne  1985   Jan\n",
              "1  West Indies   241    2   44.5  ...    Australia  Melbourne  1985   Jan\n",
              "2    Sri Lanka   239    1   49.0  ...    Australia     Sydney  1985   Jan\n",
              "3    Australia   240    2   46.2  ...    Sri Lanka     Sydney  1985   Jan\n",
              "4    Sri Lanka   197    1   50.0  ...  West Indies     Hobart  1985   Jan\n",
              "\n",
              "[5 rows x 10 columns]"
            ]
          },
          "metadata": {},
          "execution_count": 7
        }
      ]
    },
    {
      "cell_type": "code",
      "source": [
        "ind_aus = odi_data[((odi_data['team1'] == 'Australia')&(odi_data['team2']== 'India'))|((odi_data['team2'] == 'Australia')&(odi_data['team1']== 'India'))]\n",
        "ind_aus"
      ],
      "metadata": {
        "colab": {
          "base_uri": "https://localhost:8080/",
          "height": 423
        },
        "id": "QqCwNxvxxqPO",
        "outputId": "d662c953-75fd-45b0-cb85-0c907bfaba0e"
      },
      "execution_count": 8,
      "outputs": [
        {
          "output_type": "execute_result",
          "data": {
            "text/html": [
              "<div>\n",
              "<style scoped>\n",
              "    .dataframe tbody tr th:only-of-type {\n",
              "        vertical-align: middle;\n",
              "    }\n",
              "\n",
              "    .dataframe tbody tr th {\n",
              "        vertical-align: top;\n",
              "    }\n",
              "\n",
              "    .dataframe thead th {\n",
              "        text-align: right;\n",
              "    }\n",
              "</style>\n",
              "<table border=\"1\" class=\"dataframe\">\n",
              "  <thead>\n",
              "    <tr style=\"text-align: right;\">\n",
              "      <th></th>\n",
              "      <th>team1</th>\n",
              "      <th>runs</th>\n",
              "      <th>Inn</th>\n",
              "      <th>overs</th>\n",
              "      <th>rpo</th>\n",
              "      <th>result</th>\n",
              "      <th>team2</th>\n",
              "      <th>Ground</th>\n",
              "      <th>Year</th>\n",
              "      <th>Month</th>\n",
              "    </tr>\n",
              "  </thead>\n",
              "  <tbody>\n",
              "    <tr>\n",
              "      <th>62</th>\n",
              "      <td>Australia</td>\n",
              "      <td>163</td>\n",
              "      <td>1</td>\n",
              "      <td>49.3</td>\n",
              "      <td>3.29</td>\n",
              "      <td>lost</td>\n",
              "      <td>India</td>\n",
              "      <td>Melbourne</td>\n",
              "      <td>1985</td>\n",
              "      <td>Mar</td>\n",
              "    </tr>\n",
              "    <tr>\n",
              "      <th>63</th>\n",
              "      <td>India</td>\n",
              "      <td>165</td>\n",
              "      <td>2</td>\n",
              "      <td>36.1</td>\n",
              "      <td>4.56</td>\n",
              "      <td>won</td>\n",
              "      <td>Australia</td>\n",
              "      <td>Melbourne</td>\n",
              "      <td>1985</td>\n",
              "      <td>Mar</td>\n",
              "    </tr>\n",
              "    <tr>\n",
              "      <th>82</th>\n",
              "      <td>Australia</td>\n",
              "      <td>139</td>\n",
              "      <td>1</td>\n",
              "      <td>42.3</td>\n",
              "      <td>3.27</td>\n",
              "      <td>lost</td>\n",
              "      <td>India</td>\n",
              "      <td>Sharjah</td>\n",
              "      <td>1985</td>\n",
              "      <td>Mar</td>\n",
              "    </tr>\n",
              "    <tr>\n",
              "      <th>83</th>\n",
              "      <td>India</td>\n",
              "      <td>140</td>\n",
              "      <td>2</td>\n",
              "      <td>39.2</td>\n",
              "      <td>3.55</td>\n",
              "      <td>won</td>\n",
              "      <td>Australia</td>\n",
              "      <td>Sharjah</td>\n",
              "      <td>1985</td>\n",
              "      <td>Mar</td>\n",
              "    </tr>\n",
              "    <tr>\n",
              "      <th>126</th>\n",
              "      <td>India</td>\n",
              "      <td>161</td>\n",
              "      <td>1</td>\n",
              "      <td>43.0</td>\n",
              "      <td>3.74</td>\n",
              "      <td>lost</td>\n",
              "      <td>Australia</td>\n",
              "      <td>Brisbane</td>\n",
              "      <td>1986</td>\n",
              "      <td>Jan</td>\n",
              "    </tr>\n",
              "    <tr>\n",
              "      <th>...</th>\n",
              "      <td>...</td>\n",
              "      <td>...</td>\n",
              "      <td>...</td>\n",
              "      <td>...</td>\n",
              "      <td>...</td>\n",
              "      <td>...</td>\n",
              "      <td>...</td>\n",
              "      <td>...</td>\n",
              "      <td>...</td>\n",
              "      <td>...</td>\n",
              "    </tr>\n",
              "    <tr>\n",
              "      <th>7555</th>\n",
              "      <td>Australia</td>\n",
              "      <td>258</td>\n",
              "      <td>2</td>\n",
              "      <td>37.4</td>\n",
              "      <td>6.84</td>\n",
              "      <td>won</td>\n",
              "      <td>India</td>\n",
              "      <td>Mumbai</td>\n",
              "      <td>2020</td>\n",
              "      <td>Jan</td>\n",
              "    </tr>\n",
              "    <tr>\n",
              "      <th>7556</th>\n",
              "      <td>India</td>\n",
              "      <td>340</td>\n",
              "      <td>1</td>\n",
              "      <td>50.0</td>\n",
              "      <td>6.80</td>\n",
              "      <td>won</td>\n",
              "      <td>Australia</td>\n",
              "      <td>Rajkot</td>\n",
              "      <td>2020</td>\n",
              "      <td>Jan</td>\n",
              "    </tr>\n",
              "    <tr>\n",
              "      <th>7557</th>\n",
              "      <td>Australia</td>\n",
              "      <td>304</td>\n",
              "      <td>2</td>\n",
              "      <td>49.1</td>\n",
              "      <td>6.18</td>\n",
              "      <td>lost</td>\n",
              "      <td>India</td>\n",
              "      <td>Rajkot</td>\n",
              "      <td>2020</td>\n",
              "      <td>Jan</td>\n",
              "    </tr>\n",
              "    <tr>\n",
              "      <th>7558</th>\n",
              "      <td>Australia</td>\n",
              "      <td>286</td>\n",
              "      <td>1</td>\n",
              "      <td>50.0</td>\n",
              "      <td>5.72</td>\n",
              "      <td>lost</td>\n",
              "      <td>India</td>\n",
              "      <td>Bengaluru</td>\n",
              "      <td>2020</td>\n",
              "      <td>Jan</td>\n",
              "    </tr>\n",
              "    <tr>\n",
              "      <th>7559</th>\n",
              "      <td>India</td>\n",
              "      <td>289</td>\n",
              "      <td>2</td>\n",
              "      <td>47.3</td>\n",
              "      <td>6.08</td>\n",
              "      <td>won</td>\n",
              "      <td>Australia</td>\n",
              "      <td>Bengaluru</td>\n",
              "      <td>2020</td>\n",
              "      <td>Jan</td>\n",
              "    </tr>\n",
              "  </tbody>\n",
              "</table>\n",
              "<p>240 rows × 10 columns</p>\n",
              "</div>"
            ],
            "text/plain": [
              "          team1  runs  Inn  overs  ...      team2     Ground  Year Month\n",
              "62    Australia   163    1   49.3  ...      India  Melbourne  1985   Mar\n",
              "63        India   165    2   36.1  ...  Australia  Melbourne  1985   Mar\n",
              "82    Australia   139    1   42.3  ...      India    Sharjah  1985   Mar\n",
              "83        India   140    2   39.2  ...  Australia    Sharjah  1985   Mar\n",
              "126       India   161    1   43.0  ...  Australia   Brisbane  1986   Jan\n",
              "...         ...   ...  ...    ...  ...        ...        ...   ...   ...\n",
              "7555  Australia   258    2   37.4  ...      India     Mumbai  2020   Jan\n",
              "7556      India   340    1   50.0  ...  Australia     Rajkot  2020   Jan\n",
              "7557  Australia   304    2   49.1  ...      India     Rajkot  2020   Jan\n",
              "7558  Australia   286    1   50.0  ...      India  Bengaluru  2020   Jan\n",
              "7559      India   289    2   47.3  ...  Australia  Bengaluru  2020   Jan\n",
              "\n",
              "[240 rows x 10 columns]"
            ]
          },
          "metadata": {},
          "execution_count": 8
        }
      ]
    },
    {
      "cell_type": "code",
      "source": [
        "ind_df = ind_aus[ind_aus['team1']=='India']\n",
        "aus_df = ind_aus[ind_aus['team1']=='Australia']"
      ],
      "metadata": {
        "id": "Qvja4LAyxuvu"
      },
      "execution_count": 9,
      "outputs": []
    },
    {
      "cell_type": "code",
      "source": [
        "ind_aus_inn1 = ind_aus[ind_aus['Inn']==1]\n",
        "ind_aus_chase = ind_aus[ind_aus['Inn']==2]"
      ],
      "metadata": {
        "id": "ysysNjvMxzp-"
      },
      "execution_count": 10,
      "outputs": []
    },
    {
      "cell_type": "code",
      "source": [
        "ind_df_1st = ind_df[ind_df['Inn']==1]\n",
        "ind_df_2nd = ind_df[ind_df['Inn']==2]\n",
        "aus_df_1st = aus_df[aus_df['Inn']==1]\n",
        "aus_df_2nd = aus_df[aus_df['Inn']==2]"
      ],
      "metadata": {
        "id": "eTemqzDAx3bN"
      },
      "execution_count": 11,
      "outputs": []
    },
    {
      "cell_type": "markdown",
      "source": [
        "India has been more consistent chasing runs - 275 or above than Australia"
      ],
      "metadata": {
        "id": "-aVjdxMrzaAt"
      }
    },
    {
      "cell_type": "code",
      "source": [
        "plt.figure(figsize=(15,10))\n",
        "ax = sns.boxplot(x = 'Year',y = 'runs',data=ind_aus_inn1,palette = 'rainbow');\n",
        "ax.set_xlabel('Years',fontsize = 15)\n",
        "ax.set_ylabel('Runs scored in the 1st innings',fontsize=15);"
      ],
      "metadata": {
        "colab": {
          "base_uri": "https://localhost:8080/",
          "height": 611
        },
        "id": "Uu0sGX-fy5wm",
        "outputId": "46735eeb-0ac4-4c03-cdf2-34c3608c3125"
      },
      "execution_count": null,
      "outputs": [
        {
          "output_type": "display_data",
          "data": {
            "image/png": "[encoded data removed]",
            "text/plain": [
              "<Figure size 1080x720 with 1 Axes>"
            ]
          },
          "metadata": {
            "needs_background": "light"
          }
        }
      ]
    },
    {
      "cell_type": "code",
      "source": [
        "plt.figure(figsize=(15,10))\n",
        "ax = sns.boxplot(x = 'Year',y = 'runs',data=ind_aus_chase,palette = 'coolwarm');\n",
        "ax.set_xlabel('Years',fontsize = 15)\n",
        "ax.set_ylabel('Runs scored while chasing',fontsize=15);"
      ],
      "metadata": {
        "colab": {
          "base_uri": "https://localhost:8080/",
          "height": 611
        },
        "id": "7SEcehtVy93s",
        "outputId": "724d81ce-d9d1-48b7-8d27-8677f11a034f"
      },
      "execution_count": null,
      "outputs": [
        {
          "output_type": "display_data",
          "data": {
            "image/png": "[encoded data removed]",
            "text/plain": [
              "<Figure size 1080x720 with 1 Axes>"
            ]
          },
          "metadata": {
            "needs_background": "light"
          }
        }
      ]
    },
    {
      "cell_type": "markdown",
      "source": [
        "These plots clearly depict that the scoring capablity of the teams in one day cricket has increased with time. Mean batting scores in 1985 used to be 150 which rose to around 300 till 2020."
      ],
      "metadata": {
        "id": "sU2mqug8znX-"
      }
    },
    {
      "cell_type": "markdown",
      "source": [
        "Trends in Result while batting first in different venues -"
      ],
      "metadata": {
        "id": "So5zRwSLzode"
      }
    },
    {
      "cell_type": "code",
      "source": [
        "plt.figure(figsize=(25,10))\n",
        "plt.xticks(rotation = 30)\n",
        "sns.countplot('Ground',hue = 'result',data = ind_aus_inn1,palette = 'Set1' )\n",
        "plt.xlabel('Venue',fontsize = 30)\n",
        "plt.ylabel('Count',fontsize = 30);"
      ],
      "metadata": {
        "colab": {
          "base_uri": "https://localhost:8080/",
          "height": 682
        },
        "id": "NQHsvGBUzEgV",
        "outputId": "0b1863fa-79b9-432f-f73b-18165f9c7635"
      },
      "execution_count": null,
      "outputs": [
        {
          "output_type": "stream",
          "name": "stderr",
          "text": [
            "/usr/local/lib/python3.7/dist-packages/seaborn/_decorators.py:43: FutureWarning:\n",
            "\n",
            "Pass the following variable as a keyword arg: x. From version 0.12, the only valid positional argument will be `data`, and passing other arguments without an explicit keyword will result in an error or misinterpretation.\n",
            "\n"
          ]
        },
        {
          "output_type": "display_data",
          "data": {
            "image/png": "[encoded data removed]",
            "text/plain": [
              "<Figure size 1800x720 with 1 Axes>"
            ]
          },
          "metadata": {
            "needs_background": "light"
          }
        }
      ]
    },
    {
      "cell_type": "markdown",
      "source": [
        "India's runrate while chasing drops below 6 while Aussies have been chasing the runs with higher runrate. Batting in the first inning, both the teams have performed well considering the runrate."
      ],
      "metadata": {
        "id": "9QE9DC1-zwe-"
      }
    },
    {
      "cell_type": "code",
      "source": [
        "plt.figure(figsize=(8,6))\n",
        "sns.stripplot(x = 'team1',y = 'rpo',data = ind_aus_inn1);\n",
        "plt.xlabel('Team',fontsize = 15)\n",
        "plt.ylabel('Run Rate bating 1st',fontsize = 15) ;"
      ],
      "metadata": {
        "colab": {
          "base_uri": "https://localhost:8080/",
          "height": 393
        },
        "id": "xrJg1_SazHL-",
        "outputId": "d1ecf69e-534d-409e-d935-fa1e3b428590"
      },
      "execution_count": null,
      "outputs": [
        {
          "output_type": "display_data",
          "data": {
            "image/png": "[encoded data removed]",
            "text/plain": [
              "<Figure size 576x432 with 1 Axes>"
            ]
          },
          "metadata": {
            "needs_background": "light"
          }
        }
      ]
    },
    {
      "cell_type": "code",
      "source": [
        "plt.figure(figsize=(8,6))\n",
        "sns.stripplot(x = 'team1',y = 'rpo',data = ind_aus_chase);\n",
        "plt.xlabel('Team',fontsize = 15)\n",
        "plt.ylabel('Run Rate batting 2nd',fontsize = 15) ;"
      ],
      "metadata": {
        "colab": {
          "base_uri": "https://localhost:8080/",
          "height": 393
        },
        "id": "l0XqrJKWzNtL",
        "outputId": "3539317b-e959-495b-a9c5-ff991cad99c6"
      },
      "execution_count": null,
      "outputs": [
        {
          "output_type": "display_data",
          "data": {
            "image/png": "[encoded data removed]",
            "text/plain": [
              "<Figure size 576x432 with 1 Axes>"
            ]
          },
          "metadata": {
            "needs_background": "light"
          }
        }
      ]
    },
    {
      "cell_type": "markdown",
      "source": [
        "While India has been consistent at chasing scores at higher runrate(5 - 7 and 7+ on quite many games), Australia has been more consistent in setting the target at high runrate and eventually setting big targets(300+ in 14 matches) as depicted in previous plots."
      ],
      "metadata": {
        "id": "ltU_of2Pzz5W"
      }
    },
    {
      "cell_type": "markdown",
      "source": [
        "Results when India bats 1st"
      ],
      "metadata": {
        "id": "eP3TkQH6z3WW"
      }
    },
    {
      "cell_type": "code",
      "source": [
        "fig = px.pie(ind_df_1st,values = 'Inn',names = 'result')\n",
        "fig.show()"
      ],
      "metadata": {
        "colab": {
          "base_uri": "https://localhost:8080/",
          "height": 542
        },
        "id": "T7KTd-eHz4DX",
        "outputId": "4d3dd35f-c143-409a-fefe-e727dcf25995"
      },
      "execution_count": null,
      "outputs": [
        {
          "output_type": "display_data",
          "data": {
            "text/html": [
              "<html>\n",
              "<head><meta charset=\"utf-8\" /></head>\n",
              "<body>\n",
              "    <div>\n",
              "            <script src=\"https://cdnjs.cloudflare.com/ajax/libs/mathjax/2.7.5/MathJax.js?config=TeX-AMS-MML_SVG\"></script><script type=\"text/javascript\">if (window.MathJax) {MathJax.Hub.Config({SVG: {font: \"STIX-Web\"}});}</script>\n",
              "                <script type=\"text/javascript\">window.PlotlyConfig = {MathJaxConfig: 'local'};</script>\n",
              "        <script src=\"https://cdn.plot.ly/plotly-latest.min.js\"></script>    \n",
              "            <div id=\"682e6269-e2de-4585-99b2-3368c8945746\" class=\"plotly-graph-div\" style=\"height:525px; width:100%;\"></div>\n",
              "            <script type=\"text/javascript\">\n",
              "                \n",
              "                    window.PLOTLYENV=window.PLOTLYENV || {};\n",
              "                    \n",
              "                if (document.getElementById(\"682e6269-e2de-4585-99b2-3368c8945746\")) {\n",
              "                    Plotly.newPlot(\n",
              "                        '682e6269-e2de-4585-99b2-3368c8945746',\n",
              "                        [{\"domain\": {\"x\": [0.0, 1.0], \"y\": [0.0, 1.0]}, \"hoverlabel\": {\"namelength\": 0}, \"hovertemplate\": \"result=%{label}<br>Inn=%{value}\", \"labels\": [\"lost\", \"lost\", \"lost\", \"won\", \"lost\", \"won\", \"lost\", \"won\", \"lost\", \"lost\", \"lost\", \"won\", \"lost\", \"won\", \"won\", \"lost\", \"won\", \"lost\", \"lost\", \"lost\", \"won\", \"won\", \"lost\", \"won\", \"lost\", \"lost\", \"won\", \"won\", \"lost\", \"lost\", \"lost\", \"lost\", \"won\", \"lost\", \"won\", \"won\", \"lost\", \"lost\", \"won\", \"lost\", \"lost\", \"lost\", \"lost\", \"won\", \"won\", \"won\", \"lost\", \"won\", \"lost\", \"won\"], \"legendgroup\": \"\", \"name\": \"\", \"showlegend\": true, \"type\": \"pie\", \"values\": [1, 1, 1, 1, 1, 1, 1, 1, 1, 1, 1, 1, 1, 1, 1, 1, 1, 1, 1, 1, 1, 1, 1, 1, 1, 1, 1, 1, 1, 1, 1, 1, 1, 1, 1, 1, 1, 1, 1, 1, 1, 1, 1, 1, 1, 1, 1, 1, 1, 1]}],\n",
              "                        {\"legend\": {\"tracegroupgap\": 0}, \"margin\": {\"t\": 60}, \"template\": {\"data\": {\"bar\": [{\"error_x\": {\"color\": \"#2a3f5f\"}, \"error_y\": {\"color\": \"#2a3f5f\"}, \"marker\": {\"line\": {\"color\": \"#E5ECF6\", \"width\": 0.5}}, \"type\": \"bar\"}], \"barpolar\": [{\"marker\": {\"line\": {\"color\": \"#E5ECF6\", \"width\": 0.5}}, \"type\": \"barpolar\"}], \"carpet\": [{\"aaxis\": {\"endlinecolor\": \"#2a3f5f\", \"gridcolor\": \"white\", \"linecolor\": \"white\", \"minorgridcolor\": \"white\", \"startlinecolor\": \"#2a3f5f\"}, \"baxis\": {\"endlinecolor\": \"#2a3f5f\", \"gridcolor\": \"white\", \"linecolor\": \"white\", \"minorgridcolor\": \"white\", \"startlinecolor\": \"#2a3f5f\"}, \"type\": \"carpet\"}], \"choropleth\": [{\"colorbar\": {\"outlinewidth\": 0, \"ticks\": \"\"}, \"type\": \"choropleth\"}], \"contour\": [{\"colorbar\": {\"outlinewidth\": 0, \"ticks\": \"\"}, \"colorscale\": [[0.0, \"#0d0887\"], [0.1111111111111111, \"#46039f\"], [0.2222222222222222, \"#7201a8\"], [0.3333333333333333, \"#9c179e\"], [0.4444444444444444, \"#bd3786\"], [0.5555555555555556, \"#d8576b\"], [0.6666666666666666, \"#ed7953\"], [0.7777777777777778, \"#fb9f3a\"], [0.8888888888888888, \"#fdca26\"], [1.0, \"#f0f921\"]], \"type\": \"contour\"}], \"contourcarpet\": [{\"colorbar\": {\"outlinewidth\": 0, \"ticks\": \"\"}, \"type\": \"contourcarpet\"}], \"heatmap\": [{\"colorbar\": {\"outlinewidth\": 0, \"ticks\": \"\"}, \"colorscale\": [[0.0, \"#0d0887\"], [0.1111111111111111, \"#46039f\"], [0.2222222222222222, \"#7201a8\"], [0.3333333333333333, \"#9c179e\"], [0.4444444444444444, \"#bd3786\"], [0.5555555555555556, \"#d8576b\"], [0.6666666666666666, \"#ed7953\"], [0.7777777777777778, \"#fb9f3a\"], [0.8888888888888888, \"#fdca26\"], [1.0, \"#f0f921\"]], \"type\": \"heatmap\"}], \"heatmapgl\": [{\"colorbar\": {\"outlinewidth\": 0, \"ticks\": \"\"}, \"colorscale\": [[0.0, \"#0d0887\"], [0.1111111111111111, \"#46039f\"], [0.2222222222222222, \"#7201a8\"], [0.3333333333333333, \"#9c179e\"], [0.4444444444444444, \"#bd3786\"], [0.5555555555555556, \"#d8576b\"], [0.6666666666666666, \"#ed7953\"], [0.7777777777777778, \"#fb9f3a\"], [0.8888888888888888, \"#fdca26\"], [1.0, \"#f0f921\"]], \"type\": \"heatmapgl\"}], \"histogram\": [{\"marker\": {\"colorbar\": {\"outlinewidth\": 0, \"ticks\": \"\"}}, \"type\": \"histogram\"}], \"histogram2d\": [{\"colorbar\": {\"outlinewidth\": 0, \"ticks\": \"\"}, \"colorscale\": [[0.0, \"#0d0887\"], [0.1111111111111111, \"#46039f\"], [0.2222222222222222, \"#7201a8\"], [0.3333333333333333, \"#9c179e\"], [0.4444444444444444, \"#bd3786\"], [0.5555555555555556, \"#d8576b\"], [0.6666666666666666, \"#ed7953\"], [0.7777777777777778, \"#fb9f3a\"], [0.8888888888888888, \"#fdca26\"], [1.0, \"#f0f921\"]], \"type\": \"histogram2d\"}], \"histogram2dcontour\": [{\"colorbar\": {\"outlinewidth\": 0, \"ticks\": \"\"}, \"colorscale\": [[0.0, \"#0d0887\"], [0.1111111111111111, \"#46039f\"], [0.2222222222222222, \"#7201a8\"], [0.3333333333333333, \"#9c179e\"], [0.4444444444444444, \"#bd3786\"], [0.5555555555555556, \"#d8576b\"], [0.6666666666666666, \"#ed7953\"], [0.7777777777777778, \"#fb9f3a\"], [0.8888888888888888, \"#fdca26\"], [1.0, \"#f0f921\"]], \"type\": \"histogram2dcontour\"}], \"mesh3d\": [{\"colorbar\": {\"outlinewidth\": 0, \"ticks\": \"\"}, \"type\": \"mesh3d\"}], \"parcoords\": [{\"line\": {\"colorbar\": {\"outlinewidth\": 0, \"ticks\": \"\"}}, \"type\": \"parcoords\"}], \"pie\": [{\"automargin\": true, \"type\": \"pie\"}], \"scatter\": [{\"marker\": {\"colorbar\": {\"outlinewidth\": 0, \"ticks\": \"\"}}, \"type\": \"scatter\"}], \"scatter3d\": [{\"line\": {\"colorbar\": {\"outlinewidth\": 0, \"ticks\": \"\"}}, \"marker\": {\"colorbar\": {\"outlinewidth\": 0, \"ticks\": \"\"}}, \"type\": \"scatter3d\"}], \"scattercarpet\": [{\"marker\": {\"colorbar\": {\"outlinewidth\": 0, \"ticks\": \"\"}}, \"type\": \"scattercarpet\"}], \"scattergeo\": [{\"marker\": {\"colorbar\": {\"outlinewidth\": 0, \"ticks\": \"\"}}, \"type\": \"scattergeo\"}], \"scattergl\": [{\"marker\": {\"colorbar\": {\"outlinewidth\": 0, \"ticks\": \"\"}}, \"type\": \"scattergl\"}], \"scattermapbox\": [{\"marker\": {\"colorbar\": {\"outlinewidth\": 0, \"ticks\": \"\"}}, \"type\": \"scattermapbox\"}], \"scatterpolar\": [{\"marker\": {\"colorbar\": {\"outlinewidth\": 0, \"ticks\": \"\"}}, \"type\": \"scatterpolar\"}], \"scatterpolargl\": [{\"marker\": {\"colorbar\": {\"outlinewidth\": 0, \"ticks\": \"\"}}, \"type\": \"scatterpolargl\"}], \"scatterternary\": [{\"marker\": {\"colorbar\": {\"outlinewidth\": 0, \"ticks\": \"\"}}, \"type\": \"scatterternary\"}], \"surface\": [{\"colorbar\": {\"outlinewidth\": 0, \"ticks\": \"\"}, \"colorscale\": [[0.0, \"#0d0887\"], [0.1111111111111111, \"#46039f\"], [0.2222222222222222, \"#7201a8\"], [0.3333333333333333, \"#9c179e\"], [0.4444444444444444, \"#bd3786\"], [0.5555555555555556, \"#d8576b\"], [0.6666666666666666, \"#ed7953\"], [0.7777777777777778, \"#fb9f3a\"], [0.8888888888888888, \"#fdca26\"], [1.0, \"#f0f921\"]], \"type\": \"surface\"}], \"table\": [{\"cells\": {\"fill\": {\"color\": \"#EBF0F8\"}, \"line\": {\"color\": \"white\"}}, \"header\": {\"fill\": {\"color\": \"#C8D4E3\"}, \"line\": {\"color\": \"white\"}}, \"type\": \"table\"}]}, \"layout\": {\"annotationdefaults\": {\"arrowcolor\": \"#2a3f5f\", \"arrowhead\": 0, \"arrowwidth\": 1}, \"coloraxis\": {\"colorbar\": {\"outlinewidth\": 0, \"ticks\": \"\"}}, \"colorscale\": {\"diverging\": [[0, \"#8e0152\"], [0.1, \"#c51b7d\"], [0.2, \"#de77ae\"], [0.3, \"#f1b6da\"], [0.4, \"#fde0ef\"], [0.5, \"#f7f7f7\"], [0.6, \"#e6f5d0\"], [0.7, \"#b8e186\"], [0.8, \"#7fbc41\"], [0.9, \"#4d9221\"], [1, \"#276419\"]], \"sequential\": [[0.0, \"#0d0887\"], [0.1111111111111111, \"#46039f\"], [0.2222222222222222, \"#7201a8\"], [0.3333333333333333, \"#9c179e\"], [0.4444444444444444, \"#bd3786\"], [0.5555555555555556, \"#d8576b\"], [0.6666666666666666, \"#ed7953\"], [0.7777777777777778, \"#fb9f3a\"], [0.8888888888888888, \"#fdca26\"], [1.0, \"#f0f921\"]], \"sequentialminus\": [[0.0, \"#0d0887\"], [0.1111111111111111, \"#46039f\"], [0.2222222222222222, \"#7201a8\"], [0.3333333333333333, \"#9c179e\"], [0.4444444444444444, \"#bd3786\"], [0.5555555555555556, \"#d8576b\"], [0.6666666666666666, \"#ed7953\"], [0.7777777777777778, \"#fb9f3a\"], [0.8888888888888888, \"#fdca26\"], [1.0, \"#f0f921\"]]}, \"colorway\": [\"#636efa\", \"#EF553B\", \"#00cc96\", \"#ab63fa\", \"#FFA15A\", \"#19d3f3\", \"#FF6692\", \"#B6E880\", \"#FF97FF\", \"#FECB52\"], \"font\": {\"color\": \"#2a3f5f\"}, \"geo\": {\"bgcolor\": \"white\", \"lakecolor\": \"white\", \"landcolor\": \"#E5ECF6\", \"showlakes\": true, \"showland\": true, \"subunitcolor\": \"white\"}, \"hoverlabel\": {\"align\": \"left\"}, \"hovermode\": \"closest\", \"mapbox\": {\"style\": \"light\"}, \"paper_bgcolor\": \"white\", \"plot_bgcolor\": \"#E5ECF6\", \"polar\": {\"angularaxis\": {\"gridcolor\": \"white\", \"linecolor\": \"white\", \"ticks\": \"\"}, \"bgcolor\": \"#E5ECF6\", \"radialaxis\": {\"gridcolor\": \"white\", \"linecolor\": \"white\", \"ticks\": \"\"}}, \"scene\": {\"xaxis\": {\"backgroundcolor\": \"#E5ECF6\", \"gridcolor\": \"white\", \"gridwidth\": 2, \"linecolor\": \"white\", \"showbackground\": true, \"ticks\": \"\", \"zerolinecolor\": \"white\"}, \"yaxis\": {\"backgroundcolor\": \"#E5ECF6\", \"gridcolor\": \"white\", \"gridwidth\": 2, \"linecolor\": \"white\", \"showbackground\": true, \"ticks\": \"\", \"zerolinecolor\": \"white\"}, \"zaxis\": {\"backgroundcolor\": \"#E5ECF6\", \"gridcolor\": \"white\", \"gridwidth\": 2, \"linecolor\": \"white\", \"showbackground\": true, \"ticks\": \"\", \"zerolinecolor\": \"white\"}}, \"shapedefaults\": {\"line\": {\"color\": \"#2a3f5f\"}}, \"ternary\": {\"aaxis\": {\"gridcolor\": \"white\", \"linecolor\": \"white\", \"ticks\": \"\"}, \"baxis\": {\"gridcolor\": \"white\", \"linecolor\": \"white\", \"ticks\": \"\"}, \"bgcolor\": \"#E5ECF6\", \"caxis\": {\"gridcolor\": \"white\", \"linecolor\": \"white\", \"ticks\": \"\"}}, \"title\": {\"x\": 0.05}, \"xaxis\": {\"automargin\": true, \"gridcolor\": \"white\", \"linecolor\": \"white\", \"ticks\": \"\", \"title\": {\"standoff\": 15}, \"zerolinecolor\": \"white\", \"zerolinewidth\": 2}, \"yaxis\": {\"automargin\": true, \"gridcolor\": \"white\", \"linecolor\": \"white\", \"ticks\": \"\", \"title\": {\"standoff\": 15}, \"zerolinecolor\": \"white\", \"zerolinewidth\": 2}}}},\n",
              "                        {\"responsive\": true}\n",
              "                    ).then(function(){\n",
              "                            \n",
              "var gd = document.getElementById('682e6269-e2de-4585-99b2-3368c8945746');\n",
              "var x = new MutationObserver(function (mutations, observer) {{\n",
              "        var display = window.getComputedStyle(gd).display;\n",
              "        if (!display || display === 'none') {{\n",
              "            console.log([gd, 'removed!']);\n",
              "            Plotly.purge(gd);\n",
              "            observer.disconnect();\n",
              "        }}\n",
              "}});\n",
              "\n",
              "// Listen for the removal of the full notebook cells\n",
              "var notebookContainer = gd.closest('#notebook-container');\n",
              "if (notebookContainer) {{\n",
              "    x.observe(notebookContainer, {childList: true});\n",
              "}}\n",
              "\n",
              "// Listen for the clearing of the current output cell\n",
              "var outputEl = gd.closest('.output');\n",
              "if (outputEl) {{\n",
              "    x.observe(outputEl, {childList: true});\n",
              "}}\n",
              "\n",
              "                        })\n",
              "                };\n",
              "                \n",
              "            </script>\n",
              "        </div>\n",
              "</body>\n",
              "</html>"
            ]
          },
          "metadata": {}
        }
      ]
    },
    {
      "cell_type": "code",
      "source": [
        "from google.colab import drive\n",
        "drive.mount('/content/drive')"
      ],
      "metadata": {
        "id": "M-9zcIFZ1OJm"
      },
      "execution_count": null,
      "outputs": []
    },
    {
      "cell_type": "markdown",
      "source": [
        "Results while India bats 2nd"
      ],
      "metadata": {
        "id": "p-_J39V00KeV"
      }
    },
    {
      "cell_type": "code",
      "source": [
        "fig = px.pie(ind_df_2nd,values = 'Inn',names = 'result')\n",
        "fig.show()"
      ],
      "metadata": {
        "colab": {
          "base_uri": "https://localhost:8080/",
          "height": 542
        },
        "id": "OEFCUa530QwH",
        "outputId": "71ab5eb8-2814-4336-abd8-a4902ebbcddd"
      },
      "execution_count": null,
      "outputs": [
        {
          "output_type": "display_data",
          "data": {
            "text/html": [
              "<html>\n",
              "<head><meta charset=\"utf-8\" /></head>\n",
              "<body>\n",
              "    <div>\n",
              "            <script src=\"https://cdnjs.cloudflare.com/ajax/libs/mathjax/2.7.5/MathJax.js?config=TeX-AMS-MML_SVG\"></script><script type=\"text/javascript\">if (window.MathJax) {MathJax.Hub.Config({SVG: {font: \"STIX-Web\"}});}</script>\n",
              "                <script type=\"text/javascript\">window.PlotlyConfig = {MathJaxConfig: 'local'};</script>\n",
              "        <script src=\"https://cdn.plot.ly/plotly-latest.min.js\"></script>    \n",
              "            <div id=\"bad47408-feab-426a-a392-57b4ddb30e59\" class=\"plotly-graph-div\" style=\"height:525px; width:100%;\"></div>\n",
              "            <script type=\"text/javascript\">\n",
              "                \n",
              "                    window.PLOTLYENV=window.PLOTLYENV || {};\n",
              "                    \n",
              "                if (document.getElementById(\"bad47408-feab-426a-a392-57b4ddb30e59\")) {\n",
              "                    Plotly.newPlot(\n",
              "                        'bad47408-feab-426a-a392-57b4ddb30e59',\n",
              "                        [{\"domain\": {\"x\": [0.0, 1.0], \"y\": [0.0, 1.0]}, \"hoverlabel\": {\"namelength\": 0}, \"hovertemplate\": \"result=%{label}<br>Inn=%{value}\", \"labels\": [\"won\", \"won\", \"won\", \"lost\", \"lost\", \"won\", \"lost\", \"won\", \"won\", \"won\", \"lost\", \"won\", \"lost\", \"lost\", \"lost\", \"lost\", \"won\", \"won\", \"lost\", \"won\", \"won\", \"lost\", \"lost\", \"won\", \"lost\", \"lost\", \"lost\", \"lost\", \"lost\", \"lost\", \"lost\", \"lost\", \"lost\", \"lost\", \"lost\", \"lost\", \"lost\", \"lost\", \"lost\", \"won\", \"won\", \"lost\", \"lost\", \"won\", \"lost\", \"won\", \"lost\", \"lost\", \"won\", \"won\", \"lost\", \"won\", \"lost\", \"lost\", \"lost\", \"won\", \"won\", \"lost\", \"lost\", \"won\", \"won\", \"lost\", \"won\", \"lost\", \"won\", \"won\", \"won\", \"lost\", \"lost\", \"won\"], \"legendgroup\": \"\", \"name\": \"\", \"showlegend\": true, \"type\": \"pie\", \"values\": [1.0, 1.0, 1.0, 1.0, 1.0, 1.0, 1.0, 1.0, 1.0, 1.0, 1.0, 1.0, 1.0, 1.0, 1.0, 1.0, 1.0, 1.0, 1.0, 1.0, 1.0, 1.0, 1.0, 1.0, 1.0, 1.0, 1.0, 1.0, 1.0, 1.0, 1.0, 1.0, 1.0, 1.0, 1.0, 1.0, 1.0, 1.0, 1.0, 1.0, 1.0, 1.0, 1.0, 1.0, 1.0, 1.0, 1.0, 1.0, 1.0, 1.0, 1.0, 1.0, 1.0, 1.0, 1.0, 1.0, 1.0, 1.0, 1.0, 1.0, 1.0, 1.0, 1.0, 1.0, 1.0, 1.0, 1.0, 1.0, 1.0, 1.0]}],\n",
              "                        {\"legend\": {\"tracegroupgap\": 0}, \"margin\": {\"t\": 60}, \"template\": {\"data\": {\"bar\": [{\"error_x\": {\"color\": \"#2a3f5f\"}, \"error_y\": {\"color\": \"#2a3f5f\"}, \"marker\": {\"line\": {\"color\": \"#E5ECF6\", \"width\": 0.5}}, \"type\": \"bar\"}], \"barpolar\": [{\"marker\": {\"line\": {\"color\": \"#E5ECF6\", \"width\": 0.5}}, \"type\": \"barpolar\"}], \"carpet\": [{\"aaxis\": {\"endlinecolor\": \"#2a3f5f\", \"gridcolor\": \"white\", \"linecolor\": \"white\", \"minorgridcolor\": \"white\", \"startlinecolor\": \"#2a3f5f\"}, \"baxis\": {\"endlinecolor\": \"#2a3f5f\", \"gridcolor\": \"white\", \"linecolor\": \"white\", \"minorgridcolor\": \"white\", \"startlinecolor\": \"#2a3f5f\"}, \"type\": \"carpet\"}], \"choropleth\": [{\"colorbar\": {\"outlinewidth\": 0, \"ticks\": \"\"}, \"type\": \"choropleth\"}], \"contour\": [{\"colorbar\": {\"outlinewidth\": 0, \"ticks\": \"\"}, \"colorscale\": [[0.0, \"#0d0887\"], [0.1111111111111111, \"#46039f\"], [0.2222222222222222, \"#7201a8\"], [0.3333333333333333, \"#9c179e\"], [0.4444444444444444, \"#bd3786\"], [0.5555555555555556, \"#d8576b\"], [0.6666666666666666, \"#ed7953\"], [0.7777777777777778, \"#fb9f3a\"], [0.8888888888888888, \"#fdca26\"], [1.0, \"#f0f921\"]], \"type\": \"contour\"}], \"contourcarpet\": [{\"colorbar\": {\"outlinewidth\": 0, \"ticks\": \"\"}, \"type\": \"contourcarpet\"}], \"heatmap\": [{\"colorbar\": {\"outlinewidth\": 0, \"ticks\": \"\"}, \"colorscale\": [[0.0, \"#0d0887\"], [0.1111111111111111, \"#46039f\"], [0.2222222222222222, \"#7201a8\"], [0.3333333333333333, \"#9c179e\"], [0.4444444444444444, \"#bd3786\"], [0.5555555555555556, \"#d8576b\"], [0.6666666666666666, \"#ed7953\"], [0.7777777777777778, \"#fb9f3a\"], [0.8888888888888888, \"#fdca26\"], [1.0, \"#f0f921\"]], \"type\": \"heatmap\"}], \"heatmapgl\": [{\"colorbar\": {\"outlinewidth\": 0, \"ticks\": \"\"}, \"colorscale\": [[0.0, \"#0d0887\"], [0.1111111111111111, \"#46039f\"], [0.2222222222222222, \"#7201a8\"], [0.3333333333333333, \"#9c179e\"], [0.4444444444444444, \"#bd3786\"], [0.5555555555555556, \"#d8576b\"], [0.6666666666666666, \"#ed7953\"], [0.7777777777777778, \"#fb9f3a\"], [0.8888888888888888, \"#fdca26\"], [1.0, \"#f0f921\"]], \"type\": \"heatmapgl\"}], \"histogram\": [{\"marker\": {\"colorbar\": {\"outlinewidth\": 0, \"ticks\": \"\"}}, \"type\": \"histogram\"}], \"histogram2d\": [{\"colorbar\": {\"outlinewidth\": 0, \"ticks\": \"\"}, \"colorscale\": [[0.0, \"#0d0887\"], [0.1111111111111111, \"#46039f\"], [0.2222222222222222, \"#7201a8\"], [0.3333333333333333, \"#9c179e\"], [0.4444444444444444, \"#bd3786\"], [0.5555555555555556, \"#d8576b\"], [0.6666666666666666, \"#ed7953\"], [0.7777777777777778, \"#fb9f3a\"], [0.8888888888888888, \"#fdca26\"], [1.0, \"#f0f921\"]], \"type\": \"histogram2d\"}], \"histogram2dcontour\": [{\"colorbar\": {\"outlinewidth\": 0, \"ticks\": \"\"}, \"colorscale\": [[0.0, \"#0d0887\"], [0.1111111111111111, \"#46039f\"], [0.2222222222222222, \"#7201a8\"], [0.3333333333333333, \"#9c179e\"], [0.4444444444444444, \"#bd3786\"], [0.5555555555555556, \"#d8576b\"], [0.6666666666666666, \"#ed7953\"], [0.7777777777777778, \"#fb9f3a\"], [0.8888888888888888, \"#fdca26\"], [1.0, \"#f0f921\"]], \"type\": \"histogram2dcontour\"}], \"mesh3d\": [{\"colorbar\": {\"outlinewidth\": 0, \"ticks\": \"\"}, \"type\": \"mesh3d\"}], \"parcoords\": [{\"line\": {\"colorbar\": {\"outlinewidth\": 0, \"ticks\": \"\"}}, \"type\": \"parcoords\"}], \"pie\": [{\"automargin\": true, \"type\": \"pie\"}], \"scatter\": [{\"marker\": {\"colorbar\": {\"outlinewidth\": 0, \"ticks\": \"\"}}, \"type\": \"scatter\"}], \"scatter3d\": [{\"line\": {\"colorbar\": {\"outlinewidth\": 0, \"ticks\": \"\"}}, \"marker\": {\"colorbar\": {\"outlinewidth\": 0, \"ticks\": \"\"}}, \"type\": \"scatter3d\"}], \"scattercarpet\": [{\"marker\": {\"colorbar\": {\"outlinewidth\": 0, \"ticks\": \"\"}}, \"type\": \"scattercarpet\"}], \"scattergeo\": [{\"marker\": {\"colorbar\": {\"outlinewidth\": 0, \"ticks\": \"\"}}, \"type\": \"scattergeo\"}], \"scattergl\": [{\"marker\": {\"colorbar\": {\"outlinewidth\": 0, \"ticks\": \"\"}}, \"type\": \"scattergl\"}], \"scattermapbox\": [{\"marker\": {\"colorbar\": {\"outlinewidth\": 0, \"ticks\": \"\"}}, \"type\": \"scattermapbox\"}], \"scatterpolar\": [{\"marker\": {\"colorbar\": {\"outlinewidth\": 0, \"ticks\": \"\"}}, \"type\": \"scatterpolar\"}], \"scatterpolargl\": [{\"marker\": {\"colorbar\": {\"outlinewidth\": 0, \"ticks\": \"\"}}, \"type\": \"scatterpolargl\"}], \"scatterternary\": [{\"marker\": {\"colorbar\": {\"outlinewidth\": 0, \"ticks\": \"\"}}, \"type\": \"scatterternary\"}], \"surface\": [{\"colorbar\": {\"outlinewidth\": 0, \"ticks\": \"\"}, \"colorscale\": [[0.0, \"#0d0887\"], [0.1111111111111111, \"#46039f\"], [0.2222222222222222, \"#7201a8\"], [0.3333333333333333, \"#9c179e\"], [0.4444444444444444, \"#bd3786\"], [0.5555555555555556, \"#d8576b\"], [0.6666666666666666, \"#ed7953\"], [0.7777777777777778, \"#fb9f3a\"], [0.8888888888888888, \"#fdca26\"], [1.0, \"#f0f921\"]], \"type\": \"surface\"}], \"table\": [{\"cells\": {\"fill\": {\"color\": \"#EBF0F8\"}, \"line\": {\"color\": \"white\"}}, \"header\": {\"fill\": {\"color\": \"#C8D4E3\"}, \"line\": {\"color\": \"white\"}}, \"type\": \"table\"}]}, \"layout\": {\"annotationdefaults\": {\"arrowcolor\": \"#2a3f5f\", \"arrowhead\": 0, \"arrowwidth\": 1}, \"coloraxis\": {\"colorbar\": {\"outlinewidth\": 0, \"ticks\": \"\"}}, \"colorscale\": {\"diverging\": [[0, \"#8e0152\"], [0.1, \"#c51b7d\"], [0.2, \"#de77ae\"], [0.3, \"#f1b6da\"], [0.4, \"#fde0ef\"], [0.5, \"#f7f7f7\"], [0.6, \"#e6f5d0\"], [0.7, \"#b8e186\"], [0.8, \"#7fbc41\"], [0.9, \"#4d9221\"], [1, \"#276419\"]], \"sequential\": [[0.0, \"#0d0887\"], [0.1111111111111111, \"#46039f\"], [0.2222222222222222, \"#7201a8\"], [0.3333333333333333, \"#9c179e\"], [0.4444444444444444, \"#bd3786\"], [0.5555555555555556, \"#d8576b\"], [0.6666666666666666, \"#ed7953\"], [0.7777777777777778, \"#fb9f3a\"], [0.8888888888888888, \"#fdca26\"], [1.0, \"#f0f921\"]], \"sequentialminus\": [[0.0, \"#0d0887\"], [0.1111111111111111, \"#46039f\"], [0.2222222222222222, \"#7201a8\"], [0.3333333333333333, \"#9c179e\"], [0.4444444444444444, \"#bd3786\"], [0.5555555555555556, \"#d8576b\"], [0.6666666666666666, \"#ed7953\"], [0.7777777777777778, \"#fb9f3a\"], [0.8888888888888888, \"#fdca26\"], [1.0, \"#f0f921\"]]}, \"colorway\": [\"#636efa\", \"#EF553B\", \"#00cc96\", \"#ab63fa\", \"#FFA15A\", \"#19d3f3\", \"#FF6692\", \"#B6E880\", \"#FF97FF\", \"#FECB52\"], \"font\": {\"color\": \"#2a3f5f\"}, \"geo\": {\"bgcolor\": \"white\", \"lakecolor\": \"white\", \"landcolor\": \"#E5ECF6\", \"showlakes\": true, \"showland\": true, \"subunitcolor\": \"white\"}, \"hoverlabel\": {\"align\": \"left\"}, \"hovermode\": \"closest\", \"mapbox\": {\"style\": \"light\"}, \"paper_bgcolor\": \"white\", \"plot_bgcolor\": \"#E5ECF6\", \"polar\": {\"angularaxis\": {\"gridcolor\": \"white\", \"linecolor\": \"white\", \"ticks\": \"\"}, \"bgcolor\": \"#E5ECF6\", \"radialaxis\": {\"gridcolor\": \"white\", \"linecolor\": \"white\", \"ticks\": \"\"}}, \"scene\": {\"xaxis\": {\"backgroundcolor\": \"#E5ECF6\", \"gridcolor\": \"white\", \"gridwidth\": 2, \"linecolor\": \"white\", \"showbackground\": true, \"ticks\": \"\", \"zerolinecolor\": \"white\"}, \"yaxis\": {\"backgroundcolor\": \"#E5ECF6\", \"gridcolor\": \"white\", \"gridwidth\": 2, \"linecolor\": \"white\", \"showbackground\": true, \"ticks\": \"\", \"zerolinecolor\": \"white\"}, \"zaxis\": {\"backgroundcolor\": \"#E5ECF6\", \"gridcolor\": \"white\", \"gridwidth\": 2, \"linecolor\": \"white\", \"showbackground\": true, \"ticks\": \"\", \"zerolinecolor\": \"white\"}}, \"shapedefaults\": {\"line\": {\"color\": \"#2a3f5f\"}}, \"ternary\": {\"aaxis\": {\"gridcolor\": \"white\", \"linecolor\": \"white\", \"ticks\": \"\"}, \"baxis\": {\"gridcolor\": \"white\", \"linecolor\": \"white\", \"ticks\": \"\"}, \"bgcolor\": \"#E5ECF6\", \"caxis\": {\"gridcolor\": \"white\", \"linecolor\": \"white\", \"ticks\": \"\"}}, \"title\": {\"x\": 0.05}, \"xaxis\": {\"automargin\": true, \"gridcolor\": \"white\", \"linecolor\": \"white\", \"ticks\": \"\", \"title\": {\"standoff\": 15}, \"zerolinecolor\": \"white\", \"zerolinewidth\": 2}, \"yaxis\": {\"automargin\": true, \"gridcolor\": \"white\", \"linecolor\": \"white\", \"ticks\": \"\", \"title\": {\"standoff\": 15}, \"zerolinecolor\": \"white\", \"zerolinewidth\": 2}}}},\n",
              "                        {\"responsive\": true}\n",
              "                    ).then(function(){\n",
              "                            \n",
              "var gd = document.getElementById('bad47408-feab-426a-a392-57b4ddb30e59');\n",
              "var x = new MutationObserver(function (mutations, observer) {{\n",
              "        var display = window.getComputedStyle(gd).display;\n",
              "        if (!display || display === 'none') {{\n",
              "            console.log([gd, 'removed!']);\n",
              "            Plotly.purge(gd);\n",
              "            observer.disconnect();\n",
              "        }}\n",
              "}});\n",
              "\n",
              "// Listen for the removal of the full notebook cells\n",
              "var notebookContainer = gd.closest('#notebook-container');\n",
              "if (notebookContainer) {{\n",
              "    x.observe(notebookContainer, {childList: true});\n",
              "}}\n",
              "\n",
              "// Listen for the clearing of the current output cell\n",
              "var outputEl = gd.closest('.output');\n",
              "if (outputEl) {{\n",
              "    x.observe(outputEl, {childList: true});\n",
              "}}\n",
              "\n",
              "                        })\n",
              "                };\n",
              "                \n",
              "            </script>\n",
              "        </div>\n",
              "</body>\n",
              "</html>"
            ]
          },
          "metadata": {}
        }
      ]
    },
    {
      "cell_type": "code",
      "source": [
        "plt.figure(figsize=(25,10))\n",
        "plt.xticks(rotation = 30)\n",
        "sns.countplot('Year',hue = 'result',data = ind_df,palette = 'rainbow' )\n",
        "plt.xlabel('Yearwise results for India',fontsize = 30)\n",
        "plt.ylabel('Count',fontsize = 30);"
      ],
      "metadata": {
        "colab": {
          "base_uri": "https://localhost:8080/",
          "height": 649
        },
        "id": "xEVzdS_S0ZkG",
        "outputId": "b8729779-8548-4a51-f80d-6e3731a5dda2"
      },
      "execution_count": null,
      "outputs": [
        {
          "output_type": "stream",
          "name": "stderr",
          "text": [
            "/usr/local/lib/python3.7/dist-packages/seaborn/_decorators.py:43: FutureWarning:\n",
            "\n",
            "Pass the following variable as a keyword arg: x. From version 0.12, the only valid positional argument will be `data`, and passing other arguments without an explicit keyword will result in an error or misinterpretation.\n",
            "\n"
          ]
        },
        {
          "output_type": "display_data",
          "data": {
            "image/png": "[encoded data removed]",
            "text/plain": [
              "<Figure size 1800x720 with 1 Axes>"
            ]
          },
          "metadata": {
            "needs_background": "light"
          }
        }
      ]
    },
    {
      "cell_type": "markdown",
      "source": [
        "Australia has been a clear boss in the early years of ODI cricket. But in the recent years, India has dethroned Australian dominance from One Day Crciket. However it has been a tough compition over all."
      ],
      "metadata": {
        "id": "cu2qV4Ho0fiM"
      }
    },
    {
      "cell_type": "markdown",
      "source": [
        "ODI Batting Score Analysis "
      ],
      "metadata": {
        "id": "a8EMNwYY1zPp"
      }
    },
    {
      "cell_type": "markdown",
      "source": [
        "Dataset"
      ],
      "metadata": {
        "id": "TFwiOorU9xAS"
      }
    },
    {
      "cell_type": "code",
      "source": [
        "df = pd.read_csv('ODIs - Batting.csv')\n",
        "df.head()"
      ],
      "metadata": {
        "colab": {
          "base_uri": "https://localhost:8080/",
          "height": 417
        },
        "id": "CFRNWWyxqEgI",
        "outputId": "77a2db18-97ab-45e8-bdcd-50280b01883f"
      },
      "execution_count": 16,
      "outputs": [
        {
          "output_type": "execute_result",
          "data": {
            "text/html": [
              "<div>\n",
              "<style scoped>\n",
              "    .dataframe tbody tr th:only-of-type {\n",
              "        vertical-align: middle;\n",
              "    }\n",
              "\n",
              "    .dataframe tbody tr th {\n",
              "        vertical-align: top;\n",
              "    }\n",
              "\n",
              "    .dataframe thead th {\n",
              "        text-align: right;\n",
              "    }\n",
              "</style>\n",
              "<table border=\"1\" class=\"dataframe\">\n",
              "  <thead>\n",
              "    <tr style=\"text-align: right;\">\n",
              "      <th></th>\n",
              "      <th>Player</th>\n",
              "      <th>Career Span</th>\n",
              "      <th>Career Start</th>\n",
              "      <th>Career End</th>\n",
              "      <th>Matches Played</th>\n",
              "      <th>Innings Batted</th>\n",
              "      <th>Not Outs</th>\n",
              "      <th>Runs Scored</th>\n",
              "      <th>Highest Innings Score</th>\n",
              "      <th>Highest Innings Score Num</th>\n",
              "      <th>Batting Avg</th>\n",
              "      <th>Balls Faced</th>\n",
              "      <th>Batting Strike Rate</th>\n",
              "      <th>Hundreds Scored</th>\n",
              "      <th>Scores Of Fifty Or More</th>\n",
              "      <th>Ducks Scored</th>\n",
              "      <th>Country</th>\n",
              "      <th>Player Count</th>\n",
              "      <th>5000+ Runs Scored</th>\n",
              "      <th>40+ Batting Avg</th>\n",
              "      <th>90+ Batting Strike Rate</th>\n",
              "    </tr>\n",
              "  </thead>\n",
              "  <tbody>\n",
              "    <tr>\n",
              "      <th>0</th>\n",
              "      <td>EJG Morgan (2009-2018)</td>\n",
              "      <td>2009-2018</td>\n",
              "      <td>2009</td>\n",
              "      <td>2018</td>\n",
              "      <td>189</td>\n",
              "      <td>176</td>\n",
              "      <td>27</td>\n",
              "      <td>5813</td>\n",
              "      <td>124*</td>\n",
              "      <td>124</td>\n",
              "      <td>39.01</td>\n",
              "      <td>6310</td>\n",
              "      <td>92.12</td>\n",
              "      <td>10</td>\n",
              "      <td>36</td>\n",
              "      <td>11</td>\n",
              "      <td>England</td>\n",
              "      <td>1</td>\n",
              "      <td>1</td>\n",
              "      <td>0</td>\n",
              "      <td>1</td>\n",
              "    </tr>\n",
              "    <tr>\n",
              "      <th>1</th>\n",
              "      <td>IR Bell (2004-2015)</td>\n",
              "      <td>2004-2015</td>\n",
              "      <td>2004</td>\n",
              "      <td>2015</td>\n",
              "      <td>161</td>\n",
              "      <td>157</td>\n",
              "      <td>14</td>\n",
              "      <td>5416</td>\n",
              "      <td>141</td>\n",
              "      <td>141</td>\n",
              "      <td>37.87</td>\n",
              "      <td>7019</td>\n",
              "      <td>77.16</td>\n",
              "      <td>4</td>\n",
              "      <td>35</td>\n",
              "      <td>6</td>\n",
              "      <td>England</td>\n",
              "      <td>1</td>\n",
              "      <td>1</td>\n",
              "      <td>0</td>\n",
              "      <td>0</td>\n",
              "    </tr>\n",
              "    <tr>\n",
              "      <th>2</th>\n",
              "      <td>PD Collingwood (2001-2011)</td>\n",
              "      <td>2001-2011</td>\n",
              "      <td>2001</td>\n",
              "      <td>2011</td>\n",
              "      <td>197</td>\n",
              "      <td>181</td>\n",
              "      <td>37</td>\n",
              "      <td>5092</td>\n",
              "      <td>120*</td>\n",
              "      <td>120</td>\n",
              "      <td>35.36</td>\n",
              "      <td>6614</td>\n",
              "      <td>76.98</td>\n",
              "      <td>5</td>\n",
              "      <td>26</td>\n",
              "      <td>7</td>\n",
              "      <td>England</td>\n",
              "      <td>1</td>\n",
              "      <td>1</td>\n",
              "      <td>0</td>\n",
              "      <td>0</td>\n",
              "    </tr>\n",
              "    <tr>\n",
              "      <th>3</th>\n",
              "      <td>JE Root (2013-2018)</td>\n",
              "      <td>2013-2018</td>\n",
              "      <td>2013</td>\n",
              "      <td>2018</td>\n",
              "      <td>121</td>\n",
              "      <td>115</td>\n",
              "      <td>19</td>\n",
              "      <td>4946</td>\n",
              "      <td>133*</td>\n",
              "      <td>133</td>\n",
              "      <td>51.52</td>\n",
              "      <td>5722</td>\n",
              "      <td>86.43</td>\n",
              "      <td>13</td>\n",
              "      <td>29</td>\n",
              "      <td>4</td>\n",
              "      <td>England</td>\n",
              "      <td>1</td>\n",
              "      <td>0</td>\n",
              "      <td>1</td>\n",
              "      <td>0</td>\n",
              "    </tr>\n",
              "    <tr>\n",
              "      <th>4</th>\n",
              "      <td>AJ Stewart (1989-2003)</td>\n",
              "      <td>1989-2003</td>\n",
              "      <td>1989</td>\n",
              "      <td>2003</td>\n",
              "      <td>170</td>\n",
              "      <td>162</td>\n",
              "      <td>14</td>\n",
              "      <td>4677</td>\n",
              "      <td>116</td>\n",
              "      <td>116</td>\n",
              "      <td>31.6</td>\n",
              "      <td>6841</td>\n",
              "      <td>68.36</td>\n",
              "      <td>4</td>\n",
              "      <td>28</td>\n",
              "      <td>13</td>\n",
              "      <td>England</td>\n",
              "      <td>1</td>\n",
              "      <td>0</td>\n",
              "      <td>0</td>\n",
              "      <td>0</td>\n",
              "    </tr>\n",
              "  </tbody>\n",
              "</table>\n",
              "</div>"
            ],
            "text/plain": [
              "                       Player  ... 90+ Batting Strike Rate\n",
              "0      EJG Morgan (2009-2018)  ...                       1\n",
              "1         IR Bell (2004-2015)  ...                       0\n",
              "2  PD Collingwood (2001-2011)  ...                       0\n",
              "3         JE Root (2013-2018)  ...                       0\n",
              "4      AJ Stewart (1989-2003)  ...                       0\n",
              "\n",
              "[5 rows x 21 columns]"
            ]
          },
          "metadata": {},
          "execution_count": 16
        }
      ]
    },
    {
      "cell_type": "code",
      "source": [
        "nrows, ncols = df.shape\n",
        "print(f\"There are {nrows} rows and {ncols} columns\")"
      ],
      "metadata": {
        "colab": {
          "base_uri": "https://localhost:8080/"
        },
        "id": "0jlph6Jaqe1I",
        "outputId": "4a469589-0ade-4704-9104-a9b412a389a4"
      },
      "execution_count": 17,
      "outputs": [
        {
          "output_type": "stream",
          "name": "stdout",
          "text": [
            "There are 1984 rows and 21 columns\n"
          ]
        }
      ]
    },
    {
      "cell_type": "code",
      "source": [
        "df.columns"
      ],
      "metadata": {
        "colab": {
          "base_uri": "https://localhost:8080/"
        },
        "id": "WIZRjkjpqpIA",
        "outputId": "40a67376-62b0-4a1d-b3a5-e2e4826125e5"
      },
      "execution_count": 18,
      "outputs": [
        {
          "output_type": "execute_result",
          "data": {
            "text/plain": [
              "Index(['Player', 'Career Span', 'Career Start', 'Career End', 'Matches Played',\n",
              "       'Innings Batted', 'Not Outs', 'Runs Scored', 'Highest Innings Score',\n",
              "       'Highest Innings Score Num', 'Batting Avg', 'Balls Faced',\n",
              "       'Batting Strike Rate', 'Hundreds Scored', 'Scores Of Fifty Or More',\n",
              "       'Ducks Scored', 'Country', 'Player Count', '5000+ Runs Scored',\n",
              "       '40+ Batting Avg', '90+ Batting Strike Rate'],\n",
              "      dtype='object')"
            ]
          },
          "metadata": {},
          "execution_count": 18
        }
      ]
    },
    {
      "cell_type": "code",
      "source": [
        "df.info()"
      ],
      "metadata": {
        "colab": {
          "base_uri": "https://localhost:8080/"
        },
        "id": "aThjAi3Mqq1I",
        "outputId": "f4c21e6e-a017-42e7-93a9-2e23d86bbbc5"
      },
      "execution_count": 19,
      "outputs": [
        {
          "output_type": "stream",
          "name": "stdout",
          "text": [
            "<class 'pandas.core.frame.DataFrame'>\n",
            "RangeIndex: 1984 entries, 0 to 1983\n",
            "Data columns (total 21 columns):\n",
            " #   Column                     Non-Null Count  Dtype \n",
            "---  ------                     --------------  ----- \n",
            " 0   Player                     1984 non-null   object\n",
            " 1   Career Span                1984 non-null   object\n",
            " 2   Career Start               1984 non-null   int64 \n",
            " 3   Career End                 1984 non-null   int64 \n",
            " 4   Matches Played             1984 non-null   int64 \n",
            " 5   Innings Batted             1984 non-null   object\n",
            " 6   Not Outs                   1984 non-null   object\n",
            " 7   Runs Scored                1984 non-null   object\n",
            " 8   Highest Innings Score      1984 non-null   object\n",
            " 9   Highest Innings Score Num  1984 non-null   object\n",
            " 10  Batting Avg                1984 non-null   object\n",
            " 11  Balls Faced                1984 non-null   object\n",
            " 12  Batting Strike Rate        1984 non-null   object\n",
            " 13  Hundreds Scored            1984 non-null   object\n",
            " 14  Scores Of Fifty Or More    1984 non-null   object\n",
            " 15  Ducks Scored               1984 non-null   object\n",
            " 16  Country                    1984 non-null   object\n",
            " 17  Player Count               1984 non-null   int64 \n",
            " 18  5000+ Runs Scored          1984 non-null   int64 \n",
            " 19  40+ Batting Avg            1984 non-null   int64 \n",
            " 20  90+ Batting Strike Rate    1984 non-null   int64 \n",
            "dtypes: int64(7), object(14)\n",
            "memory usage: 325.6+ KB\n"
          ]
        }
      ]
    },
    {
      "cell_type": "code",
      "source": [
        "# Let's change the objects to numbers\n",
        "df['Innings Batted'] = pd.to_numeric(df['Innings Batted'], errors='coerce')\n",
        "df['Not Outs'] = pd.to_numeric(df['Not Outs'], errors='coerce')\n",
        "df['Runs Scored'] = pd.to_numeric(df['Runs Scored'], errors='coerce')\n",
        "df['Batting Avg'] = pd.to_numeric(df['Batting Avg'], errors='coerce')\n",
        "df['Balls Faced'] = pd.to_numeric(df['Balls Faced'], errors='coerce')\n",
        "df['Batting Strike Rate'] = pd.to_numeric(df['Batting Strike Rate'], errors='coerce')\n",
        "df['Hundreds Scored'] = pd.to_numeric(df['Hundreds Scored'], errors='coerce')\n",
        "df['Scores Of Fifty Or More'] = pd.to_numeric(df['Scores Of Fifty Or More'], errors='coerce')\n",
        "df['Ducks Scored'] = pd.to_numeric(df['Ducks Scored'], errors='coerce')"
      ],
      "metadata": {
        "id": "JQ4qR6H_qt44"
      },
      "execution_count": 20,
      "outputs": []
    },
    {
      "cell_type": "code",
      "source": [
        "country_df = df.groupby('Country')"
      ],
      "metadata": {
        "id": "q6-ptllwqzwA"
      },
      "execution_count": 21,
      "outputs": []
    },
    {
      "cell_type": "code",
      "source": [
        "df['Country'].unique()"
      ],
      "metadata": {
        "colab": {
          "base_uri": "https://localhost:8080/"
        },
        "id": "39WkzvTaq1Vp",
        "outputId": "c4af29f2-621a-42df-c2b0-54b6cf05dfe8"
      },
      "execution_count": 22,
      "outputs": [
        {
          "output_type": "execute_result",
          "data": {
            "text/plain": [
              "array(['England', 'Australia', 'South Africa', 'West Indies',\n",
              "       'New Zealand', 'India', 'Pakistan', 'Sri Lanka', 'Zimbabwe',\n",
              "       'Bangladesh', 'Ireland', 'Afghanistan'], dtype=object)"
            ]
          },
          "metadata": {},
          "execution_count": 22
        }
      ]
    },
    {
      "cell_type": "code",
      "source": [
        "# country_df['Runs Scored'].max()\n",
        "idx = country_df['Runs Scored'].transform(max) == df['Runs Scored']\n",
        "country_top_scorers = df[idx]"
      ],
      "metadata": {
        "id": "umaV9l0ApoZS"
      },
      "execution_count": 23,
      "outputs": []
    },
    {
      "cell_type": "code",
      "source": [
        "country_top_scorers"
      ],
      "metadata": {
        "colab": {
          "base_uri": "https://localhost:8080/",
          "height": 1000
        },
        "id": "t2n9cc2wp3BM",
        "outputId": "be243a67-97d7-45d4-b150-fd18403afcc0"
      },
      "execution_count": 24,
      "outputs": [
        {
          "output_type": "execute_result",
          "data": {
            "text/html": [
              "<div>\n",
              "<style scoped>\n",
              "    .dataframe tbody tr th:only-of-type {\n",
              "        vertical-align: middle;\n",
              "    }\n",
              "\n",
              "    .dataframe tbody tr th {\n",
              "        vertical-align: top;\n",
              "    }\n",
              "\n",
              "    .dataframe thead th {\n",
              "        text-align: right;\n",
              "    }\n",
              "</style>\n",
              "<table border=\"1\" class=\"dataframe\">\n",
              "  <thead>\n",
              "    <tr style=\"text-align: right;\">\n",
              "      <th></th>\n",
              "      <th>Player</th>\n",
              "      <th>Career Span</th>\n",
              "      <th>Career Start</th>\n",
              "      <th>Career End</th>\n",
              "      <th>Matches Played</th>\n",
              "      <th>Innings Batted</th>\n",
              "      <th>Not Outs</th>\n",
              "      <th>Runs Scored</th>\n",
              "      <th>Highest Innings Score</th>\n",
              "      <th>Highest Innings Score Num</th>\n",
              "      <th>Batting Avg</th>\n",
              "      <th>Balls Faced</th>\n",
              "      <th>Batting Strike Rate</th>\n",
              "      <th>Hundreds Scored</th>\n",
              "      <th>Scores Of Fifty Or More</th>\n",
              "      <th>Ducks Scored</th>\n",
              "      <th>Country</th>\n",
              "      <th>Player Count</th>\n",
              "      <th>5000+ Runs Scored</th>\n",
              "      <th>40+ Batting Avg</th>\n",
              "      <th>90+ Batting Strike Rate</th>\n",
              "    </tr>\n",
              "  </thead>\n",
              "  <tbody>\n",
              "    <tr>\n",
              "      <th>0</th>\n",
              "      <td>EJG Morgan (2009-2018)</td>\n",
              "      <td>2009-2018</td>\n",
              "      <td>2009</td>\n",
              "      <td>2018</td>\n",
              "      <td>189</td>\n",
              "      <td>176.0</td>\n",
              "      <td>27.0</td>\n",
              "      <td>5813.0</td>\n",
              "      <td>124*</td>\n",
              "      <td>124</td>\n",
              "      <td>39.01</td>\n",
              "      <td>6310.0</td>\n",
              "      <td>92.12</td>\n",
              "      <td>10.0</td>\n",
              "      <td>36.0</td>\n",
              "      <td>11.0</td>\n",
              "      <td>England</td>\n",
              "      <td>1</td>\n",
              "      <td>1</td>\n",
              "      <td>0</td>\n",
              "      <td>1</td>\n",
              "    </tr>\n",
              "    <tr>\n",
              "      <th>251</th>\n",
              "      <td>RT Ponting (1995-2012)</td>\n",
              "      <td>1995-2012</td>\n",
              "      <td>1995</td>\n",
              "      <td>2012</td>\n",
              "      <td>374</td>\n",
              "      <td>364.0</td>\n",
              "      <td>39.0</td>\n",
              "      <td>13589.0</td>\n",
              "      <td>164</td>\n",
              "      <td>164</td>\n",
              "      <td>41.81</td>\n",
              "      <td>16944.0</td>\n",
              "      <td>80.19</td>\n",
              "      <td>29.0</td>\n",
              "      <td>82.0</td>\n",
              "      <td>20.0</td>\n",
              "      <td>Australia</td>\n",
              "      <td>1</td>\n",
              "      <td>1</td>\n",
              "      <td>1</td>\n",
              "      <td>0</td>\n",
              "    </tr>\n",
              "    <tr>\n",
              "      <th>477</th>\n",
              "      <td>JH Kallis (1996-2014)</td>\n",
              "      <td>1996-2014</td>\n",
              "      <td>1996</td>\n",
              "      <td>2014</td>\n",
              "      <td>323</td>\n",
              "      <td>309.0</td>\n",
              "      <td>53.0</td>\n",
              "      <td>11550.0</td>\n",
              "      <td>139</td>\n",
              "      <td>139</td>\n",
              "      <td>45.11</td>\n",
              "      <td>15793.0</td>\n",
              "      <td>73.13</td>\n",
              "      <td>17.0</td>\n",
              "      <td>86.0</td>\n",
              "      <td>17.0</td>\n",
              "      <td>South Africa</td>\n",
              "      <td>1</td>\n",
              "      <td>1</td>\n",
              "      <td>1</td>\n",
              "      <td>0</td>\n",
              "    </tr>\n",
              "    <tr>\n",
              "      <th>606</th>\n",
              "      <td>BC Lara (1990-2007)</td>\n",
              "      <td>1990-2007</td>\n",
              "      <td>1990</td>\n",
              "      <td>2007</td>\n",
              "      <td>295</td>\n",
              "      <td>285.0</td>\n",
              "      <td>32.0</td>\n",
              "      <td>10348.0</td>\n",
              "      <td>169</td>\n",
              "      <td>169</td>\n",
              "      <td>40.90</td>\n",
              "      <td>12996.0</td>\n",
              "      <td>79.62</td>\n",
              "      <td>19.0</td>\n",
              "      <td>62.0</td>\n",
              "      <td>14.0</td>\n",
              "      <td>West Indies</td>\n",
              "      <td>1</td>\n",
              "      <td>1</td>\n",
              "      <td>1</td>\n",
              "      <td>0</td>\n",
              "    </tr>\n",
              "    <tr>\n",
              "      <th>794</th>\n",
              "      <td>SP Fleming (1994-2007)</td>\n",
              "      <td>1994-2007</td>\n",
              "      <td>1994</td>\n",
              "      <td>2007</td>\n",
              "      <td>279</td>\n",
              "      <td>268.0</td>\n",
              "      <td>21.0</td>\n",
              "      <td>8007.0</td>\n",
              "      <td>134*</td>\n",
              "      <td>134</td>\n",
              "      <td>32.41</td>\n",
              "      <td>11214.0</td>\n",
              "      <td>71.40</td>\n",
              "      <td>8.0</td>\n",
              "      <td>49.0</td>\n",
              "      <td>17.0</td>\n",
              "      <td>New Zealand</td>\n",
              "      <td>1</td>\n",
              "      <td>1</td>\n",
              "      <td>0</td>\n",
              "      <td>0</td>\n",
              "    </tr>\n",
              "    <tr>\n",
              "      <th>989</th>\n",
              "      <td>SR Tendulkar (1989-2012)</td>\n",
              "      <td>1989-2012</td>\n",
              "      <td>1989</td>\n",
              "      <td>2012</td>\n",
              "      <td>463</td>\n",
              "      <td>452.0</td>\n",
              "      <td>41.0</td>\n",
              "      <td>18426.0</td>\n",
              "      <td>200*</td>\n",
              "      <td>200</td>\n",
              "      <td>44.83</td>\n",
              "      <td>21367.0</td>\n",
              "      <td>86.23</td>\n",
              "      <td>49.0</td>\n",
              "      <td>96.0</td>\n",
              "      <td>20.0</td>\n",
              "      <td>India</td>\n",
              "      <td>1</td>\n",
              "      <td>1</td>\n",
              "      <td>1</td>\n",
              "      <td>0</td>\n",
              "    </tr>\n",
              "    <tr>\n",
              "      <th>1213</th>\n",
              "      <td>Inzamam-ul-Haq (1991-2007)</td>\n",
              "      <td>1991-2007</td>\n",
              "      <td>1991</td>\n",
              "      <td>2007</td>\n",
              "      <td>375</td>\n",
              "      <td>348.0</td>\n",
              "      <td>52.0</td>\n",
              "      <td>11701.0</td>\n",
              "      <td>137*</td>\n",
              "      <td>137</td>\n",
              "      <td>39.53</td>\n",
              "      <td>15769.0</td>\n",
              "      <td>74.20</td>\n",
              "      <td>10.0</td>\n",
              "      <td>83.0</td>\n",
              "      <td>20.0</td>\n",
              "      <td>Pakistan</td>\n",
              "      <td>1</td>\n",
              "      <td>1</td>\n",
              "      <td>0</td>\n",
              "      <td>0</td>\n",
              "    </tr>\n",
              "    <tr>\n",
              "      <th>1431</th>\n",
              "      <td>KC Sangakkara (2000-2015)</td>\n",
              "      <td>2000-2015</td>\n",
              "      <td>2000</td>\n",
              "      <td>2015</td>\n",
              "      <td>397</td>\n",
              "      <td>373.0</td>\n",
              "      <td>40.0</td>\n",
              "      <td>13975.0</td>\n",
              "      <td>169</td>\n",
              "      <td>169</td>\n",
              "      <td>41.96</td>\n",
              "      <td>17715.0</td>\n",
              "      <td>78.88</td>\n",
              "      <td>25.0</td>\n",
              "      <td>90.0</td>\n",
              "      <td>15.0</td>\n",
              "      <td>Sri Lanka</td>\n",
              "      <td>1</td>\n",
              "      <td>1</td>\n",
              "      <td>1</td>\n",
              "      <td>0</td>\n",
              "    </tr>\n",
              "    <tr>\n",
              "      <th>1619</th>\n",
              "      <td>A Flower (1992-2003)</td>\n",
              "      <td>1992-2003</td>\n",
              "      <td>1992</td>\n",
              "      <td>2003</td>\n",
              "      <td>213</td>\n",
              "      <td>208.0</td>\n",
              "      <td>16.0</td>\n",
              "      <td>6786.0</td>\n",
              "      <td>145</td>\n",
              "      <td>145</td>\n",
              "      <td>35.34</td>\n",
              "      <td>9097.0</td>\n",
              "      <td>74.59</td>\n",
              "      <td>4.0</td>\n",
              "      <td>55.0</td>\n",
              "      <td>13.0</td>\n",
              "      <td>Zimbabwe</td>\n",
              "      <td>1</td>\n",
              "      <td>1</td>\n",
              "      <td>0</td>\n",
              "      <td>0</td>\n",
              "    </tr>\n",
              "    <tr>\n",
              "      <th>1758</th>\n",
              "      <td>Tamim Iqbal (2007-2018)</td>\n",
              "      <td>2007-2018</td>\n",
              "      <td>2007</td>\n",
              "      <td>2018</td>\n",
              "      <td>186</td>\n",
              "      <td>184.0</td>\n",
              "      <td>8.0</td>\n",
              "      <td>6450.0</td>\n",
              "      <td>154</td>\n",
              "      <td>154</td>\n",
              "      <td>36.64</td>\n",
              "      <td>8254.0</td>\n",
              "      <td>78.14</td>\n",
              "      <td>11.0</td>\n",
              "      <td>44.0</td>\n",
              "      <td>16.0</td>\n",
              "      <td>Bangladesh</td>\n",
              "      <td>1</td>\n",
              "      <td>1</td>\n",
              "      <td>0</td>\n",
              "      <td>0</td>\n",
              "    </tr>\n",
              "    <tr>\n",
              "      <th>1888</th>\n",
              "      <td>WTS Porterfield (2006-2018)</td>\n",
              "      <td>2006-2018</td>\n",
              "      <td>2006</td>\n",
              "      <td>2018</td>\n",
              "      <td>122</td>\n",
              "      <td>120.0</td>\n",
              "      <td>3.0</td>\n",
              "      <td>3722.0</td>\n",
              "      <td>139</td>\n",
              "      <td>139</td>\n",
              "      <td>31.81</td>\n",
              "      <td>5356.0</td>\n",
              "      <td>69.49</td>\n",
              "      <td>11.0</td>\n",
              "      <td>15.0</td>\n",
              "      <td>9.0</td>\n",
              "      <td>Ireland</td>\n",
              "      <td>1</td>\n",
              "      <td>0</td>\n",
              "      <td>0</td>\n",
              "      <td>0</td>\n",
              "    </tr>\n",
              "    <tr>\n",
              "      <th>1940</th>\n",
              "      <td>Mohammad Shahzad (2009-2018)</td>\n",
              "      <td>2009-2018</td>\n",
              "      <td>2009</td>\n",
              "      <td>2018</td>\n",
              "      <td>76</td>\n",
              "      <td>76.0</td>\n",
              "      <td>3.0</td>\n",
              "      <td>2508.0</td>\n",
              "      <td>131*</td>\n",
              "      <td>131</td>\n",
              "      <td>34.35</td>\n",
              "      <td>2826.0</td>\n",
              "      <td>88.74</td>\n",
              "      <td>5.0</td>\n",
              "      <td>13.0</td>\n",
              "      <td>3.0</td>\n",
              "      <td>Afghanistan</td>\n",
              "      <td>1</td>\n",
              "      <td>0</td>\n",
              "      <td>0</td>\n",
              "      <td>0</td>\n",
              "    </tr>\n",
              "  </tbody>\n",
              "</table>\n",
              "</div>"
            ],
            "text/plain": [
              "                            Player  ... 90+ Batting Strike Rate\n",
              "0           EJG Morgan (2009-2018)  ...                       1\n",
              "251         RT Ponting (1995-2012)  ...                       0\n",
              "477          JH Kallis (1996-2014)  ...                       0\n",
              "606            BC Lara (1990-2007)  ...                       0\n",
              "794         SP Fleming (1994-2007)  ...                       0\n",
              "989       SR Tendulkar (1989-2012)  ...                       0\n",
              "1213    Inzamam-ul-Haq (1991-2007)  ...                       0\n",
              "1431     KC Sangakkara (2000-2015)  ...                       0\n",
              "1619          A Flower (1992-2003)  ...                       0\n",
              "1758       Tamim Iqbal (2007-2018)  ...                       0\n",
              "1888   WTS Porterfield (2006-2018)  ...                       0\n",
              "1940  Mohammad Shahzad (2009-2018)  ...                       0\n",
              "\n",
              "[12 rows x 21 columns]"
            ]
          },
          "metadata": {},
          "execution_count": 24
        }
      ]
    },
    {
      "cell_type": "code",
      "source": [
        "# Top Scorers by Country\n",
        "country_top_scorers['Labels'] = country_top_scorers[\"Player\"].map(str) + ', ' + country_top_scorers[\"Country\"].map(str)\n",
        "\n",
        "country_top_scorers_chart = alt.Chart(country_top_scorers).mark_bar().encode(\n",
        "    x='Runs Scored:Q',\n",
        "    y=alt.Y('Labels:N', sort=alt.Sort(field=\"Runs Scored\", op=\"sum\", order='descending'), title='Player'),\n",
        "    color=alt.Color('Batting Avg:Q', scale=alt.Scale(scheme='greenblue'))\n",
        ").configure_axis(labelLimit=300)\n"
      ],
      "metadata": {
        "id": "6sUXwekjqAry"
      },
      "execution_count": 27,
      "outputs": []
    },
    {
      "cell_type": "code",
      "source": [
        "country_top_scorers_chart"
      ],
      "metadata": {
        "colab": {
          "base_uri": "https://localhost:8080/",
          "height": 303
        },
        "id": "HsT5mbRPqCpD",
        "outputId": "b3caae36-d43b-4950-9b1f-4a54b11036e8"
      },
      "execution_count": 28,
      "outputs": [
        {
          "output_type": "execute_result",
          "data": {
            "text/plain": [
              "alt.Chart(...)"
            ],
            "text/html": [
              "\n",
              "<div id=\"altair-viz-ba9b3d4a0e104fa8bf08964a173c28c4\"></div>\n",
              "<script type=\"text/javascript\">\n",
              "  (function(spec, embedOpt){\n",
              "    let outputDiv = document.currentScript.previousElementSibling;\n",
              "    if (outputDiv.id !== \"altair-viz-ba9b3d4a0e104fa8bf08964a173c28c4\") {\n",
              "      outputDiv = document.getElementById(\"altair-viz-ba9b3d4a0e104fa8bf08964a173c28c4\");\n",
              "    }\n",
              "    const paths = {\n",
              "      \"vega\": \"https://cdn.jsdelivr.net/npm//vega@5?noext\",\n",
              "      \"vega-lib\": \"https://cdn.jsdelivr.net/npm//vega-lib?noext\",\n",
              "      \"vega-lite\": \"https://cdn.jsdelivr.net/npm//vega-lite@4.8.1?noext\",\n",
              "      \"vega-embed\": \"https://cdn.jsdelivr.net/npm//vega-embed@6?noext\",\n",
              "    };\n",
              "\n",
              "    function loadScript(lib) {\n",
              "      return new Promise(function(resolve, reject) {\n",
              "        var s = document.createElement('script');\n",
              "        s.src = paths[lib];\n",
              "        s.async = true;\n",
              "        s.onload = () => resolve(paths[lib]);\n",
              "        s.onerror = () => reject(`Error loading script: ${paths[lib]}`);\n",
              "        document.getElementsByTagName(\"head\")[0].appendChild(s);\n",
              "      });\n",
              "    }\n",
              "\n",
              "    function showError(err) {\n",
              "      outputDiv.innerHTML = `<div class=\"error\" style=\"color:red;\">${err}</div>`;\n",
              "      throw err;\n",
              "    }\n",
              "\n",
              "    function displayChart(vegaEmbed) {\n",
              "      vegaEmbed(outputDiv, spec, embedOpt)\n",
              "        .catch(err => showError(`Javascript Error: ${err.message}<br>This usually means there's a typo in your chart specification. See the javascript console for the full traceback.`));\n",
              "    }\n",
              "\n",
              "    if(typeof define === \"function\" && define.amd) {\n",
              "      requirejs.config({paths});\n",
              "      require([\"vega-embed\"], displayChart, err => showError(`Error loading script: ${err.message}`));\n",
              "    } else if (typeof vegaEmbed === \"function\") {\n",
              "      displayChart(vegaEmbed);\n",
              "    } else {\n",
              "      loadScript(\"vega\")\n",
              "        .then(() => loadScript(\"vega-lite\"))\n",
              "        .then(() => loadScript(\"vega-embed\"))\n",
              "        .catch(showError)\n",
              "        .then(() => displayChart(vegaEmbed));\n",
              "    }\n",
              "  })({\"config\": {\"background\": \"white\", \"view\": {\"continuousWidth\": 400, \"continuousHeight\": 300}, \"axis\": {\"labelLimit\": 300}}, \"data\": {\"name\": \"data-e579cd68052fbec6665ba055c55a17a0\"}, \"mark\": \"bar\", \"encoding\": {\"color\": {\"type\": \"quantitative\", \"field\": \"Batting Avg\", \"scale\": {\"scheme\": \"greenblue\"}}, \"x\": {\"type\": \"quantitative\", \"field\": \"Runs Scored\"}, \"y\": {\"type\": \"nominal\", \"field\": \"Labels\", \"sort\": {\"field\": \"Runs Scored\", \"op\": \"sum\", \"order\": \"descending\"}, \"title\": \"Player\"}}, \"$schema\": \"https://vega.github.io/schema/vega-lite/v4.8.1.json\", \"datasets\": {\"data-e579cd68052fbec6665ba055c55a17a0\": [{\"Player\": \"EJG Morgan (2009-2018)\", \"Career Span\": \"2009-2018\", \"Career Start\": 2009, \"Career End\": 2018, \"Matches Played\": 189, \"Innings Batted\": 176.0, \"Not Outs\": 27.0, \"Runs Scored\": 5813.0, \"Highest Innings Score\": \"124*\", \"Highest Innings Score Num\": \"124\", \"Batting Avg\": 39.01, \"Balls Faced\": 6310.0, \"Batting Strike Rate\": 92.12, \"Hundreds Scored\": 10.0, \"Scores Of Fifty Or More\": 36.0, \"Ducks Scored\": 11.0, \"Country\": \"England\", \"Player Count\": 1, \"5000+ Runs Scored\": 1, \"40+ Batting Avg\": 0, \"90+ Batting Strike Rate\": 1, \"Labels\": \"EJG Morgan (2009-2018), England\"}, {\"Player\": \"RT Ponting (1995-2012)\", \"Career Span\": \"1995-2012\", \"Career Start\": 1995, \"Career End\": 2012, \"Matches Played\": 374, \"Innings Batted\": 364.0, \"Not Outs\": 39.0, \"Runs Scored\": 13589.0, \"Highest Innings Score\": \"164\", \"Highest Innings Score Num\": \"164\", \"Batting Avg\": 41.81, \"Balls Faced\": 16944.0, \"Batting Strike Rate\": 80.19, \"Hundreds Scored\": 29.0, \"Scores Of Fifty Or More\": 82.0, \"Ducks Scored\": 20.0, \"Country\": \"Australia\", \"Player Count\": 1, \"5000+ Runs Scored\": 1, \"40+ Batting Avg\": 1, \"90+ Batting Strike Rate\": 0, \"Labels\": \"RT Ponting (1995-2012), Australia\"}, {\"Player\": \"JH Kallis (1996-2014)\", \"Career Span\": \"1996-2014\", \"Career Start\": 1996, \"Career End\": 2014, \"Matches Played\": 323, \"Innings Batted\": 309.0, \"Not Outs\": 53.0, \"Runs Scored\": 11550.0, \"Highest Innings Score\": \"139\", \"Highest Innings Score Num\": \"139\", \"Batting Avg\": 45.11, \"Balls Faced\": 15793.0, \"Batting Strike Rate\": 73.13, \"Hundreds Scored\": 17.0, \"Scores Of Fifty Or More\": 86.0, \"Ducks Scored\": 17.0, \"Country\": \"South Africa\", \"Player Count\": 1, \"5000+ Runs Scored\": 1, \"40+ Batting Avg\": 1, \"90+ Batting Strike Rate\": 0, \"Labels\": \"JH Kallis (1996-2014), South Africa\"}, {\"Player\": \"BC Lara (1990-2007)\", \"Career Span\": \"1990-2007\", \"Career Start\": 1990, \"Career End\": 2007, \"Matches Played\": 295, \"Innings Batted\": 285.0, \"Not Outs\": 32.0, \"Runs Scored\": 10348.0, \"Highest Innings Score\": \"169\", \"Highest Innings Score Num\": \"169\", \"Batting Avg\": 40.9, \"Balls Faced\": 12996.0, \"Batting Strike Rate\": 79.62, \"Hundreds Scored\": 19.0, \"Scores Of Fifty Or More\": 62.0, \"Ducks Scored\": 14.0, \"Country\": \"West Indies\", \"Player Count\": 1, \"5000+ Runs Scored\": 1, \"40+ Batting Avg\": 1, \"90+ Batting Strike Rate\": 0, \"Labels\": \"BC Lara (1990-2007), West Indies\"}, {\"Player\": \"SP Fleming (1994-2007)\", \"Career Span\": \"1994-2007\", \"Career Start\": 1994, \"Career End\": 2007, \"Matches Played\": 279, \"Innings Batted\": 268.0, \"Not Outs\": 21.0, \"Runs Scored\": 8007.0, \"Highest Innings Score\": \"134*\", \"Highest Innings Score Num\": \"134\", \"Batting Avg\": 32.41, \"Balls Faced\": 11214.0, \"Batting Strike Rate\": 71.4, \"Hundreds Scored\": 8.0, \"Scores Of Fifty Or More\": 49.0, \"Ducks Scored\": 17.0, \"Country\": \"New Zealand\", \"Player Count\": 1, \"5000+ Runs Scored\": 1, \"40+ Batting Avg\": 0, \"90+ Batting Strike Rate\": 0, \"Labels\": \"SP Fleming (1994-2007), New Zealand\"}, {\"Player\": \"SR Tendulkar (1989-2012)\", \"Career Span\": \"1989-2012\", \"Career Start\": 1989, \"Career End\": 2012, \"Matches Played\": 463, \"Innings Batted\": 452.0, \"Not Outs\": 41.0, \"Runs Scored\": 18426.0, \"Highest Innings Score\": \"200*\", \"Highest Innings Score Num\": \"200\", \"Batting Avg\": 44.83, \"Balls Faced\": 21367.0, \"Batting Strike Rate\": 86.23, \"Hundreds Scored\": 49.0, \"Scores Of Fifty Or More\": 96.0, \"Ducks Scored\": 20.0, \"Country\": \"India\", \"Player Count\": 1, \"5000+ Runs Scored\": 1, \"40+ Batting Avg\": 1, \"90+ Batting Strike Rate\": 0, \"Labels\": \"SR Tendulkar (1989-2012), India\"}, {\"Player\": \"Inzamam-ul-Haq (1991-2007)\", \"Career Span\": \"1991-2007\", \"Career Start\": 1991, \"Career End\": 2007, \"Matches Played\": 375, \"Innings Batted\": 348.0, \"Not Outs\": 52.0, \"Runs Scored\": 11701.0, \"Highest Innings Score\": \"137*\", \"Highest Innings Score Num\": \"137\", \"Batting Avg\": 39.53, \"Balls Faced\": 15769.0, \"Batting Strike Rate\": 74.2, \"Hundreds Scored\": 10.0, \"Scores Of Fifty Or More\": 83.0, \"Ducks Scored\": 20.0, \"Country\": \"Pakistan\", \"Player Count\": 1, \"5000+ Runs Scored\": 1, \"40+ Batting Avg\": 0, \"90+ Batting Strike Rate\": 0, \"Labels\": \"Inzamam-ul-Haq (1991-2007), Pakistan\"}, {\"Player\": \"KC Sangakkara (2000-2015)\", \"Career Span\": \"2000-2015\", \"Career Start\": 2000, \"Career End\": 2015, \"Matches Played\": 397, \"Innings Batted\": 373.0, \"Not Outs\": 40.0, \"Runs Scored\": 13975.0, \"Highest Innings Score\": \"169\", \"Highest Innings Score Num\": \"169\", \"Batting Avg\": 41.96, \"Balls Faced\": 17715.0, \"Batting Strike Rate\": 78.88, \"Hundreds Scored\": 25.0, \"Scores Of Fifty Or More\": 90.0, \"Ducks Scored\": 15.0, \"Country\": \"Sri Lanka\", \"Player Count\": 1, \"5000+ Runs Scored\": 1, \"40+ Batting Avg\": 1, \"90+ Batting Strike Rate\": 0, \"Labels\": \"KC Sangakkara (2000-2015), Sri Lanka\"}, {\"Player\": \"A Flower (1992-2003)\", \"Career Span\": \"1992-2003\", \"Career Start\": 1992, \"Career End\": 2003, \"Matches Played\": 213, \"Innings Batted\": 208.0, \"Not Outs\": 16.0, \"Runs Scored\": 6786.0, \"Highest Innings Score\": \"145\", \"Highest Innings Score Num\": \"145\", \"Batting Avg\": 35.34, \"Balls Faced\": 9097.0, \"Batting Strike Rate\": 74.59, \"Hundreds Scored\": 4.0, \"Scores Of Fifty Or More\": 55.0, \"Ducks Scored\": 13.0, \"Country\": \"Zimbabwe\", \"Player Count\": 1, \"5000+ Runs Scored\": 1, \"40+ Batting Avg\": 0, \"90+ Batting Strike Rate\": 0, \"Labels\": \"A Flower (1992-2003), Zimbabwe\"}, {\"Player\": \"Tamim Iqbal (2007-2018)\", \"Career Span\": \"2007-2018\", \"Career Start\": 2007, \"Career End\": 2018, \"Matches Played\": 186, \"Innings Batted\": 184.0, \"Not Outs\": 8.0, \"Runs Scored\": 6450.0, \"Highest Innings Score\": \"154\", \"Highest Innings Score Num\": \"154\", \"Batting Avg\": 36.64, \"Balls Faced\": 8254.0, \"Batting Strike Rate\": 78.14, \"Hundreds Scored\": 11.0, \"Scores Of Fifty Or More\": 44.0, \"Ducks Scored\": 16.0, \"Country\": \"Bangladesh\", \"Player Count\": 1, \"5000+ Runs Scored\": 1, \"40+ Batting Avg\": 0, \"90+ Batting Strike Rate\": 0, \"Labels\": \"Tamim Iqbal (2007-2018), Bangladesh\"}, {\"Player\": \"WTS Porterfield (2006-2018)\", \"Career Span\": \"2006-2018\", \"Career Start\": 2006, \"Career End\": 2018, \"Matches Played\": 122, \"Innings Batted\": 120.0, \"Not Outs\": 3.0, \"Runs Scored\": 3722.0, \"Highest Innings Score\": \"139\", \"Highest Innings Score Num\": \"139\", \"Batting Avg\": 31.81, \"Balls Faced\": 5356.0, \"Batting Strike Rate\": 69.49, \"Hundreds Scored\": 11.0, \"Scores Of Fifty Or More\": 15.0, \"Ducks Scored\": 9.0, \"Country\": \"Ireland\", \"Player Count\": 1, \"5000+ Runs Scored\": 0, \"40+ Batting Avg\": 0, \"90+ Batting Strike Rate\": 0, \"Labels\": \"WTS Porterfield (2006-2018), Ireland\"}, {\"Player\": \"Mohammad Shahzad (2009-2018)\", \"Career Span\": \"2009-2018\", \"Career Start\": 2009, \"Career End\": 2018, \"Matches Played\": 76, \"Innings Batted\": 76.0, \"Not Outs\": 3.0, \"Runs Scored\": 2508.0, \"Highest Innings Score\": \"131*\", \"Highest Innings Score Num\": \"131\", \"Batting Avg\": 34.35, \"Balls Faced\": 2826.0, \"Batting Strike Rate\": 88.74, \"Hundreds Scored\": 5.0, \"Scores Of Fifty Or More\": 13.0, \"Ducks Scored\": 3.0, \"Country\": \"Afghanistan\", \"Player Count\": 1, \"5000+ Runs Scored\": 0, \"40+ Batting Avg\": 0, \"90+ Batting Strike Rate\": 0, \"Labels\": \"Mohammad Shahzad (2009-2018), Afghanistan\"}]}}, {\"mode\": \"vega-lite\"});\n",
              "</script>"
            ]
          },
          "metadata": {},
          "execution_count": 28
        }
      ]
    },
    {
      "cell_type": "code",
      "source": [
        "# Max Hundreds by Country\n",
        "idx = country_df['Hundreds Scored'].transform(max) == df['Hundreds Scored']\n",
        "country_top_hundreds = df[idx]\n",
        "country_top_hundreds['Labels'] = country_top_hundreds[\"Player\"].map(str) + ', ' + country_top_hundreds[\"Country\"].map(str)\n",
        "\n",
        "country_top_hundreds_chart = alt.Chart(country_top_hundreds).mark_bar().encode(\n",
        "    x='Hundreds Scored:Q',\n",
        "    y=alt.Y('Labels:N', sort=alt.Sort(field=\"Hundreds Scored\", op=\"sum\", order='descending'), title='Player'),\n",
        "    color=alt.Color('Batting Avg:Q', scale=alt.Scale(scheme='greenblue'))\n",
        ").configure_axis(labelLimit=300)"
      ],
      "metadata": {
        "id": "eomXr8aPqPdU"
      },
      "execution_count": 29,
      "outputs": []
    },
    {
      "cell_type": "code",
      "source": [
        "country_top_hundreds_chart"
      ],
      "metadata": {
        "colab": {
          "base_uri": "https://localhost:8080/",
          "height": 303
        },
        "id": "0t4OGNskqXaz",
        "outputId": "d7ab66c0-a45e-47a8-bda2-225eaebc1055"
      },
      "execution_count": 30,
      "outputs": [
        {
          "output_type": "execute_result",
          "data": {
            "text/plain": [
              "alt.Chart(...)"
            ],
            "text/html": [
              "\n",
              "<div id=\"altair-viz-fb5f9999d4764302acf7781b73ecf544\"></div>\n",
              "<script type=\"text/javascript\">\n",
              "  (function(spec, embedOpt){\n",
              "    let outputDiv = document.currentScript.previousElementSibling;\n",
              "    if (outputDiv.id !== \"altair-viz-fb5f9999d4764302acf7781b73ecf544\") {\n",
              "      outputDiv = document.getElementById(\"altair-viz-fb5f9999d4764302acf7781b73ecf544\");\n",
              "    }\n",
              "    const paths = {\n",
              "      \"vega\": \"https://cdn.jsdelivr.net/npm//vega@5?noext\",\n",
              "      \"vega-lib\": \"https://cdn.jsdelivr.net/npm//vega-lib?noext\",\n",
              "      \"vega-lite\": \"https://cdn.jsdelivr.net/npm//vega-lite@4.8.1?noext\",\n",
              "      \"vega-embed\": \"https://cdn.jsdelivr.net/npm//vega-embed@6?noext\",\n",
              "    };\n",
              "\n",
              "    function loadScript(lib) {\n",
              "      return new Promise(function(resolve, reject) {\n",
              "        var s = document.createElement('script');\n",
              "        s.src = paths[lib];\n",
              "        s.async = true;\n",
              "        s.onload = () => resolve(paths[lib]);\n",
              "        s.onerror = () => reject(`Error loading script: ${paths[lib]}`);\n",
              "        document.getElementsByTagName(\"head\")[0].appendChild(s);\n",
              "      });\n",
              "    }\n",
              "\n",
              "    function showError(err) {\n",
              "      outputDiv.innerHTML = `<div class=\"error\" style=\"color:red;\">${err}</div>`;\n",
              "      throw err;\n",
              "    }\n",
              "\n",
              "    function displayChart(vegaEmbed) {\n",
              "      vegaEmbed(outputDiv, spec, embedOpt)\n",
              "        .catch(err => showError(`Javascript Error: ${err.message}<br>This usually means there's a typo in your chart specification. See the javascript console for the full traceback.`));\n",
              "    }\n",
              "\n",
              "    if(typeof define === \"function\" && define.amd) {\n",
              "      requirejs.config({paths});\n",
              "      require([\"vega-embed\"], displayChart, err => showError(`Error loading script: ${err.message}`));\n",
              "    } else if (typeof vegaEmbed === \"function\") {\n",
              "      displayChart(vegaEmbed);\n",
              "    } else {\n",
              "      loadScript(\"vega\")\n",
              "        .then(() => loadScript(\"vega-lite\"))\n",
              "        .then(() => loadScript(\"vega-embed\"))\n",
              "        .catch(showError)\n",
              "        .then(() => displayChart(vegaEmbed));\n",
              "    }\n",
              "  })({\"config\": {\"background\": \"white\", \"view\": {\"continuousWidth\": 400, \"continuousHeight\": 300}, \"axis\": {\"labelLimit\": 300}}, \"data\": {\"name\": \"data-b5e5e4b5fa1bf92eb9562e24dffd5687\"}, \"mark\": \"bar\", \"encoding\": {\"color\": {\"type\": \"quantitative\", \"field\": \"Batting Avg\", \"scale\": {\"scheme\": \"greenblue\"}}, \"x\": {\"type\": \"quantitative\", \"field\": \"Hundreds Scored\"}, \"y\": {\"type\": \"nominal\", \"field\": \"Labels\", \"sort\": {\"field\": \"Hundreds Scored\", \"op\": \"sum\", \"order\": \"descending\"}, \"title\": \"Player\"}}, \"$schema\": \"https://vega.github.io/schema/vega-lite/v4.8.1.json\", \"datasets\": {\"data-b5e5e4b5fa1bf92eb9562e24dffd5687\": [{\"Player\": \"JE Root (2013-2018)\", \"Career Span\": \"2013-2018\", \"Career Start\": 2013, \"Career End\": 2018, \"Matches Played\": 121, \"Innings Batted\": 115.0, \"Not Outs\": 19.0, \"Runs Scored\": 4946.0, \"Highest Innings Score\": \"133*\", \"Highest Innings Score Num\": \"133\", \"Batting Avg\": 51.52, \"Balls Faced\": 5722.0, \"Batting Strike Rate\": 86.43, \"Hundreds Scored\": 13.0, \"Scores Of Fifty Or More\": 29.0, \"Ducks Scored\": 4.0, \"Country\": \"England\", \"Player Count\": 1, \"5000+ Runs Scored\": 0, \"40+ Batting Avg\": 1, \"90+ Batting Strike Rate\": 0, \"Labels\": \"JE Root (2013-2018), England\"}, {\"Player\": \"RT Ponting (1995-2012)\", \"Career Span\": \"1995-2012\", \"Career Start\": 1995, \"Career End\": 2012, \"Matches Played\": 374, \"Innings Batted\": 364.0, \"Not Outs\": 39.0, \"Runs Scored\": 13589.0, \"Highest Innings Score\": \"164\", \"Highest Innings Score Num\": \"164\", \"Batting Avg\": 41.81, \"Balls Faced\": 16944.0, \"Batting Strike Rate\": 80.19, \"Hundreds Scored\": 29.0, \"Scores Of Fifty Or More\": 82.0, \"Ducks Scored\": 20.0, \"Country\": \"Australia\", \"Player Count\": 1, \"5000+ Runs Scored\": 1, \"40+ Batting Avg\": 1, \"90+ Batting Strike Rate\": 0, \"Labels\": \"RT Ponting (1995-2012), Australia\"}, {\"Player\": \"HM Amla (2008-2018)\", \"Career Span\": \"2008-2018\", \"Career Start\": 2008, \"Career End\": 2018, \"Matches Played\": 169, \"Innings Batted\": 166.0, \"Not Outs\": 11.0, \"Runs Scored\": 7696.0, \"Highest Innings Score\": \"159\", \"Highest Innings Score Num\": \"159\", \"Batting Avg\": 49.65, \"Balls Faced\": 8618.0, \"Batting Strike Rate\": 89.3, \"Hundreds Scored\": 26.0, \"Scores Of Fifty Or More\": 36.0, \"Ducks Scored\": 4.0, \"Country\": \"South Africa\", \"Player Count\": 1, \"5000+ Runs Scored\": 1, \"40+ Batting Avg\": 1, \"90+ Batting Strike Rate\": 0, \"Labels\": \"HM Amla (2008-2018), South Africa\"}, {\"Player\": \"CH Gayle (1999-2018)\", \"Career Span\": \"1999-2018\", \"Career Start\": 1999, \"Career End\": 2018, \"Matches Played\": 281, \"Innings Batted\": 276.0, \"Not Outs\": 17.0, \"Runs Scored\": 9672.0, \"Highest Innings Score\": \"215\", \"Highest Innings Score Num\": \"215\", \"Batting Avg\": 37.34, \"Balls Faced\": 11274.0, \"Batting Strike Rate\": 85.79, \"Hundreds Scored\": 23.0, \"Scores Of Fifty Or More\": 48.0, \"Ducks Scored\": 23.0, \"Country\": \"West Indies\", \"Player Count\": 1, \"5000+ Runs Scored\": 1, \"40+ Batting Avg\": 0, \"90+ Batting Strike Rate\": 0, \"Labels\": \"CH Gayle (1999-2018), West Indies\"}, {\"Player\": \"LRPL Taylor (2006-2019)\", \"Career Span\": \"2006-2019\", \"Career Start\": 2006, \"Career End\": 2019, \"Matches Played\": 210, \"Innings Batted\": 195.0, \"Not Outs\": 34.0, \"Runs Scored\": 7714.0, \"Highest Innings Score\": \"181*\", \"Highest Innings Score Num\": \"181\", \"Batting Avg\": 47.91, \"Balls Faced\": 9274.0, \"Batting Strike Rate\": 83.17, \"Hundreds Scored\": 20.0, \"Scores Of Fifty Or More\": 45.0, \"Ducks Scored\": 9.0, \"Country\": \"New Zealand\", \"Player Count\": 1, \"5000+ Runs Scored\": 1, \"40+ Batting Avg\": 1, \"90+ Batting Strike Rate\": 0, \"Labels\": \"LRPL Taylor (2006-2019), New Zealand\"}, {\"Player\": \"SR Tendulkar (1989-2012)\", \"Career Span\": \"1989-2012\", \"Career Start\": 1989, \"Career End\": 2012, \"Matches Played\": 463, \"Innings Batted\": 452.0, \"Not Outs\": 41.0, \"Runs Scored\": 18426.0, \"Highest Innings Score\": \"200*\", \"Highest Innings Score Num\": \"200\", \"Batting Avg\": 44.83, \"Balls Faced\": 21367.0, \"Batting Strike Rate\": 86.23, \"Hundreds Scored\": 49.0, \"Scores Of Fifty Or More\": 96.0, \"Ducks Scored\": 20.0, \"Country\": \"India\", \"Player Count\": 1, \"5000+ Runs Scored\": 1, \"40+ Batting Avg\": 1, \"90+ Batting Strike Rate\": 0, \"Labels\": \"SR Tendulkar (1989-2012), India\"}, {\"Player\": \"Saeed Anwar (1989-2003)\", \"Career Span\": \"1989-2003\", \"Career Start\": 1989, \"Career End\": 2003, \"Matches Played\": 247, \"Innings Batted\": 244.0, \"Not Outs\": 19.0, \"Runs Scored\": 8824.0, \"Highest Innings Score\": \"194\", \"Highest Innings Score Num\": \"194\", \"Batting Avg\": 39.21, \"Balls Faced\": 10938.0, \"Batting Strike Rate\": 80.67, \"Hundreds Scored\": 20.0, \"Scores Of Fifty Or More\": 43.0, \"Ducks Scored\": 15.0, \"Country\": \"Pakistan\", \"Player Count\": 1, \"5000+ Runs Scored\": 1, \"40+ Batting Avg\": 0, \"90+ Batting Strike Rate\": 0, \"Labels\": \"Saeed Anwar (1989-2003), Pakistan\"}, {\"Player\": \"ST Jayasuriya (1989-2011)\", \"Career Span\": \"1989-2011\", \"Career Start\": 1989, \"Career End\": 2011, \"Matches Played\": 441, \"Innings Batted\": 429.0, \"Not Outs\": 18.0, \"Runs Scored\": 13364.0, \"Highest Innings Score\": \"189\", \"Highest Innings Score Num\": \"189\", \"Batting Avg\": 32.51, \"Balls Faced\": 14644.0, \"Batting Strike Rate\": 91.25, \"Hundreds Scored\": 28.0, \"Scores Of Fifty Or More\": 68.0, \"Ducks Scored\": 34.0, \"Country\": \"Sri Lanka\", \"Player Count\": 1, \"5000+ Runs Scored\": 1, \"40+ Batting Avg\": 0, \"90+ Batting Strike Rate\": 1, \"Labels\": \"ST Jayasuriya (1989-2011), Sri Lanka\"}, {\"Player\": \"BRM Taylor (2004-2018)\", \"Career Span\": \"2004-2018\", \"Career Start\": 2004, \"Career End\": 2018, \"Matches Played\": 188, \"Innings Batted\": 187.0, \"Not Outs\": 15.0, \"Runs Scored\": 6156.0, \"Highest Innings Score\": \"145*\", \"Highest Innings Score Num\": \"145\", \"Batting Avg\": 35.79, \"Balls Faced\": 8085.0, \"Batting Strike Rate\": 76.14, \"Hundreds Scored\": 10.0, \"Scores Of Fifty Or More\": 36.0, \"Ducks Scored\": 14.0, \"Country\": \"Zimbabwe\", \"Player Count\": 1, \"5000+ Runs Scored\": 1, \"40+ Batting Avg\": 0, \"90+ Batting Strike Rate\": 0, \"Labels\": \"BRM Taylor (2004-2018), Zimbabwe\"}, {\"Player\": \"Tamim Iqbal (2007-2018)\", \"Career Span\": \"2007-2018\", \"Career Start\": 2007, \"Career End\": 2018, \"Matches Played\": 186, \"Innings Batted\": 184.0, \"Not Outs\": 8.0, \"Runs Scored\": 6450.0, \"Highest Innings Score\": \"154\", \"Highest Innings Score Num\": \"154\", \"Batting Avg\": 36.64, \"Balls Faced\": 8254.0, \"Batting Strike Rate\": 78.14, \"Hundreds Scored\": 11.0, \"Scores Of Fifty Or More\": 44.0, \"Ducks Scored\": 16.0, \"Country\": \"Bangladesh\", \"Player Count\": 1, \"5000+ Runs Scored\": 1, \"40+ Batting Avg\": 0, \"90+ Batting Strike Rate\": 0, \"Labels\": \"Tamim Iqbal (2007-2018), Bangladesh\"}, {\"Player\": \"WTS Porterfield (2006-2018)\", \"Career Span\": \"2006-2018\", \"Career Start\": 2006, \"Career End\": 2018, \"Matches Played\": 122, \"Innings Batted\": 120.0, \"Not Outs\": 3.0, \"Runs Scored\": 3722.0, \"Highest Innings Score\": \"139\", \"Highest Innings Score Num\": \"139\", \"Batting Avg\": 31.81, \"Balls Faced\": 5356.0, \"Batting Strike Rate\": 69.49, \"Hundreds Scored\": 11.0, \"Scores Of Fifty Or More\": 15.0, \"Ducks Scored\": 9.0, \"Country\": \"Ireland\", \"Player Count\": 1, \"5000+ Runs Scored\": 0, \"40+ Batting Avg\": 0, \"90+ Batting Strike Rate\": 0, \"Labels\": \"WTS Porterfield (2006-2018), Ireland\"}, {\"Player\": \"Mohammad Shahzad (2009-2018)\", \"Career Span\": \"2009-2018\", \"Career Start\": 2009, \"Career End\": 2018, \"Matches Played\": 76, \"Innings Batted\": 76.0, \"Not Outs\": 3.0, \"Runs Scored\": 2508.0, \"Highest Innings Score\": \"131*\", \"Highest Innings Score Num\": \"131\", \"Batting Avg\": 34.35, \"Balls Faced\": 2826.0, \"Batting Strike Rate\": 88.74, \"Hundreds Scored\": 5.0, \"Scores Of Fifty Or More\": 13.0, \"Ducks Scored\": 3.0, \"Country\": \"Afghanistan\", \"Player Count\": 1, \"5000+ Runs Scored\": 0, \"40+ Batting Avg\": 0, \"90+ Batting Strike Rate\": 0, \"Labels\": \"Mohammad Shahzad (2009-2018), Afghanistan\"}]}}, {\"mode\": \"vega-lite\"});\n",
              "</script>"
            ]
          },
          "metadata": {},
          "execution_count": 30
        }
      ]
    },
    {
      "cell_type": "code",
      "source": [
        "top_players = df.sort_values('Runs Scored', ascending=False)\n",
        "top_players = top_players.head(25)\n",
        "\n",
        "runs_base = alt.Chart(top_players).encode(\n",
        "    x=alt.X('Runs Scored:Q'),\n",
        "    y=alt.Y('Player', sort=alt.Sort(field=\"Runs Scored\", op=\"count\", order='ascending')),\n",
        "    tooltip=['Matches Played', 'Batting Strike Rate', 'Hundreds Scored']\n",
        ")\n",
        "\n",
        "avg_bars = runs_base.mark_bar().encode(\n",
        "    color='Batting Avg:Q',\n",
        ")\n",
        "\n",
        "str_bars = runs_base.mark_bar().encode(\n",
        "    color=alt.Color('Batting Strike Rate:Q', scale=alt.Scale(scheme='greens'))\n",
        ")\n",
        "\n",
        "text1 = runs_base.mark_text(\n",
        "    align='left',\n",
        "    baseline='middle',\n",
        "    dx=3  # Nudges text to right so it doesn't appear on top of the bar\n",
        ").encode(\n",
        "    text='Batting Avg:Q'\n",
        ")\n",
        "\n",
        "text2 = runs_base.mark_text(\n",
        "    align='left',\n",
        "    baseline='middle',\n",
        "    dx=3  # Nudges text to right so it doesn't appear on top of the bar\n",
        ").encode(\n",
        "    text='Batting Strike Rate:Q'\n",
        ")\n",
        "\n",
        "chart1 = (avg_bars + text1)\n",
        "chart2 = (str_bars + text2)\n",
        "top_scorers_chart = alt.vconcat(chart1, chart2).resolve_scale(color='independent')"
      ],
      "metadata": {
        "id": "foUbt9VHqcQ7"
      },
      "execution_count": 31,
      "outputs": []
    },
    {
      "cell_type": "code",
      "source": [
        "top_scorers_chart"
      ],
      "metadata": {
        "colab": {
          "base_uri": "https://localhost:8080/",
          "height": 1000
        },
        "id": "T2GG5FaJqi4D",
        "outputId": "78947d65-61de-4185-d310-6487d1a36c6a"
      },
      "execution_count": 32,
      "outputs": [
        {
          "output_type": "execute_result",
          "data": {
            "text/plain": [
              "alt.VConcatChart(...)"
            ],
            "text/html": [
              "\n",
              "<div id=\"altair-viz-43e6b4eb60e0426db9a9dd15c7db8905\"></div>\n",
              "<script type=\"text/javascript\">\n",
              "  (function(spec, embedOpt){\n",
              "    let outputDiv = document.currentScript.previousElementSibling;\n",
              "    if (outputDiv.id !== \"altair-viz-43e6b4eb60e0426db9a9dd15c7db8905\") {\n",
              "      outputDiv = document.getElementById(\"altair-viz-43e6b4eb60e0426db9a9dd15c7db8905\");\n",
              "    }\n",
              "    const paths = {\n",
              "      \"vega\": \"https://cdn.jsdelivr.net/npm//vega@5?noext\",\n",
              "      \"vega-lib\": \"https://cdn.jsdelivr.net/npm//vega-lib?noext\",\n",
              "      \"vega-lite\": \"https://cdn.jsdelivr.net/npm//vega-lite@4.8.1?noext\",\n",
              "      \"vega-embed\": \"https://cdn.jsdelivr.net/npm//vega-embed@6?noext\",\n",
              "    };\n",
              "\n",
              "    function loadScript(lib) {\n",
              "      return new Promise(function(resolve, reject) {\n",
              "        var s = document.createElement('script');\n",
              "        s.src = paths[lib];\n",
              "        s.async = true;\n",
              "        s.onload = () => resolve(paths[lib]);\n",
              "        s.onerror = () => reject(`Error loading script: ${paths[lib]}`);\n",
              "        document.getElementsByTagName(\"head\")[0].appendChild(s);\n",
              "      });\n",
              "    }\n",
              "\n",
              "    function showError(err) {\n",
              "      outputDiv.innerHTML = `<div class=\"error\" style=\"color:red;\">${err}</div>`;\n",
              "      throw err;\n",
              "    }\n",
              "\n",
              "    function displayChart(vegaEmbed) {\n",
              "      vegaEmbed(outputDiv, spec, embedOpt)\n",
              "        .catch(err => showError(`Javascript Error: ${err.message}<br>This usually means there's a typo in your chart specification. See the javascript console for the full traceback.`));\n",
              "    }\n",
              "\n",
              "    if(typeof define === \"function\" && define.amd) {\n",
              "      requirejs.config({paths});\n",
              "      require([\"vega-embed\"], displayChart, err => showError(`Error loading script: ${err.message}`));\n",
              "    } else if (typeof vegaEmbed === \"function\") {\n",
              "      displayChart(vegaEmbed);\n",
              "    } else {\n",
              "      loadScript(\"vega\")\n",
              "        .then(() => loadScript(\"vega-lite\"))\n",
              "        .then(() => loadScript(\"vega-embed\"))\n",
              "        .catch(showError)\n",
              "        .then(() => displayChart(vegaEmbed));\n",
              "    }\n",
              "  })({\"config\": {\"background\": \"white\", \"view\": {\"continuousWidth\": 400, \"continuousHeight\": 300}}, \"vconcat\": [{\"layer\": [{\"mark\": \"bar\", \"encoding\": {\"color\": {\"type\": \"quantitative\", \"field\": \"Batting Avg\"}, \"tooltip\": [{\"type\": \"quantitative\", \"field\": \"Matches Played\"}, {\"type\": \"quantitative\", \"field\": \"Batting Strike Rate\"}, {\"type\": \"quantitative\", \"field\": \"Hundreds Scored\"}], \"x\": {\"type\": \"quantitative\", \"field\": \"Runs Scored\"}, \"y\": {\"type\": \"nominal\", \"field\": \"Player\", \"sort\": {\"field\": \"Runs Scored\", \"op\": \"count\", \"order\": \"ascending\"}}}}, {\"mark\": {\"type\": \"text\", \"align\": \"left\", \"baseline\": \"middle\", \"dx\": 3}, \"encoding\": {\"text\": {\"type\": \"quantitative\", \"field\": \"Batting Avg\"}, \"tooltip\": [{\"type\": \"quantitative\", \"field\": \"Matches Played\"}, {\"type\": \"quantitative\", \"field\": \"Batting Strike Rate\"}, {\"type\": \"quantitative\", \"field\": \"Hundreds Scored\"}], \"x\": {\"type\": \"quantitative\", \"field\": \"Runs Scored\"}, \"y\": {\"type\": \"nominal\", \"field\": \"Player\", \"sort\": {\"field\": \"Runs Scored\", \"op\": \"count\", \"order\": \"ascending\"}}}}]}, {\"layer\": [{\"mark\": \"bar\", \"encoding\": {\"color\": {\"type\": \"quantitative\", \"field\": \"Batting Strike Rate\", \"scale\": {\"scheme\": \"greens\"}}, \"tooltip\": [{\"type\": \"quantitative\", \"field\": \"Matches Played\"}, {\"type\": \"quantitative\", \"field\": \"Batting Strike Rate\"}, {\"type\": \"quantitative\", \"field\": \"Hundreds Scored\"}], \"x\": {\"type\": \"quantitative\", \"field\": \"Runs Scored\"}, \"y\": {\"type\": \"nominal\", \"field\": \"Player\", \"sort\": {\"field\": \"Runs Scored\", \"op\": \"count\", \"order\": \"ascending\"}}}}, {\"mark\": {\"type\": \"text\", \"align\": \"left\", \"baseline\": \"middle\", \"dx\": 3}, \"encoding\": {\"text\": {\"type\": \"quantitative\", \"field\": \"Batting Strike Rate\"}, \"tooltip\": [{\"type\": \"quantitative\", \"field\": \"Matches Played\"}, {\"type\": \"quantitative\", \"field\": \"Batting Strike Rate\"}, {\"type\": \"quantitative\", \"field\": \"Hundreds Scored\"}], \"x\": {\"type\": \"quantitative\", \"field\": \"Runs Scored\"}, \"y\": {\"type\": \"nominal\", \"field\": \"Player\", \"sort\": {\"field\": \"Runs Scored\", \"op\": \"count\", \"order\": \"ascending\"}}}}]}], \"data\": {\"name\": \"data-13185a7156f4224bc7a41064054c0921\"}, \"resolve\": {\"scale\": {\"color\": \"independent\"}}, \"$schema\": \"https://vega.github.io/schema/vega-lite/v4.8.1.json\", \"datasets\": {\"data-13185a7156f4224bc7a41064054c0921\": [{\"Player\": \"SR Tendulkar (1989-2012)\", \"Career Span\": \"1989-2012\", \"Career Start\": 1989, \"Career End\": 2012, \"Matches Played\": 463, \"Innings Batted\": 452.0, \"Not Outs\": 41.0, \"Runs Scored\": 18426.0, \"Highest Innings Score\": \"200*\", \"Highest Innings Score Num\": \"200\", \"Batting Avg\": 44.83, \"Balls Faced\": 21367.0, \"Batting Strike Rate\": 86.23, \"Hundreds Scored\": 49.0, \"Scores Of Fifty Or More\": 96.0, \"Ducks Scored\": 20.0, \"Country\": \"India\", \"Player Count\": 1, \"5000+ Runs Scored\": 1, \"40+ Batting Avg\": 1, \"90+ Batting Strike Rate\": 0}, {\"Player\": \"KC Sangakkara (2000-2015)\", \"Career Span\": \"2000-2015\", \"Career Start\": 2000, \"Career End\": 2015, \"Matches Played\": 397, \"Innings Batted\": 373.0, \"Not Outs\": 40.0, \"Runs Scored\": 13975.0, \"Highest Innings Score\": \"169\", \"Highest Innings Score Num\": \"169\", \"Batting Avg\": 41.96, \"Balls Faced\": 17715.0, \"Batting Strike Rate\": 78.88, \"Hundreds Scored\": 25.0, \"Scores Of Fifty Or More\": 90.0, \"Ducks Scored\": 15.0, \"Country\": \"Sri Lanka\", \"Player Count\": 1, \"5000+ Runs Scored\": 1, \"40+ Batting Avg\": 1, \"90+ Batting Strike Rate\": 0}, {\"Player\": \"RT Ponting (1995-2012)\", \"Career Span\": \"1995-2012\", \"Career Start\": 1995, \"Career End\": 2012, \"Matches Played\": 374, \"Innings Batted\": 364.0, \"Not Outs\": 39.0, \"Runs Scored\": 13589.0, \"Highest Innings Score\": \"164\", \"Highest Innings Score Num\": \"164\", \"Batting Avg\": 41.81, \"Balls Faced\": 16944.0, \"Batting Strike Rate\": 80.19, \"Hundreds Scored\": 29.0, \"Scores Of Fifty Or More\": 82.0, \"Ducks Scored\": 20.0, \"Country\": \"Australia\", \"Player Count\": 1, \"5000+ Runs Scored\": 1, \"40+ Batting Avg\": 1, \"90+ Batting Strike Rate\": 0}, {\"Player\": \"ST Jayasuriya (1989-2011)\", \"Career Span\": \"1989-2011\", \"Career Start\": 1989, \"Career End\": 2011, \"Matches Played\": 441, \"Innings Batted\": 429.0, \"Not Outs\": 18.0, \"Runs Scored\": 13364.0, \"Highest Innings Score\": \"189\", \"Highest Innings Score Num\": \"189\", \"Batting Avg\": 32.51, \"Balls Faced\": 14644.0, \"Batting Strike Rate\": 91.25, \"Hundreds Scored\": 28.0, \"Scores Of Fifty Or More\": 68.0, \"Ducks Scored\": 34.0, \"Country\": \"Sri Lanka\", \"Player Count\": 1, \"5000+ Runs Scored\": 1, \"40+ Batting Avg\": 0, \"90+ Batting Strike Rate\": 1}, {\"Player\": \"DPMD Jayawardene (1998-2015)\", \"Career Span\": \"1998-2015\", \"Career Start\": 1998, \"Career End\": 2015, \"Matches Played\": 443, \"Innings Batted\": 413.0, \"Not Outs\": 38.0, \"Runs Scored\": 12381.0, \"Highest Innings Score\": \"144\", \"Highest Innings Score Num\": \"144\", \"Batting Avg\": 33.01, \"Balls Faced\": 15736.0, \"Batting Strike Rate\": 78.67, \"Hundreds Scored\": 18.0, \"Scores Of Fifty Or More\": 75.0, \"Ducks Scored\": 28.0, \"Country\": \"Sri Lanka\", \"Player Count\": 1, \"5000+ Runs Scored\": 1, \"40+ Batting Avg\": 0, \"90+ Batting Strike Rate\": 0}, {\"Player\": \"Inzamam-ul-Haq (1991-2007)\", \"Career Span\": \"1991-2007\", \"Career Start\": 1991, \"Career End\": 2007, \"Matches Played\": 375, \"Innings Batted\": 348.0, \"Not Outs\": 52.0, \"Runs Scored\": 11701.0, \"Highest Innings Score\": \"137*\", \"Highest Innings Score Num\": \"137\", \"Batting Avg\": 39.53, \"Balls Faced\": 15769.0, \"Batting Strike Rate\": 74.2, \"Hundreds Scored\": 10.0, \"Scores Of Fifty Or More\": 83.0, \"Ducks Scored\": 20.0, \"Country\": \"Pakistan\", \"Player Count\": 1, \"5000+ Runs Scored\": 1, \"40+ Batting Avg\": 0, \"90+ Batting Strike Rate\": 0}, {\"Player\": \"JH Kallis (1996-2014)\", \"Career Span\": \"1996-2014\", \"Career Start\": 1996, \"Career End\": 2014, \"Matches Played\": 323, \"Innings Batted\": 309.0, \"Not Outs\": 53.0, \"Runs Scored\": 11550.0, \"Highest Innings Score\": \"139\", \"Highest Innings Score Num\": \"139\", \"Batting Avg\": 45.11, \"Balls Faced\": 15793.0, \"Batting Strike Rate\": 73.13, \"Hundreds Scored\": 17.0, \"Scores Of Fifty Or More\": 86.0, \"Ducks Scored\": 17.0, \"Country\": \"South Africa\", \"Player Count\": 1, \"5000+ Runs Scored\": 1, \"40+ Batting Avg\": 1, \"90+ Batting Strike Rate\": 0}, {\"Player\": \"SC Ganguly (1992-2007)\", \"Career Span\": \"1992-2007\", \"Career Start\": 1992, \"Career End\": 2007, \"Matches Played\": 308, \"Innings Batted\": 297.0, \"Not Outs\": 23.0, \"Runs Scored\": 11221.0, \"Highest Innings Score\": \"183\", \"Highest Innings Score Num\": \"183\", \"Batting Avg\": 40.95, \"Balls Faced\": 15235.0, \"Batting Strike Rate\": 73.65, \"Hundreds Scored\": 22.0, \"Scores Of Fifty Or More\": 71.0, \"Ducks Scored\": 16.0, \"Country\": \"India\", \"Player Count\": 1, \"5000+ Runs Scored\": 1, \"40+ Batting Avg\": 1, \"90+ Batting Strike Rate\": 0}, {\"Player\": \"R Dravid (1996-2011)\", \"Career Span\": \"1996-2011\", \"Career Start\": 1996, \"Career End\": 2011, \"Matches Played\": 340, \"Innings Batted\": 314.0, \"Not Outs\": 39.0, \"Runs Scored\": 10768.0, \"Highest Innings Score\": \"153\", \"Highest Innings Score Num\": \"153\", \"Batting Avg\": 39.15, \"Balls Faced\": 15126.0, \"Batting Strike Rate\": 71.18, \"Hundreds Scored\": 12.0, \"Scores Of Fifty Or More\": 82.0, \"Ducks Scored\": 13.0, \"Country\": \"India\", \"Player Count\": 1, \"5000+ Runs Scored\": 1, \"40+ Batting Avg\": 0, \"90+ Batting Strike Rate\": 0}, {\"Player\": \"BC Lara (1990-2007)\", \"Career Span\": \"1990-2007\", \"Career Start\": 1990, \"Career End\": 2007, \"Matches Played\": 295, \"Innings Batted\": 285.0, \"Not Outs\": 32.0, \"Runs Scored\": 10348.0, \"Highest Innings Score\": \"169\", \"Highest Innings Score Num\": \"169\", \"Batting Avg\": 40.9, \"Balls Faced\": 12996.0, \"Batting Strike Rate\": 79.62, \"Hundreds Scored\": 19.0, \"Scores Of Fifty Or More\": 62.0, \"Ducks Scored\": 14.0, \"Country\": \"West Indies\", \"Player Count\": 1, \"5000+ Runs Scored\": 1, \"40+ Batting Avg\": 1, \"90+ Batting Strike Rate\": 0}, {\"Player\": \"TM Dilshan (1999-2016)\", \"Career Span\": \"1999-2016\", \"Career Start\": 1999, \"Career End\": 2016, \"Matches Played\": 330, \"Innings Batted\": 303.0, \"Not Outs\": 41.0, \"Runs Scored\": 10290.0, \"Highest Innings Score\": \"161*\", \"Highest Innings Score Num\": \"161\", \"Batting Avg\": 39.27, \"Balls Faced\": 11933.0, \"Batting Strike Rate\": 86.23, \"Hundreds Scored\": 22.0, \"Scores Of Fifty Or More\": 47.0, \"Ducks Scored\": 11.0, \"Country\": \"Sri Lanka\", \"Player Count\": 1, \"5000+ Runs Scored\": 1, \"40+ Batting Avg\": 0, \"90+ Batting Strike Rate\": 0}, {\"Player\": \"V Kohli (2008-2018)\", \"Career Span\": \"2008-2018\", \"Career Start\": 2008, \"Career End\": 2018, \"Matches Played\": 216, \"Innings Batted\": 208.0, \"Not Outs\": 37.0, \"Runs Scored\": 10232.0, \"Highest Innings Score\": \"183\", \"Highest Innings Score Num\": \"183\", \"Batting Avg\": 59.83, \"Balls Faced\": 11016.0, \"Batting Strike Rate\": 92.88, \"Hundreds Scored\": 38.0, \"Scores Of Fifty Or More\": 48.0, \"Ducks Scored\": 12.0, \"Country\": \"India\", \"Player Count\": 1, \"5000+ Runs Scored\": 1, \"40+ Batting Avg\": 1, \"90+ Batting Strike Rate\": 1}, {\"Player\": \"MS Dhoni (2004-2018)\", \"Career Span\": \"2004-2018\", \"Career Start\": 2004, \"Career End\": 2018, \"Matches Played\": 329, \"Innings Batted\": 278.0, \"Not Outs\": 77.0, \"Runs Scored\": 9999.0, \"Highest Innings Score\": \"183*\", \"Highest Innings Score Num\": \"183\", \"Batting Avg\": 49.74, \"Balls Faced\": 11435.0, \"Batting Strike Rate\": 87.44, \"Hundreds Scored\": 9.0, \"Scores Of Fifty Or More\": 67.0, \"Ducks Scored\": 9.0, \"Country\": \"India\", \"Player Count\": 1, \"5000+ Runs Scored\": 1, \"40+ Batting Avg\": 1, \"90+ Batting Strike Rate\": 0}, {\"Player\": \"CH Gayle (1999-2018)\", \"Career Span\": \"1999-2018\", \"Career Start\": 1999, \"Career End\": 2018, \"Matches Played\": 281, \"Innings Batted\": 276.0, \"Not Outs\": 17.0, \"Runs Scored\": 9672.0, \"Highest Innings Score\": \"215\", \"Highest Innings Score Num\": \"215\", \"Batting Avg\": 37.34, \"Balls Faced\": 11274.0, \"Batting Strike Rate\": 85.79, \"Hundreds Scored\": 23.0, \"Scores Of Fifty Or More\": 48.0, \"Ducks Scored\": 23.0, \"Country\": \"West Indies\", \"Player Count\": 1, \"5000+ Runs Scored\": 1, \"40+ Batting Avg\": 0, \"90+ Batting Strike Rate\": 0}, {\"Player\": \"AC Gilchrist (1996-2008)\", \"Career Span\": \"1996-2008\", \"Career Start\": 1996, \"Career End\": 2008, \"Matches Played\": 286, \"Innings Batted\": 278.0, \"Not Outs\": 11.0, \"Runs Scored\": 9595.0, \"Highest Innings Score\": \"172\", \"Highest Innings Score Num\": \"172\", \"Batting Avg\": 35.93, \"Balls Faced\": 9902.0, \"Batting Strike Rate\": 96.89, \"Hundreds Scored\": 16.0, \"Scores Of Fifty Or More\": 55.0, \"Ducks Scored\": 19.0, \"Country\": \"Australia\", \"Player Count\": 1, \"5000+ Runs Scored\": 1, \"40+ Batting Avg\": 0, \"90+ Batting Strike Rate\": 1}, {\"Player\": \"Mohammad Yousuf (1998-2010)\", \"Career Span\": \"1998-2010\", \"Career Start\": 1998, \"Career End\": 2010, \"Matches Played\": 281, \"Innings Batted\": 267.0, \"Not Outs\": 40.0, \"Runs Scored\": 9554.0, \"Highest Innings Score\": \"141*\", \"Highest Innings Score Num\": \"141\", \"Batting Avg\": 42.08, \"Balls Faced\": 12753.0, \"Batting Strike Rate\": 74.91, \"Hundreds Scored\": 15.0, \"Scores Of Fifty Or More\": 62.0, \"Ducks Scored\": 15.0, \"Country\": \"Pakistan\", \"Player Count\": 1, \"5000+ Runs Scored\": 1, \"40+ Batting Avg\": 1, \"90+ Batting Strike Rate\": 0}, {\"Player\": \"AB de Villiers (2005-2018)\", \"Career Span\": \"2005-2018\", \"Career Start\": 2005, \"Career End\": 2018, \"Matches Played\": 223, \"Innings Batted\": 213.0, \"Not Outs\": 39.0, \"Runs Scored\": 9427.0, \"Highest Innings Score\": \"176\", \"Highest Innings Score Num\": \"176\", \"Batting Avg\": 54.17, \"Balls Faced\": 9308.0, \"Batting Strike Rate\": 101.27, \"Hundreds Scored\": 25.0, \"Scores Of Fifty Or More\": 52.0, \"Ducks Scored\": 7.0, \"Country\": \"South Africa\", \"Player Count\": 1, \"5000+ Runs Scored\": 1, \"40+ Batting Avg\": 1, \"90+ Batting Strike Rate\": 1}, {\"Player\": \"M Azharuddin (1985-2000)\", \"Career Span\": \"1985-2000\", \"Career Start\": 1985, \"Career End\": 2000, \"Matches Played\": 334, \"Innings Batted\": 308.0, \"Not Outs\": 54.0, \"Runs Scored\": 9378.0, \"Highest Innings Score\": \"153*\", \"Highest Innings Score Num\": \"153\", \"Batting Avg\": 36.92, \"Balls Faced\": 12669.0, \"Batting Strike Rate\": 74.02, \"Hundreds Scored\": 7.0, \"Scores Of Fifty Or More\": 58.0, \"Ducks Scored\": 9.0, \"Country\": \"India\", \"Player Count\": 1, \"5000+ Runs Scored\": 1, \"40+ Batting Avg\": 0, \"90+ Batting Strike Rate\": 0}, {\"Player\": \"PA de Silva (1984-2003)\", \"Career Span\": \"1984-2003\", \"Career Start\": 1984, \"Career End\": 2003, \"Matches Played\": 308, \"Innings Batted\": 296.0, \"Not Outs\": 30.0, \"Runs Scored\": 9284.0, \"Highest Innings Score\": \"145\", \"Highest Innings Score Num\": \"145\", \"Batting Avg\": 34.9, \"Balls Faced\": 11443.0, \"Batting Strike Rate\": 81.13, \"Hundreds Scored\": 11.0, \"Scores Of Fifty Or More\": 64.0, \"Ducks Scored\": 17.0, \"Country\": \"Sri Lanka\", \"Player Count\": 1, \"5000+ Runs Scored\": 1, \"40+ Batting Avg\": 0, \"90+ Batting Strike Rate\": 0}, {\"Player\": \"Saeed Anwar (1989-2003)\", \"Career Span\": \"1989-2003\", \"Career Start\": 1989, \"Career End\": 2003, \"Matches Played\": 247, \"Innings Batted\": 244.0, \"Not Outs\": 19.0, \"Runs Scored\": 8824.0, \"Highest Innings Score\": \"194\", \"Highest Innings Score Num\": \"194\", \"Batting Avg\": 39.21, \"Balls Faced\": 10938.0, \"Batting Strike Rate\": 80.67, \"Hundreds Scored\": 20.0, \"Scores Of Fifty Or More\": 43.0, \"Ducks Scored\": 15.0, \"Country\": \"Pakistan\", \"Player Count\": 1, \"5000+ Runs Scored\": 1, \"40+ Batting Avg\": 0, \"90+ Batting Strike Rate\": 0}, {\"Player\": \"S Chanderpaul (1994-2011)\", \"Career Span\": \"1994-2011\", \"Career Start\": 1994, \"Career End\": 2011, \"Matches Played\": 268, \"Innings Batted\": 251.0, \"Not Outs\": 40.0, \"Runs Scored\": 8778.0, \"Highest Innings Score\": \"150\", \"Highest Innings Score Num\": \"150\", \"Batting Avg\": 41.6, \"Balls Faced\": 12408.0, \"Batting Strike Rate\": 70.74, \"Hundreds Scored\": 11.0, \"Scores Of Fifty Or More\": 59.0, \"Ducks Scored\": 6.0, \"Country\": \"West Indies\", \"Player Count\": 1, \"5000+ Runs Scored\": 1, \"40+ Batting Avg\": 1, \"90+ Batting Strike Rate\": 0}, {\"Player\": \"DL Haynes (1978-1994)\", \"Career Span\": \"1978-1994\", \"Career Start\": 1978, \"Career End\": 1994, \"Matches Played\": 238, \"Innings Batted\": 237.0, \"Not Outs\": 28.0, \"Runs Scored\": 8648.0, \"Highest Innings Score\": \"152*\", \"Highest Innings Score Num\": \"152\", \"Batting Avg\": 41.37, \"Balls Faced\": 13707.0, \"Batting Strike Rate\": 63.09, \"Hundreds Scored\": 17.0, \"Scores Of Fifty Or More\": 57.0, \"Ducks Scored\": 13.0, \"Country\": \"West Indies\", \"Player Count\": 1, \"5000+ Runs Scored\": 1, \"40+ Batting Avg\": 1, \"90+ Batting Strike Rate\": 0}, {\"Player\": \"Yuvraj Singh (2000-2017)\", \"Career Span\": \"2000-2017\", \"Career Start\": 2000, \"Career End\": 2017, \"Matches Played\": 301, \"Innings Batted\": 275.0, \"Not Outs\": 39.0, \"Runs Scored\": 8609.0, \"Highest Innings Score\": \"150\", \"Highest Innings Score Num\": \"150\", \"Batting Avg\": 36.47, \"Balls Faced\": 9846.0, \"Batting Strike Rate\": 87.43, \"Hundreds Scored\": 14.0, \"Scores Of Fifty Or More\": 52.0, \"Ducks Scored\": 18.0, \"Country\": \"India\", \"Player Count\": 1, \"5000+ Runs Scored\": 1, \"40+ Batting Avg\": 0, \"90+ Batting Strike Rate\": 0}, {\"Player\": \"MS Atapattu (1990-2007)\", \"Career Span\": \"1990-2007\", \"Career Start\": 1990, \"Career End\": 2007, \"Matches Played\": 268, \"Innings Batted\": 259.0, \"Not Outs\": 32.0, \"Runs Scored\": 8529.0, \"Highest Innings Score\": \"132*\", \"Highest Innings Score Num\": \"132\", \"Batting Avg\": 37.57, \"Balls Faced\": 12594.0, \"Batting Strike Rate\": 67.72, \"Hundreds Scored\": 11.0, \"Scores Of Fifty Or More\": 59.0, \"Ducks Scored\": 13.0, \"Country\": \"Sri Lanka\", \"Player Count\": 1, \"5000+ Runs Scored\": 1, \"40+ Batting Avg\": 0, \"90+ Batting Strike Rate\": 0}, {\"Player\": \"ME Waugh (1988-2002)\", \"Career Span\": \"1988-2002\", \"Career Start\": 1988, \"Career End\": 2002, \"Matches Played\": 244, \"Innings Batted\": 236.0, \"Not Outs\": 20.0, \"Runs Scored\": 8500.0, \"Highest Innings Score\": \"173\", \"Highest Innings Score Num\": \"173\", \"Batting Avg\": 39.35, \"Balls Faced\": 11053.0, \"Batting Strike Rate\": 76.9, \"Hundreds Scored\": 18.0, \"Scores Of Fifty Or More\": 50.0, \"Ducks Scored\": 16.0, \"Country\": \"Australia\", \"Player Count\": 1, \"5000+ Runs Scored\": 1, \"40+ Batting Avg\": 0, \"90+ Batting Strike Rate\": 0}]}}, {\"mode\": \"vega-lite\"});\n",
              "</script>"
            ]
          },
          "metadata": {},
          "execution_count": 32
        }
      ]
    },
    {
      "cell_type": "code",
      "source": [
        "top_players = top_players.head(25)\n",
        "\n",
        "base = alt.Chart(top_players).encode(\n",
        "    x=alt.X('Runs Scored:Q'),\n",
        "    y=alt.Y('Player', sort=alt.Sort(field=\"Runs Scored\", op=\"count\", order='ascending')),\n",
        "    tooltip=['Matches Played', 'Batting Strike Rate', 'Hundreds Scored']\n",
        ")\n",
        "\n",
        "bars = base.mark_bar().encode(\n",
        "    color='Country:N',\n",
        ")\n",
        "\n",
        "text = base.mark_text(\n",
        "    align='left',\n",
        "    baseline='middle',\n",
        "    dx=3  # Nudges text to right so it doesn't appear on top of the bar\n",
        ").encode(\n",
        "    text='Country:N'\n",
        ")\n",
        "\n",
        "top_scorers_country_chart = bars + text"
      ],
      "metadata": {
        "id": "x-pOJfVtquYb"
      },
      "execution_count": 34,
      "outputs": []
    },
    {
      "cell_type": "code",
      "source": [
        "top_scorers_country_chart"
      ],
      "metadata": {
        "colab": {
          "base_uri": "https://localhost:8080/",
          "height": 563
        },
        "id": "X1YVBCLDq18G",
        "outputId": "9bc43064-4c90-4cb2-fef6-43d45c1ef533"
      },
      "execution_count": 35,
      "outputs": [
        {
          "output_type": "execute_result",
          "data": {
            "text/plain": [
              "alt.LayerChart(...)"
            ],
            "text/html": [
              "\n",
              "<div id=\"altair-viz-e6f8b738928f45ab993c096781621a57\"></div>\n",
              "<script type=\"text/javascript\">\n",
              "  (function(spec, embedOpt){\n",
              "    let outputDiv = document.currentScript.previousElementSibling;\n",
              "    if (outputDiv.id !== \"altair-viz-e6f8b738928f45ab993c096781621a57\") {\n",
              "      outputDiv = document.getElementById(\"altair-viz-e6f8b738928f45ab993c096781621a57\");\n",
              "    }\n",
              "    const paths = {\n",
              "      \"vega\": \"https://cdn.jsdelivr.net/npm//vega@5?noext\",\n",
              "      \"vega-lib\": \"https://cdn.jsdelivr.net/npm//vega-lib?noext\",\n",
              "      \"vega-lite\": \"https://cdn.jsdelivr.net/npm//vega-lite@4.8.1?noext\",\n",
              "      \"vega-embed\": \"https://cdn.jsdelivr.net/npm//vega-embed@6?noext\",\n",
              "    };\n",
              "\n",
              "    function loadScript(lib) {\n",
              "      return new Promise(function(resolve, reject) {\n",
              "        var s = document.createElement('script');\n",
              "        s.src = paths[lib];\n",
              "        s.async = true;\n",
              "        s.onload = () => resolve(paths[lib]);\n",
              "        s.onerror = () => reject(`Error loading script: ${paths[lib]}`);\n",
              "        document.getElementsByTagName(\"head\")[0].appendChild(s);\n",
              "      });\n",
              "    }\n",
              "\n",
              "    function showError(err) {\n",
              "      outputDiv.innerHTML = `<div class=\"error\" style=\"color:red;\">${err}</div>`;\n",
              "      throw err;\n",
              "    }\n",
              "\n",
              "    function displayChart(vegaEmbed) {\n",
              "      vegaEmbed(outputDiv, spec, embedOpt)\n",
              "        .catch(err => showError(`Javascript Error: ${err.message}<br>This usually means there's a typo in your chart specification. See the javascript console for the full traceback.`));\n",
              "    }\n",
              "\n",
              "    if(typeof define === \"function\" && define.amd) {\n",
              "      requirejs.config({paths});\n",
              "      require([\"vega-embed\"], displayChart, err => showError(`Error loading script: ${err.message}`));\n",
              "    } else if (typeof vegaEmbed === \"function\") {\n",
              "      displayChart(vegaEmbed);\n",
              "    } else {\n",
              "      loadScript(\"vega\")\n",
              "        .then(() => loadScript(\"vega-lite\"))\n",
              "        .then(() => loadScript(\"vega-embed\"))\n",
              "        .catch(showError)\n",
              "        .then(() => displayChart(vegaEmbed));\n",
              "    }\n",
              "  })({\"config\": {\"background\": \"white\", \"view\": {\"continuousWidth\": 400, \"continuousHeight\": 300}}, \"layer\": [{\"mark\": \"bar\", \"encoding\": {\"color\": {\"type\": \"nominal\", \"field\": \"Country\"}, \"tooltip\": [{\"type\": \"quantitative\", \"field\": \"Matches Played\"}, {\"type\": \"quantitative\", \"field\": \"Batting Strike Rate\"}, {\"type\": \"quantitative\", \"field\": \"Hundreds Scored\"}], \"x\": {\"type\": \"quantitative\", \"field\": \"Runs Scored\"}, \"y\": {\"type\": \"nominal\", \"field\": \"Player\", \"sort\": {\"field\": \"Runs Scored\", \"op\": \"count\", \"order\": \"ascending\"}}}}, {\"mark\": {\"type\": \"text\", \"align\": \"left\", \"baseline\": \"middle\", \"dx\": 3}, \"encoding\": {\"text\": {\"type\": \"nominal\", \"field\": \"Country\"}, \"tooltip\": [{\"type\": \"quantitative\", \"field\": \"Matches Played\"}, {\"type\": \"quantitative\", \"field\": \"Batting Strike Rate\"}, {\"type\": \"quantitative\", \"field\": \"Hundreds Scored\"}], \"x\": {\"type\": \"quantitative\", \"field\": \"Runs Scored\"}, \"y\": {\"type\": \"nominal\", \"field\": \"Player\", \"sort\": {\"field\": \"Runs Scored\", \"op\": \"count\", \"order\": \"ascending\"}}}}], \"data\": {\"name\": \"data-13185a7156f4224bc7a41064054c0921\"}, \"$schema\": \"https://vega.github.io/schema/vega-lite/v4.8.1.json\", \"datasets\": {\"data-13185a7156f4224bc7a41064054c0921\": [{\"Player\": \"SR Tendulkar (1989-2012)\", \"Career Span\": \"1989-2012\", \"Career Start\": 1989, \"Career End\": 2012, \"Matches Played\": 463, \"Innings Batted\": 452.0, \"Not Outs\": 41.0, \"Runs Scored\": 18426.0, \"Highest Innings Score\": \"200*\", \"Highest Innings Score Num\": \"200\", \"Batting Avg\": 44.83, \"Balls Faced\": 21367.0, \"Batting Strike Rate\": 86.23, \"Hundreds Scored\": 49.0, \"Scores Of Fifty Or More\": 96.0, \"Ducks Scored\": 20.0, \"Country\": \"India\", \"Player Count\": 1, \"5000+ Runs Scored\": 1, \"40+ Batting Avg\": 1, \"90+ Batting Strike Rate\": 0}, {\"Player\": \"KC Sangakkara (2000-2015)\", \"Career Span\": \"2000-2015\", \"Career Start\": 2000, \"Career End\": 2015, \"Matches Played\": 397, \"Innings Batted\": 373.0, \"Not Outs\": 40.0, \"Runs Scored\": 13975.0, \"Highest Innings Score\": \"169\", \"Highest Innings Score Num\": \"169\", \"Batting Avg\": 41.96, \"Balls Faced\": 17715.0, \"Batting Strike Rate\": 78.88, \"Hundreds Scored\": 25.0, \"Scores Of Fifty Or More\": 90.0, \"Ducks Scored\": 15.0, \"Country\": \"Sri Lanka\", \"Player Count\": 1, \"5000+ Runs Scored\": 1, \"40+ Batting Avg\": 1, \"90+ Batting Strike Rate\": 0}, {\"Player\": \"RT Ponting (1995-2012)\", \"Career Span\": \"1995-2012\", \"Career Start\": 1995, \"Career End\": 2012, \"Matches Played\": 374, \"Innings Batted\": 364.0, \"Not Outs\": 39.0, \"Runs Scored\": 13589.0, \"Highest Innings Score\": \"164\", \"Highest Innings Score Num\": \"164\", \"Batting Avg\": 41.81, \"Balls Faced\": 16944.0, \"Batting Strike Rate\": 80.19, \"Hundreds Scored\": 29.0, \"Scores Of Fifty Or More\": 82.0, \"Ducks Scored\": 20.0, \"Country\": \"Australia\", \"Player Count\": 1, \"5000+ Runs Scored\": 1, \"40+ Batting Avg\": 1, \"90+ Batting Strike Rate\": 0}, {\"Player\": \"ST Jayasuriya (1989-2011)\", \"Career Span\": \"1989-2011\", \"Career Start\": 1989, \"Career End\": 2011, \"Matches Played\": 441, \"Innings Batted\": 429.0, \"Not Outs\": 18.0, \"Runs Scored\": 13364.0, \"Highest Innings Score\": \"189\", \"Highest Innings Score Num\": \"189\", \"Batting Avg\": 32.51, \"Balls Faced\": 14644.0, \"Batting Strike Rate\": 91.25, \"Hundreds Scored\": 28.0, \"Scores Of Fifty Or More\": 68.0, \"Ducks Scored\": 34.0, \"Country\": \"Sri Lanka\", \"Player Count\": 1, \"5000+ Runs Scored\": 1, \"40+ Batting Avg\": 0, \"90+ Batting Strike Rate\": 1}, {\"Player\": \"DPMD Jayawardene (1998-2015)\", \"Career Span\": \"1998-2015\", \"Career Start\": 1998, \"Career End\": 2015, \"Matches Played\": 443, \"Innings Batted\": 413.0, \"Not Outs\": 38.0, \"Runs Scored\": 12381.0, \"Highest Innings Score\": \"144\", \"Highest Innings Score Num\": \"144\", \"Batting Avg\": 33.01, \"Balls Faced\": 15736.0, \"Batting Strike Rate\": 78.67, \"Hundreds Scored\": 18.0, \"Scores Of Fifty Or More\": 75.0, \"Ducks Scored\": 28.0, \"Country\": \"Sri Lanka\", \"Player Count\": 1, \"5000+ Runs Scored\": 1, \"40+ Batting Avg\": 0, \"90+ Batting Strike Rate\": 0}, {\"Player\": \"Inzamam-ul-Haq (1991-2007)\", \"Career Span\": \"1991-2007\", \"Career Start\": 1991, \"Career End\": 2007, \"Matches Played\": 375, \"Innings Batted\": 348.0, \"Not Outs\": 52.0, \"Runs Scored\": 11701.0, \"Highest Innings Score\": \"137*\", \"Highest Innings Score Num\": \"137\", \"Batting Avg\": 39.53, \"Balls Faced\": 15769.0, \"Batting Strike Rate\": 74.2, \"Hundreds Scored\": 10.0, \"Scores Of Fifty Or More\": 83.0, \"Ducks Scored\": 20.0, \"Country\": \"Pakistan\", \"Player Count\": 1, \"5000+ Runs Scored\": 1, \"40+ Batting Avg\": 0, \"90+ Batting Strike Rate\": 0}, {\"Player\": \"JH Kallis (1996-2014)\", \"Career Span\": \"1996-2014\", \"Career Start\": 1996, \"Career End\": 2014, \"Matches Played\": 323, \"Innings Batted\": 309.0, \"Not Outs\": 53.0, \"Runs Scored\": 11550.0, \"Highest Innings Score\": \"139\", \"Highest Innings Score Num\": \"139\", \"Batting Avg\": 45.11, \"Balls Faced\": 15793.0, \"Batting Strike Rate\": 73.13, \"Hundreds Scored\": 17.0, \"Scores Of Fifty Or More\": 86.0, \"Ducks Scored\": 17.0, \"Country\": \"South Africa\", \"Player Count\": 1, \"5000+ Runs Scored\": 1, \"40+ Batting Avg\": 1, \"90+ Batting Strike Rate\": 0}, {\"Player\": \"SC Ganguly (1992-2007)\", \"Career Span\": \"1992-2007\", \"Career Start\": 1992, \"Career End\": 2007, \"Matches Played\": 308, \"Innings Batted\": 297.0, \"Not Outs\": 23.0, \"Runs Scored\": 11221.0, \"Highest Innings Score\": \"183\", \"Highest Innings Score Num\": \"183\", \"Batting Avg\": 40.95, \"Balls Faced\": 15235.0, \"Batting Strike Rate\": 73.65, \"Hundreds Scored\": 22.0, \"Scores Of Fifty Or More\": 71.0, \"Ducks Scored\": 16.0, \"Country\": \"India\", \"Player Count\": 1, \"5000+ Runs Scored\": 1, \"40+ Batting Avg\": 1, \"90+ Batting Strike Rate\": 0}, {\"Player\": \"R Dravid (1996-2011)\", \"Career Span\": \"1996-2011\", \"Career Start\": 1996, \"Career End\": 2011, \"Matches Played\": 340, \"Innings Batted\": 314.0, \"Not Outs\": 39.0, \"Runs Scored\": 10768.0, \"Highest Innings Score\": \"153\", \"Highest Innings Score Num\": \"153\", \"Batting Avg\": 39.15, \"Balls Faced\": 15126.0, \"Batting Strike Rate\": 71.18, \"Hundreds Scored\": 12.0, \"Scores Of Fifty Or More\": 82.0, \"Ducks Scored\": 13.0, \"Country\": \"India\", \"Player Count\": 1, \"5000+ Runs Scored\": 1, \"40+ Batting Avg\": 0, \"90+ Batting Strike Rate\": 0}, {\"Player\": \"BC Lara (1990-2007)\", \"Career Span\": \"1990-2007\", \"Career Start\": 1990, \"Career End\": 2007, \"Matches Played\": 295, \"Innings Batted\": 285.0, \"Not Outs\": 32.0, \"Runs Scored\": 10348.0, \"Highest Innings Score\": \"169\", \"Highest Innings Score Num\": \"169\", \"Batting Avg\": 40.9, \"Balls Faced\": 12996.0, \"Batting Strike Rate\": 79.62, \"Hundreds Scored\": 19.0, \"Scores Of Fifty Or More\": 62.0, \"Ducks Scored\": 14.0, \"Country\": \"West Indies\", \"Player Count\": 1, \"5000+ Runs Scored\": 1, \"40+ Batting Avg\": 1, \"90+ Batting Strike Rate\": 0}, {\"Player\": \"TM Dilshan (1999-2016)\", \"Career Span\": \"1999-2016\", \"Career Start\": 1999, \"Career End\": 2016, \"Matches Played\": 330, \"Innings Batted\": 303.0, \"Not Outs\": 41.0, \"Runs Scored\": 10290.0, \"Highest Innings Score\": \"161*\", \"Highest Innings Score Num\": \"161\", \"Batting Avg\": 39.27, \"Balls Faced\": 11933.0, \"Batting Strike Rate\": 86.23, \"Hundreds Scored\": 22.0, \"Scores Of Fifty Or More\": 47.0, \"Ducks Scored\": 11.0, \"Country\": \"Sri Lanka\", \"Player Count\": 1, \"5000+ Runs Scored\": 1, \"40+ Batting Avg\": 0, \"90+ Batting Strike Rate\": 0}, {\"Player\": \"V Kohli (2008-2018)\", \"Career Span\": \"2008-2018\", \"Career Start\": 2008, \"Career End\": 2018, \"Matches Played\": 216, \"Innings Batted\": 208.0, \"Not Outs\": 37.0, \"Runs Scored\": 10232.0, \"Highest Innings Score\": \"183\", \"Highest Innings Score Num\": \"183\", \"Batting Avg\": 59.83, \"Balls Faced\": 11016.0, \"Batting Strike Rate\": 92.88, \"Hundreds Scored\": 38.0, \"Scores Of Fifty Or More\": 48.0, \"Ducks Scored\": 12.0, \"Country\": \"India\", \"Player Count\": 1, \"5000+ Runs Scored\": 1, \"40+ Batting Avg\": 1, \"90+ Batting Strike Rate\": 1}, {\"Player\": \"MS Dhoni (2004-2018)\", \"Career Span\": \"2004-2018\", \"Career Start\": 2004, \"Career End\": 2018, \"Matches Played\": 329, \"Innings Batted\": 278.0, \"Not Outs\": 77.0, \"Runs Scored\": 9999.0, \"Highest Innings Score\": \"183*\", \"Highest Innings Score Num\": \"183\", \"Batting Avg\": 49.74, \"Balls Faced\": 11435.0, \"Batting Strike Rate\": 87.44, \"Hundreds Scored\": 9.0, \"Scores Of Fifty Or More\": 67.0, \"Ducks Scored\": 9.0, \"Country\": \"India\", \"Player Count\": 1, \"5000+ Runs Scored\": 1, \"40+ Batting Avg\": 1, \"90+ Batting Strike Rate\": 0}, {\"Player\": \"CH Gayle (1999-2018)\", \"Career Span\": \"1999-2018\", \"Career Start\": 1999, \"Career End\": 2018, \"Matches Played\": 281, \"Innings Batted\": 276.0, \"Not Outs\": 17.0, \"Runs Scored\": 9672.0, \"Highest Innings Score\": \"215\", \"Highest Innings Score Num\": \"215\", \"Batting Avg\": 37.34, \"Balls Faced\": 11274.0, \"Batting Strike Rate\": 85.79, \"Hundreds Scored\": 23.0, \"Scores Of Fifty Or More\": 48.0, \"Ducks Scored\": 23.0, \"Country\": \"West Indies\", \"Player Count\": 1, \"5000+ Runs Scored\": 1, \"40+ Batting Avg\": 0, \"90+ Batting Strike Rate\": 0}, {\"Player\": \"AC Gilchrist (1996-2008)\", \"Career Span\": \"1996-2008\", \"Career Start\": 1996, \"Career End\": 2008, \"Matches Played\": 286, \"Innings Batted\": 278.0, \"Not Outs\": 11.0, \"Runs Scored\": 9595.0, \"Highest Innings Score\": \"172\", \"Highest Innings Score Num\": \"172\", \"Batting Avg\": 35.93, \"Balls Faced\": 9902.0, \"Batting Strike Rate\": 96.89, \"Hundreds Scored\": 16.0, \"Scores Of Fifty Or More\": 55.0, \"Ducks Scored\": 19.0, \"Country\": \"Australia\", \"Player Count\": 1, \"5000+ Runs Scored\": 1, \"40+ Batting Avg\": 0, \"90+ Batting Strike Rate\": 1}, {\"Player\": \"Mohammad Yousuf (1998-2010)\", \"Career Span\": \"1998-2010\", \"Career Start\": 1998, \"Career End\": 2010, \"Matches Played\": 281, \"Innings Batted\": 267.0, \"Not Outs\": 40.0, \"Runs Scored\": 9554.0, \"Highest Innings Score\": \"141*\", \"Highest Innings Score Num\": \"141\", \"Batting Avg\": 42.08, \"Balls Faced\": 12753.0, \"Batting Strike Rate\": 74.91, \"Hundreds Scored\": 15.0, \"Scores Of Fifty Or More\": 62.0, \"Ducks Scored\": 15.0, \"Country\": \"Pakistan\", \"Player Count\": 1, \"5000+ Runs Scored\": 1, \"40+ Batting Avg\": 1, \"90+ Batting Strike Rate\": 0}, {\"Player\": \"AB de Villiers (2005-2018)\", \"Career Span\": \"2005-2018\", \"Career Start\": 2005, \"Career End\": 2018, \"Matches Played\": 223, \"Innings Batted\": 213.0, \"Not Outs\": 39.0, \"Runs Scored\": 9427.0, \"Highest Innings Score\": \"176\", \"Highest Innings Score Num\": \"176\", \"Batting Avg\": 54.17, \"Balls Faced\": 9308.0, \"Batting Strike Rate\": 101.27, \"Hundreds Scored\": 25.0, \"Scores Of Fifty Or More\": 52.0, \"Ducks Scored\": 7.0, \"Country\": \"South Africa\", \"Player Count\": 1, \"5000+ Runs Scored\": 1, \"40+ Batting Avg\": 1, \"90+ Batting Strike Rate\": 1}, {\"Player\": \"M Azharuddin (1985-2000)\", \"Career Span\": \"1985-2000\", \"Career Start\": 1985, \"Career End\": 2000, \"Matches Played\": 334, \"Innings Batted\": 308.0, \"Not Outs\": 54.0, \"Runs Scored\": 9378.0, \"Highest Innings Score\": \"153*\", \"Highest Innings Score Num\": \"153\", \"Batting Avg\": 36.92, \"Balls Faced\": 12669.0, \"Batting Strike Rate\": 74.02, \"Hundreds Scored\": 7.0, \"Scores Of Fifty Or More\": 58.0, \"Ducks Scored\": 9.0, \"Country\": \"India\", \"Player Count\": 1, \"5000+ Runs Scored\": 1, \"40+ Batting Avg\": 0, \"90+ Batting Strike Rate\": 0}, {\"Player\": \"PA de Silva (1984-2003)\", \"Career Span\": \"1984-2003\", \"Career Start\": 1984, \"Career End\": 2003, \"Matches Played\": 308, \"Innings Batted\": 296.0, \"Not Outs\": 30.0, \"Runs Scored\": 9284.0, \"Highest Innings Score\": \"145\", \"Highest Innings Score Num\": \"145\", \"Batting Avg\": 34.9, \"Balls Faced\": 11443.0, \"Batting Strike Rate\": 81.13, \"Hundreds Scored\": 11.0, \"Scores Of Fifty Or More\": 64.0, \"Ducks Scored\": 17.0, \"Country\": \"Sri Lanka\", \"Player Count\": 1, \"5000+ Runs Scored\": 1, \"40+ Batting Avg\": 0, \"90+ Batting Strike Rate\": 0}, {\"Player\": \"Saeed Anwar (1989-2003)\", \"Career Span\": \"1989-2003\", \"Career Start\": 1989, \"Career End\": 2003, \"Matches Played\": 247, \"Innings Batted\": 244.0, \"Not Outs\": 19.0, \"Runs Scored\": 8824.0, \"Highest Innings Score\": \"194\", \"Highest Innings Score Num\": \"194\", \"Batting Avg\": 39.21, \"Balls Faced\": 10938.0, \"Batting Strike Rate\": 80.67, \"Hundreds Scored\": 20.0, \"Scores Of Fifty Or More\": 43.0, \"Ducks Scored\": 15.0, \"Country\": \"Pakistan\", \"Player Count\": 1, \"5000+ Runs Scored\": 1, \"40+ Batting Avg\": 0, \"90+ Batting Strike Rate\": 0}, {\"Player\": \"S Chanderpaul (1994-2011)\", \"Career Span\": \"1994-2011\", \"Career Start\": 1994, \"Career End\": 2011, \"Matches Played\": 268, \"Innings Batted\": 251.0, \"Not Outs\": 40.0, \"Runs Scored\": 8778.0, \"Highest Innings Score\": \"150\", \"Highest Innings Score Num\": \"150\", \"Batting Avg\": 41.6, \"Balls Faced\": 12408.0, \"Batting Strike Rate\": 70.74, \"Hundreds Scored\": 11.0, \"Scores Of Fifty Or More\": 59.0, \"Ducks Scored\": 6.0, \"Country\": \"West Indies\", \"Player Count\": 1, \"5000+ Runs Scored\": 1, \"40+ Batting Avg\": 1, \"90+ Batting Strike Rate\": 0}, {\"Player\": \"DL Haynes (1978-1994)\", \"Career Span\": \"1978-1994\", \"Career Start\": 1978, \"Career End\": 1994, \"Matches Played\": 238, \"Innings Batted\": 237.0, \"Not Outs\": 28.0, \"Runs Scored\": 8648.0, \"Highest Innings Score\": \"152*\", \"Highest Innings Score Num\": \"152\", \"Batting Avg\": 41.37, \"Balls Faced\": 13707.0, \"Batting Strike Rate\": 63.09, \"Hundreds Scored\": 17.0, \"Scores Of Fifty Or More\": 57.0, \"Ducks Scored\": 13.0, \"Country\": \"West Indies\", \"Player Count\": 1, \"5000+ Runs Scored\": 1, \"40+ Batting Avg\": 1, \"90+ Batting Strike Rate\": 0}, {\"Player\": \"Yuvraj Singh (2000-2017)\", \"Career Span\": \"2000-2017\", \"Career Start\": 2000, \"Career End\": 2017, \"Matches Played\": 301, \"Innings Batted\": 275.0, \"Not Outs\": 39.0, \"Runs Scored\": 8609.0, \"Highest Innings Score\": \"150\", \"Highest Innings Score Num\": \"150\", \"Batting Avg\": 36.47, \"Balls Faced\": 9846.0, \"Batting Strike Rate\": 87.43, \"Hundreds Scored\": 14.0, \"Scores Of Fifty Or More\": 52.0, \"Ducks Scored\": 18.0, \"Country\": \"India\", \"Player Count\": 1, \"5000+ Runs Scored\": 1, \"40+ Batting Avg\": 0, \"90+ Batting Strike Rate\": 0}, {\"Player\": \"MS Atapattu (1990-2007)\", \"Career Span\": \"1990-2007\", \"Career Start\": 1990, \"Career End\": 2007, \"Matches Played\": 268, \"Innings Batted\": 259.0, \"Not Outs\": 32.0, \"Runs Scored\": 8529.0, \"Highest Innings Score\": \"132*\", \"Highest Innings Score Num\": \"132\", \"Batting Avg\": 37.57, \"Balls Faced\": 12594.0, \"Batting Strike Rate\": 67.72, \"Hundreds Scored\": 11.0, \"Scores Of Fifty Or More\": 59.0, \"Ducks Scored\": 13.0, \"Country\": \"Sri Lanka\", \"Player Count\": 1, \"5000+ Runs Scored\": 1, \"40+ Batting Avg\": 0, \"90+ Batting Strike Rate\": 0}, {\"Player\": \"ME Waugh (1988-2002)\", \"Career Span\": \"1988-2002\", \"Career Start\": 1988, \"Career End\": 2002, \"Matches Played\": 244, \"Innings Batted\": 236.0, \"Not Outs\": 20.0, \"Runs Scored\": 8500.0, \"Highest Innings Score\": \"173\", \"Highest Innings Score Num\": \"173\", \"Batting Avg\": 39.35, \"Balls Faced\": 11053.0, \"Batting Strike Rate\": 76.9, \"Hundreds Scored\": 18.0, \"Scores Of Fifty Or More\": 50.0, \"Ducks Scored\": 16.0, \"Country\": \"Australia\", \"Player Count\": 1, \"5000+ Runs Scored\": 1, \"40+ Batting Avg\": 0, \"90+ Batting Strike Rate\": 0}]}}, {\"mode\": \"vega-lite\"});\n",
              "</script>"
            ]
          },
          "metadata": {},
          "execution_count": 35
        }
      ]
    },
    {
      "cell_type": "code",
      "source": [
        "india_df = df[df['Country']==\"India\"]\n",
        "india_df.head()"
      ],
      "metadata": {
        "colab": {
          "base_uri": "https://localhost:8080/",
          "height": 521
        },
        "id": "H4cvVrvaq6nQ",
        "outputId": "138338cc-b4c4-415c-8be1-46ab986c5f6a"
      },
      "execution_count": 36,
      "outputs": [
        {
          "output_type": "execute_result",
          "data": {
            "text/html": [
              "<div>\n",
              "<style scoped>\n",
              "    .dataframe tbody tr th:only-of-type {\n",
              "        vertical-align: middle;\n",
              "    }\n",
              "\n",
              "    .dataframe tbody tr th {\n",
              "        vertical-align: top;\n",
              "    }\n",
              "\n",
              "    .dataframe thead th {\n",
              "        text-align: right;\n",
              "    }\n",
              "</style>\n",
              "<table border=\"1\" class=\"dataframe\">\n",
              "  <thead>\n",
              "    <tr style=\"text-align: right;\">\n",
              "      <th></th>\n",
              "      <th>Player</th>\n",
              "      <th>Career Span</th>\n",
              "      <th>Career Start</th>\n",
              "      <th>Career End</th>\n",
              "      <th>Matches Played</th>\n",
              "      <th>Innings Batted</th>\n",
              "      <th>Not Outs</th>\n",
              "      <th>Runs Scored</th>\n",
              "      <th>Highest Innings Score</th>\n",
              "      <th>Highest Innings Score Num</th>\n",
              "      <th>Batting Avg</th>\n",
              "      <th>Balls Faced</th>\n",
              "      <th>Batting Strike Rate</th>\n",
              "      <th>Hundreds Scored</th>\n",
              "      <th>Scores Of Fifty Or More</th>\n",
              "      <th>Ducks Scored</th>\n",
              "      <th>Country</th>\n",
              "      <th>Player Count</th>\n",
              "      <th>5000+ Runs Scored</th>\n",
              "      <th>40+ Batting Avg</th>\n",
              "      <th>90+ Batting Strike Rate</th>\n",
              "    </tr>\n",
              "  </thead>\n",
              "  <tbody>\n",
              "    <tr>\n",
              "      <th>989</th>\n",
              "      <td>SR Tendulkar (1989-2012)</td>\n",
              "      <td>1989-2012</td>\n",
              "      <td>1989</td>\n",
              "      <td>2012</td>\n",
              "      <td>463</td>\n",
              "      <td>452.0</td>\n",
              "      <td>41.0</td>\n",
              "      <td>18426.0</td>\n",
              "      <td>200*</td>\n",
              "      <td>200</td>\n",
              "      <td>44.83</td>\n",
              "      <td>21367.0</td>\n",
              "      <td>86.23</td>\n",
              "      <td>49.0</td>\n",
              "      <td>96.0</td>\n",
              "      <td>20.0</td>\n",
              "      <td>India</td>\n",
              "      <td>1</td>\n",
              "      <td>1</td>\n",
              "      <td>1</td>\n",
              "      <td>0</td>\n",
              "    </tr>\n",
              "    <tr>\n",
              "      <th>990</th>\n",
              "      <td>SC Ganguly (1992-2007)</td>\n",
              "      <td>1992-2007</td>\n",
              "      <td>1992</td>\n",
              "      <td>2007</td>\n",
              "      <td>308</td>\n",
              "      <td>297.0</td>\n",
              "      <td>23.0</td>\n",
              "      <td>11221.0</td>\n",
              "      <td>183</td>\n",
              "      <td>183</td>\n",
              "      <td>40.95</td>\n",
              "      <td>15235.0</td>\n",
              "      <td>73.65</td>\n",
              "      <td>22.0</td>\n",
              "      <td>71.0</td>\n",
              "      <td>16.0</td>\n",
              "      <td>India</td>\n",
              "      <td>1</td>\n",
              "      <td>1</td>\n",
              "      <td>1</td>\n",
              "      <td>0</td>\n",
              "    </tr>\n",
              "    <tr>\n",
              "      <th>991</th>\n",
              "      <td>R Dravid (1996-2011)</td>\n",
              "      <td>1996-2011</td>\n",
              "      <td>1996</td>\n",
              "      <td>2011</td>\n",
              "      <td>340</td>\n",
              "      <td>314.0</td>\n",
              "      <td>39.0</td>\n",
              "      <td>10768.0</td>\n",
              "      <td>153</td>\n",
              "      <td>153</td>\n",
              "      <td>39.15</td>\n",
              "      <td>15126.0</td>\n",
              "      <td>71.18</td>\n",
              "      <td>12.0</td>\n",
              "      <td>82.0</td>\n",
              "      <td>13.0</td>\n",
              "      <td>India</td>\n",
              "      <td>1</td>\n",
              "      <td>1</td>\n",
              "      <td>0</td>\n",
              "      <td>0</td>\n",
              "    </tr>\n",
              "    <tr>\n",
              "      <th>992</th>\n",
              "      <td>V Kohli (2008-2018)</td>\n",
              "      <td>2008-2018</td>\n",
              "      <td>2008</td>\n",
              "      <td>2018</td>\n",
              "      <td>216</td>\n",
              "      <td>208.0</td>\n",
              "      <td>37.0</td>\n",
              "      <td>10232.0</td>\n",
              "      <td>183</td>\n",
              "      <td>183</td>\n",
              "      <td>59.83</td>\n",
              "      <td>11016.0</td>\n",
              "      <td>92.88</td>\n",
              "      <td>38.0</td>\n",
              "      <td>48.0</td>\n",
              "      <td>12.0</td>\n",
              "      <td>India</td>\n",
              "      <td>1</td>\n",
              "      <td>1</td>\n",
              "      <td>1</td>\n",
              "      <td>1</td>\n",
              "    </tr>\n",
              "    <tr>\n",
              "      <th>993</th>\n",
              "      <td>MS Dhoni (2004-2018)</td>\n",
              "      <td>2004-2018</td>\n",
              "      <td>2004</td>\n",
              "      <td>2018</td>\n",
              "      <td>329</td>\n",
              "      <td>278.0</td>\n",
              "      <td>77.0</td>\n",
              "      <td>9999.0</td>\n",
              "      <td>183*</td>\n",
              "      <td>183</td>\n",
              "      <td>49.74</td>\n",
              "      <td>11435.0</td>\n",
              "      <td>87.44</td>\n",
              "      <td>9.0</td>\n",
              "      <td>67.0</td>\n",
              "      <td>9.0</td>\n",
              "      <td>India</td>\n",
              "      <td>1</td>\n",
              "      <td>1</td>\n",
              "      <td>1</td>\n",
              "      <td>0</td>\n",
              "    </tr>\n",
              "  </tbody>\n",
              "</table>\n",
              "</div>"
            ],
            "text/plain": [
              "                       Player  ... 90+ Batting Strike Rate\n",
              "989  SR Tendulkar (1989-2012)  ...                       0\n",
              "990    SC Ganguly (1992-2007)  ...                       0\n",
              "991      R Dravid (1996-2011)  ...                       0\n",
              "992       V Kohli (2008-2018)  ...                       1\n",
              "993      MS Dhoni (2004-2018)  ...                       0\n",
              "\n",
              "[5 rows x 21 columns]"
            ]
          },
          "metadata": {},
          "execution_count": 36
        }
      ]
    },
    {
      "cell_type": "code",
      "source": [
        "alt.themes.enable('opaque')\n",
        "\n",
        "top_players = df.sort_values('Runs Scored', ascending=False)\n",
        "test = top_players.head(25)\n",
        "test['Player'] = test['Player'].str[:-11]\n",
        "test.head()"
      ],
      "metadata": {
        "colab": {
          "base_uri": "https://localhost:8080/",
          "height": 382
        },
        "id": "WPLW-kNTq-au",
        "outputId": "5d55941f-9783-455c-ded9-bafd7bf6a18b"
      },
      "execution_count": 37,
      "outputs": [
        {
          "output_type": "execute_result",
          "data": {
            "text/html": [
              "<div>\n",
              "<style scoped>\n",
              "    .dataframe tbody tr th:only-of-type {\n",
              "        vertical-align: middle;\n",
              "    }\n",
              "\n",
              "    .dataframe tbody tr th {\n",
              "        vertical-align: top;\n",
              "    }\n",
              "\n",
              "    .dataframe thead th {\n",
              "        text-align: right;\n",
              "    }\n",
              "</style>\n",
              "<table border=\"1\" class=\"dataframe\">\n",
              "  <thead>\n",
              "    <tr style=\"text-align: right;\">\n",
              "      <th></th>\n",
              "      <th>Player</th>\n",
              "      <th>Career Span</th>\n",
              "      <th>Career Start</th>\n",
              "      <th>Career End</th>\n",
              "      <th>Matches Played</th>\n",
              "      <th>Innings Batted</th>\n",
              "      <th>Not Outs</th>\n",
              "      <th>Runs Scored</th>\n",
              "      <th>Highest Innings Score</th>\n",
              "      <th>Highest Innings Score Num</th>\n",
              "      <th>Batting Avg</th>\n",
              "      <th>Balls Faced</th>\n",
              "      <th>Batting Strike Rate</th>\n",
              "      <th>Hundreds Scored</th>\n",
              "      <th>Scores Of Fifty Or More</th>\n",
              "      <th>Ducks Scored</th>\n",
              "      <th>Country</th>\n",
              "      <th>Player Count</th>\n",
              "      <th>5000+ Runs Scored</th>\n",
              "      <th>40+ Batting Avg</th>\n",
              "      <th>90+ Batting Strike Rate</th>\n",
              "    </tr>\n",
              "  </thead>\n",
              "  <tbody>\n",
              "    <tr>\n",
              "      <th>989</th>\n",
              "      <td>SR Tendulkar</td>\n",
              "      <td>1989-2012</td>\n",
              "      <td>1989</td>\n",
              "      <td>2012</td>\n",
              "      <td>463</td>\n",
              "      <td>452.0</td>\n",
              "      <td>41.0</td>\n",
              "      <td>18426.0</td>\n",
              "      <td>200*</td>\n",
              "      <td>200</td>\n",
              "      <td>44.83</td>\n",
              "      <td>21367.0</td>\n",
              "      <td>86.23</td>\n",
              "      <td>49.0</td>\n",
              "      <td>96.0</td>\n",
              "      <td>20.0</td>\n",
              "      <td>India</td>\n",
              "      <td>1</td>\n",
              "      <td>1</td>\n",
              "      <td>1</td>\n",
              "      <td>0</td>\n",
              "    </tr>\n",
              "    <tr>\n",
              "      <th>1431</th>\n",
              "      <td>KC Sangakkara</td>\n",
              "      <td>2000-2015</td>\n",
              "      <td>2000</td>\n",
              "      <td>2015</td>\n",
              "      <td>397</td>\n",
              "      <td>373.0</td>\n",
              "      <td>40.0</td>\n",
              "      <td>13975.0</td>\n",
              "      <td>169</td>\n",
              "      <td>169</td>\n",
              "      <td>41.96</td>\n",
              "      <td>17715.0</td>\n",
              "      <td>78.88</td>\n",
              "      <td>25.0</td>\n",
              "      <td>90.0</td>\n",
              "      <td>15.0</td>\n",
              "      <td>Sri Lanka</td>\n",
              "      <td>1</td>\n",
              "      <td>1</td>\n",
              "      <td>1</td>\n",
              "      <td>0</td>\n",
              "    </tr>\n",
              "    <tr>\n",
              "      <th>251</th>\n",
              "      <td>RT Ponting</td>\n",
              "      <td>1995-2012</td>\n",
              "      <td>1995</td>\n",
              "      <td>2012</td>\n",
              "      <td>374</td>\n",
              "      <td>364.0</td>\n",
              "      <td>39.0</td>\n",
              "      <td>13589.0</td>\n",
              "      <td>164</td>\n",
              "      <td>164</td>\n",
              "      <td>41.81</td>\n",
              "      <td>16944.0</td>\n",
              "      <td>80.19</td>\n",
              "      <td>29.0</td>\n",
              "      <td>82.0</td>\n",
              "      <td>20.0</td>\n",
              "      <td>Australia</td>\n",
              "      <td>1</td>\n",
              "      <td>1</td>\n",
              "      <td>1</td>\n",
              "      <td>0</td>\n",
              "    </tr>\n",
              "    <tr>\n",
              "      <th>1432</th>\n",
              "      <td>ST Jayasuriya</td>\n",
              "      <td>1989-2011</td>\n",
              "      <td>1989</td>\n",
              "      <td>2011</td>\n",
              "      <td>441</td>\n",
              "      <td>429.0</td>\n",
              "      <td>18.0</td>\n",
              "      <td>13364.0</td>\n",
              "      <td>189</td>\n",
              "      <td>189</td>\n",
              "      <td>32.51</td>\n",
              "      <td>14644.0</td>\n",
              "      <td>91.25</td>\n",
              "      <td>28.0</td>\n",
              "      <td>68.0</td>\n",
              "      <td>34.0</td>\n",
              "      <td>Sri Lanka</td>\n",
              "      <td>1</td>\n",
              "      <td>1</td>\n",
              "      <td>0</td>\n",
              "      <td>1</td>\n",
              "    </tr>\n",
              "    <tr>\n",
              "      <th>1433</th>\n",
              "      <td>DPMD Jayawardene</td>\n",
              "      <td>1998-2015</td>\n",
              "      <td>1998</td>\n",
              "      <td>2015</td>\n",
              "      <td>443</td>\n",
              "      <td>413.0</td>\n",
              "      <td>38.0</td>\n",
              "      <td>12381.0</td>\n",
              "      <td>144</td>\n",
              "      <td>144</td>\n",
              "      <td>33.01</td>\n",
              "      <td>15736.0</td>\n",
              "      <td>78.67</td>\n",
              "      <td>18.0</td>\n",
              "      <td>75.0</td>\n",
              "      <td>28.0</td>\n",
              "      <td>Sri Lanka</td>\n",
              "      <td>1</td>\n",
              "      <td>1</td>\n",
              "      <td>0</td>\n",
              "      <td>0</td>\n",
              "    </tr>\n",
              "  </tbody>\n",
              "</table>\n",
              "</div>"
            ],
            "text/plain": [
              "                 Player Career Span  ...  40+ Batting Avg  90+ Batting Strike Rate\n",
              "989       SR Tendulkar    1989-2012  ...                1                        0\n",
              "1431     KC Sangakkara    2000-2015  ...                1                        0\n",
              "251         RT Ponting    1995-2012  ...                1                        0\n",
              "1432     ST Jayasuriya    1989-2011  ...                0                        1\n",
              "1433  DPMD Jayawardene    1998-2015  ...                0                        0\n",
              "\n",
              "[5 rows x 21 columns]"
            ]
          },
          "metadata": {},
          "execution_count": 37
        }
      ]
    },
    {
      "cell_type": "code",
      "source": [
        "alt.themes.enable('opaque')\n",
        "\n",
        "base = alt.Chart(test).encode(\n",
        "    alt.X('Batting Avg:Q', bin=alt.Bin(maxbins=40), title='Batting Average'),\n",
        "    alt.Y('Batting Strike Rate:Q', bin=alt.Bin(maxbins=40), title='Batting Strike Rate'),\n",
        "    tooltip=['Player']\n",
        ")\n",
        "\n",
        "bars = base.mark_circle().encode(\n",
        "    size='Runs Scored:Q',\n",
        "    color='Country:N',\n",
        ")\n",
        "\n",
        "text = base.mark_text(\n",
        "    align='left',\n",
        "    baseline='middle',\n",
        "    fontSize=8,\n",
        "    dy=5,\n",
        "    dx=10  # Nudges text to right so it doesn't appear on top of the bar\n",
        ").encode(\n",
        "    text='Player:N'\n",
        ")\n",
        "\n",
        "chart_bubble_top = (bars + text).configure_scale(maxFontSize=4).properties(height=700, width=700)"
      ],
      "metadata": {
        "id": "ZpO0YBu7rNsM"
      },
      "execution_count": 38,
      "outputs": []
    },
    {
      "cell_type": "code",
      "source": [
        "chart_bubble_top"
      ],
      "metadata": {
        "colab": {
          "base_uri": "https://localhost:8080/",
          "height": 768
        },
        "id": "rIRYITbirPbU",
        "outputId": "58367eb6-a8bf-4936-a663-f0eadea07016"
      },
      "execution_count": 39,
      "outputs": [
        {
          "output_type": "execute_result",
          "data": {
            "text/plain": [
              "alt.LayerChart(...)"
            ],
            "text/html": [
              "\n",
              "<div id=\"altair-viz-0c3a29ff0a2e44f593f3e753593e38f7\"></div>\n",
              "<script type=\"text/javascript\">\n",
              "  (function(spec, embedOpt){\n",
              "    let outputDiv = document.currentScript.previousElementSibling;\n",
              "    if (outputDiv.id !== \"altair-viz-0c3a29ff0a2e44f593f3e753593e38f7\") {\n",
              "      outputDiv = document.getElementById(\"altair-viz-0c3a29ff0a2e44f593f3e753593e38f7\");\n",
              "    }\n",
              "    const paths = {\n",
              "      \"vega\": \"https://cdn.jsdelivr.net/npm//vega@5?noext\",\n",
              "      \"vega-lib\": \"https://cdn.jsdelivr.net/npm//vega-lib?noext\",\n",
              "      \"vega-lite\": \"https://cdn.jsdelivr.net/npm//vega-lite@4.8.1?noext\",\n",
              "      \"vega-embed\": \"https://cdn.jsdelivr.net/npm//vega-embed@6?noext\",\n",
              "    };\n",
              "\n",
              "    function loadScript(lib) {\n",
              "      return new Promise(function(resolve, reject) {\n",
              "        var s = document.createElement('script');\n",
              "        s.src = paths[lib];\n",
              "        s.async = true;\n",
              "        s.onload = () => resolve(paths[lib]);\n",
              "        s.onerror = () => reject(`Error loading script: ${paths[lib]}`);\n",
              "        document.getElementsByTagName(\"head\")[0].appendChild(s);\n",
              "      });\n",
              "    }\n",
              "\n",
              "    function showError(err) {\n",
              "      outputDiv.innerHTML = `<div class=\"error\" style=\"color:red;\">${err}</div>`;\n",
              "      throw err;\n",
              "    }\n",
              "\n",
              "    function displayChart(vegaEmbed) {\n",
              "      vegaEmbed(outputDiv, spec, embedOpt)\n",
              "        .catch(err => showError(`Javascript Error: ${err.message}<br>This usually means there's a typo in your chart specification. See the javascript console for the full traceback.`));\n",
              "    }\n",
              "\n",
              "    if(typeof define === \"function\" && define.amd) {\n",
              "      requirejs.config({paths});\n",
              "      require([\"vega-embed\"], displayChart, err => showError(`Error loading script: ${err.message}`));\n",
              "    } else if (typeof vegaEmbed === \"function\") {\n",
              "      displayChart(vegaEmbed);\n",
              "    } else {\n",
              "      loadScript(\"vega\")\n",
              "        .then(() => loadScript(\"vega-lite\"))\n",
              "        .then(() => loadScript(\"vega-embed\"))\n",
              "        .catch(showError)\n",
              "        .then(() => displayChart(vegaEmbed));\n",
              "    }\n",
              "  })({\"config\": {\"background\": \"white\", \"view\": {\"continuousWidth\": 400, \"continuousHeight\": 300}, \"scale\": {\"maxFontSize\": 4}}, \"layer\": [{\"mark\": \"circle\", \"encoding\": {\"color\": {\"type\": \"nominal\", \"field\": \"Country\"}, \"size\": {\"type\": \"quantitative\", \"field\": \"Runs Scored\"}, \"tooltip\": [{\"type\": \"nominal\", \"field\": \"Player\"}], \"x\": {\"type\": \"quantitative\", \"bin\": {\"maxbins\": 40}, \"field\": \"Batting Avg\", \"title\": \"Batting Average\"}, \"y\": {\"type\": \"quantitative\", \"bin\": {\"maxbins\": 40}, \"field\": \"Batting Strike Rate\", \"title\": \"Batting Strike Rate\"}}}, {\"mark\": {\"type\": \"text\", \"align\": \"left\", \"baseline\": \"middle\", \"dx\": 10, \"dy\": 5, \"fontSize\": 8}, \"encoding\": {\"text\": {\"type\": \"nominal\", \"field\": \"Player\"}, \"tooltip\": [{\"type\": \"nominal\", \"field\": \"Player\"}], \"x\": {\"type\": \"quantitative\", \"bin\": {\"maxbins\": 40}, \"field\": \"Batting Avg\", \"title\": \"Batting Average\"}, \"y\": {\"type\": \"quantitative\", \"bin\": {\"maxbins\": 40}, \"field\": \"Batting Strike Rate\", \"title\": \"Batting Strike Rate\"}}}], \"data\": {\"name\": \"data-5875ba334d7216a0606357958d797cd9\"}, \"height\": 700, \"width\": 700, \"$schema\": \"https://vega.github.io/schema/vega-lite/v4.8.1.json\", \"datasets\": {\"data-5875ba334d7216a0606357958d797cd9\": [{\"Player\": \"SR Tendulkar \", \"Career Span\": \"1989-2012\", \"Career Start\": 1989, \"Career End\": 2012, \"Matches Played\": 463, \"Innings Batted\": 452.0, \"Not Outs\": 41.0, \"Runs Scored\": 18426.0, \"Highest Innings Score\": \"200*\", \"Highest Innings Score Num\": \"200\", \"Batting Avg\": 44.83, \"Balls Faced\": 21367.0, \"Batting Strike Rate\": 86.23, \"Hundreds Scored\": 49.0, \"Scores Of Fifty Or More\": 96.0, \"Ducks Scored\": 20.0, \"Country\": \"India\", \"Player Count\": 1, \"5000+ Runs Scored\": 1, \"40+ Batting Avg\": 1, \"90+ Batting Strike Rate\": 0}, {\"Player\": \"KC Sangakkara \", \"Career Span\": \"2000-2015\", \"Career Start\": 2000, \"Career End\": 2015, \"Matches Played\": 397, \"Innings Batted\": 373.0, \"Not Outs\": 40.0, \"Runs Scored\": 13975.0, \"Highest Innings Score\": \"169\", \"Highest Innings Score Num\": \"169\", \"Batting Avg\": 41.96, \"Balls Faced\": 17715.0, \"Batting Strike Rate\": 78.88, \"Hundreds Scored\": 25.0, \"Scores Of Fifty Or More\": 90.0, \"Ducks Scored\": 15.0, \"Country\": \"Sri Lanka\", \"Player Count\": 1, \"5000+ Runs Scored\": 1, \"40+ Batting Avg\": 1, \"90+ Batting Strike Rate\": 0}, {\"Player\": \"RT Ponting \", \"Career Span\": \"1995-2012\", \"Career Start\": 1995, \"Career End\": 2012, \"Matches Played\": 374, \"Innings Batted\": 364.0, \"Not Outs\": 39.0, \"Runs Scored\": 13589.0, \"Highest Innings Score\": \"164\", \"Highest Innings Score Num\": \"164\", \"Batting Avg\": 41.81, \"Balls Faced\": 16944.0, \"Batting Strike Rate\": 80.19, \"Hundreds Scored\": 29.0, \"Scores Of Fifty Or More\": 82.0, \"Ducks Scored\": 20.0, \"Country\": \"Australia\", \"Player Count\": 1, \"5000+ Runs Scored\": 1, \"40+ Batting Avg\": 1, \"90+ Batting Strike Rate\": 0}, {\"Player\": \"ST Jayasuriya \", \"Career Span\": \"1989-2011\", \"Career Start\": 1989, \"Career End\": 2011, \"Matches Played\": 441, \"Innings Batted\": 429.0, \"Not Outs\": 18.0, \"Runs Scored\": 13364.0, \"Highest Innings Score\": \"189\", \"Highest Innings Score Num\": \"189\", \"Batting Avg\": 32.51, \"Balls Faced\": 14644.0, \"Batting Strike Rate\": 91.25, \"Hundreds Scored\": 28.0, \"Scores Of Fifty Or More\": 68.0, \"Ducks Scored\": 34.0, \"Country\": \"Sri Lanka\", \"Player Count\": 1, \"5000+ Runs Scored\": 1, \"40+ Batting Avg\": 0, \"90+ Batting Strike Rate\": 1}, {\"Player\": \"DPMD Jayawardene \", \"Career Span\": \"1998-2015\", \"Career Start\": 1998, \"Career End\": 2015, \"Matches Played\": 443, \"Innings Batted\": 413.0, \"Not Outs\": 38.0, \"Runs Scored\": 12381.0, \"Highest Innings Score\": \"144\", \"Highest Innings Score Num\": \"144\", \"Batting Avg\": 33.01, \"Balls Faced\": 15736.0, \"Batting Strike Rate\": 78.67, \"Hundreds Scored\": 18.0, \"Scores Of Fifty Or More\": 75.0, \"Ducks Scored\": 28.0, \"Country\": \"Sri Lanka\", \"Player Count\": 1, \"5000+ Runs Scored\": 1, \"40+ Batting Avg\": 0, \"90+ Batting Strike Rate\": 0}, {\"Player\": \"Inzamam-ul-Haq \", \"Career Span\": \"1991-2007\", \"Career Start\": 1991, \"Career End\": 2007, \"Matches Played\": 375, \"Innings Batted\": 348.0, \"Not Outs\": 52.0, \"Runs Scored\": 11701.0, \"Highest Innings Score\": \"137*\", \"Highest Innings Score Num\": \"137\", \"Batting Avg\": 39.53, \"Balls Faced\": 15769.0, \"Batting Strike Rate\": 74.2, \"Hundreds Scored\": 10.0, \"Scores Of Fifty Or More\": 83.0, \"Ducks Scored\": 20.0, \"Country\": \"Pakistan\", \"Player Count\": 1, \"5000+ Runs Scored\": 1, \"40+ Batting Avg\": 0, \"90+ Batting Strike Rate\": 0}, {\"Player\": \"JH Kallis \", \"Career Span\": \"1996-2014\", \"Career Start\": 1996, \"Career End\": 2014, \"Matches Played\": 323, \"Innings Batted\": 309.0, \"Not Outs\": 53.0, \"Runs Scored\": 11550.0, \"Highest Innings Score\": \"139\", \"Highest Innings Score Num\": \"139\", \"Batting Avg\": 45.11, \"Balls Faced\": 15793.0, \"Batting Strike Rate\": 73.13, \"Hundreds Scored\": 17.0, \"Scores Of Fifty Or More\": 86.0, \"Ducks Scored\": 17.0, \"Country\": \"South Africa\", \"Player Count\": 1, \"5000+ Runs Scored\": 1, \"40+ Batting Avg\": 1, \"90+ Batting Strike Rate\": 0}, {\"Player\": \"SC Ganguly \", \"Career Span\": \"1992-2007\", \"Career Start\": 1992, \"Career End\": 2007, \"Matches Played\": 308, \"Innings Batted\": 297.0, \"Not Outs\": 23.0, \"Runs Scored\": 11221.0, \"Highest Innings Score\": \"183\", \"Highest Innings Score Num\": \"183\", \"Batting Avg\": 40.95, \"Balls Faced\": 15235.0, \"Batting Strike Rate\": 73.65, \"Hundreds Scored\": 22.0, \"Scores Of Fifty Or More\": 71.0, \"Ducks Scored\": 16.0, \"Country\": \"India\", \"Player Count\": 1, \"5000+ Runs Scored\": 1, \"40+ Batting Avg\": 1, \"90+ Batting Strike Rate\": 0}, {\"Player\": \"R Dravid \", \"Career Span\": \"1996-2011\", \"Career Start\": 1996, \"Career End\": 2011, \"Matches Played\": 340, \"Innings Batted\": 314.0, \"Not Outs\": 39.0, \"Runs Scored\": 10768.0, \"Highest Innings Score\": \"153\", \"Highest Innings Score Num\": \"153\", \"Batting Avg\": 39.15, \"Balls Faced\": 15126.0, \"Batting Strike Rate\": 71.18, \"Hundreds Scored\": 12.0, \"Scores Of Fifty Or More\": 82.0, \"Ducks Scored\": 13.0, \"Country\": \"India\", \"Player Count\": 1, \"5000+ Runs Scored\": 1, \"40+ Batting Avg\": 0, \"90+ Batting Strike Rate\": 0}, {\"Player\": \"BC Lara \", \"Career Span\": \"1990-2007\", \"Career Start\": 1990, \"Career End\": 2007, \"Matches Played\": 295, \"Innings Batted\": 285.0, \"Not Outs\": 32.0, \"Runs Scored\": 10348.0, \"Highest Innings Score\": \"169\", \"Highest Innings Score Num\": \"169\", \"Batting Avg\": 40.9, \"Balls Faced\": 12996.0, \"Batting Strike Rate\": 79.62, \"Hundreds Scored\": 19.0, \"Scores Of Fifty Or More\": 62.0, \"Ducks Scored\": 14.0, \"Country\": \"West Indies\", \"Player Count\": 1, \"5000+ Runs Scored\": 1, \"40+ Batting Avg\": 1, \"90+ Batting Strike Rate\": 0}, {\"Player\": \"TM Dilshan \", \"Career Span\": \"1999-2016\", \"Career Start\": 1999, \"Career End\": 2016, \"Matches Played\": 330, \"Innings Batted\": 303.0, \"Not Outs\": 41.0, \"Runs Scored\": 10290.0, \"Highest Innings Score\": \"161*\", \"Highest Innings Score Num\": \"161\", \"Batting Avg\": 39.27, \"Balls Faced\": 11933.0, \"Batting Strike Rate\": 86.23, \"Hundreds Scored\": 22.0, \"Scores Of Fifty Or More\": 47.0, \"Ducks Scored\": 11.0, \"Country\": \"Sri Lanka\", \"Player Count\": 1, \"5000+ Runs Scored\": 1, \"40+ Batting Avg\": 0, \"90+ Batting Strike Rate\": 0}, {\"Player\": \"V Kohli \", \"Career Span\": \"2008-2018\", \"Career Start\": 2008, \"Career End\": 2018, \"Matches Played\": 216, \"Innings Batted\": 208.0, \"Not Outs\": 37.0, \"Runs Scored\": 10232.0, \"Highest Innings Score\": \"183\", \"Highest Innings Score Num\": \"183\", \"Batting Avg\": 59.83, \"Balls Faced\": 11016.0, \"Batting Strike Rate\": 92.88, \"Hundreds Scored\": 38.0, \"Scores Of Fifty Or More\": 48.0, \"Ducks Scored\": 12.0, \"Country\": \"India\", \"Player Count\": 1, \"5000+ Runs Scored\": 1, \"40+ Batting Avg\": 1, \"90+ Batting Strike Rate\": 1}, {\"Player\": \"MS Dhoni \", \"Career Span\": \"2004-2018\", \"Career Start\": 2004, \"Career End\": 2018, \"Matches Played\": 329, \"Innings Batted\": 278.0, \"Not Outs\": 77.0, \"Runs Scored\": 9999.0, \"Highest Innings Score\": \"183*\", \"Highest Innings Score Num\": \"183\", \"Batting Avg\": 49.74, \"Balls Faced\": 11435.0, \"Batting Strike Rate\": 87.44, \"Hundreds Scored\": 9.0, \"Scores Of Fifty Or More\": 67.0, \"Ducks Scored\": 9.0, \"Country\": \"India\", \"Player Count\": 1, \"5000+ Runs Scored\": 1, \"40+ Batting Avg\": 1, \"90+ Batting Strike Rate\": 0}, {\"Player\": \"CH Gayle \", \"Career Span\": \"1999-2018\", \"Career Start\": 1999, \"Career End\": 2018, \"Matches Played\": 281, \"Innings Batted\": 276.0, \"Not Outs\": 17.0, \"Runs Scored\": 9672.0, \"Highest Innings Score\": \"215\", \"Highest Innings Score Num\": \"215\", \"Batting Avg\": 37.34, \"Balls Faced\": 11274.0, \"Batting Strike Rate\": 85.79, \"Hundreds Scored\": 23.0, \"Scores Of Fifty Or More\": 48.0, \"Ducks Scored\": 23.0, \"Country\": \"West Indies\", \"Player Count\": 1, \"5000+ Runs Scored\": 1, \"40+ Batting Avg\": 0, \"90+ Batting Strike Rate\": 0}, {\"Player\": \"AC Gilchrist \", \"Career Span\": \"1996-2008\", \"Career Start\": 1996, \"Career End\": 2008, \"Matches Played\": 286, \"Innings Batted\": 278.0, \"Not Outs\": 11.0, \"Runs Scored\": 9595.0, \"Highest Innings Score\": \"172\", \"Highest Innings Score Num\": \"172\", \"Batting Avg\": 35.93, \"Balls Faced\": 9902.0, \"Batting Strike Rate\": 96.89, \"Hundreds Scored\": 16.0, \"Scores Of Fifty Or More\": 55.0, \"Ducks Scored\": 19.0, \"Country\": \"Australia\", \"Player Count\": 1, \"5000+ Runs Scored\": 1, \"40+ Batting Avg\": 0, \"90+ Batting Strike Rate\": 1}, {\"Player\": \"Mohammad Yousuf \", \"Career Span\": \"1998-2010\", \"Career Start\": 1998, \"Career End\": 2010, \"Matches Played\": 281, \"Innings Batted\": 267.0, \"Not Outs\": 40.0, \"Runs Scored\": 9554.0, \"Highest Innings Score\": \"141*\", \"Highest Innings Score Num\": \"141\", \"Batting Avg\": 42.08, \"Balls Faced\": 12753.0, \"Batting Strike Rate\": 74.91, \"Hundreds Scored\": 15.0, \"Scores Of Fifty Or More\": 62.0, \"Ducks Scored\": 15.0, \"Country\": \"Pakistan\", \"Player Count\": 1, \"5000+ Runs Scored\": 1, \"40+ Batting Avg\": 1, \"90+ Batting Strike Rate\": 0}, {\"Player\": \"AB de Villiers \", \"Career Span\": \"2005-2018\", \"Career Start\": 2005, \"Career End\": 2018, \"Matches Played\": 223, \"Innings Batted\": 213.0, \"Not Outs\": 39.0, \"Runs Scored\": 9427.0, \"Highest Innings Score\": \"176\", \"Highest Innings Score Num\": \"176\", \"Batting Avg\": 54.17, \"Balls Faced\": 9308.0, \"Batting Strike Rate\": 101.27, \"Hundreds Scored\": 25.0, \"Scores Of Fifty Or More\": 52.0, \"Ducks Scored\": 7.0, \"Country\": \"South Africa\", \"Player Count\": 1, \"5000+ Runs Scored\": 1, \"40+ Batting Avg\": 1, \"90+ Batting Strike Rate\": 1}, {\"Player\": \"M Azharuddin \", \"Career Span\": \"1985-2000\", \"Career Start\": 1985, \"Career End\": 2000, \"Matches Played\": 334, \"Innings Batted\": 308.0, \"Not Outs\": 54.0, \"Runs Scored\": 9378.0, \"Highest Innings Score\": \"153*\", \"Highest Innings Score Num\": \"153\", \"Batting Avg\": 36.92, \"Balls Faced\": 12669.0, \"Batting Strike Rate\": 74.02, \"Hundreds Scored\": 7.0, \"Scores Of Fifty Or More\": 58.0, \"Ducks Scored\": 9.0, \"Country\": \"India\", \"Player Count\": 1, \"5000+ Runs Scored\": 1, \"40+ Batting Avg\": 0, \"90+ Batting Strike Rate\": 0}, {\"Player\": \"PA de Silva \", \"Career Span\": \"1984-2003\", \"Career Start\": 1984, \"Career End\": 2003, \"Matches Played\": 308, \"Innings Batted\": 296.0, \"Not Outs\": 30.0, \"Runs Scored\": 9284.0, \"Highest Innings Score\": \"145\", \"Highest Innings Score Num\": \"145\", \"Batting Avg\": 34.9, \"Balls Faced\": 11443.0, \"Batting Strike Rate\": 81.13, \"Hundreds Scored\": 11.0, \"Scores Of Fifty Or More\": 64.0, \"Ducks Scored\": 17.0, \"Country\": \"Sri Lanka\", \"Player Count\": 1, \"5000+ Runs Scored\": 1, \"40+ Batting Avg\": 0, \"90+ Batting Strike Rate\": 0}, {\"Player\": \"Saeed Anwar \", \"Career Span\": \"1989-2003\", \"Career Start\": 1989, \"Career End\": 2003, \"Matches Played\": 247, \"Innings Batted\": 244.0, \"Not Outs\": 19.0, \"Runs Scored\": 8824.0, \"Highest Innings Score\": \"194\", \"Highest Innings Score Num\": \"194\", \"Batting Avg\": 39.21, \"Balls Faced\": 10938.0, \"Batting Strike Rate\": 80.67, \"Hundreds Scored\": 20.0, \"Scores Of Fifty Or More\": 43.0, \"Ducks Scored\": 15.0, \"Country\": \"Pakistan\", \"Player Count\": 1, \"5000+ Runs Scored\": 1, \"40+ Batting Avg\": 0, \"90+ Batting Strike Rate\": 0}, {\"Player\": \"S Chanderpaul \", \"Career Span\": \"1994-2011\", \"Career Start\": 1994, \"Career End\": 2011, \"Matches Played\": 268, \"Innings Batted\": 251.0, \"Not Outs\": 40.0, \"Runs Scored\": 8778.0, \"Highest Innings Score\": \"150\", \"Highest Innings Score Num\": \"150\", \"Batting Avg\": 41.6, \"Balls Faced\": 12408.0, \"Batting Strike Rate\": 70.74, \"Hundreds Scored\": 11.0, \"Scores Of Fifty Or More\": 59.0, \"Ducks Scored\": 6.0, \"Country\": \"West Indies\", \"Player Count\": 1, \"5000+ Runs Scored\": 1, \"40+ Batting Avg\": 1, \"90+ Batting Strike Rate\": 0}, {\"Player\": \"DL Haynes \", \"Career Span\": \"1978-1994\", \"Career Start\": 1978, \"Career End\": 1994, \"Matches Played\": 238, \"Innings Batted\": 237.0, \"Not Outs\": 28.0, \"Runs Scored\": 8648.0, \"Highest Innings Score\": \"152*\", \"Highest Innings Score Num\": \"152\", \"Batting Avg\": 41.37, \"Balls Faced\": 13707.0, \"Batting Strike Rate\": 63.09, \"Hundreds Scored\": 17.0, \"Scores Of Fifty Or More\": 57.0, \"Ducks Scored\": 13.0, \"Country\": \"West Indies\", \"Player Count\": 1, \"5000+ Runs Scored\": 1, \"40+ Batting Avg\": 1, \"90+ Batting Strike Rate\": 0}, {\"Player\": \"Yuvraj Singh \", \"Career Span\": \"2000-2017\", \"Career Start\": 2000, \"Career End\": 2017, \"Matches Played\": 301, \"Innings Batted\": 275.0, \"Not Outs\": 39.0, \"Runs Scored\": 8609.0, \"Highest Innings Score\": \"150\", \"Highest Innings Score Num\": \"150\", \"Batting Avg\": 36.47, \"Balls Faced\": 9846.0, \"Batting Strike Rate\": 87.43, \"Hundreds Scored\": 14.0, \"Scores Of Fifty Or More\": 52.0, \"Ducks Scored\": 18.0, \"Country\": \"India\", \"Player Count\": 1, \"5000+ Runs Scored\": 1, \"40+ Batting Avg\": 0, \"90+ Batting Strike Rate\": 0}, {\"Player\": \"MS Atapattu \", \"Career Span\": \"1990-2007\", \"Career Start\": 1990, \"Career End\": 2007, \"Matches Played\": 268, \"Innings Batted\": 259.0, \"Not Outs\": 32.0, \"Runs Scored\": 8529.0, \"Highest Innings Score\": \"132*\", \"Highest Innings Score Num\": \"132\", \"Batting Avg\": 37.57, \"Balls Faced\": 12594.0, \"Batting Strike Rate\": 67.72, \"Hundreds Scored\": 11.0, \"Scores Of Fifty Or More\": 59.0, \"Ducks Scored\": 13.0, \"Country\": \"Sri Lanka\", \"Player Count\": 1, \"5000+ Runs Scored\": 1, \"40+ Batting Avg\": 0, \"90+ Batting Strike Rate\": 0}, {\"Player\": \"ME Waugh \", \"Career Span\": \"1988-2002\", \"Career Start\": 1988, \"Career End\": 2002, \"Matches Played\": 244, \"Innings Batted\": 236.0, \"Not Outs\": 20.0, \"Runs Scored\": 8500.0, \"Highest Innings Score\": \"173\", \"Highest Innings Score Num\": \"173\", \"Batting Avg\": 39.35, \"Balls Faced\": 11053.0, \"Batting Strike Rate\": 76.9, \"Hundreds Scored\": 18.0, \"Scores Of Fifty Or More\": 50.0, \"Ducks Scored\": 16.0, \"Country\": \"Australia\", \"Player Count\": 1, \"5000+ Runs Scored\": 1, \"40+ Batting Avg\": 0, \"90+ Batting Strike Rate\": 0}]}}, {\"mode\": \"vega-lite\"});\n",
              "</script>"
            ]
          },
          "metadata": {},
          "execution_count": 39
        }
      ]
    },
    {
      "cell_type": "code",
      "source": [
        "india_top_df = india_df.head(25)\n",
        "base = alt.Chart(india_top_df).encode(\n",
        "    x=alt.X('Runs Scored:Q', title='Runs Scored with Strike Rate labels and Mean (red line)'),\n",
        "    y=alt.Y('Player', sort=alt.Sort(field=\"Runs Scored\", op=\"count\", order='ascending')),\n",
        "    tooltip=['Matches Played', 'Batting Strike Rate', 'Hundreds Scored']\n",
        ")\n",
        "\n",
        "bars = base.mark_bar().encode(\n",
        "    color='Batting Avg:Q'\n",
        ")\n",
        "\n",
        "rule = alt.Chart(india_top_df).mark_rule(color='red').encode(\n",
        "    x='mean(Runs Scored):Q'\n",
        ")\n",
        "\n",
        "text = base.mark_text(\n",
        "    align='left',\n",
        "    baseline='middle',\n",
        "    dx=3  # Nudges text to right so it doesn't appear on top of the bar\n",
        ").encode(\n",
        "    text='Batting Strike Rate:Q'\n",
        ")\n",
        "\n",
        "india_top_chart = (bars + text + rule).configure_scale(bandPaddingInner=0.2).configure_legend(padding=20)"
      ],
      "metadata": {
        "id": "nYaX3Y3Frfsc"
      },
      "execution_count": 40,
      "outputs": []
    },
    {
      "cell_type": "code",
      "source": [
        "india_top_chart"
      ],
      "metadata": {
        "colab": {
          "base_uri": "https://localhost:8080/",
          "height": 564
        },
        "id": "lKNOJkiKrhIE",
        "outputId": "af0942bd-03e2-4595-9353-d11a11704da5"
      },
      "execution_count": 41,
      "outputs": [
        {
          "output_type": "execute_result",
          "data": {
            "text/plain": [
              "alt.LayerChart(...)"
            ],
            "text/html": [
              "\n",
              "<div id=\"altair-viz-ed835f4a79594d7d896838589efa4215\"></div>\n",
              "<script type=\"text/javascript\">\n",
              "  (function(spec, embedOpt){\n",
              "    let outputDiv = document.currentScript.previousElementSibling;\n",
              "    if (outputDiv.id !== \"altair-viz-ed835f4a79594d7d896838589efa4215\") {\n",
              "      outputDiv = document.getElementById(\"altair-viz-ed835f4a79594d7d896838589efa4215\");\n",
              "    }\n",
              "    const paths = {\n",
              "      \"vega\": \"https://cdn.jsdelivr.net/npm//vega@5?noext\",\n",
              "      \"vega-lib\": \"https://cdn.jsdelivr.net/npm//vega-lib?noext\",\n",
              "      \"vega-lite\": \"https://cdn.jsdelivr.net/npm//vega-lite@4.8.1?noext\",\n",
              "      \"vega-embed\": \"https://cdn.jsdelivr.net/npm//vega-embed@6?noext\",\n",
              "    };\n",
              "\n",
              "    function loadScript(lib) {\n",
              "      return new Promise(function(resolve, reject) {\n",
              "        var s = document.createElement('script');\n",
              "        s.src = paths[lib];\n",
              "        s.async = true;\n",
              "        s.onload = () => resolve(paths[lib]);\n",
              "        s.onerror = () => reject(`Error loading script: ${paths[lib]}`);\n",
              "        document.getElementsByTagName(\"head\")[0].appendChild(s);\n",
              "      });\n",
              "    }\n",
              "\n",
              "    function showError(err) {\n",
              "      outputDiv.innerHTML = `<div class=\"error\" style=\"color:red;\">${err}</div>`;\n",
              "      throw err;\n",
              "    }\n",
              "\n",
              "    function displayChart(vegaEmbed) {\n",
              "      vegaEmbed(outputDiv, spec, embedOpt)\n",
              "        .catch(err => showError(`Javascript Error: ${err.message}<br>This usually means there's a typo in your chart specification. See the javascript console for the full traceback.`));\n",
              "    }\n",
              "\n",
              "    if(typeof define === \"function\" && define.amd) {\n",
              "      requirejs.config({paths});\n",
              "      require([\"vega-embed\"], displayChart, err => showError(`Error loading script: ${err.message}`));\n",
              "    } else if (typeof vegaEmbed === \"function\") {\n",
              "      displayChart(vegaEmbed);\n",
              "    } else {\n",
              "      loadScript(\"vega\")\n",
              "        .then(() => loadScript(\"vega-lite\"))\n",
              "        .then(() => loadScript(\"vega-embed\"))\n",
              "        .catch(showError)\n",
              "        .then(() => displayChart(vegaEmbed));\n",
              "    }\n",
              "  })({\"config\": {\"background\": \"white\", \"view\": {\"continuousWidth\": 400, \"continuousHeight\": 300}, \"legend\": {\"padding\": 20}, \"scale\": {\"bandPaddingInner\": 0.2}}, \"layer\": [{\"mark\": \"bar\", \"encoding\": {\"color\": {\"type\": \"quantitative\", \"field\": \"Batting Avg\"}, \"tooltip\": [{\"type\": \"quantitative\", \"field\": \"Matches Played\"}, {\"type\": \"quantitative\", \"field\": \"Batting Strike Rate\"}, {\"type\": \"quantitative\", \"field\": \"Hundreds Scored\"}], \"x\": {\"type\": \"quantitative\", \"field\": \"Runs Scored\", \"title\": \"Runs Scored with Strike Rate labels and Mean (red line)\"}, \"y\": {\"type\": \"nominal\", \"field\": \"Player\", \"sort\": {\"field\": \"Runs Scored\", \"op\": \"count\", \"order\": \"ascending\"}}}}, {\"mark\": {\"type\": \"text\", \"align\": \"left\", \"baseline\": \"middle\", \"dx\": 3}, \"encoding\": {\"text\": {\"type\": \"quantitative\", \"field\": \"Batting Strike Rate\"}, \"tooltip\": [{\"type\": \"quantitative\", \"field\": \"Matches Played\"}, {\"type\": \"quantitative\", \"field\": \"Batting Strike Rate\"}, {\"type\": \"quantitative\", \"field\": \"Hundreds Scored\"}], \"x\": {\"type\": \"quantitative\", \"field\": \"Runs Scored\", \"title\": \"Runs Scored with Strike Rate labels and Mean (red line)\"}, \"y\": {\"type\": \"nominal\", \"field\": \"Player\", \"sort\": {\"field\": \"Runs Scored\", \"op\": \"count\", \"order\": \"ascending\"}}}}, {\"mark\": {\"type\": \"rule\", \"color\": \"red\"}, \"encoding\": {\"x\": {\"type\": \"quantitative\", \"aggregate\": \"mean\", \"field\": \"Runs Scored\"}}}], \"data\": {\"name\": \"data-d2c3f1f6cf00f88c3ac27df41948cb8c\"}, \"$schema\": \"https://vega.github.io/schema/vega-lite/v4.8.1.json\", \"datasets\": {\"data-d2c3f1f6cf00f88c3ac27df41948cb8c\": [{\"Player\": \"SR Tendulkar (1989-2012)\", \"Career Span\": \"1989-2012\", \"Career Start\": 1989, \"Career End\": 2012, \"Matches Played\": 463, \"Innings Batted\": 452.0, \"Not Outs\": 41.0, \"Runs Scored\": 18426.0, \"Highest Innings Score\": \"200*\", \"Highest Innings Score Num\": \"200\", \"Batting Avg\": 44.83, \"Balls Faced\": 21367.0, \"Batting Strike Rate\": 86.23, \"Hundreds Scored\": 49.0, \"Scores Of Fifty Or More\": 96.0, \"Ducks Scored\": 20.0, \"Country\": \"India\", \"Player Count\": 1, \"5000+ Runs Scored\": 1, \"40+ Batting Avg\": 1, \"90+ Batting Strike Rate\": 0}, {\"Player\": \"SC Ganguly (1992-2007)\", \"Career Span\": \"1992-2007\", \"Career Start\": 1992, \"Career End\": 2007, \"Matches Played\": 308, \"Innings Batted\": 297.0, \"Not Outs\": 23.0, \"Runs Scored\": 11221.0, \"Highest Innings Score\": \"183\", \"Highest Innings Score Num\": \"183\", \"Batting Avg\": 40.95, \"Balls Faced\": 15235.0, \"Batting Strike Rate\": 73.65, \"Hundreds Scored\": 22.0, \"Scores Of Fifty Or More\": 71.0, \"Ducks Scored\": 16.0, \"Country\": \"India\", \"Player Count\": 1, \"5000+ Runs Scored\": 1, \"40+ Batting Avg\": 1, \"90+ Batting Strike Rate\": 0}, {\"Player\": \"R Dravid (1996-2011)\", \"Career Span\": \"1996-2011\", \"Career Start\": 1996, \"Career End\": 2011, \"Matches Played\": 340, \"Innings Batted\": 314.0, \"Not Outs\": 39.0, \"Runs Scored\": 10768.0, \"Highest Innings Score\": \"153\", \"Highest Innings Score Num\": \"153\", \"Batting Avg\": 39.15, \"Balls Faced\": 15126.0, \"Batting Strike Rate\": 71.18, \"Hundreds Scored\": 12.0, \"Scores Of Fifty Or More\": 82.0, \"Ducks Scored\": 13.0, \"Country\": \"India\", \"Player Count\": 1, \"5000+ Runs Scored\": 1, \"40+ Batting Avg\": 0, \"90+ Batting Strike Rate\": 0}, {\"Player\": \"V Kohli (2008-2018)\", \"Career Span\": \"2008-2018\", \"Career Start\": 2008, \"Career End\": 2018, \"Matches Played\": 216, \"Innings Batted\": 208.0, \"Not Outs\": 37.0, \"Runs Scored\": 10232.0, \"Highest Innings Score\": \"183\", \"Highest Innings Score Num\": \"183\", \"Batting Avg\": 59.83, \"Balls Faced\": 11016.0, \"Batting Strike Rate\": 92.88, \"Hundreds Scored\": 38.0, \"Scores Of Fifty Or More\": 48.0, \"Ducks Scored\": 12.0, \"Country\": \"India\", \"Player Count\": 1, \"5000+ Runs Scored\": 1, \"40+ Batting Avg\": 1, \"90+ Batting Strike Rate\": 1}, {\"Player\": \"MS Dhoni (2004-2018)\", \"Career Span\": \"2004-2018\", \"Career Start\": 2004, \"Career End\": 2018, \"Matches Played\": 329, \"Innings Batted\": 278.0, \"Not Outs\": 77.0, \"Runs Scored\": 9999.0, \"Highest Innings Score\": \"183*\", \"Highest Innings Score Num\": \"183\", \"Batting Avg\": 49.74, \"Balls Faced\": 11435.0, \"Batting Strike Rate\": 87.44, \"Hundreds Scored\": 9.0, \"Scores Of Fifty Or More\": 67.0, \"Ducks Scored\": 9.0, \"Country\": \"India\", \"Player Count\": 1, \"5000+ Runs Scored\": 1, \"40+ Batting Avg\": 1, \"90+ Batting Strike Rate\": 0}, {\"Player\": \"M Azharuddin (1985-2000)\", \"Career Span\": \"1985-2000\", \"Career Start\": 1985, \"Career End\": 2000, \"Matches Played\": 334, \"Innings Batted\": 308.0, \"Not Outs\": 54.0, \"Runs Scored\": 9378.0, \"Highest Innings Score\": \"153*\", \"Highest Innings Score Num\": \"153\", \"Batting Avg\": 36.92, \"Balls Faced\": 12669.0, \"Batting Strike Rate\": 74.02, \"Hundreds Scored\": 7.0, \"Scores Of Fifty Or More\": 58.0, \"Ducks Scored\": 9.0, \"Country\": \"India\", \"Player Count\": 1, \"5000+ Runs Scored\": 1, \"40+ Batting Avg\": 0, \"90+ Batting Strike Rate\": 0}, {\"Player\": \"Yuvraj Singh (2000-2017)\", \"Career Span\": \"2000-2017\", \"Career Start\": 2000, \"Career End\": 2017, \"Matches Played\": 301, \"Innings Batted\": 275.0, \"Not Outs\": 39.0, \"Runs Scored\": 8609.0, \"Highest Innings Score\": \"150\", \"Highest Innings Score Num\": \"150\", \"Batting Avg\": 36.47, \"Balls Faced\": 9846.0, \"Batting Strike Rate\": 87.43, \"Hundreds Scored\": 14.0, \"Scores Of Fifty Or More\": 52.0, \"Ducks Scored\": 18.0, \"Country\": \"India\", \"Player Count\": 1, \"5000+ Runs Scored\": 1, \"40+ Batting Avg\": 0, \"90+ Batting Strike Rate\": 0}, {\"Player\": \"V Sehwag (1999-2013)\", \"Career Span\": \"1999-2013\", \"Career Start\": 1999, \"Career End\": 2013, \"Matches Played\": 241, \"Innings Batted\": 235.0, \"Not Outs\": 9.0, \"Runs Scored\": 7995.0, \"Highest Innings Score\": \"219\", \"Highest Innings Score Num\": \"219\", \"Batting Avg\": 35.37, \"Balls Faced\": 7655.0, \"Batting Strike Rate\": 104.44, \"Hundreds Scored\": 15.0, \"Scores Of Fifty Or More\": 37.0, \"Ducks Scored\": 14.0, \"Country\": \"India\", \"Player Count\": 1, \"5000+ Runs Scored\": 1, \"40+ Batting Avg\": 0, \"90+ Batting Strike Rate\": 1}, {\"Player\": \"RG Sharma (2007-2018)\", \"Career Span\": \"2007-2018\", \"Career Start\": 2007, \"Career End\": 2018, \"Matches Played\": 193, \"Innings Batted\": 187.0, \"Not Outs\": 31.0, \"Runs Scored\": 7454.0, \"Highest Innings Score\": \"264\", \"Highest Innings Score Num\": \"264\", \"Batting Avg\": 47.78, \"Balls Faced\": 8406.0, \"Batting Strike Rate\": 88.67, \"Hundreds Scored\": 21.0, \"Scores Of Fifty Or More\": 37.0, \"Ducks Scored\": 12.0, \"Country\": \"India\", \"Player Count\": 1, \"5000+ Runs Scored\": 1, \"40+ Batting Avg\": 1, \"90+ Batting Strike Rate\": 0}, {\"Player\": \"SK Raina (2005-2018)\", \"Career Span\": \"2005-2018\", \"Career Start\": 2005, \"Career End\": 2018, \"Matches Played\": 226, \"Innings Batted\": 194.0, \"Not Outs\": 35.0, \"Runs Scored\": 5615.0, \"Highest Innings Score\": \"116*\", \"Highest Innings Score Num\": \"116\", \"Batting Avg\": 35.31, \"Balls Faced\": 6005.0, \"Batting Strike Rate\": 93.5, \"Hundreds Scored\": 5.0, \"Scores Of Fifty Or More\": 36.0, \"Ducks Scored\": 14.0, \"Country\": \"India\", \"Player Count\": 1, \"5000+ Runs Scored\": 1, \"40+ Batting Avg\": 0, \"90+ Batting Strike Rate\": 1}, {\"Player\": \"A Jadeja (1992-2000)\", \"Career Span\": \"1992-2000\", \"Career Start\": 1992, \"Career End\": 2000, \"Matches Played\": 196, \"Innings Batted\": 179.0, \"Not Outs\": 36.0, \"Runs Scored\": 5359.0, \"Highest Innings Score\": \"119\", \"Highest Innings Score Num\": \"119\", \"Batting Avg\": 37.47, \"Balls Faced\": 7677.0, \"Batting Strike Rate\": 69.8, \"Hundreds Scored\": 6.0, \"Scores Of Fifty Or More\": 30.0, \"Ducks Scored\": 10.0, \"Country\": \"India\", \"Player Count\": 1, \"5000+ Runs Scored\": 1, \"40+ Batting Avg\": 0, \"90+ Batting Strike Rate\": 0}, {\"Player\": \"G Gambhir (2003-2013)\", \"Career Span\": \"2003-2013\", \"Career Start\": 2003, \"Career End\": 2013, \"Matches Played\": 147, \"Innings Batted\": 143.0, \"Not Outs\": 11.0, \"Runs Scored\": 5238.0, \"Highest Innings Score\": \"150*\", \"Highest Innings Score Num\": \"150\", \"Batting Avg\": 39.68, \"Balls Faced\": 6144.0, \"Batting Strike Rate\": 85.25, \"Hundreds Scored\": 11.0, \"Scores Of Fifty Or More\": 34.0, \"Ducks Scored\": 11.0, \"Country\": \"India\", \"Player Count\": 1, \"5000+ Runs Scored\": 1, \"40+ Batting Avg\": 0, \"90+ Batting Strike Rate\": 0}, {\"Player\": \"S Dhawan (2010-2018)\", \"Career Span\": \"2010-2018\", \"Career Start\": 2010, \"Career End\": 2018, \"Matches Played\": 115, \"Innings Batted\": 114.0, \"Not Outs\": 6.0, \"Runs Scored\": 4935.0, \"Highest Innings Score\": \"137\", \"Highest Innings Score Num\": \"137\", \"Batting Avg\": 45.69, \"Balls Faced\": 5234.0, \"Batting Strike Rate\": 94.28, \"Hundreds Scored\": 15.0, \"Scores Of Fifty Or More\": 25.0, \"Ducks Scored\": 3.0, \"Country\": \"India\", \"Player Count\": 1, \"5000+ Runs Scored\": 0, \"40+ Batting Avg\": 1, \"90+ Batting Strike Rate\": 1}, {\"Player\": \"NS Sidhu (1987-1998)\", \"Career Span\": \"1987-1998\", \"Career Start\": 1987, \"Career End\": 1998, \"Matches Played\": 136, \"Innings Batted\": 127.0, \"Not Outs\": 8.0, \"Runs Scored\": 4413.0, \"Highest Innings Score\": \"134*\", \"Highest Innings Score Num\": \"134\", \"Batting Avg\": 37.08, \"Balls Faced\": 6329.0, \"Batting Strike Rate\": 69.72, \"Hundreds Scored\": 6.0, \"Scores Of Fifty Or More\": 33.0, \"Ducks Scored\": 7.0, \"Country\": \"India\", \"Player Count\": 1, \"5000+ Runs Scored\": 0, \"40+ Batting Avg\": 0, \"90+ Batting Strike Rate\": 0}, {\"Player\": \"K Srikkanth (1981-1992)\", \"Career Span\": \"1981-1992\", \"Career Start\": 1981, \"Career End\": 1992, \"Matches Played\": 146, \"Innings Batted\": 145.0, \"Not Outs\": 4.0, \"Runs Scored\": 4091.0, \"Highest Innings Score\": \"123\", \"Highest Innings Score Num\": \"123\", \"Batting Avg\": 29.01, \"Balls Faced\": 5702.0, \"Batting Strike Rate\": 71.74, \"Hundreds Scored\": 4.0, \"Scores Of Fifty Or More\": 27.0, \"Ducks Scored\": 11.0, \"Country\": \"India\", \"Player Count\": 1, \"5000+ Runs Scored\": 0, \"40+ Batting Avg\": 0, \"90+ Batting Strike Rate\": 0}, {\"Player\": \"N Kapil Dev (1978-1994)\", \"Career Span\": \"1978-1994\", \"Career Start\": 1978, \"Career End\": 1994, \"Matches Played\": 225, \"Innings Batted\": 198.0, \"Not Outs\": 39.0, \"Runs Scored\": 3783.0, \"Highest Innings Score\": \"175*\", \"Highest Innings Score Num\": \"175\", \"Batting Avg\": 23.79, \"Balls Faced\": 3979.0, \"Batting Strike Rate\": 95.07, \"Hundreds Scored\": 1.0, \"Scores Of Fifty Or More\": 14.0, \"Ducks Scored\": 13.0, \"Country\": \"India\", \"Player Count\": 1, \"5000+ Runs Scored\": 0, \"40+ Batting Avg\": 0, \"90+ Batting Strike Rate\": 1}, {\"Player\": \"DB Vengsarkar (1976-1991)\", \"Career Span\": \"1976-1991\", \"Career Start\": 1976, \"Career End\": 1991, \"Matches Played\": 129, \"Innings Batted\": 120.0, \"Not Outs\": 19.0, \"Runs Scored\": 3508.0, \"Highest Innings Score\": \"105\", \"Highest Innings Score Num\": \"105\", \"Batting Avg\": 34.73, \"Balls Faced\": 5179.0, \"Batting Strike Rate\": 67.73, \"Hundreds Scored\": 1.0, \"Scores Of Fifty Or More\": 23.0, \"Ducks Scored\": 7.0, \"Country\": \"India\", \"Player Count\": 1, \"5000+ Runs Scored\": 0, \"40+ Batting Avg\": 0, \"90+ Batting Strike Rate\": 0}, {\"Player\": \"RJ Shastri (1981-1992)\", \"Career Span\": \"1981-1992\", \"Career Start\": 1981, \"Career End\": 1992, \"Matches Played\": 150, \"Innings Batted\": 128.0, \"Not Outs\": 21.0, \"Runs Scored\": 3108.0, \"Highest Innings Score\": \"109\", \"Highest Innings Score Num\": \"109\", \"Batting Avg\": 29.04, \"Balls Faced\": 5089.0, \"Batting Strike Rate\": 61.07, \"Hundreds Scored\": 4.0, \"Scores Of Fifty Or More\": 18.0, \"Ducks Scored\": 5.0, \"Country\": \"India\", \"Player Count\": 1, \"5000+ Runs Scored\": 0, \"40+ Batting Avg\": 0, \"90+ Batting Strike Rate\": 0}, {\"Player\": \"SM Gavaskar (1974-1987)\", \"Career Span\": \"1974-1987\", \"Career Start\": 1974, \"Career End\": 1987, \"Matches Played\": 108, \"Innings Batted\": 102.0, \"Not Outs\": 14.0, \"Runs Scored\": 3092.0, \"Highest Innings Score\": \"103*\", \"Highest Innings Score Num\": \"103\", \"Batting Avg\": 35.13, \"Balls Faced\": 4966.0, \"Batting Strike Rate\": 62.26, \"Hundreds Scored\": 1.0, \"Scores Of Fifty Or More\": 27.0, \"Ducks Scored\": 8.0, \"Country\": \"India\", \"Player Count\": 1, \"5000+ Runs Scored\": 0, \"40+ Batting Avg\": 0, \"90+ Batting Strike Rate\": 0}, {\"Player\": \"AM Rahane (2011-2018)\", \"Career Span\": \"2011-2018\", \"Career Start\": 2011, \"Career End\": 2018, \"Matches Played\": 90, \"Innings Batted\": 87.0, \"Not Outs\": 3.0, \"Runs Scored\": 2962.0, \"Highest Innings Score\": \"111\", \"Highest Innings Score Num\": \"111\", \"Batting Avg\": 35.26, \"Balls Faced\": 3767.0, \"Batting Strike Rate\": 78.63, \"Hundreds Scored\": 3.0, \"Scores Of Fifty Or More\": 24.0, \"Ducks Scored\": 6.0, \"Country\": \"India\", \"Player Count\": 1, \"5000+ Runs Scored\": 0, \"40+ Batting Avg\": 0, \"90+ Batting Strike Rate\": 0}, {\"Player\": \"M Kaif (2002-2006)\", \"Career Span\": \"2002-2006\", \"Career Start\": 2002, \"Career End\": 2006, \"Matches Played\": 125, \"Innings Batted\": 110.0, \"Not Outs\": 24.0, \"Runs Scored\": 2753.0, \"Highest Innings Score\": \"111*\", \"Highest Innings Score Num\": \"111\", \"Batting Avg\": 32.01, \"Balls Faced\": 3822.0, \"Batting Strike Rate\": 72.03, \"Hundreds Scored\": 2.0, \"Scores Of Fifty Or More\": 17.0, \"Ducks Scored\": 8.0, \"Country\": \"India\", \"Player Count\": 1, \"5000+ Runs Scored\": 0, \"40+ Batting Avg\": 0, \"90+ Batting Strike Rate\": 0}, {\"Player\": \"VG Kambli (1991-2000)\", \"Career Span\": \"1991-2000\", \"Career Start\": 1991, \"Career End\": 2000, \"Matches Played\": 104, \"Innings Batted\": 97.0, \"Not Outs\": 21.0, \"Runs Scored\": 2477.0, \"Highest Innings Score\": \"106\", \"Highest Innings Score Num\": \"106\", \"Batting Avg\": 32.59, \"Balls Faced\": 3443.0, \"Batting Strike Rate\": 71.94, \"Hundreds Scored\": 2.0, \"Scores Of Fifty Or More\": 14.0, \"Ducks Scored\": 4.0, \"Country\": \"India\", \"Player Count\": 1, \"5000+ Runs Scored\": 0, \"40+ Batting Avg\": 0, \"90+ Batting Strike Rate\": 0}, {\"Player\": \"VVS Laxman (1998-2006)\", \"Career Span\": \"1998-2006\", \"Career Start\": 1998, \"Career End\": 2006, \"Matches Played\": 86, \"Innings Batted\": 83.0, \"Not Outs\": 7.0, \"Runs Scored\": 2338.0, \"Highest Innings Score\": \"131\", \"Highest Innings Score Num\": \"131\", \"Batting Avg\": 30.76, \"Balls Faced\": 3282.0, \"Batting Strike Rate\": 71.23, \"Hundreds Scored\": 6.0, \"Scores Of Fifty Or More\": 10.0, \"Ducks Scored\": 3.0, \"Country\": \"India\", \"Player Count\": 1, \"5000+ Runs Scored\": 0, \"40+ Batting Avg\": 0, \"90+ Batting Strike Rate\": 0}, {\"Player\": \"RR Singh (1989-2001)\", \"Career Span\": \"1989-2001\", \"Career Start\": 1989, \"Career End\": 2001, \"Matches Played\": 136, \"Innings Batted\": 113.0, \"Not Outs\": 23.0, \"Runs Scored\": 2336.0, \"Highest Innings Score\": \"100\", \"Highest Innings Score Num\": \"100\", \"Batting Avg\": 25.95, \"Balls Faced\": 3144.0, \"Batting Strike Rate\": 74.3, \"Hundreds Scored\": 1.0, \"Scores Of Fifty Or More\": 9.0, \"Ducks Scored\": 5.0, \"Country\": \"India\", \"Player Count\": 1, \"5000+ Runs Scored\": 0, \"40+ Batting Avg\": 0, \"90+ Batting Strike Rate\": 0}, {\"Player\": \"SV Manjrekar (1988-1996)\", \"Career Span\": \"1988-1996\", \"Career Start\": 1988, \"Career End\": 1996, \"Matches Played\": 74, \"Innings Batted\": 70.0, \"Not Outs\": 10.0, \"Runs Scored\": 1994.0, \"Highest Innings Score\": \"105\", \"Highest Innings Score Num\": \"105\", \"Batting Avg\": 33.23, \"Balls Faced\": 3101.0, \"Batting Strike Rate\": 64.3, \"Hundreds Scored\": 1.0, \"Scores Of Fifty Or More\": 15.0, \"Ducks Scored\": 3.0, \"Country\": \"India\", \"Player Count\": 1, \"5000+ Runs Scored\": 0, \"40+ Batting Avg\": 0, \"90+ Batting Strike Rate\": 0}]}}, {\"mode\": \"vega-lite\"});\n",
              "</script>"
            ]
          },
          "metadata": {},
          "execution_count": 41
        }
      ]
    },
    {
      "cell_type": "code",
      "source": [
        "innings = alt.Chart(bangladesh_top_df.head(7)).mark_point().encode(\n",
        "    x=alt.X('Innings Batted:Q', \n",
        "        scale=alt.Scale(zero=False)),\n",
        "    y='Runs Scored:Q',\n",
        "    tooltip=['Player']\n",
        ")\n",
        "\n",
        "text = innings.mark_text(\n",
        "    align='left',\n",
        "    baseline='top',\n",
        "    dx=10,\n",
        "    dy=-5,\n",
        "    angle=20\n",
        ").encode(\n",
        "    text='Player:N'\n",
        ")\n",
        "\n",
        "(innings + text).configure_axis(labelOverlap=True)"
      ],
      "metadata": {
        "colab": {
          "base_uri": "https://localhost:8080/",
          "height": 366
        },
        "id": "X5lv0CCGrAGp",
        "outputId": "ba4bd3a5-5851-4270-8d03-e73372547912"
      },
      "execution_count": 45,
      "outputs": [
        {
          "output_type": "execute_result",
          "data": {
            "text/plain": [
              "alt.LayerChart(...)"
            ],
            "text/html": [
              "\n",
              "<div id=\"altair-viz-48410253d42a40b58c77be5f121b78ad\"></div>\n",
              "<script type=\"text/javascript\">\n",
              "  (function(spec, embedOpt){\n",
              "    let outputDiv = document.currentScript.previousElementSibling;\n",
              "    if (outputDiv.id !== \"altair-viz-48410253d42a40b58c77be5f121b78ad\") {\n",
              "      outputDiv = document.getElementById(\"altair-viz-48410253d42a40b58c77be5f121b78ad\");\n",
              "    }\n",
              "    const paths = {\n",
              "      \"vega\": \"https://cdn.jsdelivr.net/npm//vega@5?noext\",\n",
              "      \"vega-lib\": \"https://cdn.jsdelivr.net/npm//vega-lib?noext\",\n",
              "      \"vega-lite\": \"https://cdn.jsdelivr.net/npm//vega-lite@4.8.1?noext\",\n",
              "      \"vega-embed\": \"https://cdn.jsdelivr.net/npm//vega-embed@6?noext\",\n",
              "    };\n",
              "\n",
              "    function loadScript(lib) {\n",
              "      return new Promise(function(resolve, reject) {\n",
              "        var s = document.createElement('script');\n",
              "        s.src = paths[lib];\n",
              "        s.async = true;\n",
              "        s.onload = () => resolve(paths[lib]);\n",
              "        s.onerror = () => reject(`Error loading script: ${paths[lib]}`);\n",
              "        document.getElementsByTagName(\"head\")[0].appendChild(s);\n",
              "      });\n",
              "    }\n",
              "\n",
              "    function showError(err) {\n",
              "      outputDiv.innerHTML = `<div class=\"error\" style=\"color:red;\">${err}</div>`;\n",
              "      throw err;\n",
              "    }\n",
              "\n",
              "    function displayChart(vegaEmbed) {\n",
              "      vegaEmbed(outputDiv, spec, embedOpt)\n",
              "        .catch(err => showError(`Javascript Error: ${err.message}<br>This usually means there's a typo in your chart specification. See the javascript console for the full traceback.`));\n",
              "    }\n",
              "\n",
              "    if(typeof define === \"function\" && define.amd) {\n",
              "      requirejs.config({paths});\n",
              "      require([\"vega-embed\"], displayChart, err => showError(`Error loading script: ${err.message}`));\n",
              "    } else if (typeof vegaEmbed === \"function\") {\n",
              "      displayChart(vegaEmbed);\n",
              "    } else {\n",
              "      loadScript(\"vega\")\n",
              "        .then(() => loadScript(\"vega-lite\"))\n",
              "        .then(() => loadScript(\"vega-embed\"))\n",
              "        .catch(showError)\n",
              "        .then(() => displayChart(vegaEmbed));\n",
              "    }\n",
              "  })({\"config\": {\"background\": \"white\", \"view\": {\"continuousWidth\": 400, \"continuousHeight\": 300}, \"axis\": {\"labelOverlap\": true}}, \"layer\": [{\"mark\": \"point\", \"encoding\": {\"tooltip\": [{\"type\": \"nominal\", \"field\": \"Player\"}], \"x\": {\"type\": \"quantitative\", \"field\": \"Innings Batted\", \"scale\": {\"zero\": false}}, \"y\": {\"type\": \"quantitative\", \"field\": \"Runs Scored\"}}}, {\"mark\": {\"type\": \"text\", \"align\": \"left\", \"angle\": 20, \"baseline\": \"top\", \"dx\": 10, \"dy\": -5}, \"encoding\": {\"text\": {\"type\": \"nominal\", \"field\": \"Player\"}, \"tooltip\": [{\"type\": \"nominal\", \"field\": \"Player\"}], \"x\": {\"type\": \"quantitative\", \"field\": \"Innings Batted\", \"scale\": {\"zero\": false}}, \"y\": {\"type\": \"quantitative\", \"field\": \"Runs Scored\"}}}], \"data\": {\"name\": \"data-7240504b6bdeb337b2417f7f629e998d\"}, \"$schema\": \"https://vega.github.io/schema/vega-lite/v4.8.1.json\", \"datasets\": {\"data-7240504b6bdeb337b2417f7f629e998d\": [{\"Player\": \"Tamim Iqbal (2007-2018)\", \"Career Span\": \"2007-2018\", \"Career Start\": 2007, \"Career End\": 2018, \"Matches Played\": 186, \"Innings Batted\": 184.0, \"Not Outs\": 8.0, \"Runs Scored\": 6450.0, \"Highest Innings Score\": \"154\", \"Highest Innings Score Num\": \"154\", \"Batting Avg\": 36.64, \"Balls Faced\": 8254.0, \"Batting Strike Rate\": 78.14, \"Hundreds Scored\": 11.0, \"Scores Of Fifty Or More\": 44.0, \"Ducks Scored\": 16.0, \"Country\": \"Bangladesh\", \"Player Count\": 1, \"5000+ Runs Scored\": 1, \"40+ Batting Avg\": 0, \"90+ Batting Strike Rate\": 0}, {\"Player\": \"Shakib Al Hasan (2006-2018)\", \"Career Span\": \"2006-2018\", \"Career Start\": 2006, \"Career End\": 2018, \"Matches Played\": 195, \"Innings Batted\": 183.0, \"Not Outs\": 24.0, \"Runs Scored\": 5577.0, \"Highest Innings Score\": \"134*\", \"Highest Innings Score Num\": \"134\", \"Batting Avg\": 35.07, \"Balls Faced\": 6863.0, \"Batting Strike Rate\": 81.26, \"Hundreds Scored\": 7.0, \"Scores Of Fifty Or More\": 40.0, \"Ducks Scored\": 10.0, \"Country\": \"Bangladesh\", \"Player Count\": 1, \"5000+ Runs Scored\": 1, \"40+ Batting Avg\": 0, \"90+ Batting Strike Rate\": 0}, {\"Player\": \"Mushfiqur Rahim (2006-2018)\", \"Career Span\": \"2006-2018\", \"Career Start\": 2006, \"Career End\": 2018, \"Matches Played\": 198, \"Innings Batted\": 184.0, \"Not Outs\": 31.0, \"Runs Scored\": 5346.0, \"Highest Innings Score\": \"144\", \"Highest Innings Score Num\": \"144\", \"Batting Avg\": 34.94, \"Balls Faced\": 6881.0, \"Batting Strike Rate\": 77.69, \"Hundreds Scored\": 6.0, \"Scores Of Fifty Or More\": 32.0, \"Ducks Scored\": 10.0, \"Country\": \"Bangladesh\", \"Player Count\": 1, \"5000+ Runs Scored\": 1, \"40+ Batting Avg\": 0, \"90+ Batting Strike Rate\": 0}, {\"Player\": \"Mahmudullah (2007-2018)\", \"Career Span\": \"2007-2018\", \"Career Start\": 2007, \"Career End\": 2018, \"Matches Played\": 168, \"Innings Batted\": 145.0, \"Not Outs\": 38.0, \"Runs Scored\": 3637.0, \"Highest Innings Score\": \"128*\", \"Highest Innings Score Num\": \"128\", \"Batting Avg\": 33.99, \"Balls Faced\": 4784.0, \"Batting Strike Rate\": 76.02, \"Hundreds Scored\": 3.0, \"Scores Of Fifty Or More\": 20.0, \"Ducks Scored\": 8.0, \"Country\": \"Bangladesh\", \"Player Count\": 1, \"5000+ Runs Scored\": 0, \"40+ Batting Avg\": 0, \"90+ Batting Strike Rate\": 0}, {\"Player\": \"Mohammad Ashraful (2001-2013)\", \"Career Span\": \"2001-2013\", \"Career Start\": 2001, \"Career End\": 2013, \"Matches Played\": 175, \"Innings Batted\": 168.0, \"Not Outs\": 13.0, \"Runs Scored\": 3468.0, \"Highest Innings Score\": \"109\", \"Highest Innings Score Num\": \"109\", \"Batting Avg\": 22.37, \"Balls Faced\": 4946.0, \"Batting Strike Rate\": 70.11, \"Hundreds Scored\": 3.0, \"Scores Of Fifty Or More\": 20.0, \"Ducks Scored\": 13.0, \"Country\": \"Bangladesh\", \"Player Count\": 1, \"5000+ Runs Scored\": 0, \"40+ Batting Avg\": 0, \"90+ Batting Strike Rate\": 0}, {\"Player\": \"Imrul Kayes (2008-2018)\", \"Career Span\": \"2008-2018\", \"Career Start\": 2008, \"Career End\": 2018, \"Matches Played\": 78, \"Innings Batted\": 78.0, \"Not Outs\": 2.0, \"Runs Scored\": 2434.0, \"Highest Innings Score\": \"144\", \"Highest Innings Score Num\": \"144\", \"Batting Avg\": 32.02, \"Balls Faced\": 3423.0, \"Batting Strike Rate\": 71.1, \"Hundreds Scored\": 4.0, \"Scores Of Fifty Or More\": 16.0, \"Ducks Scored\": 2.0, \"Country\": \"Bangladesh\", \"Player Count\": 1, \"5000+ Runs Scored\": 0, \"40+ Batting Avg\": 0, \"90+ Batting Strike Rate\": 0}, {\"Player\": \"Shahriar Nafees (2005-2011)\", \"Career Span\": \"2005-2011\", \"Career Start\": 2005, \"Career End\": 2011, \"Matches Played\": 75, \"Innings Batted\": 75.0, \"Not Outs\": 5.0, \"Runs Scored\": 2201.0, \"Highest Innings Score\": \"123*\", \"Highest Innings Score Num\": \"123\", \"Batting Avg\": 31.44, \"Balls Faced\": 3167.0, \"Batting Strike Rate\": 69.49, \"Hundreds Scored\": 4.0, \"Scores Of Fifty Or More\": 13.0, \"Ducks Scored\": 11.0, \"Country\": \"Bangladesh\", \"Player Count\": 1, \"5000+ Runs Scored\": 0, \"40+ Batting Avg\": 0, \"90+ Batting Strike Rate\": 0}]}}, {\"mode\": \"vega-lite\"});\n",
              "</script>"
            ]
          },
          "metadata": {},
          "execution_count": 45
        }
      ]
    },
    {
      "cell_type": "code",
      "source": [
        "innings = alt.Chart(india_df).mark_point().encode(\n",
        "    x='Innings Batted:Q',\n",
        "    y='Runs Scored:Q',\n",
        "    color='Innings Batted:Q',\n",
        "    tooltip=['Player']\n",
        ")\n",
        "\n",
        "rule = alt.Chart(india_df).mark_rule(color='red').encode(\n",
        "    y='mean(Runs Scored):Q'\n",
        ")\n",
        "\n",
        "balls = alt.Chart(india_df).mark_point().encode(\n",
        "    x='Balls Faced:Q',\n",
        "    y='Runs Scored:Q',\n",
        "    color='Innings Batted:Q',\n",
        "    tooltip=['Player']\n",
        ")\n",
        "\n",
        "(innings+rule) | balls"
      ],
      "metadata": {
        "colab": {
          "base_uri": "https://localhost:8080/",
          "height": 370
        },
        "id": "P217Q1SwrLHx",
        "outputId": "a081f8a8-4fae-4b1b-ac3d-ecd17eaa6a57"
      },
      "execution_count": null,
      "outputs": [
        {
          "output_type": "execute_result",
          "data": {
            "text/plain": [
              "alt.HConcatChart(...)"
            ],
            "text/html": [
              "\n",
              "<div id=\"altair-viz-b3283895be9a4dd4afa0fb3c48e1daeb\"></div>\n",
              "<script type=\"text/javascript\">\n",
              "  (function(spec, embedOpt){\n",
              "    let outputDiv = document.currentScript.previousElementSibling;\n",
              "    if (outputDiv.id !== \"altair-viz-b3283895be9a4dd4afa0fb3c48e1daeb\") {\n",
              "      outputDiv = document.getElementById(\"altair-viz-b3283895be9a4dd4afa0fb3c48e1daeb\");\n",
              "    }\n",
              "    const paths = {\n",
              "      \"vega\": \"https://cdn.jsdelivr.net/npm//vega@5?noext\",\n",
              "      \"vega-lib\": \"https://cdn.jsdelivr.net/npm//vega-lib?noext\",\n",
              "      \"vega-lite\": \"https://cdn.jsdelivr.net/npm//vega-lite@4.8.1?noext\",\n",
              "      \"vega-embed\": \"https://cdn.jsdelivr.net/npm//vega-embed@6?noext\",\n",
              "    };\n",
              "\n",
              "    function loadScript(lib) {\n",
              "      return new Promise(function(resolve, reject) {\n",
              "        var s = document.createElement('script');\n",
              "        s.src = paths[lib];\n",
              "        s.async = true;\n",
              "        s.onload = () => resolve(paths[lib]);\n",
              "        s.onerror = () => reject(`Error loading script: ${paths[lib]}`);\n",
              "        document.getElementsByTagName(\"head\")[0].appendChild(s);\n",
              "      });\n",
              "    }\n",
              "\n",
              "    function showError(err) {\n",
              "      outputDiv.innerHTML = `<div class=\"error\" style=\"color:red;\">${err}</div>`;\n",
              "      throw err;\n",
              "    }\n",
              "\n",
              "    function displayChart(vegaEmbed) {\n",
              "      vegaEmbed(outputDiv, spec, embedOpt)\n",
              "        .catch(err => showError(`Javascript Error: ${err.message}<br>This usually means there's a typo in your chart specification. See the javascript console for the full traceback.`));\n",
              "    }\n",
              "\n",
              "    if(typeof define === \"function\" && define.amd) {\n",
              "      requirejs.config({paths});\n",
              "      require([\"vega-embed\"], displayChart, err => showError(`Error loading script: ${err.message}`));\n",
              "    } else if (typeof vegaEmbed === \"function\") {\n",
              "      displayChart(vegaEmbed);\n",
              "    } else {\n",
              "      loadScript(\"vega\")\n",
              "        .then(() => loadScript(\"vega-lite\"))\n",
              "        .then(() => loadScript(\"vega-embed\"))\n",
              "        .catch(showError)\n",
              "        .then(() => displayChart(vegaEmbed));\n",
              "    }\n",
              "  })({\"config\": {\"background\": \"white\", \"view\": {\"continuousWidth\": 400, \"continuousHeight\": 300}}, \"hconcat\": [{\"layer\": [{\"mark\": \"point\", \"encoding\": {\"color\": {\"type\": \"quantitative\", \"field\": \"Innings Batted\"}, \"tooltip\": [{\"type\": \"nominal\", \"field\": \"Player\"}], \"x\": {\"type\": \"quantitative\", \"field\": \"Innings Batted\"}, \"y\": {\"type\": \"quantitative\", \"field\": \"Runs Scored\"}}}, {\"mark\": {\"type\": \"rule\", \"color\": \"red\"}, \"encoding\": {\"y\": {\"type\": \"quantitative\", \"aggregate\": \"mean\", \"field\": \"Runs Scored\"}}}]}, {\"mark\": \"point\", \"encoding\": {\"color\": {\"type\": \"quantitative\", \"field\": \"Innings Batted\"}, \"tooltip\": [{\"type\": \"nominal\", \"field\": \"Player\"}], \"x\": {\"type\": \"quantitative\", \"field\": \"Balls Faced\"}, \"y\": {\"type\": \"quantitative\", \"field\": \"Runs Scored\"}}}], \"data\": {\"name\": \"data-9f7360f29a1d3f506bc534f2f144f7f3\"}, \"$schema\": \"https://vega.github.io/schema/vega-lite/v4.8.1.json\", \"datasets\": {\"data-9f7360f29a1d3f506bc534f2f144f7f3\": [{\"Player\": \"SR Tendulkar (1989-2012)\", \"Career Span\": \"1989-2012\", \"Career Start\": 1989, \"Career End\": 2012, \"Matches Played\": 463, \"Innings Batted\": 452.0, \"Not Outs\": 41.0, \"Runs Scored\": 18426.0, \"Highest Innings Score\": \"200*\", \"Highest Innings Score Num\": \"200\", \"Batting Avg\": 44.83, \"Balls Faced\": 21367.0, \"Batting Strike Rate\": 86.23, \"Hundreds Scored\": 49.0, \"Scores Of Fifty Or More\": 96.0, \"Ducks Scored\": 20.0, \"Country\": \"India\", \"Player Count\": 1, \"5000+ Runs Scored\": 1, \"40+ Batting Avg\": 1, \"90+ Batting Strike Rate\": 0}, {\"Player\": \"SC Ganguly (1992-2007)\", \"Career Span\": \"1992-2007\", \"Career Start\": 1992, \"Career End\": 2007, \"Matches Played\": 308, \"Innings Batted\": 297.0, \"Not Outs\": 23.0, \"Runs Scored\": 11221.0, \"Highest Innings Score\": \"183\", \"Highest Innings Score Num\": \"183\", \"Batting Avg\": 40.95, \"Balls Faced\": 15235.0, \"Batting Strike Rate\": 73.65, \"Hundreds Scored\": 22.0, \"Scores Of Fifty Or More\": 71.0, \"Ducks Scored\": 16.0, \"Country\": \"India\", \"Player Count\": 1, \"5000+ Runs Scored\": 1, \"40+ Batting Avg\": 1, \"90+ Batting Strike Rate\": 0}, {\"Player\": \"R Dravid (1996-2011)\", \"Career Span\": \"1996-2011\", \"Career Start\": 1996, \"Career End\": 2011, \"Matches Played\": 340, \"Innings Batted\": 314.0, \"Not Outs\": 39.0, \"Runs Scored\": 10768.0, \"Highest Innings Score\": \"153\", \"Highest Innings Score Num\": \"153\", \"Batting Avg\": 39.15, \"Balls Faced\": 15126.0, \"Batting Strike Rate\": 71.18, \"Hundreds Scored\": 12.0, \"Scores Of Fifty Or More\": 82.0, \"Ducks Scored\": 13.0, \"Country\": \"India\", \"Player Count\": 1, \"5000+ Runs Scored\": 1, \"40+ Batting Avg\": 0, \"90+ Batting Strike Rate\": 0}, {\"Player\": \"V Kohli (2008-2018)\", \"Career Span\": \"2008-2018\", \"Career Start\": 2008, \"Career End\": 2018, \"Matches Played\": 216, \"Innings Batted\": 208.0, \"Not Outs\": 37.0, \"Runs Scored\": 10232.0, \"Highest Innings Score\": \"183\", \"Highest Innings Score Num\": \"183\", \"Batting Avg\": 59.83, \"Balls Faced\": 11016.0, \"Batting Strike Rate\": 92.88, \"Hundreds Scored\": 38.0, \"Scores Of Fifty Or More\": 48.0, \"Ducks Scored\": 12.0, \"Country\": \"India\", \"Player Count\": 1, \"5000+ Runs Scored\": 1, \"40+ Batting Avg\": 1, \"90+ Batting Strike Rate\": 1}, {\"Player\": \"MS Dhoni (2004-2018)\", \"Career Span\": \"2004-2018\", \"Career Start\": 2004, \"Career End\": 2018, \"Matches Played\": 329, \"Innings Batted\": 278.0, \"Not Outs\": 77.0, \"Runs Scored\": 9999.0, \"Highest Innings Score\": \"183*\", \"Highest Innings Score Num\": \"183\", \"Batting Avg\": 49.74, \"Balls Faced\": 11435.0, \"Batting Strike Rate\": 87.44, \"Hundreds Scored\": 9.0, \"Scores Of Fifty Or More\": 67.0, \"Ducks Scored\": 9.0, \"Country\": \"India\", \"Player Count\": 1, \"5000+ Runs Scored\": 1, \"40+ Batting Avg\": 1, \"90+ Batting Strike Rate\": 0}, {\"Player\": \"M Azharuddin (1985-2000)\", \"Career Span\": \"1985-2000\", \"Career Start\": 1985, \"Career End\": 2000, \"Matches Played\": 334, \"Innings Batted\": 308.0, \"Not Outs\": 54.0, \"Runs Scored\": 9378.0, \"Highest Innings Score\": \"153*\", \"Highest Innings Score Num\": \"153\", \"Batting Avg\": 36.92, \"Balls Faced\": 12669.0, \"Batting Strike Rate\": 74.02, \"Hundreds Scored\": 7.0, \"Scores Of Fifty Or More\": 58.0, \"Ducks Scored\": 9.0, \"Country\": \"India\", \"Player Count\": 1, \"5000+ Runs Scored\": 1, \"40+ Batting Avg\": 0, \"90+ Batting Strike Rate\": 0}, {\"Player\": \"Yuvraj Singh (2000-2017)\", \"Career Span\": \"2000-2017\", \"Career Start\": 2000, \"Career End\": 2017, \"Matches Played\": 301, \"Innings Batted\": 275.0, \"Not Outs\": 39.0, \"Runs Scored\": 8609.0, \"Highest Innings Score\": \"150\", \"Highest Innings Score Num\": \"150\", \"Batting Avg\": 36.47, \"Balls Faced\": 9846.0, \"Batting Strike Rate\": 87.43, \"Hundreds Scored\": 14.0, \"Scores Of Fifty Or More\": 52.0, \"Ducks Scored\": 18.0, \"Country\": \"India\", \"Player Count\": 1, \"5000+ Runs Scored\": 1, \"40+ Batting Avg\": 0, \"90+ Batting Strike Rate\": 0}, {\"Player\": \"V Sehwag (1999-2013)\", \"Career Span\": \"1999-2013\", \"Career Start\": 1999, \"Career End\": 2013, \"Matches Played\": 241, \"Innings Batted\": 235.0, \"Not Outs\": 9.0, \"Runs Scored\": 7995.0, \"Highest Innings Score\": \"219\", \"Highest Innings Score Num\": \"219\", \"Batting Avg\": 35.37, \"Balls Faced\": 7655.0, \"Batting Strike Rate\": 104.44, \"Hundreds Scored\": 15.0, \"Scores Of Fifty Or More\": 37.0, \"Ducks Scored\": 14.0, \"Country\": \"India\", \"Player Count\": 1, \"5000+ Runs Scored\": 1, \"40+ Batting Avg\": 0, \"90+ Batting Strike Rate\": 1}, {\"Player\": \"RG Sharma (2007-2018)\", \"Career Span\": \"2007-2018\", \"Career Start\": 2007, \"Career End\": 2018, \"Matches Played\": 193, \"Innings Batted\": 187.0, \"Not Outs\": 31.0, \"Runs Scored\": 7454.0, \"Highest Innings Score\": \"264\", \"Highest Innings Score Num\": \"264\", \"Batting Avg\": 47.78, \"Balls Faced\": 8406.0, \"Batting Strike Rate\": 88.67, \"Hundreds Scored\": 21.0, \"Scores Of Fifty Or More\": 37.0, \"Ducks Scored\": 12.0, \"Country\": \"India\", \"Player Count\": 1, \"5000+ Runs Scored\": 1, \"40+ Batting Avg\": 1, \"90+ Batting Strike Rate\": 0}, {\"Player\": \"SK Raina (2005-2018)\", \"Career Span\": \"2005-2018\", \"Career Start\": 2005, \"Career End\": 2018, \"Matches Played\": 226, \"Innings Batted\": 194.0, \"Not Outs\": 35.0, \"Runs Scored\": 5615.0, \"Highest Innings Score\": \"116*\", \"Highest Innings Score Num\": \"116\", \"Batting Avg\": 35.31, \"Balls Faced\": 6005.0, \"Batting Strike Rate\": 93.5, \"Hundreds Scored\": 5.0, \"Scores Of Fifty Or More\": 36.0, \"Ducks Scored\": 14.0, \"Country\": \"India\", \"Player Count\": 1, \"5000+ Runs Scored\": 1, \"40+ Batting Avg\": 0, \"90+ Batting Strike Rate\": 1}, {\"Player\": \"A Jadeja (1992-2000)\", \"Career Span\": \"1992-2000\", \"Career Start\": 1992, \"Career End\": 2000, \"Matches Played\": 196, \"Innings Batted\": 179.0, \"Not Outs\": 36.0, \"Runs Scored\": 5359.0, \"Highest Innings Score\": \"119\", \"Highest Innings Score Num\": \"119\", \"Batting Avg\": 37.47, \"Balls Faced\": 7677.0, \"Batting Strike Rate\": 69.8, \"Hundreds Scored\": 6.0, \"Scores Of Fifty Or More\": 30.0, \"Ducks Scored\": 10.0, \"Country\": \"India\", \"Player Count\": 1, \"5000+ Runs Scored\": 1, \"40+ Batting Avg\": 0, \"90+ Batting Strike Rate\": 0}, {\"Player\": \"G Gambhir (2003-2013)\", \"Career Span\": \"2003-2013\", \"Career Start\": 2003, \"Career End\": 2013, \"Matches Played\": 147, \"Innings Batted\": 143.0, \"Not Outs\": 11.0, \"Runs Scored\": 5238.0, \"Highest Innings Score\": \"150*\", \"Highest Innings Score Num\": \"150\", \"Batting Avg\": 39.68, \"Balls Faced\": 6144.0, \"Batting Strike Rate\": 85.25, \"Hundreds Scored\": 11.0, \"Scores Of Fifty Or More\": 34.0, \"Ducks Scored\": 11.0, \"Country\": \"India\", \"Player Count\": 1, \"5000+ Runs Scored\": 1, \"40+ Batting Avg\": 0, \"90+ Batting Strike Rate\": 0}, {\"Player\": \"S Dhawan (2010-2018)\", \"Career Span\": \"2010-2018\", \"Career Start\": 2010, \"Career End\": 2018, \"Matches Played\": 115, \"Innings Batted\": 114.0, \"Not Outs\": 6.0, \"Runs Scored\": 4935.0, \"Highest Innings Score\": \"137\", \"Highest Innings Score Num\": \"137\", \"Batting Avg\": 45.69, \"Balls Faced\": 5234.0, \"Batting Strike Rate\": 94.28, \"Hundreds Scored\": 15.0, \"Scores Of Fifty Or More\": 25.0, \"Ducks Scored\": 3.0, \"Country\": \"India\", \"Player Count\": 1, \"5000+ Runs Scored\": 0, \"40+ Batting Avg\": 1, \"90+ Batting Strike Rate\": 1}, {\"Player\": \"NS Sidhu (1987-1998)\", \"Career Span\": \"1987-1998\", \"Career Start\": 1987, \"Career End\": 1998, \"Matches Played\": 136, \"Innings Batted\": 127.0, \"Not Outs\": 8.0, \"Runs Scored\": 4413.0, \"Highest Innings Score\": \"134*\", \"Highest Innings Score Num\": \"134\", \"Batting Avg\": 37.08, \"Balls Faced\": 6329.0, \"Batting Strike Rate\": 69.72, \"Hundreds Scored\": 6.0, \"Scores Of Fifty Or More\": 33.0, \"Ducks Scored\": 7.0, \"Country\": \"India\", \"Player Count\": 1, \"5000+ Runs Scored\": 0, \"40+ Batting Avg\": 0, \"90+ Batting Strike Rate\": 0}, {\"Player\": \"K Srikkanth (1981-1992)\", \"Career Span\": \"1981-1992\", \"Career Start\": 1981, \"Career End\": 1992, \"Matches Played\": 146, \"Innings Batted\": 145.0, \"Not Outs\": 4.0, \"Runs Scored\": 4091.0, \"Highest Innings Score\": \"123\", \"Highest Innings Score Num\": \"123\", \"Batting Avg\": 29.01, \"Balls Faced\": 5702.0, \"Batting Strike Rate\": 71.74, \"Hundreds Scored\": 4.0, \"Scores Of Fifty Or More\": 27.0, \"Ducks Scored\": 11.0, \"Country\": \"India\", \"Player Count\": 1, \"5000+ Runs Scored\": 0, \"40+ Batting Avg\": 0, \"90+ Batting Strike Rate\": 0}, {\"Player\": \"N Kapil Dev (1978-1994)\", \"Career Span\": \"1978-1994\", \"Career Start\": 1978, \"Career End\": 1994, \"Matches Played\": 225, \"Innings Batted\": 198.0, \"Not Outs\": 39.0, \"Runs Scored\": 3783.0, \"Highest Innings Score\": \"175*\", \"Highest Innings Score Num\": \"175\", \"Batting Avg\": 23.79, \"Balls Faced\": 3979.0, \"Batting Strike Rate\": 95.07, \"Hundreds Scored\": 1.0, \"Scores Of Fifty Or More\": 14.0, \"Ducks Scored\": 13.0, \"Country\": \"India\", \"Player Count\": 1, \"5000+ Runs Scored\": 0, \"40+ Batting Avg\": 0, \"90+ Batting Strike Rate\": 1}, {\"Player\": \"DB Vengsarkar (1976-1991)\", \"Career Span\": \"1976-1991\", \"Career Start\": 1976, \"Career End\": 1991, \"Matches Played\": 129, \"Innings Batted\": 120.0, \"Not Outs\": 19.0, \"Runs Scored\": 3508.0, \"Highest Innings Score\": \"105\", \"Highest Innings Score Num\": \"105\", \"Batting Avg\": 34.73, \"Balls Faced\": 5179.0, \"Batting Strike Rate\": 67.73, \"Hundreds Scored\": 1.0, \"Scores Of Fifty Or More\": 23.0, \"Ducks Scored\": 7.0, \"Country\": \"India\", \"Player Count\": 1, \"5000+ Runs Scored\": 0, \"40+ Batting Avg\": 0, \"90+ Batting Strike Rate\": 0}, {\"Player\": \"RJ Shastri (1981-1992)\", \"Career Span\": \"1981-1992\", \"Career Start\": 1981, \"Career End\": 1992, \"Matches Played\": 150, \"Innings Batted\": 128.0, \"Not Outs\": 21.0, \"Runs Scored\": 3108.0, \"Highest Innings Score\": \"109\", \"Highest Innings Score Num\": \"109\", \"Batting Avg\": 29.04, \"Balls Faced\": 5089.0, \"Batting Strike Rate\": 61.07, \"Hundreds Scored\": 4.0, \"Scores Of Fifty Or More\": 18.0, \"Ducks Scored\": 5.0, \"Country\": \"India\", \"Player Count\": 1, \"5000+ Runs Scored\": 0, \"40+ Batting Avg\": 0, \"90+ Batting Strike Rate\": 0}, {\"Player\": \"SM Gavaskar (1974-1987)\", \"Career Span\": \"1974-1987\", \"Career Start\": 1974, \"Career End\": 1987, \"Matches Played\": 108, \"Innings Batted\": 102.0, \"Not Outs\": 14.0, \"Runs Scored\": 3092.0, \"Highest Innings Score\": \"103*\", \"Highest Innings Score Num\": \"103\", \"Batting Avg\": 35.13, \"Balls Faced\": 4966.0, \"Batting Strike Rate\": 62.26, \"Hundreds Scored\": 1.0, \"Scores Of Fifty Or More\": 27.0, \"Ducks Scored\": 8.0, \"Country\": \"India\", \"Player Count\": 1, \"5000+ Runs Scored\": 0, \"40+ Batting Avg\": 0, \"90+ Batting Strike Rate\": 0}, {\"Player\": \"AM Rahane (2011-2018)\", \"Career Span\": \"2011-2018\", \"Career Start\": 2011, \"Career End\": 2018, \"Matches Played\": 90, \"Innings Batted\": 87.0, \"Not Outs\": 3.0, \"Runs Scored\": 2962.0, \"Highest Innings Score\": \"111\", \"Highest Innings Score Num\": \"111\", \"Batting Avg\": 35.26, \"Balls Faced\": 3767.0, \"Batting Strike Rate\": 78.63, \"Hundreds Scored\": 3.0, \"Scores Of Fifty Or More\": 24.0, \"Ducks Scored\": 6.0, \"Country\": \"India\", \"Player Count\": 1, \"5000+ Runs Scored\": 0, \"40+ Batting Avg\": 0, \"90+ Batting Strike Rate\": 0}, {\"Player\": \"M Kaif (2002-2006)\", \"Career Span\": \"2002-2006\", \"Career Start\": 2002, \"Career End\": 2006, \"Matches Played\": 125, \"Innings Batted\": 110.0, \"Not Outs\": 24.0, \"Runs Scored\": 2753.0, \"Highest Innings Score\": \"111*\", \"Highest Innings Score Num\": \"111\", \"Batting Avg\": 32.01, \"Balls Faced\": 3822.0, \"Batting Strike Rate\": 72.03, \"Hundreds Scored\": 2.0, \"Scores Of Fifty Or More\": 17.0, \"Ducks Scored\": 8.0, \"Country\": \"India\", \"Player Count\": 1, \"5000+ Runs Scored\": 0, \"40+ Batting Avg\": 0, \"90+ Batting Strike Rate\": 0}, {\"Player\": \"VG Kambli (1991-2000)\", \"Career Span\": \"1991-2000\", \"Career Start\": 1991, \"Career End\": 2000, \"Matches Played\": 104, \"Innings Batted\": 97.0, \"Not Outs\": 21.0, \"Runs Scored\": 2477.0, \"Highest Innings Score\": \"106\", \"Highest Innings Score Num\": \"106\", \"Batting Avg\": 32.59, \"Balls Faced\": 3443.0, \"Batting Strike Rate\": 71.94, \"Hundreds Scored\": 2.0, \"Scores Of Fifty Or More\": 14.0, \"Ducks Scored\": 4.0, \"Country\": \"India\", \"Player Count\": 1, \"5000+ Runs Scored\": 0, \"40+ Batting Avg\": 0, \"90+ Batting Strike Rate\": 0}, {\"Player\": \"VVS Laxman (1998-2006)\", \"Career Span\": \"1998-2006\", \"Career Start\": 1998, \"Career End\": 2006, \"Matches Played\": 86, \"Innings Batted\": 83.0, \"Not Outs\": 7.0, \"Runs Scored\": 2338.0, \"Highest Innings Score\": \"131\", \"Highest Innings Score Num\": \"131\", \"Batting Avg\": 30.76, \"Balls Faced\": 3282.0, \"Batting Strike Rate\": 71.23, \"Hundreds Scored\": 6.0, \"Scores Of Fifty Or More\": 10.0, \"Ducks Scored\": 3.0, \"Country\": \"India\", \"Player Count\": 1, \"5000+ Runs Scored\": 0, \"40+ Batting Avg\": 0, \"90+ Batting Strike Rate\": 0}, {\"Player\": \"RR Singh (1989-2001)\", \"Career Span\": \"1989-2001\", \"Career Start\": 1989, \"Career End\": 2001, \"Matches Played\": 136, \"Innings Batted\": 113.0, \"Not Outs\": 23.0, \"Runs Scored\": 2336.0, \"Highest Innings Score\": \"100\", \"Highest Innings Score Num\": \"100\", \"Batting Avg\": 25.95, \"Balls Faced\": 3144.0, \"Batting Strike Rate\": 74.3, \"Hundreds Scored\": 1.0, \"Scores Of Fifty Or More\": 9.0, \"Ducks Scored\": 5.0, \"Country\": \"India\", \"Player Count\": 1, \"5000+ Runs Scored\": 0, \"40+ Batting Avg\": 0, \"90+ Batting Strike Rate\": 0}, {\"Player\": \"SV Manjrekar (1988-1996)\", \"Career Span\": \"1988-1996\", \"Career Start\": 1988, \"Career End\": 1996, \"Matches Played\": 74, \"Innings Batted\": 70.0, \"Not Outs\": 10.0, \"Runs Scored\": 1994.0, \"Highest Innings Score\": \"105\", \"Highest Innings Score Num\": \"105\", \"Batting Avg\": 33.23, \"Balls Faced\": 3101.0, \"Batting Strike Rate\": 64.3, \"Hundreds Scored\": 1.0, \"Scores Of Fifty Or More\": 15.0, \"Ducks Scored\": 3.0, \"Country\": \"India\", \"Player Count\": 1, \"5000+ Runs Scored\": 0, \"40+ Batting Avg\": 0, \"90+ Batting Strike Rate\": 0}, {\"Player\": \"RA Jadeja (2009-2018)\", \"Career Span\": \"2009-2018\", \"Career Start\": 2009, \"Career End\": 2018, \"Matches Played\": 144, \"Innings Batted\": 97.0, \"Not Outs\": 33.0, \"Runs Scored\": 1982.0, \"Highest Innings Score\": \"87\", \"Highest Innings Score Num\": \"87\", \"Batting Avg\": 30.96, \"Balls Faced\": 2329.0, \"Batting Strike Rate\": 85.1, \"Hundreds Scored\": 0.0, \"Scores Of Fifty Or More\": 10.0, \"Ducks Scored\": 5.0, \"Country\": \"India\", \"Player Count\": 1, \"5000+ Runs Scored\": 0, \"40+ Batting Avg\": 0, \"90+ Batting Strike Rate\": 0}, {\"Player\": \"M Amarnath (1975-1989)\", \"Career Span\": \"1975-1989\", \"Career Start\": 1975, \"Career End\": 1989, \"Matches Played\": 85, \"Innings Batted\": 75.0, \"Not Outs\": 12.0, \"Runs Scored\": 1924.0, \"Highest Innings Score\": \"102*\", \"Highest Innings Score Num\": \"102\", \"Batting Avg\": 30.53, \"Balls Faced\": 3334.0, \"Batting Strike Rate\": 57.7, \"Hundreds Scored\": 2.0, \"Scores Of Fifty Or More\": 13.0, \"Ducks Scored\": 2.0, \"Country\": \"India\", \"Player Count\": 1, \"5000+ Runs Scored\": 0, \"40+ Batting Avg\": 0, \"90+ Batting Strike Rate\": 0}, {\"Player\": \"M Prabhakar (1984-1996)\", \"Career Span\": \"1984-1996\", \"Career Start\": 1984, \"Career End\": 1996, \"Matches Played\": 130, \"Innings Batted\": 98.0, \"Not Outs\": 21.0, \"Runs Scored\": 1858.0, \"Highest Innings Score\": \"106\", \"Highest Innings Score Num\": \"106\", \"Batting Avg\": 24.12, \"Balls Faced\": 3083.0, \"Batting Strike Rate\": 60.26, \"Hundreds Scored\": 2.0, \"Scores Of Fifty Or More\": 11.0, \"Ducks Scored\": 8.0, \"Country\": \"India\", \"Player Count\": 1, \"5000+ Runs Scored\": 0, \"40+ Batting Avg\": 0, \"90+ Batting Strike Rate\": 0}, {\"Player\": \"KD Karthik (2004-2018)\", \"Career Span\": \"2004-2018\", \"Career Start\": 2004, \"Career End\": 2018, \"Matches Played\": 86, \"Innings Batted\": 73.0, \"Not Outs\": 19.0, \"Runs Scored\": 1663.0, \"Highest Innings Score\": \"79\", \"Highest Innings Score Num\": \"79\", \"Batting Avg\": 30.79, \"Balls Faced\": 2282.0, \"Batting Strike Rate\": 72.87, \"Hundreds Scored\": 0.0, \"Scores Of Fifty Or More\": 9.0, \"Ducks Scored\": 5.0, \"Country\": \"India\", \"Player Count\": 1, \"5000+ Runs Scored\": 0, \"40+ Batting Avg\": 0, \"90+ Batting Strike Rate\": 0}, {\"Player\": \"IK Pathan (2004-2012)\", \"Career Span\": \"2004-2012\", \"Career Start\": 2004, \"Career End\": 2012, \"Matches Played\": 120, \"Innings Batted\": 87.0, \"Not Outs\": 21.0, \"Runs Scored\": 1544.0, \"Highest Innings Score\": \"83\", \"Highest Innings Score Num\": \"83\", \"Batting Avg\": 23.39, \"Balls Faced\": 1941.0, \"Batting Strike Rate\": 79.54, \"Hundreds Scored\": 0.0, \"Scores Of Fifty Or More\": 5.0, \"Ducks Scored\": 7.0, \"Country\": \"India\", \"Player Count\": 1, \"5000+ Runs Scored\": 0, \"40+ Batting Avg\": 0, \"90+ Batting Strike Rate\": 0}, {\"Player\": \"AT Rayudu (2013-2018)\", \"Career Span\": \"2013-2018\", \"Career Start\": 2013, \"Career End\": 2018, \"Matches Played\": 45, \"Innings Batted\": 40.0, \"Not Outs\": 12.0, \"Runs Scored\": 1447.0, \"Highest Innings Score\": \"124*\", \"Highest Innings Score Num\": \"124\", \"Batting Avg\": 51.67, \"Balls Faced\": 1815.0, \"Batting Strike Rate\": 79.72, \"Hundreds Scored\": 3.0, \"Scores Of Fifty Or More\": 9.0, \"Ducks Scored\": 1.0, \"Country\": \"India\", \"Player Count\": 1, \"5000+ Runs Scored\": 0, \"40+ Batting Avg\": 1, \"90+ Batting Strike Rate\": 0}, {\"Player\": \"NR Mongia (1994-2000)\", \"Career Span\": \"1994-2000\", \"Career Start\": 1994, \"Career End\": 2000, \"Matches Played\": 140, \"Innings Batted\": 96.0, \"Not Outs\": 33.0, \"Runs Scored\": 1272.0, \"Highest Innings Score\": \"69\", \"Highest Innings Score Num\": \"69\", \"Batting Avg\": 20.19, \"Balls Faced\": 1846.0, \"Batting Strike Rate\": 68.9, \"Hundreds Scored\": 0.0, \"Scores Of Fifty Or More\": 2.0, \"Ducks Scored\": 4.0, \"Country\": \"India\", \"Player Count\": 1, \"5000+ Runs Scored\": 0, \"40+ Batting Avg\": 0, \"90+ Batting Strike Rate\": 0}, {\"Player\": \"AB Agarkar (1998-2007)\", \"Career Span\": \"1998-2007\", \"Career Start\": 1998, \"Career End\": 2007, \"Matches Played\": 191, \"Innings Batted\": 113.0, \"Not Outs\": 26.0, \"Runs Scored\": 1269.0, \"Highest Innings Score\": \"95\", \"Highest Innings Score Num\": \"95\", \"Batting Avg\": 14.58, \"Balls Faced\": 1574.0, \"Batting Strike Rate\": 80.62, \"Hundreds Scored\": 0.0, \"Scores Of Fifty Or More\": 3.0, \"Ducks Scored\": 10.0, \"Country\": \"India\", \"Player Count\": 1, \"5000+ Runs Scored\": 0, \"40+ Batting Avg\": 0, \"90+ Batting Strike Rate\": 0}, {\"Player\": \"D Mongia (2001-2007)\", \"Career Span\": \"2001-2007\", \"Career Start\": 2001, \"Career End\": 2007, \"Matches Played\": 57, \"Innings Batted\": 51.0, \"Not Outs\": 7.0, \"Runs Scored\": 1230.0, \"Highest Innings Score\": \"159*\", \"Highest Innings Score Num\": \"159\", \"Batting Avg\": 27.95, \"Balls Faced\": 1721.0, \"Batting Strike Rate\": 71.47, \"Hundreds Scored\": 1.0, \"Scores Of Fifty Or More\": 4.0, \"Ducks Scored\": 4.0, \"Country\": \"India\", \"Player Count\": 1, \"5000+ Runs Scored\": 0, \"40+ Batting Avg\": 0, \"90+ Batting Strike Rate\": 0}, {\"Player\": \"Harbhajan Singh (1998-2015)\", \"Career Span\": \"1998-2015\", \"Career Start\": 1998, \"Career End\": 2015, \"Matches Played\": 234, \"Innings Batted\": 126.0, \"Not Outs\": 35.0, \"Runs Scored\": 1213.0, \"Highest Innings Score\": \"49\", \"Highest Innings Score Num\": \"49\", \"Batting Avg\": 13.32, \"Balls Faced\": 1502.0, \"Batting Strike Rate\": 80.75, \"Hundreds Scored\": 0.0, \"Scores Of Fifty Or More\": 0.0, \"Ducks Scored\": 17.0, \"Country\": \"India\", \"Player Count\": 1, \"5000+ Runs Scored\": 0, \"40+ Batting Avg\": 0, \"90+ Batting Strike Rate\": 0}, {\"Player\": \"SM Patil (1980-1986)\", \"Career Span\": \"1980-1986\", \"Career Start\": 1980, \"Career End\": 1986, \"Matches Played\": 45, \"Innings Batted\": 42.0, \"Not Outs\": 1.0, \"Runs Scored\": 1005.0, \"Highest Innings Score\": \"84\", \"Highest Innings Score Num\": \"84\", \"Batting Avg\": 24.51, \"Balls Faced\": 1223.0, \"Batting Strike Rate\": 82.17, \"Hundreds Scored\": 0.0, \"Scores Of Fifty Or More\": 9.0, \"Ducks Scored\": 4.0, \"Country\": \"India\", \"Player Count\": 1, \"5000+ Runs Scored\": 0, \"40+ Batting Avg\": 0, \"90+ Batting Strike Rate\": 0}, {\"Player\": \"RV Uthappa (2006-2015)\", \"Career Span\": \"2006-2015\", \"Career Start\": 2006, \"Career End\": 2015, \"Matches Played\": 46, \"Innings Batted\": 42.0, \"Not Outs\": 6.0, \"Runs Scored\": 934.0, \"Highest Innings Score\": \"86\", \"Highest Innings Score Num\": \"86\", \"Batting Avg\": 25.94, \"Balls Faced\": 1031.0, \"Batting Strike Rate\": 90.59, \"Hundreds Scored\": 0.0, \"Scores Of Fifty Or More\": 6.0, \"Ducks Scored\": 4.0, \"Country\": \"India\", \"Player Count\": 1, \"5000+ Runs Scored\": 0, \"40+ Batting Avg\": 0, \"90+ Batting Strike Rate\": 1}, {\"Player\": \"A Kumble (1990-2007)\", \"Career Span\": \"1990-2007\", \"Career Start\": 1990, \"Career End\": 2007, \"Matches Played\": 269, \"Innings Batted\": 134.0, \"Not Outs\": 47.0, \"Runs Scored\": 903.0, \"Highest Innings Score\": \"26\", \"Highest Innings Score Num\": \"26\", \"Batting Avg\": 10.37, \"Balls Faced\": 1481.0, \"Batting Strike Rate\": 60.97, \"Hundreds Scored\": 0.0, \"Scores Of Fifty Or More\": 0.0, \"Ducks Scored\": 18.0, \"Country\": \"India\", \"Player Count\": 1, \"5000+ Runs Scored\": 0, \"40+ Batting Avg\": 0, \"90+ Batting Strike Rate\": 0}, {\"Player\": \"KM Jadhav (2014-2018)\", \"Career Span\": \"2014-2018\", \"Career Start\": 2014, \"Career End\": 2018, \"Matches Played\": 48, \"Innings Batted\": 31.0, \"Not Outs\": 10.0, \"Runs Scored\": 884.0, \"Highest Innings Score\": \"120\", \"Highest Innings Score Num\": \"120\", \"Batting Avg\": 42.09, \"Balls Faced\": 819.0, \"Batting Strike Rate\": 107.93, \"Hundreds Scored\": 2.0, \"Scores Of Fifty Or More\": 3.0, \"Ducks Scored\": 2.0, \"Country\": \"India\", \"Player Count\": 1, \"5000+ Runs Scored\": 0, \"40+ Batting Avg\": 1, \"90+ Batting Strike Rate\": 1}, {\"Player\": \"J Srinath (1991-2003)\", \"Career Span\": \"1991-2003\", \"Career Start\": 1991, \"Career End\": 2003, \"Matches Played\": 229, \"Innings Batted\": 121.0, \"Not Outs\": 38.0, \"Runs Scored\": 883.0, \"Highest Innings Score\": \"53\", \"Highest Innings Score Num\": \"53\", \"Batting Avg\": 10.63, \"Balls Faced\": 1109.0, \"Batting Strike Rate\": 79.62, \"Hundreds Scored\": 0.0, \"Scores Of Fifty Or More\": 1.0, \"Ducks Scored\": 19.0, \"Country\": \"India\", \"Player Count\": 1, \"5000+ Runs Scored\": 0, \"40+ Batting Avg\": 0, \"90+ Batting Strike Rate\": 0}, {\"Player\": \"Yashpal Sharma (1978-1985)\", \"Career Span\": \"1978-1985\", \"Career Start\": 1978, \"Career End\": 1985, \"Matches Played\": 42, \"Innings Batted\": 40.0, \"Not Outs\": 9.0, \"Runs Scored\": 883.0, \"Highest Innings Score\": \"89\", \"Highest Innings Score Num\": \"89\", \"Batting Avg\": 28.48, \"Balls Faced\": 1401.0, \"Batting Strike Rate\": 63.02, \"Hundreds Scored\": 0.0, \"Scores Of Fifty Or More\": 4.0, \"Ducks Scored\": 0.0, \"Country\": \"India\", \"Player Count\": 1, \"5000+ Runs Scored\": 0, \"40+ Batting Avg\": 0, \"90+ Batting Strike Rate\": 0}, {\"Player\": \"HK Badani (2000-2004)\", \"Career Span\": \"2000-2004\", \"Career Start\": 2000, \"Career End\": 2004, \"Matches Played\": 40, \"Innings Batted\": 36.0, \"Not Outs\": 10.0, \"Runs Scored\": 867.0, \"Highest Innings Score\": \"100\", \"Highest Innings Score Num\": \"100\", \"Batting Avg\": 33.34, \"Balls Faced\": 1180.0, \"Batting Strike Rate\": 73.47, \"Hundreds Scored\": 1.0, \"Scores Of Fifty Or More\": 4.0, \"Ducks Scored\": 1.0, \"Country\": \"India\", \"Player Count\": 1, \"5000+ Runs Scored\": 0, \"40+ Batting Avg\": 0, \"90+ Batting Strike Rate\": 0}, {\"Player\": \"YK Pathan (2008-2012)\", \"Career Span\": \"2008-2012\", \"Career Start\": 2008, \"Career End\": 2012, \"Matches Played\": 57, \"Innings Batted\": 41.0, \"Not Outs\": 11.0, \"Runs Scored\": 810.0, \"Highest Innings Score\": \"123*\", \"Highest Innings Score Num\": \"123\", \"Batting Avg\": 27.0, \"Balls Faced\": 713.0, \"Batting Strike Rate\": 113.6, \"Hundreds Scored\": 2.0, \"Scores Of Fifty Or More\": 3.0, \"Ducks Scored\": 7.0, \"Country\": \"India\", \"Player Count\": 1, \"5000+ Runs Scored\": 0, \"40+ Batting Avg\": 0, \"90+ Batting Strike Rate\": 1}, {\"Player\": \"R Lamba (1986-1989)\", \"Career Span\": \"1986-1989\", \"Career Start\": 1986, \"Career End\": 1989, \"Matches Played\": 32, \"Innings Batted\": 31.0, \"Not Outs\": 2.0, \"Runs Scored\": 783.0, \"Highest Innings Score\": \"102\", \"Highest Innings Score Num\": \"102\", \"Batting Avg\": 27.0, \"Balls Faced\": 1166.0, \"Batting Strike Rate\": 67.15, \"Hundreds Scored\": 1.0, \"Scores Of Fifty Or More\": 6.0, \"Ducks Scored\": 2.0, \"Country\": \"India\", \"Player Count\": 1, \"5000+ Runs Scored\": 0, \"40+ Batting Avg\": 0, \"90+ Batting Strike Rate\": 0}, {\"Player\": \"Z Khan (2000-2012)\", \"Career Span\": \"2000-2012\", \"Career Start\": 2000, \"Career End\": 2012, \"Matches Played\": 194, \"Innings Batted\": 96.0, \"Not Outs\": 31.0, \"Runs Scored\": 753.0, \"Highest Innings Score\": \"34*\", \"Highest Innings Score Num\": \"34\", \"Batting Avg\": 11.58, \"Balls Faced\": 1041.0, \"Batting Strike Rate\": 72.33, \"Hundreds Scored\": 0.0, \"Scores Of Fifty Or More\": 0.0, \"Ducks Scored\": 14.0, \"Country\": \"India\", \"Player Count\": 1, \"5000+ Runs Scored\": 0, \"40+ Batting Avg\": 0, \"90+ Batting Strike Rate\": 0}, {\"Player\": \"PA Patel (2003-2012)\", \"Career Span\": \"2003-2012\", \"Career Start\": 2003, \"Career End\": 2012, \"Matches Played\": 38, \"Innings Batted\": 34.0, \"Not Outs\": 3.0, \"Runs Scored\": 736.0, \"Highest Innings Score\": \"95\", \"Highest Innings Score Num\": \"95\", \"Batting Avg\": 23.74, \"Balls Faced\": 962.0, \"Batting Strike Rate\": 76.5, \"Hundreds Scored\": 0.0, \"Scores Of Fifty Or More\": 4.0, \"Ducks Scored\": 2.0, \"Country\": \"India\", \"Player Count\": 1, \"5000+ Runs Scored\": 0, \"40+ Batting Avg\": 0, \"90+ Batting Strike Rate\": 0}, {\"Player\": \"R Ashwin (2010-2017)\", \"Career Span\": \"2010-2017\", \"Career Start\": 2010, \"Career End\": 2017, \"Matches Played\": 111, \"Innings Batted\": 61.0, \"Not Outs\": 19.0, \"Runs Scored\": 675.0, \"Highest Innings Score\": \"65\", \"Highest Innings Score Num\": \"65\", \"Batting Avg\": 16.07, \"Balls Faced\": 776.0, \"Batting Strike Rate\": 86.98, \"Hundreds Scored\": 0.0, \"Scores Of Fifty Or More\": 1.0, \"Ducks Scored\": 6.0, \"Country\": \"India\", \"Player Count\": 1, \"5000+ Runs Scored\": 0, \"40+ Batting Avg\": 0, \"90+ Batting Strike Rate\": 0}, {\"Player\": \"HH Pandya (2016-2018)\", \"Career Span\": \"2016-2018\", \"Career Start\": 2016, \"Career End\": 2018, \"Matches Played\": 42, \"Innings Batted\": 27.0, \"Not Outs\": 4.0, \"Runs Scored\": 670.0, \"Highest Innings Score\": \"83\", \"Highest Innings Score Num\": \"83\", \"Batting Avg\": 29.13, \"Balls Faced\": 585.0, \"Batting Strike Rate\": 114.52, \"Hundreds Scored\": 0.0, \"Scores Of Fifty Or More\": 4.0, \"Ducks Scored\": 2.0, \"Country\": \"India\", \"Player Count\": 1, \"5000+ Runs Scored\": 0, \"40+ Batting Avg\": 0, \"90+ Batting Strike Rate\": 1}, {\"Player\": \"S Ramesh (1999-1999)\", \"Career Span\": \"1999-1999\", \"Career Start\": 1999, \"Career End\": 1999, \"Matches Played\": 24, \"Innings Batted\": 24.0, \"Not Outs\": 1.0, \"Runs Scored\": 646.0, \"Highest Innings Score\": \"82\", \"Highest Innings Score Num\": \"82\", \"Batting Avg\": 28.08, \"Balls Faced\": 1092.0, \"Batting Strike Rate\": 59.15, \"Hundreds Scored\": 0.0, \"Scores Of Fifty Or More\": 6.0, \"Ducks Scored\": 3.0, \"Country\": \"India\", \"Player Count\": 1, \"5000+ Runs Scored\": 0, \"40+ Batting Avg\": 0, \"90+ Batting Strike Rate\": 0}, {\"Player\": \"RMH Binny (1980-1987)\", \"Career Span\": \"1980-1987\", \"Career Start\": 1980, \"Career End\": 1987, \"Matches Played\": 72, \"Innings Batted\": 49.0, \"Not Outs\": 10.0, \"Runs Scored\": 629.0, \"Highest Innings Score\": \"57\", \"Highest Innings Score Num\": \"57\", \"Batting Avg\": 16.12, \"Balls Faced\": 1046.0, \"Batting Strike Rate\": 60.13, \"Hundreds Scored\": 0.0, \"Scores Of Fifty Or More\": 1.0, \"Ducks Scored\": 4.0, \"Country\": \"India\", \"Player Count\": 1, \"5000+ Runs Scored\": 0, \"40+ Batting Avg\": 0, \"90+ Batting Strike Rate\": 0}, {\"Player\": \"WV Raman (1988-1996)\", \"Career Span\": \"1988-1996\", \"Career Start\": 1988, \"Career End\": 1996, \"Matches Played\": 27, \"Innings Batted\": 27.0, \"Not Outs\": 1.0, \"Runs Scored\": 617.0, \"Highest Innings Score\": \"114\", \"Highest Innings Score Num\": \"114\", \"Batting Avg\": 23.73, \"Balls Faced\": 1109.0, \"Batting Strike Rate\": 55.63, \"Hundreds Scored\": 1.0, \"Scores Of Fifty Or More\": 3.0, \"Ducks Scored\": 6.0, \"Country\": \"India\", \"Player Count\": 1, \"5000+ Runs Scored\": 0, \"40+ Batting Avg\": 0, \"90+ Batting Strike Rate\": 0}, {\"Player\": \"SB Joshi (1996-2001)\", \"Career Span\": \"1996-2001\", \"Career Start\": 1996, \"Career End\": 2001, \"Matches Played\": 69, \"Innings Batted\": 45.0, \"Not Outs\": 11.0, \"Runs Scored\": 584.0, \"Highest Innings Score\": \"61*\", \"Highest Innings Score Num\": \"61\", \"Batting Avg\": 17.17, \"Balls Faced\": 653.0, \"Batting Strike Rate\": 89.43, \"Hundreds Scored\": 0.0, \"Scores Of Fifty Or More\": 1.0, \"Ducks Scored\": 4.0, \"Country\": \"India\", \"Player Count\": 1, \"5000+ Runs Scored\": 0, \"40+ Batting Avg\": 0, \"90+ Batting Strike Rate\": 0}, {\"Player\": \"KS More (1984-1993)\", \"Career Span\": \"1984-1993\", \"Career Start\": 1984, \"Career End\": 1993, \"Matches Played\": 94, \"Innings Batted\": 65.0, \"Not Outs\": 22.0, \"Runs Scored\": 563.0, \"Highest Innings Score\": \"42*\", \"Highest Innings Score Num\": \"42\", \"Batting Avg\": 13.09, \"Balls Faced\": 808.0, \"Batting Strike Rate\": 69.67, \"Hundreds Scored\": 0.0, \"Scores Of Fifty Or More\": 0.0, \"Ducks Scored\": 5.0, \"Country\": \"India\", \"Player Count\": 1, \"5000+ Runs Scored\": 0, \"40+ Batting Avg\": 0, \"90+ Batting Strike Rate\": 0}, {\"Player\": \"PK Amre (1991-1994)\", \"Career Span\": \"1991-1994\", \"Career Start\": 1991, \"Career End\": 1994, \"Matches Played\": 37, \"Innings Batted\": 30.0, \"Not Outs\": 5.0, \"Runs Scored\": 513.0, \"Highest Innings Score\": \"84*\", \"Highest Innings Score Num\": \"84\", \"Batting Avg\": 20.52, \"Balls Faced\": 799.0, \"Batting Strike Rate\": 64.2, \"Hundreds Scored\": 0.0, \"Scores Of Fifty Or More\": 2.0, \"Ducks Scored\": 1.0, \"Country\": \"India\", \"Player Count\": 1, \"5000+ Runs Scored\": 0, \"40+ Batting Avg\": 0, \"90+ Batting Strike Rate\": 0}, {\"Player\": \"AO Malhotra (1982-1986)\", \"Career Span\": \"1982-1986\", \"Career Start\": 1982, \"Career End\": 1986, \"Matches Played\": 20, \"Innings Batted\": 19.0, \"Not Outs\": 4.0, \"Runs Scored\": 457.0, \"Highest Innings Score\": \"65\", \"Highest Innings Score Num\": \"65\", \"Batting Avg\": 30.46, \"Balls Faced\": 645.0, \"Batting Strike Rate\": 70.85, \"Hundreds Scored\": 0.0, \"Scores Of Fifty Or More\": 1.0, \"Ducks Scored\": 0.0, \"Country\": \"India\", \"Player Count\": 1, \"5000+ Runs Scored\": 0, \"40+ Batting Avg\": 0, \"90+ Batting Strike Rate\": 0}, {\"Player\": \"C Sharma (1983-1994)\", \"Career Span\": \"1983-1994\", \"Career Start\": 1983, \"Career End\": 1994, \"Matches Played\": 65, \"Innings Batted\": 35.0, \"Not Outs\": 16.0, \"Runs Scored\": 456.0, \"Highest Innings Score\": \"101*\", \"Highest Innings Score Num\": \"101\", \"Batting Avg\": 24.0, \"Balls Faced\": 504.0, \"Batting Strike Rate\": 90.47, \"Hundreds Scored\": 1.0, \"Scores Of Fifty Or More\": 0.0, \"Ducks Scored\": 3.0, \"Country\": \"India\", \"Player Count\": 1, \"5000+ Runs Scored\": 0, \"40+ Batting Avg\": 0, \"90+ Batting Strike Rate\": 1}, {\"Player\": \"B Kumar (2012-2018)\", \"Career Span\": \"2012-2018\", \"Career Start\": 2012, \"Career End\": 2018, \"Matches Played\": 95, \"Innings Batted\": 44.0, \"Not Outs\": 14.0, \"Runs Scored\": 440.0, \"Highest Innings Score\": \"53*\", \"Highest Innings Score Num\": \"53\", \"Batting Avg\": 14.66, \"Balls Faced\": 598.0, \"Batting Strike Rate\": 73.57, \"Hundreds Scored\": 0.0, \"Scores Of Fifty Or More\": 1.0, \"Ducks Scored\": 7.0, \"Country\": \"India\", \"Player Count\": 1, \"5000+ Runs Scored\": 0, \"40+ Batting Avg\": 0, \"90+ Batting Strike Rate\": 0}, {\"Player\": \"MK Pandey (2015-2018)\", \"Career Span\": \"2015-2018\", \"Career Start\": 2015, \"Career End\": 2018, \"Matches Played\": 23, \"Innings Batted\": 18.0, \"Not Outs\": 6.0, \"Runs Scored\": 440.0, \"Highest Innings Score\": \"104*\", \"Highest Innings Score Num\": \"104\", \"Batting Avg\": 36.66, \"Balls Faced\": 479.0, \"Batting Strike Rate\": 91.85, \"Hundreds Scored\": 1.0, \"Scores Of Fifty Or More\": 2.0, \"Ducks Scored\": 2.0, \"Country\": \"India\", \"Player Count\": 1, \"5000+ Runs Scored\": 0, \"40+ Batting Avg\": 0, \"90+ Batting Strike Rate\": 0}, {\"Player\": \"GR Viswanath (1974-1982)\", \"Career Span\": \"1974-1982\", \"Career Start\": 1974, \"Career End\": 1982, \"Matches Played\": 25, \"Innings Batted\": 23.0, \"Not Outs\": 1.0, \"Runs Scored\": 439.0, \"Highest Innings Score\": \"75\", \"Highest Innings Score Num\": \"75\", \"Batting Avg\": 19.95, \"Balls Faced\": 830.0, \"Batting Strike Rate\": 52.89, \"Hundreds Scored\": 0.0, \"Scores Of Fifty Or More\": 2.0, \"Ducks Scored\": 1.0, \"Country\": \"India\", \"Player Count\": 1, \"5000+ Runs Scored\": 0, \"40+ Batting Avg\": 0, \"90+ Batting Strike Rate\": 0}, {\"Player\": \"AK Sharma (1988-1993)\", \"Career Span\": \"1988-1993\", \"Career Start\": 1988, \"Career End\": 1993, \"Matches Played\": 31, \"Innings Batted\": 27.0, \"Not Outs\": 6.0, \"Runs Scored\": 424.0, \"Highest Innings Score\": \"59*\", \"Highest Innings Score Num\": \"59\", \"Batting Avg\": 20.19, \"Balls Faced\": 469.0, \"Batting Strike Rate\": 90.4, \"Hundreds Scored\": 0.0, \"Scores Of Fifty Or More\": 3.0, \"Ducks Scored\": 2.0, \"Country\": \"India\", \"Player Count\": 1, \"5000+ Runs Scored\": 0, \"40+ Batting Avg\": 0, \"90+ Batting Strike Rate\": 0}, {\"Player\": \"S Madan Lal (1974-1987)\", \"Career Span\": \"1974-1987\", \"Career Start\": 1974, \"Career End\": 1987, \"Matches Played\": 67, \"Innings Batted\": 35.0, \"Not Outs\": 14.0, \"Runs Scored\": 401.0, \"Highest Innings Score\": \"53*\", \"Highest Innings Score Num\": \"53\", \"Batting Avg\": 19.09, \"Balls Faced\": 645.0, \"Batting Strike Rate\": 62.17, \"Hundreds Scored\": 0.0, \"Scores Of Fifty Or More\": 1.0, \"Ducks Scored\": 1.0, \"Country\": \"India\", \"Player Count\": 1, \"5000+ Runs Scored\": 0, \"40+ Batting Avg\": 0, \"90+ Batting Strike Rate\": 0}, {\"Player\": \"SMH Kirmani (1976-1986)\", \"Career Span\": \"1976-1986\", \"Career Start\": 1976, \"Career End\": 1986, \"Matches Played\": 49, \"Innings Batted\": 31.0, \"Not Outs\": 13.0, \"Runs Scored\": 373.0, \"Highest Innings Score\": \"48*\", \"Highest Innings Score Num\": \"48\", \"Batting Avg\": 20.72, \"Balls Faced\": 616.0, \"Batting Strike Rate\": 60.55, \"Hundreds Scored\": 0.0, \"Scores Of Fifty Or More\": 0.0, \"Ducks Scored\": 2.0, \"Country\": \"India\", \"Player Count\": 1, \"5000+ Runs Scored\": 0, \"40+ Batting Avg\": 0, \"90+ Batting Strike Rate\": 0}, {\"Player\": \"SS Karim (1997-2000)\", \"Career Span\": \"1997-2000\", \"Career Start\": 1997, \"Career End\": 2000, \"Matches Played\": 34, \"Innings Batted\": 27.0, \"Not Outs\": 4.0, \"Runs Scored\": 362.0, \"Highest Innings Score\": \"55\", \"Highest Innings Score Num\": \"55\", \"Batting Avg\": 15.73, \"Balls Faced\": 560.0, \"Batting Strike Rate\": 64.64, \"Hundreds Scored\": 0.0, \"Scores Of Fifty Or More\": 1.0, \"Ducks Scored\": 2.0, \"Country\": \"India\", \"Player Count\": 1, \"5000+ Runs Scored\": 0, \"40+ Batting Avg\": 0, \"90+ Batting Strike Rate\": 0}, {\"Player\": \"HH Kanitkar (1997-2000)\", \"Career Span\": \"1997-2000\", \"Career Start\": 1997, \"Career End\": 2000, \"Matches Played\": 34, \"Innings Batted\": 27.0, \"Not Outs\": 8.0, \"Runs Scored\": 339.0, \"Highest Innings Score\": \"57\", \"Highest Innings Score Num\": \"57\", \"Batting Avg\": 17.84, \"Balls Faced\": 512.0, \"Batting Strike Rate\": 66.21, \"Hundreds Scored\": 0.0, \"Scores Of Fifty Or More\": 1.0, \"Ducks Scored\": 2.0, \"Country\": \"India\", \"Player Count\": 1, \"5000+ Runs Scored\": 0, \"40+ Batting Avg\": 0, \"90+ Batting Strike Rate\": 0}, {\"Player\": \"M Vijay (2010-2015)\", \"Career Span\": \"2010-2015\", \"Career Start\": 2010, \"Career End\": 2015, \"Matches Played\": 17, \"Innings Batted\": 16.0, \"Not Outs\": 0.0, \"Runs Scored\": 339.0, \"Highest Innings Score\": \"72\", \"Highest Innings Score Num\": \"72\", \"Batting Avg\": 21.18, \"Balls Faced\": 506.0, \"Batting Strike Rate\": 66.99, \"Hundreds Scored\": 0.0, \"Scores Of Fifty Or More\": 1.0, \"Ducks Scored\": 0.0, \"Country\": \"India\", \"Player Count\": 1, \"5000+ Runs Scored\": 0, \"40+ Batting Avg\": 0, \"90+ Batting Strike Rate\": 0}, {\"Player\": \"KL Rahul (2016-2018)\", \"Career Span\": \"2016-2018\", \"Career Start\": 2016, \"Career End\": 2018, \"Matches Played\": 13, \"Innings Batted\": 12.0, \"Not Outs\": 3.0, \"Runs Scored\": 317.0, \"Highest Innings Score\": \"100*\", \"Highest Innings Score Num\": \"100\", \"Batting Avg\": 35.22, \"Balls Faced\": 393.0, \"Batting Strike Rate\": 80.66, \"Hundreds Scored\": 1.0, \"Scores Of Fifty Or More\": 2.0, \"Ducks Scored\": 1.0, \"Country\": \"India\", \"Player Count\": 1, \"5000+ Runs Scored\": 0, \"40+ Batting Avg\": 0, \"90+ Batting Strike Rate\": 0}, {\"Player\": \"N Chopra (1998-2000)\", \"Career Span\": \"1998-2000\", \"Career Start\": 1998, \"Career End\": 2000, \"Matches Played\": 39, \"Innings Batted\": 26.0, \"Not Outs\": 6.0, \"Runs Scored\": 310.0, \"Highest Innings Score\": \"61\", \"Highest Innings Score Num\": \"61\", \"Batting Avg\": 15.5, \"Balls Faced\": 498.0, \"Batting Strike Rate\": 62.24, \"Hundreds Scored\": 0.0, \"Scores Of Fifty Or More\": 1.0, \"Ducks Scored\": 1.0, \"Country\": \"India\", \"Player Count\": 1, \"5000+ Runs Scored\": 0, \"40+ Batting Avg\": 0, \"90+ Batting Strike Rate\": 0}, {\"Player\": \"P Kumar (2007-2012)\", \"Career Span\": \"2007-2012\", \"Career Start\": 2007, \"Career End\": 2012, \"Matches Played\": 68, \"Innings Batted\": 33.0, \"Not Outs\": 12.0, \"Runs Scored\": 292.0, \"Highest Innings Score\": \"54*\", \"Highest Innings Score Num\": \"54\", \"Batting Avg\": 13.9, \"Balls Faced\": 331.0, \"Batting Strike Rate\": 88.21, \"Hundreds Scored\": 0.0, \"Scores Of Fifty Or More\": 1.0, \"Ducks Scored\": 2.0, \"Country\": \"India\", \"Player Count\": 1, \"5000+ Runs Scored\": 0, \"40+ Batting Avg\": 0, \"90+ Batting Strike Rate\": 0}, {\"Player\": \"CS Pandit (1986-1992)\", \"Career Span\": \"1986-1992\", \"Career Start\": 1986, \"Career End\": 1992, \"Matches Played\": 36, \"Innings Batted\": 23.0, \"Not Outs\": 9.0, \"Runs Scored\": 290.0, \"Highest Innings Score\": \"33*\", \"Highest Innings Score Num\": \"33\", \"Batting Avg\": 20.71, \"Balls Faced\": 400.0, \"Batting Strike Rate\": 72.5, \"Hundreds Scored\": 0.0, \"Scores Of Fifty Or More\": 0.0, \"Ducks Scored\": 2.0, \"Country\": \"India\", \"Player Count\": 1, \"5000+ Runs Scored\": 0, \"40+ Batting Avg\": 0, \"90+ Batting Strike Rate\": 0}, {\"Player\": \"MK Tiwary (2008-2015)\", \"Career Span\": \"2008-2015\", \"Career Start\": 2008, \"Career End\": 2015, \"Matches Played\": 12, \"Innings Batted\": 12.0, \"Not Outs\": 1.0, \"Runs Scored\": 287.0, \"Highest Innings Score\": \"104*\", \"Highest Innings Score Num\": \"104\", \"Batting Avg\": 26.09, \"Balls Faced\": 403.0, \"Batting Strike Rate\": 71.21, \"Hundreds Scored\": 1.0, \"Scores Of Fifty Or More\": 1.0, \"Ducks Scored\": 0.0, \"Country\": \"India\", \"Player Count\": 1, \"5000+ Runs Scored\": 0, \"40+ Batting Avg\": 0, \"90+ Batting Strike Rate\": 0}, {\"Player\": \"RS Sodhi (2000-2002)\", \"Career Span\": \"2000-2002\", \"Career Start\": 2000, \"Career End\": 2002, \"Matches Played\": 18, \"Innings Batted\": 14.0, \"Not Outs\": 3.0, \"Runs Scored\": 280.0, \"Highest Innings Score\": \"67\", \"Highest Innings Score Num\": \"67\", \"Batting Avg\": 25.45, \"Balls Faced\": 381.0, \"Batting Strike Rate\": 73.49, \"Hundreds Scored\": 0.0, \"Scores Of Fifty Or More\": 2.0, \"Ducks Scored\": 0.0, \"Country\": \"India\", \"Player Count\": 1, \"5000+ Runs Scored\": 0, \"40+ Batting Avg\": 0, \"90+ Batting Strike Rate\": 0}, {\"Player\": \"KBJ Azad (1980-1986)\", \"Career Span\": \"1980-1986\", \"Career Start\": 1980, \"Career End\": 1986, \"Matches Played\": 25, \"Innings Batted\": 21.0, \"Not Outs\": 2.0, \"Runs Scored\": 269.0, \"Highest Innings Score\": \"39*\", \"Highest Innings Score Num\": \"39\", \"Batting Avg\": 14.15, \"Balls Faced\": 400.0, \"Batting Strike Rate\": 67.25, \"Hundreds Scored\": 0.0, \"Scores Of Fifty Or More\": 0.0, \"Ducks Scored\": 3.0, \"Country\": \"India\", \"Player Count\": 1, \"5000+ Runs Scored\": 0, \"40+ Batting Avg\": 0, \"90+ Batting Strike Rate\": 0}, {\"Player\": \"AD Gaekwad (1975-1987)\", \"Career Span\": \"1975-1987\", \"Career Start\": 1975, \"Career End\": 1987, \"Matches Played\": 15, \"Innings Batted\": 14.0, \"Not Outs\": 1.0, \"Runs Scored\": 269.0, \"Highest Innings Score\": \"78*\", \"Highest Innings Score Num\": \"78\", \"Batting Avg\": 20.69, \"Balls Faced\": 509.0, \"Batting Strike Rate\": 52.84, \"Hundreds Scored\": 0.0, \"Scores Of Fifty Or More\": 1.0, \"Ducks Scored\": 2.0, \"Country\": \"India\", \"Player Count\": 1, \"5000+ Runs Scored\": 0, \"40+ Batting Avg\": 0, \"90+ Batting Strike Rate\": 0}, {\"Player\": \"SS Dighe (2000-2001)\", \"Career Span\": \"2000-2001\", \"Career Start\": 2000, \"Career End\": 2001, \"Matches Played\": 23, \"Innings Batted\": 17.0, \"Not Outs\": 6.0, \"Runs Scored\": 256.0, \"Highest Innings Score\": \"94*\", \"Highest Innings Score Num\": \"94\", \"Batting Avg\": 23.27, \"Balls Faced\": 421.0, \"Batting Strike Rate\": 60.8, \"Hundreds Scored\": 0.0, \"Scores Of Fifty Or More\": 1.0, \"Ducks Scored\": 1.0, \"Country\": \"India\", \"Player Count\": 1, \"5000+ Runs Scored\": 0, \"40+ Batting Avg\": 0, \"90+ Batting Strike Rate\": 0}, {\"Player\": \"BP Patel (1974-1979)\", \"Career Span\": \"1974-1979\", \"Career Start\": 1974, \"Career End\": 1979, \"Matches Played\": 10, \"Innings Batted\": 9.0, \"Not Outs\": 1.0, \"Runs Scored\": 243.0, \"Highest Innings Score\": \"82\", \"Highest Innings Score Num\": \"82\", \"Batting Avg\": 30.37, \"Balls Faced\": 399.0, \"Batting Strike Rate\": 60.9, \"Hundreds Scored\": 0.0, \"Scores Of Fifty Or More\": 1.0, \"Ducks Scored\": 0.0, \"Country\": \"India\", \"Player Count\": 1, \"5000+ Runs Scored\": 0, \"40+ Batting Avg\": 0, \"90+ Batting Strike Rate\": 0}, {\"Player\": \"STR Binny (2014-2015)\", \"Career Span\": \"2014-2015\", \"Career Start\": 2014, \"Career End\": 2015, \"Matches Played\": 14, \"Innings Batted\": 11.0, \"Not Outs\": 3.0, \"Runs Scored\": 230.0, \"Highest Innings Score\": \"77\", \"Highest Innings Score Num\": \"77\", \"Batting Avg\": 28.75, \"Balls Faced\": 246.0, \"Batting Strike Rate\": 93.49, \"Hundreds Scored\": 0.0, \"Scores Of Fifty Or More\": 1.0, \"Ducks Scored\": 1.0, \"Country\": \"India\", \"Player Count\": 1, \"5000+ Runs Scored\": 0, \"40+ Batting Avg\": 0, \"90+ Batting Strike Rate\": 0}, {\"Player\": \"BKV Prasad (1994-2001)\", \"Career Span\": \"1994-2001\", \"Career Start\": 1994, \"Career End\": 2001, \"Matches Played\": 161, \"Innings Batted\": 63.0, \"Not Outs\": 31.0, \"Runs Scored\": 221.0, \"Highest Innings Score\": \"19\", \"Highest Innings Score Num\": \"19\", \"Batting Avg\": 6.9, \"Balls Faced\": 367.0, \"Batting Strike Rate\": 60.21, \"Hundreds Scored\": 0.0, \"Scores Of Fifty Or More\": 0.0, \"Ducks Scored\": 8.0, \"Country\": \"India\", \"Player Count\": 1, \"5000+ Runs Scored\": 0, \"40+ Batting Avg\": 0, \"90+ Batting Strike Rate\": 0}, {\"Player\": \"Y Venugopal Rao (2005-2006)\", \"Career Span\": \"2005-2006\", \"Career Start\": 2005, \"Career End\": 2006, \"Matches Played\": 16, \"Innings Batted\": 11.0, \"Not Outs\": 2.0, \"Runs Scored\": 218.0, \"Highest Innings Score\": \"61*\", \"Highest Innings Score Num\": \"61\", \"Batting Avg\": 24.22, \"Balls Faced\": 363.0, \"Batting Strike Rate\": 60.05, \"Hundreds Scored\": 0.0, \"Scores Of Fifty Or More\": 1.0, \"Ducks Scored\": 2.0, \"Country\": \"India\", \"Player Count\": 1, \"5000+ Runs Scored\": 0, \"40+ Batting Avg\": 0, \"90+ Batting Strike Rate\": 0}, {\"Player\": \"V Dahiya (2000-2001)\", \"Career Span\": \"2000-2001\", \"Career Start\": 2000, \"Career End\": 2001, \"Matches Played\": 19, \"Innings Batted\": 15.0, \"Not Outs\": 2.0, \"Runs Scored\": 216.0, \"Highest Innings Score\": \"51\", \"Highest Innings Score Num\": \"51\", \"Batting Avg\": 16.61, \"Balls Faced\": 267.0, \"Batting Strike Rate\": 80.89, \"Hundreds Scored\": 0.0, \"Scores Of Fifty Or More\": 1.0, \"Ducks Scored\": 2.0, \"Country\": \"India\", \"Player Count\": 1, \"5000+ Runs Scored\": 0, \"40+ Batting Avg\": 0, \"90+ Batting Strike Rate\": 0}, {\"Player\": \"SS Iyer (2017-2018)\", \"Career Span\": \"2017-2018\", \"Career Start\": 2017, \"Career End\": 2018, \"Matches Played\": 6, \"Innings Batted\": 5.0, \"Not Outs\": 0.0, \"Runs Scored\": 210.0, \"Highest Innings Score\": \"88\", \"Highest Innings Score Num\": \"88\", \"Batting Avg\": 42.0, \"Balls Faced\": 218.0, \"Batting Strike Rate\": 96.33, \"Hundreds Scored\": 0.0, \"Scores Of Fifty Or More\": 2.0, \"Ducks Scored\": 0.0, \"Country\": \"India\", \"Player Count\": 1, \"5000+ Runs Scored\": 0, \"40+ Batting Avg\": 0, \"90+ Batting Strike Rate\": 0}, {\"Player\": \"V Rathour (1996-1997)\", \"Career Span\": \"1996-1997\", \"Career Start\": 1996, \"Career End\": 1997, \"Matches Played\": 7, \"Innings Batted\": 7.0, \"Not Outs\": 0.0, \"Runs Scored\": 193.0, \"Highest Innings Score\": \"54\", \"Highest Innings Score Num\": \"54\", \"Batting Avg\": 27.57, \"Balls Faced\": 331.0, \"Batting Strike Rate\": 58.3, \"Hundreds Scored\": 0.0, \"Scores Of Fifty Or More\": 2.0, \"Ducks Scored\": 0.0, \"Country\": \"India\", \"Player Count\": 1, \"5000+ Runs Scored\": 0, \"40+ Batting Avg\": 0, \"90+ Batting Strike Rate\": 0}, {\"Player\": \"AR Patel (2014-2017)\", \"Career Span\": \"2014-2017\", \"Career Start\": 2014, \"Career End\": 2017, \"Matches Played\": 38, \"Innings Batted\": 20.0, \"Not Outs\": 6.0, \"Runs Scored\": 181.0, \"Highest Innings Score\": \"38\", \"Highest Innings Score Num\": \"38\", \"Batting Avg\": 12.92, \"Balls Faced\": 190.0, \"Batting Strike Rate\": 95.26, \"Hundreds Scored\": 0.0, \"Scores Of Fifty Or More\": 0.0, \"Ducks Scored\": 3.0, \"Country\": \"India\", \"Player Count\": 1, \"5000+ Runs Scored\": 0, \"40+ Batting Avg\": 0, \"90+ Batting Strike Rate\": 0}, {\"Player\": \"SB Bangar (2002-2004)\", \"Career Span\": \"2002-2004\", \"Career Start\": 2002, \"Career End\": 2004, \"Matches Played\": 15, \"Innings Batted\": 15.0, \"Not Outs\": 2.0, \"Runs Scored\": 180.0, \"Highest Innings Score\": \"57*\", \"Highest Innings Score Num\": \"57\", \"Batting Avg\": 13.84, \"Balls Faced\": 239.0, \"Batting Strike Rate\": 75.31, \"Hundreds Scored\": 0.0, \"Scores Of Fifty Or More\": 1.0, \"Ducks Scored\": 3.0, \"Country\": \"India\", \"Player Count\": 1, \"5000+ Runs Scored\": 0, \"40+ Batting Avg\": 0, \"90+ Batting Strike Rate\": 0}, {\"Player\": \"SC Khanna (1979-1984)\", \"Career Span\": \"1979-1984\", \"Career Start\": 1979, \"Career End\": 1984, \"Matches Played\": 10, \"Innings Batted\": 10.0, \"Not Outs\": 2.0, \"Runs Scored\": 176.0, \"Highest Innings Score\": \"56\", \"Highest Innings Score Num\": \"56\", \"Batting Avg\": 22.0, \"Balls Faced\": 265.0, \"Batting Strike Rate\": 66.41, \"Hundreds Scored\": 0.0, \"Scores Of Fifty Or More\": 2.0, \"Ducks Scored\": 1.0, \"Country\": \"India\", \"Player Count\": 1, \"5000+ Runs Scored\": 0, \"40+ Batting Avg\": 0, \"90+ Batting Strike Rate\": 0}, {\"Player\": \"GAHM Parkar (1982-1984)\", \"Career Span\": \"1982-1984\", \"Career Start\": 1982, \"Career End\": 1984, \"Matches Played\": 10, \"Innings Batted\": 10.0, \"Not Outs\": 1.0, \"Runs Scored\": 165.0, \"Highest Innings Score\": \"42\", \"Highest Innings Score Num\": \"42\", \"Batting Avg\": 18.33, \"Balls Faced\": 332.0, \"Batting Strike Rate\": 49.69, \"Hundreds Scored\": 0.0, \"Scores Of Fifty Or More\": 0.0, \"Ducks Scored\": 0.0, \"Country\": \"India\", \"Player Count\": 1, \"5000+ Runs Scored\": 0, \"40+ Batting Avg\": 0, \"90+ Batting Strike Rate\": 0}, {\"Player\": \"RR Powar (2004-2007)\", \"Career Span\": \"2004-2007\", \"Career Start\": 2004, \"Career End\": 2007, \"Matches Played\": 31, \"Innings Batted\": 19.0, \"Not Outs\": 5.0, \"Runs Scored\": 163.0, \"Highest Innings Score\": \"54\", \"Highest Innings Score Num\": \"54\", \"Batting Avg\": 11.64, \"Balls Faced\": 260.0, \"Batting Strike Rate\": 62.69, \"Hundreds Scored\": 0.0, \"Scores Of Fifty Or More\": 1.0, \"Ducks Scored\": 0.0, \"Country\": \"India\", \"Player Count\": 1, \"5000+ Runs Scored\": 0, \"40+ Batting Avg\": 0, \"90+ Batting Strike Rate\": 0}, {\"Player\": \"AC Bedade (1994-1994)\", \"Career Span\": \"1994-1994\", \"Career Start\": 1994, \"Career End\": 1994, \"Matches Played\": 13, \"Innings Batted\": 10.0, \"Not Outs\": 3.0, \"Runs Scored\": 158.0, \"Highest Innings Score\": \"51\", \"Highest Innings Score Num\": \"51\", \"Batting Avg\": 22.57, \"Balls Faced\": 183.0, \"Batting Strike Rate\": 86.33, \"Hundreds Scored\": 0.0, \"Scores Of Fifty Or More\": 1.0, \"Ducks Scored\": 0.0, \"Country\": \"India\", \"Player Count\": 1, \"5000+ Runs Scored\": 0, \"40+ Batting Avg\": 0, \"90+ Batting Strike Rate\": 0}, {\"Player\": \"JJ Martin (1999-2001)\", \"Career Span\": \"1999-2001\", \"Career Start\": 1999, \"Career End\": 2001, \"Matches Played\": 10, \"Innings Batted\": 8.0, \"Not Outs\": 1.0, \"Runs Scored\": 158.0, \"Highest Innings Score\": \"39\", \"Highest Innings Score Num\": \"39\", \"Batting Avg\": 22.57, \"Balls Faced\": 331.0, \"Batting Strike Rate\": 47.73, \"Hundreds Scored\": 0.0, \"Scores Of Fifty Or More\": 0.0, \"Ducks Scored\": 1.0, \"Country\": \"India\", \"Player Count\": 1, \"5000+ Runs Scored\": 0, \"40+ Batting Avg\": 0, \"90+ Batting Strike Rate\": 0}, {\"Player\": \"CPS Chauhan (1978-1981)\", \"Career Span\": \"1978-1981\", \"Career Start\": 1978, \"Career End\": 1981, \"Matches Played\": 7, \"Innings Batted\": 7.0, \"Not Outs\": 0.0, \"Runs Scored\": 153.0, \"Highest Innings Score\": \"46\", \"Highest Innings Score Num\": \"46\", \"Batting Avg\": 21.85, \"Balls Faced\": 301.0, \"Batting Strike Rate\": 50.83, \"Hundreds Scored\": 0.0, \"Scores Of Fifty Or More\": 0.0, \"Ducks Scored\": 0.0, \"Country\": \"India\", \"Player Count\": 1, \"5000+ Runs Scored\": 0, \"40+ Batting Avg\": 0, \"90+ Batting Strike Rate\": 0}, {\"Player\": \"RS Gavaskar (2004-2004)\", \"Career Span\": \"2004-2004\", \"Career Start\": 2004, \"Career End\": 2004, \"Matches Played\": 11, \"Innings Batted\": 10.0, \"Not Outs\": 2.0, \"Runs Scored\": 151.0, \"Highest Innings Score\": \"54\", \"Highest Innings Score Num\": \"54\", \"Batting Avg\": 18.87, \"Balls Faced\": 234.0, \"Batting Strike Rate\": 64.52, \"Hundreds Scored\": 0.0, \"Scores Of Fifty Or More\": 1.0, \"Ducks Scored\": 0.0, \"Country\": \"India\", \"Player Count\": 1, \"5000+ Runs Scored\": 0, \"40+ Batting Avg\": 0, \"90+ Batting Strike Rate\": 0}, {\"Player\": \"AR Khurasiya (1999-2001)\", \"Career Span\": \"1999-2001\", \"Career Start\": 1999, \"Career End\": 2001, \"Matches Played\": 12, \"Innings Batted\": 11.0, \"Not Outs\": 0.0, \"Runs Scored\": 149.0, \"Highest Innings Score\": \"57\", \"Highest Innings Score Num\": \"57\", \"Batting Avg\": 13.54, \"Balls Faced\": 188.0, \"Batting Strike Rate\": 79.25, \"Hundreds Scored\": 0.0, \"Scores Of Fifty Or More\": 1.0, \"Ducks Scored\": 1.0, \"Country\": \"India\", \"Player Count\": 1, \"5000+ Runs Scored\": 0, \"40+ Batting Avg\": 0, \"90+ Batting Strike Rate\": 0}, {\"Player\": \"A Nehra (2001-2011)\", \"Career Span\": \"2001-2011\", \"Career Start\": 2001, \"Career End\": 2011, \"Matches Played\": 117, \"Innings Batted\": 45.0, \"Not Outs\": 21.0, \"Runs Scored\": 140.0, \"Highest Innings Score\": \"24\", \"Highest Innings Score Num\": \"24\", \"Batting Avg\": 5.83, \"Balls Faced\": 244.0, \"Batting Strike Rate\": 57.37, \"Hundreds Scored\": 0.0, \"Scores Of Fifty Or More\": 0.0, \"Ducks Scored\": 9.0, \"Country\": \"India\", \"Player Count\": 1, \"5000+ Runs Scored\": 0, \"40+ Batting Avg\": 0, \"90+ Batting Strike Rate\": 0}, {\"Player\": \"R Vijay Bharadwaj (1999-2002)\", \"Career Span\": \"1999-2002\", \"Career Start\": 1999, \"Career End\": 2002, \"Matches Played\": 10, \"Innings Batted\": 9.0, \"Not Outs\": 4.0, \"Runs Scored\": 136.0, \"Highest Innings Score\": \"41*\", \"Highest Innings Score Num\": \"41\", \"Batting Avg\": 27.2, \"Balls Faced\": 194.0, \"Batting Strike Rate\": 70.1, \"Hundreds Scored\": 0.0, \"Scores Of Fifty Or More\": 0.0, \"Ducks Scored\": 1.0, \"Country\": \"India\", \"Player Count\": 1, \"5000+ Runs Scored\": 0, \"40+ Batting Avg\": 0, \"90+ Batting Strike Rate\": 0}, {\"Player\": \"RK Chauhan (1993-1997)\", \"Career Span\": \"1993-1997\", \"Career Start\": 1993, \"Career End\": 1997, \"Matches Played\": 35, \"Innings Batted\": 18.0, \"Not Outs\": 5.0, \"Runs Scored\": 132.0, \"Highest Innings Score\": \"32\", \"Highest Innings Score Num\": \"32\", \"Batting Avg\": 10.15, \"Balls Faced\": 171.0, \"Batting Strike Rate\": 77.19, \"Hundreds Scored\": 0.0, \"Scores Of Fifty Or More\": 0.0, \"Ducks Scored\": 4.0, \"Country\": \"India\", \"Player Count\": 1, \"5000+ Runs Scored\": 0, \"40+ Batting Avg\": 0, \"90+ Batting Strike Rate\": 0}, {\"Player\": \"MSK Prasad (1998-1999)\", \"Career Span\": \"1998-1999\", \"Career Start\": 1998, \"Career End\": 1999, \"Matches Played\": 17, \"Innings Batted\": 11.0, \"Not Outs\": 2.0, \"Runs Scored\": 131.0, \"Highest Innings Score\": \"63\", \"Highest Innings Score Num\": \"63\", \"Batting Avg\": 14.55, \"Balls Faced\": 225.0, \"Batting Strike Rate\": 58.22, \"Hundreds Scored\": 0.0, \"Scores Of Fifty Or More\": 1.0, \"Ducks Scored\": 2.0, \"Country\": \"India\", \"Player Count\": 1, \"5000+ Runs Scored\": 0, \"40+ Batting Avg\": 0, \"90+ Batting Strike Rate\": 0}, {\"Player\": \"M Kartik (2002-2007)\", \"Career Span\": \"2002-2007\", \"Career Start\": 2002, \"Career End\": 2007, \"Matches Played\": 37, \"Innings Batted\": 14.0, \"Not Outs\": 5.0, \"Runs Scored\": 126.0, \"Highest Innings Score\": \"32*\", \"Highest Innings Score Num\": \"32\", \"Batting Avg\": 14.0, \"Balls Faced\": 178.0, \"Batting Strike Rate\": 70.78, \"Hundreds Scored\": 0.0, \"Scores Of Fifty Or More\": 0.0, \"Ducks Scored\": 1.0, \"Country\": \"India\", \"Player Count\": 1, \"5000+ Runs Scored\": 0, \"40+ Batting Avg\": 0, \"90+ Batting Strike Rate\": 0}, {\"Player\": \"J Arun Lal (1982-1989)\", \"Career Span\": \"1982-1989\", \"Career Start\": 1982, \"Career End\": 1989, \"Matches Played\": 13, \"Innings Batted\": 13.0, \"Not Outs\": 0.0, \"Runs Scored\": 122.0, \"Highest Innings Score\": \"51\", \"Highest Innings Score Num\": \"51\", \"Batting Avg\": 9.38, \"Balls Faced\": 232.0, \"Batting Strike Rate\": 52.58, \"Hundreds Scored\": 0.0, \"Scores Of Fifty Or More\": 1.0, \"Ducks Scored\": 4.0, \"Country\": \"India\", \"Player Count\": 1, \"5000+ Runs Scored\": 0, \"40+ Batting Avg\": 0, \"90+ Batting Strike Rate\": 0}, {\"Player\": \"L Balaji (2002-2009)\", \"Career Span\": \"2002-2009\", \"Career Start\": 2002, \"Career End\": 2009, \"Matches Played\": 30, \"Innings Batted\": 16.0, \"Not Outs\": 6.0, \"Runs Scored\": 120.0, \"Highest Innings Score\": \"21*\", \"Highest Innings Score Num\": \"21\", \"Batting Avg\": 12.0, \"Balls Faced\": 152.0, \"Batting Strike Rate\": 78.94, \"Hundreds Scored\": 0.0, \"Scores Of Fifty Or More\": 0.0, \"Ducks Scored\": 2.0, \"Country\": \"India\", \"Player Count\": 1, \"5000+ Runs Scored\": 0, \"40+ Batting Avg\": 0, \"90+ Batting Strike Rate\": 0}, {\"Player\": \"V Yadav (1992-1994)\", \"Career Span\": \"1992-1994\", \"Career Start\": 1992, \"Career End\": 1994, \"Matches Played\": 19, \"Innings Batted\": 12.0, \"Not Outs\": 2.0, \"Runs Scored\": 118.0, \"Highest Innings Score\": \"34*\", \"Highest Innings Score Num\": \"34\", \"Batting Avg\": 11.8, \"Balls Faced\": 116.0, \"Batting Strike Rate\": 101.72, \"Hundreds Scored\": 0.0, \"Scores Of Fifty Or More\": 0.0, \"Ducks Scored\": 2.0, \"Country\": \"India\", \"Player Count\": 1, \"5000+ Runs Scored\": 0, \"40+ Batting Avg\": 0, \"90+ Batting Strike Rate\": 0}, {\"Player\": \"Arshad Ayub (1987-1990)\", \"Career Span\": \"1987-1990\", \"Career Start\": 1987, \"Career End\": 1990, \"Matches Played\": 32, \"Innings Batted\": 17.0, \"Not Outs\": 7.0, \"Runs Scored\": 116.0, \"Highest Innings Score\": \"31*\", \"Highest Innings Score Num\": \"31\", \"Batting Avg\": 11.6, \"Balls Faced\": 162.0, \"Batting Strike Rate\": 71.6, \"Hundreds Scored\": 0.0, \"Scores Of Fifty Or More\": 0.0, \"Ducks Scored\": 1.0, \"Country\": \"India\", \"Player Count\": 1, \"5000+ Runs Scored\": 0, \"40+ Batting Avg\": 0, \"90+ Batting Strike Rate\": 0}, {\"Player\": \"Mohammed Shami (2013-2018)\", \"Career Span\": \"2013-2018\", \"Career Start\": 2013, \"Career End\": 2018, \"Matches Played\": 52, \"Innings Batted\": 24.0, \"Not Outs\": 13.0, \"Runs Scored\": 116.0, \"Highest Innings Score\": \"25\", \"Highest Innings Score Num\": \"25\", \"Batting Avg\": 10.54, \"Balls Faced\": 134.0, \"Batting Strike Rate\": 86.56, \"Hundreds Scored\": 0.0, \"Scores Of Fifty Or More\": 0.0, \"Ducks Scored\": 4.0, \"Country\": \"India\", \"Player Count\": 1, \"5000+ Runs Scored\": 0, \"40+ Batting Avg\": 0, \"90+ Batting Strike Rate\": 0}, {\"Player\": \"GK Khoda (1998-1998)\", \"Career Span\": \"1998-1998\", \"Career Start\": 1998, \"Career End\": 1998, \"Matches Played\": 2, \"Innings Batted\": 2.0, \"Not Outs\": 0.0, \"Runs Scored\": 115.0, \"Highest Innings Score\": \"89\", \"Highest Innings Score Num\": \"89\", \"Batting Avg\": 57.5, \"Balls Faced\": 185.0, \"Batting Strike Rate\": 62.16, \"Hundreds Scored\": 0.0, \"Scores Of Fifty Or More\": 1.0, \"Ducks Scored\": 0.0, \"Country\": \"India\", \"Player Count\": 1, \"5000+ Runs Scored\": 0, \"40+ Batting Avg\": 0, \"90+ Batting Strike Rate\": 0}, {\"Player\": \"FM Engineer (1974-1975)\", \"Career Span\": \"1974-1975\", \"Career Start\": 1974, \"Career End\": 1975, \"Matches Played\": 5, \"Innings Batted\": 4.0, \"Not Outs\": 1.0, \"Runs Scored\": 114.0, \"Highest Innings Score\": \"54*\", \"Highest Innings Score Num\": \"54\", \"Batting Avg\": 38.0, \"Balls Faced\": 195.0, \"Batting Strike Rate\": 58.46, \"Hundreds Scored\": 0.0, \"Scores Of Fifty Or More\": 1.0, \"Ducks Scored\": 0.0, \"Country\": \"India\", \"Player Count\": 1, \"5000+ Runs Scored\": 0, \"40+ Batting Avg\": 0, \"90+ Batting Strike Rate\": 0}, {\"Player\": \"KD Ghavri (1975-1981)\", \"Career Span\": \"1975-1981\", \"Career Start\": 1975, \"Career End\": 1981, \"Matches Played\": 19, \"Innings Batted\": 16.0, \"Not Outs\": 6.0, \"Runs Scored\": 114.0, \"Highest Innings Score\": \"20\", \"Highest Innings Score Num\": \"20\", \"Batting Avg\": 11.4, \"Balls Faced\": 194.0, \"Batting Strike Rate\": 58.76, \"Hundreds Scored\": 0.0, \"Scores Of Fifty Or More\": 0.0, \"Ducks Scored\": 1.0, \"Country\": \"India\", \"Player Count\": 1, \"5000+ Runs Scored\": 0, \"40+ Batting Avg\": 0, \"90+ Batting Strike Rate\": 0}, {\"Player\": \"RP Singh (2005-2011)\", \"Career Span\": \"2005-2011\", \"Career Start\": 2005, \"Career End\": 2011, \"Matches Played\": 58, \"Innings Batted\": 20.0, \"Not Outs\": 10.0, \"Runs Scored\": 104.0, \"Highest Innings Score\": \"23\", \"Highest Innings Score Num\": \"23\", \"Batting Avg\": 10.4, \"Balls Faced\": 242.0, \"Batting Strike Rate\": 42.97, \"Hundreds Scored\": 0.0, \"Scores Of Fifty Or More\": 0.0, \"Ducks Scored\": 3.0, \"Country\": \"India\", \"Player Count\": 1, \"5000+ Runs Scored\": 0, \"40+ Batting Avg\": 0, \"90+ Batting Strike Rate\": 0}, {\"Player\": \"S Amarnath (1978-1978)\", \"Career Span\": \"1978-1978\", \"Career Start\": 1978, \"Career End\": 1978, \"Matches Played\": 3, \"Innings Batted\": 3.0, \"Not Outs\": 0.0, \"Runs Scored\": 100.0, \"Highest Innings Score\": \"62\", \"Highest Innings Score Num\": \"62\", \"Batting Avg\": 33.33, \"Balls Faced\": 119.0, \"Batting Strike Rate\": 84.03, \"Hundreds Scored\": 0.0, \"Scores Of Fifty Or More\": 1.0, \"Ducks Scored\": 0.0, \"Country\": \"India\", \"Player Count\": 1, \"5000+ Runs Scored\": 0, \"40+ Batting Avg\": 0, \"90+ Batting Strike Rate\": 0}, {\"Player\": \"S Abid Ali (1974-1975)\", \"Career Span\": \"1974-1975\", \"Career Start\": 1974, \"Career End\": 1975, \"Matches Played\": 5, \"Innings Batted\": 3.0, \"Not Outs\": 0.0, \"Runs Scored\": 93.0, \"Highest Innings Score\": \"70\", \"Highest Innings Score Num\": \"70\", \"Batting Avg\": 31.0, \"Balls Faced\": 132.0, \"Batting Strike Rate\": 70.45, \"Hundreds Scored\": 0.0, \"Scores Of Fifty Or More\": 1.0, \"Ducks Scored\": 0.0, \"Country\": \"India\", \"Player Count\": 1, \"5000+ Runs Scored\": 0, \"40+ Batting Avg\": 0, \"90+ Batting Strike Rate\": 0}, {\"Player\": \"A Ratra (2002-2002)\", \"Career Span\": \"2002-2002\", \"Career Start\": 2002, \"Career End\": 2002, \"Matches Played\": 12, \"Innings Batted\": 8.0, \"Not Outs\": 1.0, \"Runs Scored\": 90.0, \"Highest Innings Score\": \"30\", \"Highest Innings Score Num\": \"30\", \"Batting Avg\": 12.85, \"Balls Faced\": 127.0, \"Batting Strike Rate\": 70.86, \"Hundreds Scored\": 0.0, \"Scores Of Fifty Or More\": 0.0, \"Ducks Scored\": 0.0, \"Country\": \"India\", \"Player Count\": 1, \"5000+ Runs Scored\": 0, \"40+ Batting Avg\": 0, \"90+ Batting Strike Rate\": 0}, {\"Player\": \"VB Chandrasekhar (1988-1990)\", \"Career Span\": \"1988-1990\", \"Career Start\": 1988, \"Career End\": 1990, \"Matches Played\": 7, \"Innings Batted\": 7.0, \"Not Outs\": 0.0, \"Runs Scored\": 88.0, \"Highest Innings Score\": \"53\", \"Highest Innings Score Num\": \"53\", \"Batting Avg\": 12.57, \"Balls Faced\": 162.0, \"Batting Strike Rate\": 54.32, \"Hundreds Scored\": 0.0, \"Scores Of Fifty Or More\": 1.0, \"Ducks Scored\": 0.0, \"Country\": \"India\", \"Player Count\": 1, \"5000+ Runs Scored\": 0, \"40+ Batting Avg\": 0, \"90+ Batting Strike Rate\": 0}, {\"Player\": \"R Vinay Kumar (2010-2013)\", \"Career Span\": \"2010-2013\", \"Career Start\": 2010, \"Career End\": 2013, \"Matches Played\": 31, \"Innings Batted\": 13.0, \"Not Outs\": 4.0, \"Runs Scored\": 86.0, \"Highest Innings Score\": \"27*\", \"Highest Innings Score Num\": \"27\", \"Batting Avg\": 9.55, \"Balls Faced\": 146.0, \"Batting Strike Rate\": 58.9, \"Hundreds Scored\": 0.0, \"Scores Of Fifty Or More\": 0.0, \"Ducks Scored\": 2.0, \"Country\": \"India\", \"Player Count\": 1, \"5000+ Runs Scored\": 0, \"40+ Batting Avg\": 0, \"90+ Batting Strike Rate\": 0}, {\"Player\": \"S Sriram (2000-2004)\", \"Career Span\": \"2000-2004\", \"Career Start\": 2000, \"Career End\": 2004, \"Matches Played\": 8, \"Innings Batted\": 7.0, \"Not Outs\": 1.0, \"Runs Scored\": 81.0, \"Highest Innings Score\": \"57\", \"Highest Innings Score Num\": \"57\", \"Batting Avg\": 13.5, \"Balls Faced\": 135.0, \"Batting Strike Rate\": 60.0, \"Hundreds Scored\": 0.0, \"Scores Of Fifty Or More\": 1.0, \"Ducks Scored\": 1.0, \"Country\": \"India\", \"Player Count\": 1, \"5000+ Runs Scored\": 0, \"40+ Batting Avg\": 0, \"90+ Batting Strike Rate\": 0}, {\"Player\": \"Jai P Yadav (2002-2005)\", \"Career Span\": \"2002-2005\", \"Career Start\": 2002, \"Career End\": 2005, \"Matches Played\": 12, \"Innings Batted\": 7.0, \"Not Outs\": 3.0, \"Runs Scored\": 81.0, \"Highest Innings Score\": \"69\", \"Highest Innings Score Num\": \"69\", \"Batting Avg\": 20.25, \"Balls Faced\": 123.0, \"Batting Strike Rate\": 65.85, \"Hundreds Scored\": 0.0, \"Scores Of Fifty Or More\": 1.0, \"Ducks Scored\": 2.0, \"Country\": \"India\", \"Player Count\": 1, \"5000+ Runs Scored\": 0, \"40+ Batting Avg\": 0, \"90+ Batting Strike Rate\": 0}, {\"Player\": \"SK Sharma (1988-1990)\", \"Career Span\": \"1988-1990\", \"Career Start\": 1988, \"Career End\": 1990, \"Matches Played\": 23, \"Innings Batted\": 12.0, \"Not Outs\": 4.0, \"Runs Scored\": 80.0, \"Highest Innings Score\": \"28\", \"Highest Innings Score Num\": \"28\", \"Batting Avg\": 10.0, \"Balls Faced\": 135.0, \"Batting Strike Rate\": 59.25, \"Hundreds Scored\": 0.0, \"Scores Of Fifty Or More\": 0.0, \"Ducks Scored\": 2.0, \"Country\": \"India\", \"Player Count\": 1, \"5000+ Runs Scored\": 0, \"40+ Batting Avg\": 0, \"90+ Batting Strike Rate\": 0}, {\"Player\": \"S Badrinath (2008-2011)\", \"Career Span\": \"2008-2011\", \"Career Start\": 2008, \"Career End\": 2011, \"Matches Played\": 7, \"Innings Batted\": 6.0, \"Not Outs\": 1.0, \"Runs Scored\": 79.0, \"Highest Innings Score\": \"27*\", \"Highest Innings Score Num\": \"27\", \"Batting Avg\": 15.8, \"Balls Faced\": 172.0, \"Batting Strike Rate\": 45.93, \"Hundreds Scored\": 0.0, \"Scores Of Fifty Or More\": 0.0, \"Ducks Scored\": 0.0, \"Country\": \"India\", \"Player Count\": 1, \"5000+ Runs Scored\": 0, \"40+ Batting Avg\": 0, \"90+ Batting Strike Rate\": 0}, {\"Player\": \"UT Yadav (2010-2018)\", \"Career Span\": \"2010-2018\", \"Career Start\": 2010, \"Career End\": 2018, \"Matches Played\": 75, \"Innings Batted\": 24.0, \"Not Outs\": 14.0, \"Runs Scored\": 79.0, \"Highest Innings Score\": \"18*\", \"Highest Innings Score Num\": \"18\", \"Batting Avg\": 7.9, \"Balls Faced\": 134.0, \"Batting Strike Rate\": 58.95, \"Hundreds Scored\": 0.0, \"Scores Of Fifty Or More\": 0.0, \"Ducks Scored\": 4.0, \"Country\": \"India\", \"Player Count\": 1, \"5000+ Runs Scored\": 0, \"40+ Batting Avg\": 0, \"90+ Batting Strike Rate\": 0}, {\"Player\": \"MM Patel (2006-2011)\", \"Career Span\": \"2006-2011\", \"Career Start\": 2006, \"Career End\": 2011, \"Matches Played\": 70, \"Innings Batted\": 27.0, \"Not Outs\": 16.0, \"Runs Scored\": 74.0, \"Highest Innings Score\": \"15\", \"Highest Innings Score Num\": \"15\", \"Batting Avg\": 6.72, \"Balls Faced\": 112.0, \"Batting Strike Rate\": 66.07, \"Hundreds Scored\": 0.0, \"Scores Of Fifty Or More\": 0.0, \"Ducks Scored\": 4.0, \"Country\": \"India\", \"Player Count\": 1, \"5000+ Runs Scored\": 0, \"40+ Batting Avg\": 0, \"90+ Batting Strike Rate\": 0}, {\"Player\": \"AL Wadekar (1974-1974)\", \"Career Span\": \"1974-1974\", \"Career Start\": 1974, \"Career End\": 1974, \"Matches Played\": 2, \"Innings Batted\": 2.0, \"Not Outs\": 0.0, \"Runs Scored\": 73.0, \"Highest Innings Score\": \"67\", \"Highest Innings Score Num\": \"67\", \"Batting Avg\": 36.5, \"Balls Faced\": 90.0, \"Batting Strike Rate\": 81.11, \"Hundreds Scored\": 0.0, \"Scores Of Fifty Or More\": 1.0, \"Ducks Scored\": 0.0, \"Country\": \"India\", \"Player Count\": 1, \"5000+ Runs Scored\": 0, \"40+ Batting Avg\": 0, \"90+ Batting Strike Rate\": 0}, {\"Player\": \"I Sharma (2007-2016)\", \"Career Span\": \"2007-2016\", \"Career Start\": 2007, \"Career End\": 2016, \"Matches Played\": 80, \"Innings Batted\": 28.0, \"Not Outs\": 13.0, \"Runs Scored\": 72.0, \"Highest Innings Score\": \"13\", \"Highest Innings Score Num\": \"13\", \"Batting Avg\": 4.8, \"Balls Faced\": 203.0, \"Batting Strike Rate\": 35.46, \"Hundreds Scored\": 0.0, \"Scores Of Fifty Or More\": 0.0, \"Ducks Scored\": 5.0, \"Country\": \"India\", \"Player Count\": 1, \"5000+ Runs Scored\": 0, \"40+ Batting Avg\": 0, \"90+ Batting Strike Rate\": 0}, {\"Player\": \"S Viswanath (1985-1988)\", \"Career Span\": \"1985-1988\", \"Career Start\": 1985, \"Career End\": 1988, \"Matches Played\": 22, \"Innings Batted\": 12.0, \"Not Outs\": 4.0, \"Runs Scored\": 72.0, \"Highest Innings Score\": \"23*\", \"Highest Innings Score Num\": \"23\", \"Batting Avg\": 9.0, \"Balls Faced\": 139.0, \"Batting Strike Rate\": 51.79, \"Hundreds Scored\": 0.0, \"Scores Of Fifty Or More\": 0.0, \"Ducks Scored\": 0.0, \"Country\": \"India\", \"Player Count\": 1, \"5000+ Runs Scored\": 0, \"40+ Batting Avg\": 0, \"90+ Batting Strike Rate\": 0}, {\"Player\": \"Kuldeep Yadav (2017-2018)\", \"Career Span\": \"2017-2018\", \"Career Start\": 2017, \"Career End\": 2018, \"Matches Played\": 33, \"Innings Batted\": 12.0, \"Not Outs\": 9.0, \"Runs Scored\": 60.0, \"Highest Innings Score\": \"19\", \"Highest Innings Score Num\": \"19\", \"Batting Avg\": 20.0, \"Balls Faced\": 100.0, \"Batting Strike Rate\": 60.0, \"Hundreds Scored\": 0.0, \"Scores Of Fifty Or More\": 0.0, \"Ducks Scored\": 1.0, \"Country\": \"India\", \"Player Count\": 1, \"5000+ Runs Scored\": 0, \"40+ Batting Avg\": 0, \"90+ Batting Strike Rate\": 0}, {\"Player\": \"FY Fazal (2016-2016)\", \"Career Span\": \"2016-2016\", \"Career Start\": 2016, \"Career End\": 2016, \"Matches Played\": 1, \"Innings Batted\": 1.0, \"Not Outs\": 1.0, \"Runs Scored\": 55.0, \"Highest Innings Score\": \"55*\", \"Highest Innings Score Num\": \"55\", \"Batting Avg\": null, \"Balls Faced\": 61.0, \"Batting Strike Rate\": 90.16, \"Hundreds Scored\": 0.0, \"Scores Of Fifty Or More\": 1.0, \"Ducks Scored\": 0.0, \"Country\": \"India\", \"Player Count\": 1, \"5000+ Runs Scored\": 0, \"40+ Batting Avg\": 0, \"90+ Batting Strike Rate\": 0}, {\"Player\": \"JV Paranjpe (1998-1998)\", \"Career Span\": \"1998-1998\", \"Career Start\": 1998, \"Career End\": 1998, \"Matches Played\": 4, \"Innings Batted\": 4.0, \"Not Outs\": 1.0, \"Runs Scored\": 54.0, \"Highest Innings Score\": \"27\", \"Highest Innings Score Num\": \"27\", \"Batting Avg\": 18.0, \"Balls Faced\": 91.0, \"Batting Strike Rate\": 59.34, \"Hundreds Scored\": 0.0, \"Scores Of Fifty Or More\": 0.0, \"Ducks Scored\": 0.0, \"Country\": \"India\", \"Player Count\": 1, \"5000+ Runs Scored\": 0, \"40+ Batting Avg\": 0, \"90+ Batting Strike Rate\": 0}, {\"Player\": \"S Venkataraghavan (1974-1983)\", \"Career Span\": \"1974-1983\", \"Career Start\": 1974, \"Career End\": 1983, \"Matches Played\": 15, \"Innings Batted\": 9.0, \"Not Outs\": 4.0, \"Runs Scored\": 54.0, \"Highest Innings Score\": \"26*\", \"Highest Innings Score Num\": \"26\", \"Batting Avg\": 10.8, \"Balls Faced\": 126.0, \"Batting Strike Rate\": 42.85, \"Hundreds Scored\": 0.0, \"Scores Of Fifty Or More\": 0.0, \"Ducks Scored\": 2.0, \"Country\": \"India\", \"Player Count\": 1, \"5000+ Runs Scored\": 0, \"40+ Batting Avg\": 0, \"90+ Batting Strike Rate\": 0}, {\"Player\": \"D Dasgupta (2001-2001)\", \"Career Span\": \"2001-2001\", \"Career Start\": 2001, \"Career End\": 2001, \"Matches Played\": 5, \"Innings Batted\": 4.0, \"Not Outs\": 1.0, \"Runs Scored\": 51.0, \"Highest Innings Score\": \"24*\", \"Highest Innings Score Num\": \"24\", \"Batting Avg\": 17.0, \"Balls Faced\": 82.0, \"Batting Strike Rate\": 62.19, \"Hundreds Scored\": 0.0, \"Scores Of Fifty Or More\": 0.0, \"Ducks Scored\": 1.0, \"Country\": \"India\", \"Player Count\": 1, \"5000+ Runs Scored\": 0, \"40+ Batting Avg\": 0, \"90+ Batting Strike Rate\": 0}, {\"Player\": \"A Mithun (2010-2011)\", \"Career Span\": \"2010-2011\", \"Career Start\": 2010, \"Career End\": 2011, \"Matches Played\": 5, \"Innings Batted\": 3.0, \"Not Outs\": 0.0, \"Runs Scored\": 51.0, \"Highest Innings Score\": \"24\", \"Highest Innings Score Num\": \"24\", \"Batting Avg\": 17.0, \"Balls Faced\": 55.0, \"Batting Strike Rate\": 92.72, \"Hundreds Scored\": 0.0, \"Scores Of Fifty Or More\": 0.0, \"Ducks Scored\": 0.0, \"Country\": \"India\", \"Player Count\": 1, \"5000+ Runs Scored\": 0, \"40+ Batting Avg\": 0, \"90+ Batting Strike Rate\": 0}, {\"Player\": \"CA Pujara (2013-2014)\", \"Career Span\": \"2013-2014\", \"Career Start\": 2013, \"Career End\": 2014, \"Matches Played\": 5, \"Innings Batted\": 5.0, \"Not Outs\": 0.0, \"Runs Scored\": 51.0, \"Highest Innings Score\": \"27\", \"Highest Innings Score Num\": \"27\", \"Batting Avg\": 10.2, \"Balls Faced\": 130.0, \"Batting Strike Rate\": 39.23, \"Hundreds Scored\": 0.0, \"Scores Of Fifty Or More\": 0.0, \"Ducks Scored\": 2.0, \"Country\": \"India\", \"Player Count\": 1, \"5000+ Runs Scored\": 0, \"40+ Batting Avg\": 0, \"90+ Batting Strike Rate\": 0}, {\"Player\": \"BS Sandhu (1982-1984)\", \"Career Span\": \"1982-1984\", \"Career Start\": 1982, \"Career End\": 1984, \"Matches Played\": 22, \"Innings Batted\": 7.0, \"Not Outs\": 3.0, \"Runs Scored\": 51.0, \"Highest Innings Score\": \"16*\", \"Highest Innings Score Num\": \"16\", \"Batting Avg\": 12.75, \"Balls Faced\": 97.0, \"Batting Strike Rate\": 52.57, \"Hundreds Scored\": 0.0, \"Scores Of Fifty Or More\": 0.0, \"Ducks Scored\": 2.0, \"Country\": \"India\", \"Player Count\": 1, \"5000+ Runs Scored\": 0, \"40+ Batting Avg\": 0, \"90+ Batting Strike Rate\": 0}, {\"Player\": \"ST Banerjee (1991-1992)\", \"Career Span\": \"1991-1992\", \"Career Start\": 1991, \"Career End\": 1992, \"Matches Played\": 6, \"Innings Batted\": 5.0, \"Not Outs\": 3.0, \"Runs Scored\": 49.0, \"Highest Innings Score\": \"25*\", \"Highest Innings Score Num\": \"25\", \"Batting Avg\": 24.5, \"Balls Faced\": 42.0, \"Batting Strike Rate\": 116.66, \"Hundreds Scored\": 0.0, \"Scores Of Fifty Or More\": 0.0, \"Ducks Scored\": 0.0, \"Country\": \"India\", \"Player Count\": 1, \"5000+ Runs Scored\": 0, \"40+ Batting Avg\": 0, \"90+ Batting Strike Rate\": 0}, {\"Player\": \"DJ Gandhi (1999-2000)\", \"Career Span\": \"1999-2000\", \"Career Start\": 1999, \"Career End\": 2000, \"Matches Played\": 3, \"Innings Batted\": 3.0, \"Not Outs\": 0.0, \"Runs Scored\": 49.0, \"Highest Innings Score\": \"30\", \"Highest Innings Score Num\": \"30\", \"Batting Avg\": 16.33, \"Balls Faced\": 97.0, \"Batting Strike Rate\": 50.51, \"Hundreds Scored\": 0.0, \"Scores Of Fifty Or More\": 0.0, \"Ducks Scored\": 0.0, \"Country\": \"India\", \"Player Count\": 1, \"5000+ Runs Scored\": 0, \"40+ Batting Avg\": 0, \"90+ Batting Strike Rate\": 0}, {\"Player\": \"Maninder Singh (1983-1993)\", \"Career Span\": \"1983-1993\", \"Career Start\": 1983, \"Career End\": 1993, \"Matches Played\": 59, \"Innings Batted\": 18.0, \"Not Outs\": 14.0, \"Runs Scored\": 49.0, \"Highest Innings Score\": \"8*\", \"Highest Innings Score Num\": \"8\", \"Batting Avg\": 12.25, \"Balls Faced\": 90.0, \"Batting Strike Rate\": 54.44, \"Hundreds Scored\": 0.0, \"Scores Of Fifty Or More\": 0.0, \"Ducks Scored\": 1.0, \"Country\": \"India\", \"Player Count\": 1, \"5000+ Runs Scored\": 0, \"40+ Batting Avg\": 0, \"90+ Batting Strike Rate\": 0}, {\"Player\": \"SS Tiwary (2010-2010)\", \"Career Span\": \"2010-2010\", \"Career Start\": 2010, \"Career End\": 2010, \"Matches Played\": 3, \"Innings Batted\": 2.0, \"Not Outs\": 2.0, \"Runs Scored\": 49.0, \"Highest Innings Score\": \"37*\", \"Highest Innings Score Num\": \"37\", \"Batting Avg\": null, \"Balls Faced\": 56.0, \"Batting Strike Rate\": 87.5, \"Hundreds Scored\": 0.0, \"Scores Of Fifty Or More\": 0.0, \"Ducks Scored\": 0.0, \"Country\": \"India\", \"Player Count\": 1, \"5000+ Runs Scored\": 0, \"40+ Batting Avg\": 0, \"90+ Batting Strike Rate\": 0}, {\"Player\": \"Sarandeep Singh (2002-2003)\", \"Career Span\": \"2002-2003\", \"Career Start\": 2002, \"Career End\": 2003, \"Matches Played\": 5, \"Innings Batted\": 4.0, \"Not Outs\": 1.0, \"Runs Scored\": 47.0, \"Highest Innings Score\": \"19\", \"Highest Innings Score Num\": \"19\", \"Batting Avg\": 15.66, \"Balls Faced\": 73.0, \"Batting Strike Rate\": 64.38, \"Hundreds Scored\": 0.0, \"Scores Of Fifty Or More\": 0.0, \"Ducks Scored\": 0.0, \"Country\": \"India\", \"Player Count\": 1, \"5000+ Runs Scored\": 0, \"40+ Batting Avg\": 0, \"90+ Batting Strike Rate\": 0}, {\"Player\": \"KK Nair (2016-2016)\", \"Career Span\": \"2016-2016\", \"Career Start\": 2016, \"Career End\": 2016, \"Matches Played\": 2, \"Innings Batted\": 2.0, \"Not Outs\": 0.0, \"Runs Scored\": 46.0, \"Highest Innings Score\": \"39\", \"Highest Innings Score Num\": \"39\", \"Batting Avg\": 23.0, \"Balls Faced\": 88.0, \"Batting Strike Rate\": 52.27, \"Hundreds Scored\": 0.0, \"Scores Of Fifty Or More\": 0.0, \"Ducks Scored\": 0.0, \"Country\": \"India\", \"Player Count\": 1, \"5000+ Runs Scored\": 0, \"40+ Batting Avg\": 0, \"90+ Batting Strike Rate\": 0}, {\"Player\": \"PP Ojha (2008-2012)\", \"Career Span\": \"2008-2012\", \"Career Start\": 2008, \"Career End\": 2012, \"Matches Played\": 18, \"Innings Batted\": 10.0, \"Not Outs\": 8.0, \"Runs Scored\": 46.0, \"Highest Innings Score\": \"16*\", \"Highest Innings Score Num\": \"16\", \"Batting Avg\": 23.0, \"Balls Faced\": 112.0, \"Batting Strike Rate\": 41.07, \"Hundreds Scored\": 0.0, \"Scores Of Fifty Or More\": 0.0, \"Ducks Scored\": 0.0, \"Country\": \"India\", \"Player Count\": 1, \"5000+ Runs Scored\": 0, \"40+ Batting Avg\": 0, \"90+ Batting Strike Rate\": 0}, {\"Player\": \"AV Mankad (1974-1974)\", \"Career Span\": \"1974-1974\", \"Career Start\": 1974, \"Career End\": 1974, \"Matches Played\": 1, \"Innings Batted\": 1.0, \"Not Outs\": 0.0, \"Runs Scored\": 44.0, \"Highest Innings Score\": \"44\", \"Highest Innings Score Num\": \"44\", \"Batting Avg\": 44.0, \"Balls Faced\": 61.0, \"Batting Strike Rate\": 72.13, \"Hundreds Scored\": 0.0, \"Scores Of Fifty Or More\": 0.0, \"Ducks Scored\": 0.0, \"Country\": \"India\", \"Player Count\": 1, \"5000+ Runs Scored\": 0, \"40+ Batting Avg\": 0, \"90+ Batting Strike Rate\": 0}, {\"Player\": \"S Sreesanth (2005-2011)\", \"Career Span\": \"2005-2011\", \"Career Start\": 2005, \"Career End\": 2011, \"Matches Played\": 53, \"Innings Batted\": 21.0, \"Not Outs\": 10.0, \"Runs Scored\": 44.0, \"Highest Innings Score\": \"10*\", \"Highest Innings Score Num\": \"10\", \"Batting Avg\": 4.0, \"Balls Faced\": 121.0, \"Batting Strike Rate\": 36.36, \"Hundreds Scored\": 0.0, \"Scores Of Fifty Or More\": 0.0, \"Ducks Scored\": 3.0, \"Country\": \"India\", \"Player Count\": 1, \"5000+ Runs Scored\": 0, \"40+ Batting Avg\": 0, \"90+ Batting Strike Rate\": 0}, {\"Player\": \"AR Kapoor (1995-2000)\", \"Career Span\": \"1995-2000\", \"Career Start\": 1995, \"Career End\": 2000, \"Matches Played\": 17, \"Innings Batted\": 6.0, \"Not Outs\": 0.0, \"Runs Scored\": 43.0, \"Highest Innings Score\": \"19\", \"Highest Innings Score Num\": \"19\", \"Batting Avg\": 7.16, \"Balls Faced\": 63.0, \"Batting Strike Rate\": 68.25, \"Hundreds Scored\": 0.0, \"Scores Of Fifty Or More\": 0.0, \"Ducks Scored\": 3.0, \"Country\": \"India\", \"Player Count\": 1, \"5000+ Runs Scored\": 0, \"40+ Batting Avg\": 0, \"90+ Batting Strike Rate\": 0}, {\"Player\": \"A Mishra (2003-2016)\", \"Career Span\": \"2003-2016\", \"Career Start\": 2003, \"Career End\": 2016, \"Matches Played\": 36, \"Innings Batted\": 11.0, \"Not Outs\": 3.0, \"Runs Scored\": 43.0, \"Highest Innings Score\": \"14\", \"Highest Innings Score Num\": \"14\", \"Batting Avg\": 5.37, \"Balls Faced\": 82.0, \"Batting Strike Rate\": 52.43, \"Hundreds Scored\": 0.0, \"Scores Of Fifty Or More\": 0.0, \"Ducks Scored\": 2.0, \"Country\": \"India\", \"Player Count\": 1, \"5000+ Runs Scored\": 0, \"40+ Batting Avg\": 0, \"90+ Batting Strike Rate\": 0}, {\"Player\": \"RR Pant (2018-2018)\", \"Career Span\": \"2018-2018\", \"Career Start\": 2018, \"Career End\": 2018, \"Matches Played\": 3, \"Innings Batted\": 2.0, \"Not Outs\": 0.0, \"Runs Scored\": 41.0, \"Highest Innings Score\": \"24\", \"Highest Innings Score Num\": \"24\", \"Batting Avg\": 20.5, \"Balls Faced\": 31.0, \"Batting Strike Rate\": 132.25, \"Hundreds Scored\": 0.0, \"Scores Of Fifty Or More\": 0.0, \"Ducks Scored\": 0.0, \"Country\": \"India\", \"Player Count\": 1, \"5000+ Runs Scored\": 0, \"40+ Batting Avg\": 0, \"90+ Batting Strike Rate\": 0}, {\"Player\": \"WP Saha (2010-2014)\", \"Career Span\": \"2010-2014\", \"Career Start\": 2010, \"Career End\": 2014, \"Matches Played\": 9, \"Innings Batted\": 5.0, \"Not Outs\": 2.0, \"Runs Scored\": 41.0, \"Highest Innings Score\": \"16\", \"Highest Innings Score Num\": \"16\", \"Batting Avg\": 13.66, \"Balls Faced\": 56.0, \"Batting Strike Rate\": 73.21, \"Hundreds Scored\": 0.0, \"Scores Of Fifty Or More\": 0.0, \"Ducks Scored\": 0.0, \"Country\": \"India\", \"Player Count\": 1, \"5000+ Runs Scored\": 0, \"40+ Batting Avg\": 0, \"90+ Batting Strike Rate\": 0}, {\"Player\": \"SS Das (2001-2002)\", \"Career Span\": \"2001-2002\", \"Career Start\": 2001, \"Career End\": 2002, \"Matches Played\": 4, \"Innings Batted\": 4.0, \"Not Outs\": 1.0, \"Runs Scored\": 39.0, \"Highest Innings Score\": \"30\", \"Highest Innings Score Num\": \"30\", \"Batting Avg\": 13.0, \"Balls Faced\": 77.0, \"Batting Strike Rate\": 50.64, \"Hundreds Scored\": 0.0, \"Scores Of Fifty Or More\": 0.0, \"Ducks Scored\": 0.0, \"Country\": \"India\", \"Player Count\": 1, \"5000+ Runs Scored\": 0, \"40+ Batting Avg\": 0, \"90+ Batting Strike Rate\": 0}, {\"Player\": \"PP Chawla (2007-2011)\", \"Career Span\": \"2007-2011\", \"Career Start\": 2007, \"Career End\": 2011, \"Matches Played\": 25, \"Innings Batted\": 12.0, \"Not Outs\": 5.0, \"Runs Scored\": 38.0, \"Highest Innings Score\": \"13*\", \"Highest Innings Score Num\": \"13\", \"Batting Avg\": 5.42, \"Balls Faced\": 58.0, \"Batting Strike Rate\": 65.51, \"Hundreds Scored\": 0.0, \"Scores Of Fifty Or More\": 0.0, \"Ducks Scored\": 1.0, \"Country\": \"India\", \"Player Count\": 1, \"5000+ Runs Scored\": 0, \"40+ Batting Avg\": 0, \"90+ Batting Strike Rate\": 0}, {\"Player\": \"SS Naik (1974-1974)\", \"Career Span\": \"1974-1974\", \"Career Start\": 1974, \"Career End\": 1974, \"Matches Played\": 2, \"Innings Batted\": 2.0, \"Not Outs\": 0.0, \"Runs Scored\": 38.0, \"Highest Innings Score\": \"20\", \"Highest Innings Score Num\": \"20\", \"Batting Avg\": 19.0, \"Balls Faced\": 68.0, \"Batting Strike Rate\": 55.88, \"Hundreds Scored\": 0.0, \"Scores Of Fifty Or More\": 0.0, \"Ducks Scored\": 0.0, \"Country\": \"India\", \"Player Count\": 1, \"5000+ Runs Scored\": 0, \"40+ Batting Avg\": 0, \"90+ Batting Strike Rate\": 0}, {\"Player\": \"Joginder Sharma (2004-2007)\", \"Career Span\": \"2004-2007\", \"Career Start\": 2004, \"Career End\": 2007, \"Matches Played\": 4, \"Innings Batted\": 3.0, \"Not Outs\": 2.0, \"Runs Scored\": 35.0, \"Highest Innings Score\": \"29*\", \"Highest Innings Score Num\": \"29\", \"Batting Avg\": 35.0, \"Balls Faced\": 30.0, \"Batting Strike Rate\": 116.66, \"Hundreds Scored\": 0.0, \"Scores Of Fifty Or More\": 0.0, \"Ducks Scored\": 0.0, \"Country\": \"India\", \"Player Count\": 1, \"5000+ Runs Scored\": 0, \"40+ Batting Avg\": 0, \"90+ Batting Strike Rate\": 0}, {\"Player\": \"SA Ankola (1989-1997)\", \"Career Span\": \"1989-1997\", \"Career Start\": 1989, \"Career End\": 1997, \"Matches Played\": 20, \"Innings Batted\": 13.0, \"Not Outs\": 4.0, \"Runs Scored\": 34.0, \"Highest Innings Score\": \"9\", \"Highest Innings Score Num\": \"9\", \"Batting Avg\": 3.77, \"Balls Faced\": 42.0, \"Batting Strike Rate\": 80.95, \"Hundreds Scored\": 0.0, \"Scores Of Fifty Or More\": 0.0, \"Ducks Scored\": 5.0, \"Country\": \"India\", \"Player Count\": 1, \"5000+ Runs Scored\": 0, \"40+ Batting Avg\": 0, \"90+ Batting Strike Rate\": 0}, {\"Player\": \"RR Kulkarni (1983-1987)\", \"Career Span\": \"1983-1987\", \"Career Start\": 1983, \"Career End\": 1987, \"Matches Played\": 10, \"Innings Batted\": 5.0, \"Not Outs\": 3.0, \"Runs Scored\": 33.0, \"Highest Innings Score\": \"15\", \"Highest Innings Score Num\": \"15\", \"Batting Avg\": 16.5, \"Balls Faced\": 39.0, \"Batting Strike Rate\": 84.61, \"Hundreds Scored\": 0.0, \"Scores Of Fifty Or More\": 0.0, \"Ducks Scored\": 0.0, \"Country\": \"India\", \"Player Count\": 1, \"5000+ Runs Scored\": 0, \"40+ Batting Avg\": 0, \"90+ Batting Strike Rate\": 0}, {\"Player\": \"AS Wassan (1990-1991)\", \"Career Span\": \"1990-1991\", \"Career Start\": 1990, \"Career End\": 1991, \"Matches Played\": 9, \"Innings Batted\": 6.0, \"Not Outs\": 2.0, \"Runs Scored\": 33.0, \"Highest Innings Score\": \"16\", \"Highest Innings Score Num\": \"16\", \"Batting Avg\": 8.25, \"Balls Faced\": 56.0, \"Batting Strike Rate\": 58.92, \"Hundreds Scored\": 0.0, \"Scores Of Fifty Or More\": 0.0, \"Ducks Scored\": 1.0, \"Country\": \"India\", \"Player Count\": 1, \"5000+ Runs Scored\": 0, \"40+ Batting Avg\": 0, \"90+ Batting Strike Rate\": 0}, {\"Player\": \"SLV Raju (1990-1996)\", \"Career Span\": \"1990-1996\", \"Career Start\": 1990, \"Career End\": 1996, \"Matches Played\": 53, \"Innings Batted\": 16.0, \"Not Outs\": 8.0, \"Runs Scored\": 32.0, \"Highest Innings Score\": \"8\", \"Highest Innings Score Num\": \"8\", \"Batting Avg\": 4.0, \"Balls Faced\": 67.0, \"Batting Strike Rate\": 47.76, \"Hundreds Scored\": 0.0, \"Scores Of Fifty Or More\": 0.0, \"Ducks Scored\": 4.0, \"Country\": \"India\", \"Player Count\": 1, \"5000+ Runs Scored\": 0, \"40+ Batting Avg\": 0, \"90+ Batting Strike Rate\": 0}, {\"Player\": \"BS Bedi (1974-1979)\", \"Career Span\": \"1974-1979\", \"Career Start\": 1974, \"Career End\": 1979, \"Matches Played\": 10, \"Innings Batted\": 7.0, \"Not Outs\": 2.0, \"Runs Scored\": 31.0, \"Highest Innings Score\": \"13\", \"Highest Innings Score Num\": \"13\", \"Batting Avg\": 6.2, \"Balls Faced\": 70.0, \"Batting Strike Rate\": 44.28, \"Hundreds Scored\": 0.0, \"Scores Of Fifty Or More\": 0.0, \"Ducks Scored\": 1.0, \"Country\": \"India\", \"Player Count\": 1, \"5000+ Runs Scored\": 0, \"40+ Batting Avg\": 0, \"90+ Batting Strike Rate\": 0}, {\"Player\": \"MM Sharma (2013-2015)\", \"Career Span\": \"2013-2015\", \"Career Start\": 2013, \"Career End\": 2015, \"Matches Played\": 26, \"Innings Batted\": 9.0, \"Not Outs\": 5.0, \"Runs Scored\": 31.0, \"Highest Innings Score\": \"11\", \"Highest Innings Score Num\": \"11\", \"Batting Avg\": 7.75, \"Balls Faced\": 66.0, \"Batting Strike Rate\": 46.96, \"Hundreds Scored\": 0.0, \"Scores Of Fifty Or More\": 0.0, \"Ducks Scored\": 1.0, \"Country\": \"India\", \"Player Count\": 1, \"5000+ Runs Scored\": 0, \"40+ Batting Avg\": 0, \"90+ Batting Strike Rate\": 0}, {\"Player\": \"DS Mohanty (1997-2001)\", \"Career Span\": \"1997-2001\", \"Career Start\": 1997, \"Career End\": 2001, \"Matches Played\": 45, \"Innings Batted\": 11.0, \"Not Outs\": 6.0, \"Runs Scored\": 28.0, \"Highest Innings Score\": \"18*\", \"Highest Innings Score Num\": \"18\", \"Batting Avg\": 5.6, \"Balls Faced\": 57.0, \"Batting Strike Rate\": 49.12, \"Hundreds Scored\": 0.0, \"Scores Of Fifty Or More\": 0.0, \"Ducks Scored\": 3.0, \"Country\": \"India\", \"Player Count\": 1, \"5000+ Runs Scored\": 0, \"40+ Batting Avg\": 0, \"90+ Batting Strike Rate\": 0}, {\"Player\": \"DS Kulkarni (2014-2016)\", \"Career Span\": \"2014-2016\", \"Career Start\": 2014, \"Career End\": 2016, \"Matches Played\": 12, \"Innings Batted\": 2.0, \"Not Outs\": 2.0, \"Runs Scored\": 27.0, \"Highest Innings Score\": \"25*\", \"Highest Innings Score Num\": \"25\", \"Batting Avg\": null, \"Balls Faced\": 28.0, \"Batting Strike Rate\": 96.42, \"Hundreds Scored\": 0.0, \"Scores Of Fifty Or More\": 0.0, \"Ducks Scored\": 0.0, \"Country\": \"India\", \"Player Count\": 1, \"5000+ Runs Scored\": 0, \"40+ Batting Avg\": 0, \"90+ Batting Strike Rate\": 0}, {\"Player\": \"ED Solkar (1974-1976)\", \"Career Span\": \"1974-1976\", \"Career Start\": 1974, \"Career End\": 1976, \"Matches Played\": 7, \"Innings Batted\": 6.0, \"Not Outs\": 0.0, \"Runs Scored\": 27.0, \"Highest Innings Score\": \"13\", \"Highest Innings Score Num\": \"13\", \"Batting Avg\": 4.5, \"Balls Faced\": 79.0, \"Batting Strike Rate\": 34.17, \"Hundreds Scored\": 0.0, \"Scores Of Fifty Or More\": 0.0, \"Ducks Scored\": 1.0, \"Country\": \"India\", \"Player Count\": 1, \"5000+ Runs Scored\": 0, \"40+ Batting Avg\": 0, \"90+ Batting Strike Rate\": 0}, {\"Player\": \"A Kuruvilla (1997-1997)\", \"Career Span\": \"1997-1997\", \"Career Start\": 1997, \"Career End\": 1997, \"Matches Played\": 25, \"Innings Batted\": 11.0, \"Not Outs\": 4.0, \"Runs Scored\": 26.0, \"Highest Innings Score\": \"7\", \"Highest Innings Score Num\": \"7\", \"Batting Avg\": 3.71, \"Balls Faced\": 43.0, \"Batting Strike Rate\": 60.46, \"Hundreds Scored\": 0.0, \"Scores Of Fifty Or More\": 0.0, \"Ducks Scored\": 1.0, \"Country\": \"India\", \"Player Count\": 1, \"5000+ Runs Scored\": 0, \"40+ Batting Avg\": 0, \"90+ Batting Strike Rate\": 0}, {\"Player\": \"SV Bahutule (1997-2003)\", \"Career Span\": \"1997-2003\", \"Career Start\": 1997, \"Career End\": 2003, \"Matches Played\": 8, \"Innings Batted\": 4.0, \"Not Outs\": 1.0, \"Runs Scored\": 23.0, \"Highest Innings Score\": \"11\", \"Highest Innings Score Num\": \"11\", \"Batting Avg\": 7.66, \"Balls Faced\": 29.0, \"Batting Strike Rate\": 79.31, \"Hundreds Scored\": 0.0, \"Scores Of Fifty Or More\": 0.0, \"Ducks Scored\": 0.0, \"Country\": \"India\", \"Player Count\": 1, \"5000+ Runs Scored\": 0, \"40+ Batting Avg\": 0, \"90+ Batting Strike Rate\": 0}, {\"Player\": \"V Razdan (1989-1990)\", \"Career Span\": \"1989-1990\", \"Career Start\": 1989, \"Career End\": 1990, \"Matches Played\": 3, \"Innings Batted\": 3.0, \"Not Outs\": 1.0, \"Runs Scored\": 23.0, \"Highest Innings Score\": \"18\", \"Highest Innings Score Num\": \"18\", \"Batting Avg\": 11.5, \"Balls Faced\": 27.0, \"Batting Strike Rate\": 85.18, \"Hundreds Scored\": 0.0, \"Scores Of Fifty Or More\": 0.0, \"Ducks Scored\": 0.0, \"Country\": \"India\", \"Player Count\": 1, \"5000+ Runs Scored\": 0, \"40+ Batting Avg\": 0, \"90+ Batting Strike Rate\": 0}, {\"Player\": \"SN Thakur (2017-2018)\", \"Career Span\": \"2017-2018\", \"Career Start\": 2017, \"Career End\": 2018, \"Matches Played\": 5, \"Innings Batted\": 2.0, \"Not Outs\": 1.0, \"Runs Scored\": 22.0, \"Highest Innings Score\": \"22*\", \"Highest Innings Score Num\": \"22\", \"Batting Avg\": 22.0, \"Balls Faced\": 16.0, \"Batting Strike Rate\": 137.5, \"Hundreds Scored\": 0.0, \"Scores Of Fifty Or More\": 0.0, \"Ducks Scored\": 1.0, \"Country\": \"India\", \"Player Count\": 1, \"5000+ Runs Scored\": 0, \"40+ Batting Avg\": 0, \"90+ Batting Strike Rate\": 0}, {\"Player\": \"B Arun (1986-1987)\", \"Career Span\": \"1986-1987\", \"Career Start\": 1986, \"Career End\": 1987, \"Matches Played\": 4, \"Innings Batted\": 3.0, \"Not Outs\": 1.0, \"Runs Scored\": 21.0, \"Highest Innings Score\": \"8\", \"Highest Innings Score Num\": \"8\", \"Batting Avg\": 10.5, \"Balls Faced\": 32.0, \"Batting Strike Rate\": 65.62, \"Hundreds Scored\": 0.0, \"Scores Of Fifty Or More\": 0.0, \"Ducks Scored\": 0.0, \"Country\": \"India\", \"Player Count\": 1, \"5000+ Runs Scored\": 0, \"40+ Batting Avg\": 0, \"90+ Batting Strike Rate\": 0}, {\"Player\": \"AB Dinda (2010-2013)\", \"Career Span\": \"2010-2013\", \"Career Start\": 2010, \"Career End\": 2013, \"Matches Played\": 13, \"Innings Batted\": 5.0, \"Not Outs\": 0.0, \"Runs Scored\": 21.0, \"Highest Innings Score\": \"16\", \"Highest Innings Score Num\": \"16\", \"Batting Avg\": 4.2, \"Balls Faced\": 36.0, \"Batting Strike Rate\": 58.33, \"Hundreds Scored\": 0.0, \"Scores Of Fifty Or More\": 0.0, \"Ducks Scored\": 2.0, \"Country\": \"India\", \"Player Count\": 1, \"5000+ Runs Scored\": 0, \"40+ Batting Avg\": 0, \"90+ Batting Strike Rate\": 0}, {\"Player\": \"PH Sharma (1976-1976)\", \"Career Span\": \"1976-1976\", \"Career Start\": 1976, \"Career End\": 1976, \"Matches Played\": 2, \"Innings Batted\": 2.0, \"Not Outs\": 0.0, \"Runs Scored\": 20.0, \"Highest Innings Score\": \"14\", \"Highest Innings Score Num\": \"14\", \"Batting Avg\": 10.0, \"Balls Faced\": 39.0, \"Batting Strike Rate\": 51.28, \"Hundreds Scored\": 0.0, \"Scores Of Fifty Or More\": 0.0, \"Ducks Scored\": 0.0, \"Country\": \"India\", \"Player Count\": 1, \"5000+ Runs Scored\": 0, \"40+ Batting Avg\": 0, \"90+ Batting Strike Rate\": 0}, {\"Player\": \"T Kumaran (1999-2000)\", \"Career Span\": \"1999-2000\", \"Career Start\": 1999, \"Career End\": 2000, \"Matches Played\": 8, \"Innings Batted\": 3.0, \"Not Outs\": 0.0, \"Runs Scored\": 19.0, \"Highest Innings Score\": \"8\", \"Highest Innings Score Num\": \"8\", \"Batting Avg\": 6.33, \"Balls Faced\": 27.0, \"Batting Strike Rate\": 70.37, \"Hundreds Scored\": 0.0, \"Scores Of Fifty Or More\": 0.0, \"Ducks Scored\": 0.0, \"Country\": \"India\", \"Player Count\": 1, \"5000+ Runs Scored\": 0, \"40+ Batting Avg\": 0, \"90+ Batting Strike Rate\": 0}, {\"Player\": \"LR Shukla (1999-1999)\", \"Career Span\": \"1999-1999\", \"Career Start\": 1999, \"Career End\": 1999, \"Matches Played\": 3, \"Innings Batted\": 2.0, \"Not Outs\": 0.0, \"Runs Scored\": 18.0, \"Highest Innings Score\": \"13\", \"Highest Innings Score Num\": \"13\", \"Batting Avg\": 9.0, \"Balls Faced\": 19.0, \"Batting Strike Rate\": 94.73, \"Hundreds Scored\": 0.0, \"Scores Of Fifty Or More\": 0.0, \"Ducks Scored\": 0.0, \"Country\": \"India\", \"Player Count\": 1, \"5000+ Runs Scored\": 0, \"40+ Batting Avg\": 0, \"90+ Batting Strike Rate\": 0}, {\"Player\": \"YS Chahal (2016-2018)\", \"Career Span\": \"2016-2018\", \"Career Start\": 2016, \"Career End\": 2018, \"Matches Played\": 34, \"Innings Batted\": 4.0, \"Not Outs\": 1.0, \"Runs Scored\": 16.0, \"Highest Innings Score\": \"12\", \"Highest Innings Score Num\": \"12\", \"Batting Avg\": 5.33, \"Balls Faced\": 28.0, \"Batting Strike Rate\": 57.14, \"Hundreds Scored\": 0.0, \"Scores Of Fifty Or More\": 0.0, \"Ducks Scored\": 0.0, \"Country\": \"India\", \"Player Count\": 1, \"5000+ Runs Scored\": 0, \"40+ Batting Avg\": 0, \"90+ Batting Strike Rate\": 0}, {\"Player\": \"S Somasunder (1996-1996)\", \"Career Span\": \"1996-1996\", \"Career Start\": 1996, \"Career End\": 1996, \"Matches Played\": 2, \"Innings Batted\": 2.0, \"Not Outs\": 0.0, \"Runs Scored\": 16.0, \"Highest Innings Score\": \"9\", \"Highest Innings Score Num\": \"9\", \"Batting Avg\": 8.0, \"Balls Faced\": 63.0, \"Batting Strike Rate\": 25.39, \"Hundreds Scored\": 0.0, \"Scores Of Fifty Or More\": 0.0, \"Ducks Scored\": 0.0, \"Country\": \"India\", \"Player Count\": 1, \"5000+ Runs Scored\": 0, \"40+ Batting Avg\": 0, \"90+ Batting Strike Rate\": 0}, {\"Player\": \"PS Vaidya (1995-1996)\", \"Career Span\": \"1995-1996\", \"Career Start\": 1995, \"Career End\": 1996, \"Matches Played\": 4, \"Innings Batted\": 2.0, \"Not Outs\": 0.0, \"Runs Scored\": 15.0, \"Highest Innings Score\": \"12\", \"Highest Innings Score Num\": \"12\", \"Batting Avg\": 7.5, \"Balls Faced\": 12.0, \"Batting Strike Rate\": 125.0, \"Hundreds Scored\": 0.0, \"Scores Of Fifty Or More\": 0.0, \"Ducks Scored\": 0.0, \"Country\": \"India\", \"Player Count\": 1, \"5000+ Runs Scored\": 0, \"40+ Batting Avg\": 0, \"90+ Batting Strike Rate\": 0}, {\"Player\": \"GK Bose (1974-1974)\", \"Career Span\": \"1974-1974\", \"Career Start\": 1974, \"Career End\": 1974, \"Matches Played\": 1, \"Innings Batted\": 1.0, \"Not Outs\": 0.0, \"Runs Scored\": 13.0, \"Highest Innings Score\": \"13\", \"Highest Innings Score Num\": \"13\", \"Batting Avg\": 13.0, \"Balls Faced\": 18.0, \"Batting Strike Rate\": 72.22, \"Hundreds Scored\": 0.0, \"Scores Of Fifty Or More\": 0.0, \"Ducks Scored\": 0.0, \"Country\": \"India\", \"Player Count\": 1, \"5000+ Runs Scored\": 0, \"40+ Batting Avg\": 0, \"90+ Batting Strike Rate\": 0}, {\"Player\": \"Gurkeerat Singh (2016-2016)\", \"Career Span\": \"2016-2016\", \"Career Start\": 2016, \"Career End\": 2016, \"Matches Played\": 3, \"Innings Batted\": 3.0, \"Not Outs\": 1.0, \"Runs Scored\": 13.0, \"Highest Innings Score\": \"8\", \"Highest Innings Score Num\": \"8\", \"Batting Avg\": 6.5, \"Balls Faced\": 13.0, \"Batting Strike Rate\": 100.0, \"Hundreds Scored\": 0.0, \"Scores Of Fifty Or More\": 0.0, \"Ducks Scored\": 0.0, \"Country\": \"India\", \"Player Count\": 1, \"5000+ Runs Scored\": 0, \"40+ Batting Avg\": 0, \"90+ Batting Strike Rate\": 0}, {\"Player\": \"DL Chahar (2018-2018)\", \"Career Span\": \"2018-2018\", \"Career Start\": 2018, \"Career End\": 2018, \"Matches Played\": 1, \"Innings Batted\": 1.0, \"Not Outs\": 0.0, \"Runs Scored\": 12.0, \"Highest Innings Score\": \"12\", \"Highest Innings Score Num\": \"12\", \"Batting Avg\": 12.0, \"Balls Faced\": 14.0, \"Batting Strike Rate\": 85.71, \"Hundreds Scored\": 0.0, \"Scores Of Fifty Or More\": 0.0, \"Ducks Scored\": 0.0, \"Country\": \"India\", \"Player Count\": 1, \"5000+ Runs Scored\": 0, \"40+ Batting Avg\": 0, \"90+ Batting Strike Rate\": 0}, {\"Player\": \"R Dhawan (2016-2016)\", \"Career Span\": \"2016-2016\", \"Career Start\": 2016, \"Career End\": 2016, \"Matches Played\": 3, \"Innings Batted\": 2.0, \"Not Outs\": 1.0, \"Runs Scored\": 12.0, \"Highest Innings Score\": \"9\", \"Highest Innings Score Num\": \"9\", \"Batting Avg\": 12.0, \"Balls Faced\": 13.0, \"Batting Strike Rate\": 92.3, \"Hundreds Scored\": 0.0, \"Scores Of Fifty Or More\": 0.0, \"Ducks Scored\": 0.0, \"Country\": \"India\", \"Player Count\": 1, \"5000+ Runs Scored\": 0, \"40+ Batting Avg\": 0, \"90+ Batting Strike Rate\": 0}, {\"Player\": \"JJ Bumrah (2016-2018)\", \"Career Span\": \"2016-2018\", \"Career Start\": 2016, \"Career End\": 2018, \"Matches Played\": 44, \"Innings Batted\": 6.0, \"Not Outs\": 2.0, \"Runs Scored\": 11.0, \"Highest Innings Score\": \"10*\", \"Highest Innings Score Num\": \"10\", \"Batting Avg\": 2.75, \"Balls Faced\": 34.0, \"Batting Strike Rate\": 32.35, \"Hundreds Scored\": 0.0, \"Scores Of Fifty Or More\": 0.0, \"Ducks Scored\": 3.0, \"Country\": \"India\", \"Player Count\": 1, \"5000+ Runs Scored\": 0, \"40+ Batting Avg\": 0, \"90+ Batting Strike Rate\": 0}, {\"Player\": \"BS Chandrasekhar (1976-1976)\", \"Career Span\": \"1976-1976\", \"Career Start\": 1976, \"Career End\": 1976, \"Matches Played\": 1, \"Innings Batted\": 1.0, \"Not Outs\": 1.0, \"Runs Scored\": 11.0, \"Highest Innings Score\": \"11*\", \"Highest Innings Score Num\": \"11\", \"Batting Avg\": null, \"Balls Faced\": 13.0, \"Batting Strike Rate\": 84.61, \"Hundreds Scored\": 0.0, \"Scores Of Fifty Or More\": 0.0, \"Ducks Scored\": 0.0, \"Country\": \"India\", \"Player Count\": 1, \"5000+ Runs Scored\": 0, \"40+ Batting Avg\": 0, \"90+ Batting Strike Rate\": 0}, {\"Player\": \"NM Kulkarni (1997-1998)\", \"Career Span\": \"1997-1998\", \"Career Start\": 1997, \"Career End\": 1998, \"Matches Played\": 10, \"Innings Batted\": 5.0, \"Not Outs\": 3.0, \"Runs Scored\": 11.0, \"Highest Innings Score\": \"5*\", \"Highest Innings Score Num\": \"5\", \"Batting Avg\": 5.5, \"Balls Faced\": 20.0, \"Batting Strike Rate\": 55.0, \"Hundreds Scored\": 0.0, \"Scores Of Fifty Or More\": 0.0, \"Ducks Scored\": 1.0, \"Country\": \"India\", \"Player Count\": 1, \"5000+ Runs Scored\": 0, \"40+ Batting Avg\": 0, \"90+ Batting Strike Rate\": 0}, {\"Player\": \"B Reddy (1978-1981)\", \"Career Span\": \"1978-1981\", \"Career Start\": 1978, \"Career End\": 1981, \"Matches Played\": 3, \"Innings Batted\": 2.0, \"Not Outs\": 2.0, \"Runs Scored\": 11.0, \"Highest Innings Score\": \"8*\", \"Highest Innings Score Num\": \"8\", \"Batting Avg\": null, \"Balls Faced\": 20.0, \"Batting Strike Rate\": 55.0, \"Hundreds Scored\": 0.0, \"Scores Of Fifty Or More\": 0.0, \"Ducks Scored\": 0.0, \"Country\": \"India\", \"Player Count\": 1, \"5000+ Runs Scored\": 0, \"40+ Batting Avg\": 0, \"90+ Batting Strike Rate\": 0}, {\"Player\": \"G Sharma (1985-1987)\", \"Career Span\": \"1985-1987\", \"Career Start\": 1985, \"Career End\": 1987, \"Matches Played\": 11, \"Innings Batted\": 2.0, \"Not Outs\": 0.0, \"Runs Scored\": 11.0, \"Highest Innings Score\": \"7\", \"Highest Innings Score Num\": \"7\", \"Batting Avg\": 5.5, \"Balls Faced\": 24.0, \"Batting Strike Rate\": 45.83, \"Hundreds Scored\": 0.0, \"Scores Of Fifty Or More\": 0.0, \"Ducks Scored\": 0.0, \"Country\": \"India\", \"Player Count\": 1, \"5000+ Runs Scored\": 0, \"40+ Batting Avg\": 0, \"90+ Batting Strike Rate\": 0}, {\"Player\": \"W Jaffer (2006-2006)\", \"Career Span\": \"2006-2006\", \"Career Start\": 2006, \"Career End\": 2006, \"Matches Played\": 2, \"Innings Batted\": 2.0, \"Not Outs\": 0.0, \"Runs Scored\": 10.0, \"Highest Innings Score\": \"10\", \"Highest Innings Score Num\": \"10\", \"Batting Avg\": 5.0, \"Balls Faced\": 23.0, \"Batting Strike Rate\": 43.47, \"Hundreds Scored\": 0.0, \"Scores Of Fifty Or More\": 0.0, \"Ducks Scored\": 1.0, \"Country\": \"India\", \"Player Count\": 1, \"5000+ Runs Scored\": 0, \"40+ Batting Avg\": 0, \"90+ Batting Strike Rate\": 0}, {\"Player\": \"AV Kale (2003-2003)\", \"Career Span\": \"2003-2003\", \"Career Start\": 2003, \"Career End\": 2003, \"Matches Played\": 1, \"Innings Batted\": 1.0, \"Not Outs\": 0.0, \"Runs Scored\": 10.0, \"Highest Innings Score\": \"10\", \"Highest Innings Score Num\": \"10\", \"Batting Avg\": 10.0, \"Balls Faced\": 22.0, \"Batting Strike Rate\": 45.45, \"Hundreds Scored\": 0.0, \"Scores Of Fifty Or More\": 0.0, \"Ducks Scored\": 0.0, \"Country\": \"India\", \"Player Count\": 1, \"5000+ Runs Scored\": 0, \"40+ Batting Avg\": 0, \"90+ Batting Strike Rate\": 0}, {\"Player\": \"TE Srinivasan (1980-1981)\", \"Career Span\": \"1980-1981\", \"Career Start\": 1980, \"Career End\": 1981, \"Matches Played\": 2, \"Innings Batted\": 2.0, \"Not Outs\": 0.0, \"Runs Scored\": 10.0, \"Highest Innings Score\": \"6\", \"Highest Innings Score Num\": \"6\", \"Batting Avg\": 5.0, \"Balls Faced\": 35.0, \"Batting Strike Rate\": 28.57, \"Hundreds Scored\": 0.0, \"Scores Of Fifty Or More\": 0.0, \"Ducks Scored\": 0.0, \"Country\": \"India\", \"Player Count\": 1, \"5000+ Runs Scored\": 0, \"40+ Batting Avg\": 0, \"90+ Batting Strike Rate\": 0}, {\"Player\": \"NA David (1997-1997)\", \"Career Span\": \"1997-1997\", \"Career Start\": 1997, \"Career End\": 1997, \"Matches Played\": 4, \"Innings Batted\": 2.0, \"Not Outs\": 2.0, \"Runs Scored\": 9.0, \"Highest Innings Score\": \"8*\", \"Highest Innings Score Num\": \"8\", \"Batting Avg\": null, \"Balls Faced\": 10.0, \"Batting Strike Rate\": 90.0, \"Hundreds Scored\": 0.0, \"Scores Of Fifty Or More\": 0.0, \"Ducks Scored\": 0.0, \"Country\": \"India\", \"Player Count\": 1, \"5000+ Runs Scored\": 0, \"40+ Batting Avg\": 0, \"90+ Batting Strike Rate\": 0}, {\"Player\": \"DR Doshi (1980-1982)\", \"Career Span\": \"1980-1982\", \"Career Start\": 1980, \"Career End\": 1982, \"Matches Played\": 15, \"Innings Batted\": 5.0, \"Not Outs\": 2.0, \"Runs Scored\": 9.0, \"Highest Innings Score\": \"5*\", \"Highest Innings Score Num\": \"5\", \"Batting Avg\": 3.0, \"Balls Faced\": 20.0, \"Batting Strike Rate\": 45.0, \"Hundreds Scored\": 0.0, \"Scores Of Fifty Or More\": 0.0, \"Ducks Scored\": 2.0, \"Country\": \"India\", \"Player Count\": 1, \"5000+ Runs Scored\": 0, \"40+ Batting Avg\": 0, \"90+ Batting Strike Rate\": 0}, {\"Player\": \"LS Rajput (1985-1987)\", \"Career Span\": \"1985-1987\", \"Career Start\": 1985, \"Career End\": 1987, \"Matches Played\": 4, \"Innings Batted\": 4.0, \"Not Outs\": 1.0, \"Runs Scored\": 9.0, \"Highest Innings Score\": \"8\", \"Highest Innings Score Num\": \"8\", \"Batting Avg\": 3.0, \"Balls Faced\": 31.0, \"Batting Strike Rate\": 29.03, \"Hundreds Scored\": 0.0, \"Scores Of Fifty Or More\": 0.0, \"Ducks Scored\": 2.0, \"Country\": \"India\", \"Player Count\": 1, \"5000+ Runs Scored\": 0, \"40+ Batting Avg\": 0, \"90+ Batting Strike Rate\": 0}, {\"Player\": \"VR Aaron (2011-2014)\", \"Career Span\": \"2011-2014\", \"Career Start\": 2011, \"Career End\": 2014, \"Matches Played\": 9, \"Innings Batted\": 3.0, \"Not Outs\": 2.0, \"Runs Scored\": 8.0, \"Highest Innings Score\": \"6*\", \"Highest Innings Score Num\": \"6\", \"Batting Avg\": 8.0, \"Balls Faced\": 15.0, \"Batting Strike Rate\": 53.33, \"Hundreds Scored\": 0.0, \"Scores Of Fifty Or More\": 0.0, \"Ducks Scored\": 1.0, \"Country\": \"India\", \"Player Count\": 1, \"5000+ Runs Scored\": 0, \"40+ Batting Avg\": 0, \"90+ Batting Strike Rate\": 0}, {\"Player\": \"P Dharmani (1996-1996)\", \"Career Span\": \"1996-1996\", \"Career Start\": 1996, \"Career End\": 1996, \"Matches Played\": 1, \"Innings Batted\": 1.0, \"Not Outs\": 0.0, \"Runs Scored\": 8.0, \"Highest Innings Score\": \"8\", \"Highest Innings Score Num\": \"8\", \"Batting Avg\": 8.0, \"Balls Faced\": 8.0, \"Batting Strike Rate\": 100.0, \"Hundreds Scored\": 0.0, \"Scores Of Fifty Or More\": 0.0, \"Ducks Scored\": 0.0, \"Country\": \"India\", \"Player Count\": 1, \"5000+ Runs Scored\": 0, \"40+ Batting Avg\": 0, \"90+ Batting Strike Rate\": 0}, {\"Player\": \"ND Hirwani (1988-1992)\", \"Career Span\": \"1988-1992\", \"Career Start\": 1988, \"Career End\": 1992, \"Matches Played\": 18, \"Innings Batted\": 7.0, \"Not Outs\": 3.0, \"Runs Scored\": 8.0, \"Highest Innings Score\": \"4\", \"Highest Innings Score Num\": \"4\", \"Batting Avg\": 2.0, \"Balls Faced\": 29.0, \"Batting Strike Rate\": 27.58, \"Hundreds Scored\": 0.0, \"Scores Of Fifty Or More\": 0.0, \"Ducks Scored\": 2.0, \"Country\": \"India\", \"Player Count\": 1, \"5000+ Runs Scored\": 0, \"40+ Batting Avg\": 0, \"90+ Batting Strike Rate\": 0}, {\"Player\": \"SS Raul (1998-1998)\", \"Career Span\": \"1998-1998\", \"Career Start\": 1998, \"Career End\": 1998, \"Matches Played\": 2, \"Innings Batted\": 2.0, \"Not Outs\": 0.0, \"Runs Scored\": 8.0, \"Highest Innings Score\": \"8\", \"Highest Innings Score Num\": \"8\", \"Batting Avg\": 4.0, \"Balls Faced\": 14.0, \"Batting Strike Rate\": 57.14, \"Hundreds Scored\": 0.0, \"Scores Of Fifty Or More\": 0.0, \"Ducks Scored\": 1.0, \"Country\": \"India\", \"Player Count\": 1, \"5000+ Runs Scored\": 0, \"40+ Batting Avg\": 0, \"90+ Batting Strike Rate\": 0}, {\"Player\": \"RL Sanghvi (1998-1998)\", \"Career Span\": \"1998-1998\", \"Career Start\": 1998, \"Career End\": 1998, \"Matches Played\": 10, \"Innings Batted\": 2.0, \"Not Outs\": 0.0, \"Runs Scored\": 8.0, \"Highest Innings Score\": \"8\", \"Highest Innings Score Num\": \"8\", \"Batting Avg\": 4.0, \"Balls Faced\": 11.0, \"Batting Strike Rate\": 72.72, \"Hundreds Scored\": 0.0, \"Scores Of Fifty Or More\": 0.0, \"Ducks Scored\": 1.0, \"Country\": \"India\", \"Player Count\": 1, \"5000+ Runs Scored\": 0, \"40+ Batting Avg\": 0, \"90+ Batting Strike Rate\": 0}, {\"Player\": \"VRV Singh (2006-2006)\", \"Career Span\": \"2006-2006\", \"Career Start\": 2006, \"Career End\": 2006, \"Matches Played\": 2, \"Innings Batted\": 1.0, \"Not Outs\": 0.0, \"Runs Scored\": 8.0, \"Highest Innings Score\": \"8\", \"Highest Innings Score Num\": \"8\", \"Batting Avg\": 8.0, \"Balls Faced\": 13.0, \"Batting Strike Rate\": 61.53, \"Hundreds Scored\": 0.0, \"Scores Of Fifty Or More\": 0.0, \"Ducks Scored\": 0.0, \"Country\": \"India\", \"Player Count\": 1, \"5000+ Runs Scored\": 0, \"40+ Batting Avg\": 0, \"90+ Batting Strike Rate\": 0}, {\"Player\": \"PL Mhambrey (1996-1998)\", \"Career Span\": \"1996-1998\", \"Career Start\": 1996, \"Career End\": 1998, \"Matches Played\": 3, \"Innings Batted\": 1.0, \"Not Outs\": 1.0, \"Runs Scored\": 7.0, \"Highest Innings Score\": \"7*\", \"Highest Innings Score Num\": \"7\", \"Batting Avg\": null, \"Balls Faced\": 5.0, \"Batting Strike Rate\": 140.0, \"Hundreds Scored\": 0.0, \"Scores Of Fifty Or More\": 0.0, \"Ducks Scored\": 0.0, \"Country\": \"India\", \"Player Count\": 1, \"5000+ Runs Scored\": 0, \"40+ Batting Avg\": 0, \"90+ Batting Strike Rate\": 0}, {\"Player\": \"T Yohannan (2002-2002)\", \"Career Span\": \"2002-2002\", \"Career Start\": 2002, \"Career End\": 2002, \"Matches Played\": 3, \"Innings Batted\": 2.0, \"Not Outs\": 2.0, \"Runs Scored\": 7.0, \"Highest Innings Score\": \"5*\", \"Highest Innings Score Num\": \"5\", \"Batting Avg\": null, \"Balls Faced\": 11.0, \"Batting Strike Rate\": 63.63, \"Hundreds Scored\": 0.0, \"Scores Of Fifty Or More\": 0.0, \"Ducks Scored\": 0.0, \"Country\": \"India\", \"Player Count\": 1, \"5000+ Runs Scored\": 0, \"40+ Batting Avg\": 0, \"90+ Batting Strike Rate\": 0}, {\"Player\": \"Bhupinder Singh snr (1994-1994)\", \"Career Span\": \"1994-1994\", \"Career Start\": 1994, \"Career End\": 1994, \"Matches Played\": 2, \"Innings Batted\": 1.0, \"Not Outs\": 0.0, \"Runs Scored\": 6.0, \"Highest Innings Score\": \"6\", \"Highest Innings Score Num\": \"6\", \"Batting Avg\": 6.0, \"Balls Faced\": 13.0, \"Batting Strike Rate\": 46.15, \"Hundreds Scored\": 0.0, \"Scores Of Fifty Or More\": 0.0, \"Ducks Scored\": 0.0, \"Country\": \"India\", \"Player Count\": 1, \"5000+ Runs Scored\": 0, \"40+ Batting Avg\": 0, \"90+ Batting Strike Rate\": 0}, {\"Player\": \"U Chatterjee (1995-1995)\", \"Career Span\": \"1995-1995\", \"Career Start\": 1995, \"Career End\": 1995, \"Matches Played\": 3, \"Innings Batted\": 2.0, \"Not Outs\": 1.0, \"Runs Scored\": 6.0, \"Highest Innings Score\": \"3*\", \"Highest Innings Score Num\": \"3\", \"Batting Avg\": 6.0, \"Balls Faced\": 30.0, \"Batting Strike Rate\": 20.0, \"Hundreds Scored\": 0.0, \"Scores Of Fifty Or More\": 0.0, \"Ducks Scored\": 0.0, \"Country\": \"India\", \"Player Count\": 1, \"5000+ Runs Scored\": 0, \"40+ Batting Avg\": 0, \"90+ Batting Strike Rate\": 0}, {\"Player\": \"Harvinder Singh (1997-2001)\", \"Career Span\": \"1997-2001\", \"Career Start\": 1997, \"Career End\": 2001, \"Matches Played\": 16, \"Innings Batted\": 5.0, \"Not Outs\": 1.0, \"Runs Scored\": 6.0, \"Highest Innings Score\": \"3*\", \"Highest Innings Score Num\": \"3\", \"Batting Avg\": 1.5, \"Balls Faced\": 19.0, \"Batting Strike Rate\": 31.57, \"Hundreds Scored\": 0.0, \"Scores Of Fifty Or More\": 0.0, \"Ducks Scored\": 1.0, \"Country\": \"India\", \"Player Count\": 1, \"5000+ Runs Scored\": 0, \"40+ Batting Avg\": 0, \"90+ Batting Strike Rate\": 0}, {\"Player\": \"P Krishnamurthy (1976-1976)\", \"Career Span\": \"1976-1976\", \"Career Start\": 1976, \"Career End\": 1976, \"Matches Played\": 1, \"Innings Batted\": 1.0, \"Not Outs\": 0.0, \"Runs Scored\": 6.0, \"Highest Innings Score\": \"6\", \"Highest Innings Score Num\": \"6\", \"Batting Avg\": 6.0, \"Balls Faced\": 13.0, \"Batting Strike Rate\": 46.15, \"Hundreds Scored\": 0.0, \"Scores Of Fifty Or More\": 0.0, \"Ducks Scored\": 0.0, \"Country\": \"India\", \"Player Count\": 1, \"5000+ Runs Scored\": 0, \"40+ Batting Avg\": 0, \"90+ Batting Strike Rate\": 0}, {\"Player\": \"AK Patel (1984-1985)\", \"Career Span\": \"1984-1985\", \"Career Start\": 1984, \"Career End\": 1985, \"Matches Played\": 8, \"Innings Batted\": 2.0, \"Not Outs\": 0.0, \"Runs Scored\": 6.0, \"Highest Innings Score\": \"6\", \"Highest Innings Score Num\": \"6\", \"Batting Avg\": 3.0, \"Balls Faced\": 11.0, \"Batting Strike Rate\": 54.54, \"Hundreds Scored\": 0.0, \"Scores Of Fifty Or More\": 0.0, \"Ducks Scored\": 1.0, \"Country\": \"India\", \"Player Count\": 1, \"5000+ Runs Scored\": 0, \"40+ Batting Avg\": 0, \"90+ Batting Strike Rate\": 0}, {\"Player\": \"L Sivaramakrishnan (1985-1987)\", \"Career Span\": \"1985-1987\", \"Career Start\": 1985, \"Career End\": 1987, \"Matches Played\": 16, \"Innings Batted\": 4.0, \"Not Outs\": 2.0, \"Runs Scored\": 5.0, \"Highest Innings Score\": \"2*\", \"Highest Innings Score Num\": \"2\", \"Batting Avg\": 2.5, \"Balls Faced\": 24.0, \"Batting Strike Rate\": 20.83, \"Hundreds Scored\": 0.0, \"Scores Of Fifty Or More\": 0.0, \"Ducks Scored\": 0.0, \"Country\": \"India\", \"Player Count\": 1, \"5000+ Runs Scored\": 0, \"40+ Batting Avg\": 0, \"90+ Batting Strike Rate\": 0}, {\"Player\": \"KK Ahmed (2018-2018)\", \"Career Span\": \"2018-2018\", \"Career Start\": 2018, \"Career End\": 2018, \"Matches Played\": 6, \"Innings Batted\": 2.0, \"Not Outs\": 1.0, \"Runs Scored\": 4.0, \"Highest Innings Score\": \"3\", \"Highest Innings Score Num\": \"3\", \"Batting Avg\": 4.0, \"Balls Faced\": 12.0, \"Batting Strike Rate\": 33.33, \"Hundreds Scored\": 0.0, \"Scores Of Fifty Or More\": 0.0, \"Ducks Scored\": 0.0, \"Country\": \"India\", \"Player Count\": 1, \"5000+ Runs Scored\": 0, \"40+ Batting Avg\": 0, \"90+ Batting Strike Rate\": 0}, {\"Player\": \"D Ganesh (1997-1997)\", \"Career Span\": \"1997-1997\", \"Career Start\": 1997, \"Career End\": 1997, \"Matches Played\": 1, \"Innings Batted\": 1.0, \"Not Outs\": 0.0, \"Runs Scored\": 4.0, \"Highest Innings Score\": \"4\", \"Highest Innings Score Num\": \"4\", \"Batting Avg\": 4.0, \"Balls Faced\": 8.0, \"Batting Strike Rate\": 50.0, \"Hundreds Scored\": 0.0, \"Scores Of Fifty Or More\": 0.0, \"Ducks Scored\": 0.0, \"Country\": \"India\", \"Player Count\": 1, \"5000+ Runs Scored\": 0, \"40+ Batting Avg\": 0, \"90+ Batting Strike Rate\": 0}, {\"Player\": \"Gursharan Singh (1990-1990)\", \"Career Span\": \"1990-1990\", \"Career Start\": 1990, \"Career End\": 1990, \"Matches Played\": 1, \"Innings Batted\": 1.0, \"Not Outs\": 0.0, \"Runs Scored\": 4.0, \"Highest Innings Score\": \"4\", \"Highest Innings Score Num\": \"4\", \"Batting Avg\": 4.0, \"Balls Faced\": 10.0, \"Batting Strike Rate\": 40.0, \"Hundreds Scored\": 0.0, \"Scores Of Fifty Or More\": 0.0, \"Ducks Scored\": 0.0, \"Country\": \"India\", \"Player Count\": 1, \"5000+ Runs Scored\": 0, \"40+ Batting Avg\": 0, \"90+ Batting Strike Rate\": 0}, {\"Player\": \"GK Pandey (1999-1999)\", \"Career Span\": \"1999-1999\", \"Career Start\": 1999, \"Career End\": 1999, \"Matches Played\": 2, \"Innings Batted\": 2.0, \"Not Outs\": 1.0, \"Runs Scored\": 4.0, \"Highest Innings Score\": \"4*\", \"Highest Innings Score Num\": \"4\", \"Batting Avg\": 4.0, \"Balls Faced\": 11.0, \"Batting Strike Rate\": 36.36, \"Hundreds Scored\": 0.0, \"Scores Of Fifty Or More\": 0.0, \"Ducks Scored\": 1.0, \"Country\": \"India\", \"Player Count\": 1, \"5000+ Runs Scored\": 0, \"40+ Batting Avg\": 0, \"90+ Batting Strike Rate\": 0}, {\"Player\": \"AM Salvi (2003-2003)\", \"Career Span\": \"2003-2003\", \"Career Start\": 2003, \"Career End\": 2003, \"Matches Played\": 4, \"Innings Batted\": 3.0, \"Not Outs\": 1.0, \"Runs Scored\": 4.0, \"Highest Innings Score\": \"4*\", \"Highest Innings Score Num\": \"4\", \"Batting Avg\": 2.0, \"Balls Faced\": 14.0, \"Batting Strike Rate\": 28.57, \"Hundreds Scored\": 0.0, \"Scores Of Fifty Or More\": 0.0, \"Ducks Scored\": 2.0, \"Country\": \"India\", \"Player Count\": 1, \"5000+ Runs Scored\": 0, \"40+ Batting Avg\": 0, \"90+ Batting Strike Rate\": 0}, {\"Player\": \"R Sudhakar Rao (1976-1976)\", \"Career Span\": \"1976-1976\", \"Career Start\": 1976, \"Career End\": 1976, \"Matches Played\": 1, \"Innings Batted\": 1.0, \"Not Outs\": 0.0, \"Runs Scored\": 4.0, \"Highest Innings Score\": \"4\", \"Highest Innings Score Num\": \"4\", \"Batting Avg\": 4.0, \"Balls Faced\": 14.0, \"Batting Strike Rate\": 28.57, \"Hundreds Scored\": 0.0, \"Scores Of Fifty Or More\": 0.0, \"Ducks Scored\": 0.0, \"Country\": \"India\", \"Player Count\": 1, \"5000+ Runs Scored\": 0, \"40+ Batting Avg\": 0, \"90+ Batting Strike Rate\": 0}, {\"Player\": \"SV Nayak (1981-1982)\", \"Career Span\": \"1981-1982\", \"Career Start\": 1981, \"Career End\": 1982, \"Matches Played\": 4, \"Innings Batted\": 1.0, \"Not Outs\": 0.0, \"Runs Scored\": 3.0, \"Highest Innings Score\": \"3\", \"Highest Innings Score Num\": \"3\", \"Batting Avg\": 3.0, \"Balls Faced\": 19.0, \"Batting Strike Rate\": 15.78, \"Hundreds Scored\": 0.0, \"Scores Of Fifty Or More\": 0.0, \"Ducks Scored\": 0.0, \"Country\": \"India\", \"Player Count\": 1, \"5000+ Runs Scored\": 0, \"40+ Batting Avg\": 0, \"90+ Batting Strike Rate\": 0}, {\"Player\": \"Pankaj Singh (2010-2010)\", \"Career Span\": \"2010-2010\", \"Career Start\": 2010, \"Career End\": 2010, \"Matches Played\": 1, \"Innings Batted\": 1.0, \"Not Outs\": 1.0, \"Runs Scored\": 3.0, \"Highest Innings Score\": \"3*\", \"Highest Innings Score Num\": \"3\", \"Batting Avg\": null, \"Balls Faced\": 3.0, \"Batting Strike Rate\": 100.0, \"Hundreds Scored\": 0.0, \"Scores Of Fifty Or More\": 0.0, \"Ducks Scored\": 0.0, \"Country\": \"India\", \"Player Count\": 1, \"5000+ Runs Scored\": 0, \"40+ Batting Avg\": 0, \"90+ Batting Strike Rate\": 0}, {\"Player\": \"SP Mukherjee (1990-1991)\", \"Career Span\": \"1990-1991\", \"Career Start\": 1990, \"Career End\": 1991, \"Matches Played\": 3, \"Innings Batted\": 1.0, \"Not Outs\": 1.0, \"Runs Scored\": 2.0, \"Highest Innings Score\": \"2*\", \"Highest Innings Score Num\": \"2\", \"Batting Avg\": null, \"Balls Faced\": 2.0, \"Batting Strike Rate\": 100.0, \"Hundreds Scored\": 0.0, \"Scores Of Fifty Or More\": 0.0, \"Ducks Scored\": 0.0, \"Country\": \"India\", \"Player Count\": 1, \"5000+ Runs Scored\": 0, \"40+ Batting Avg\": 0, \"90+ Batting Strike Rate\": 0}, {\"Player\": \"RS Ghai (1984-1986)\", \"Career Span\": \"1984-1986\", \"Career Start\": 1984, \"Career End\": 1986, \"Matches Played\": 6, \"Innings Batted\": 1.0, \"Not Outs\": 0.0, \"Runs Scored\": 1.0, \"Highest Innings Score\": \"1\", \"Highest Innings Score Num\": \"1\", \"Batting Avg\": 1.0, \"Balls Faced\": 3.0, \"Batting Strike Rate\": 33.33, \"Hundreds Scored\": 0.0, \"Scores Of Fifty Or More\": 0.0, \"Ducks Scored\": 0.0, \"Country\": \"India\", \"Player Count\": 1, \"5000+ Runs Scored\": 0, \"40+ Batting Avg\": 0, \"90+ Batting Strike Rate\": 0}, {\"Player\": \"S Kaul (2018-2018)\", \"Career Span\": \"2018-2018\", \"Career Start\": 2018, \"Career End\": 2018, \"Matches Played\": 3, \"Innings Batted\": 2.0, \"Not Outs\": 0.0, \"Runs Scored\": 1.0, \"Highest Innings Score\": \"1\", \"Highest Innings Score Num\": \"1\", \"Batting Avg\": 0.5, \"Balls Faced\": 3.0, \"Batting Strike Rate\": 33.33, \"Hundreds Scored\": 0.0, \"Scores Of Fifty Or More\": 0.0, \"Ducks Scored\": 1.0, \"Country\": \"India\", \"Player Count\": 1, \"5000+ Runs Scored\": 0, \"40+ Batting Avg\": 0, \"90+ Batting Strike Rate\": 0}, {\"Player\": \"NV Ojha (2010-2010)\", \"Career Span\": \"2010-2010\", \"Career Start\": 2010, \"Career End\": 2010, \"Matches Played\": 1, \"Innings Batted\": 1.0, \"Not Outs\": 0.0, \"Runs Scored\": 1.0, \"Highest Innings Score\": \"1\", \"Highest Innings Score Num\": \"1\", \"Batting Avg\": 1.0, \"Balls Faced\": 7.0, \"Batting Strike Rate\": 14.28, \"Hundreds Scored\": 0.0, \"Scores Of Fifty Or More\": 0.0, \"Ducks Scored\": 0.0, \"Country\": \"India\", \"Player Count\": 1, \"5000+ Runs Scored\": 0, \"40+ Batting Avg\": 0, \"90+ Batting Strike Rate\": 0}, {\"Player\": \"R Sharma (2011-2012)\", \"Career Span\": \"2011-2012\", \"Career Start\": 2011, \"Career End\": 2012, \"Matches Played\": 4, \"Innings Batted\": 1.0, \"Not Outs\": 0.0, \"Runs Scored\": 1.0, \"Highest Innings Score\": \"1\", \"Highest Innings Score Num\": \"1\", \"Batting Avg\": 1.0, \"Balls Faced\": 2.0, \"Batting Strike Rate\": 50.0, \"Hundreds Scored\": 0.0, \"Scores Of Fifty Or More\": 0.0, \"Ducks Scored\": 0.0, \"Country\": \"India\", \"Player Count\": 1, \"5000+ Runs Scored\": 0, \"40+ Batting Avg\": 0, \"90+ Batting Strike Rate\": 0}, {\"Player\": \"S Tyagi (2009-2010)\", \"Career Span\": \"2009-2010\", \"Career Start\": 2009, \"Career End\": 2010, \"Matches Played\": 4, \"Innings Batted\": 1.0, \"Not Outs\": 1.0, \"Runs Scored\": 1.0, \"Highest Innings Score\": \"1*\", \"Highest Innings Score Num\": \"1\", \"Batting Avg\": null, \"Balls Faced\": 2.0, \"Batting Strike Rate\": 50.0, \"Hundreds Scored\": 0.0, \"Scores Of Fifty Or More\": 0.0, \"Ducks Scored\": 0.0, \"Country\": \"India\", \"Player Count\": 1, \"5000+ Runs Scored\": 0, \"40+ Batting Avg\": 0, \"90+ Batting Strike Rate\": 0}, {\"Player\": \"J Yadav (2016-2016)\", \"Career Span\": \"2016-2016\", \"Career Start\": 2016, \"Career End\": 2016, \"Matches Played\": 1, \"Innings Batted\": 1.0, \"Not Outs\": 1.0, \"Runs Scored\": 1.0, \"Highest Innings Score\": \"1*\", \"Highest Innings Score Num\": \"1\", \"Batting Avg\": null, \"Balls Faced\": 1.0, \"Batting Strike Rate\": 100.0, \"Hundreds Scored\": 0.0, \"Scores Of Fifty Or More\": 0.0, \"Ducks Scored\": 0.0, \"Country\": \"India\", \"Player Count\": 1, \"5000+ Runs Scored\": 0, \"40+ Batting Avg\": 0, \"90+ Batting Strike Rate\": 0}, {\"Player\": \"NS Yadav (1986-1987)\", \"Career Span\": \"1986-1987\", \"Career Start\": 1986, \"Career End\": 1987, \"Matches Played\": 7, \"Innings Batted\": 2.0, \"Not Outs\": 2.0, \"Runs Scored\": 1.0, \"Highest Innings Score\": \"1*\", \"Highest Innings Score Num\": \"1\", \"Batting Avg\": null, \"Balls Faced\": 16.0, \"Batting Strike Rate\": 6.25, \"Hundreds Scored\": 0.0, \"Scores Of Fifty Or More\": 0.0, \"Ducks Scored\": 0.0, \"Country\": \"India\", \"Player Count\": 1, \"5000+ Runs Scored\": 0, \"40+ Batting Avg\": 0, \"90+ Batting Strike Rate\": 0}, {\"Player\": \"B Yograj Singh (1980-1981)\", \"Career Span\": \"1980-1981\", \"Career Start\": 1980, \"Career End\": 1981, \"Matches Played\": 6, \"Innings Batted\": 4.0, \"Not Outs\": 2.0, \"Runs Scored\": 1.0, \"Highest Innings Score\": \"1\", \"Highest Innings Score Num\": \"1\", \"Batting Avg\": 0.5, \"Balls Faced\": 12.0, \"Batting Strike Rate\": 8.33, \"Hundreds Scored\": 0.0, \"Scores Of Fifty Or More\": 0.0, \"Ducks Scored\": 1.0, \"Country\": \"India\", \"Player Count\": 1, \"5000+ Runs Scored\": 0, \"40+ Batting Avg\": 0, \"90+ Batting Strike Rate\": 0}, {\"Player\": \"A Bhandari (2000-2004)\", \"Career Span\": \"2000-2004\", \"Career Start\": 2000, \"Career End\": 2004, \"Matches Played\": 2, \"Innings Batted\": 1.0, \"Not Outs\": 1.0, \"Runs Scored\": 0.0, \"Highest Innings Score\": \"0*\", \"Highest Innings Score Num\": \"0\", \"Batting Avg\": null, \"Balls Faced\": 0.0, \"Batting Strike Rate\": null, \"Hundreds Scored\": 0.0, \"Scores Of Fifty Or More\": 0.0, \"Ducks Scored\": 0.0, \"Country\": \"India\", \"Player Count\": 1, \"5000+ Runs Scored\": 0, \"40+ Batting Avg\": 0, \"90+ Batting Strike Rate\": 0}, {\"Player\": \"AM Nayar (2009-2009)\", \"Career Span\": \"2009-2009\", \"Career Start\": 2009, \"Career End\": 2009, \"Matches Played\": 3, \"Innings Batted\": 1.0, \"Not Outs\": 1.0, \"Runs Scored\": 0.0, \"Highest Innings Score\": \"0*\", \"Highest Innings Score Num\": \"0\", \"Batting Avg\": null, \"Balls Faced\": 7.0, \"Batting Strike Rate\": 0.0, \"Hundreds Scored\": 0.0, \"Scores Of Fifty Or More\": 0.0, \"Ducks Scored\": 0.0, \"Country\": \"India\", \"Player Count\": 1, \"5000+ Runs Scored\": 0, \"40+ Batting Avg\": 0, \"90+ Batting Strike Rate\": 0}, {\"Player\": \"M Venkataramana (1988-1988)\", \"Career Span\": \"1988-1988\", \"Career Start\": 1988, \"Career End\": 1988, \"Matches Played\": 1, \"Innings Batted\": 1.0, \"Not Outs\": 1.0, \"Runs Scored\": 0.0, \"Highest Innings Score\": \"0*\", \"Highest Innings Score Num\": \"0\", \"Batting Avg\": null, \"Balls Faced\": 0.0, \"Batting Strike Rate\": null, \"Hundreds Scored\": 0.0, \"Scores Of Fifty Or More\": 0.0, \"Ducks Scored\": 0.0, \"Country\": \"India\", \"Player Count\": 1, \"5000+ Runs Scored\": 0, \"40+ Batting Avg\": 0, \"90+ Batting Strike Rate\": 0}, {\"Player\": \"MS Gony (2008-2008)\", \"Career Span\": \"2008-2008\", \"Career Start\": 2008, \"Career End\": 2008, \"Matches Played\": 2, \"Innings Batted\": null, \"Not Outs\": null, \"Runs Scored\": null, \"Highest Innings Score\": \"-\", \"Highest Innings Score Num\": \"-\", \"Batting Avg\": null, \"Balls Faced\": null, \"Batting Strike Rate\": null, \"Hundreds Scored\": null, \"Scores Of Fifty Or More\": null, \"Ducks Scored\": null, \"Country\": \"India\", \"Player Count\": 1, \"5000+ Runs Scored\": 0, \"40+ Batting Avg\": 0, \"90+ Batting Strike Rate\": 0}, {\"Player\": \"Parvez Rasool (2014-2014)\", \"Career Span\": \"2014-2014\", \"Career Start\": 2014, \"Career End\": 2014, \"Matches Played\": 1, \"Innings Batted\": null, \"Not Outs\": null, \"Runs Scored\": null, \"Highest Innings Score\": \"-\", \"Highest Innings Score Num\": \"-\", \"Batting Avg\": null, \"Balls Faced\": null, \"Batting Strike Rate\": null, \"Hundreds Scored\": null, \"Scores Of Fifty Or More\": null, \"Ducks Scored\": null, \"Country\": \"India\", \"Player Count\": 1, \"5000+ Runs Scored\": 0, \"40+ Batting Avg\": 0, \"90+ Batting Strike Rate\": 0}, {\"Player\": \"RGM Patel (1988-1988)\", \"Career Span\": \"1988-1988\", \"Career Start\": 1988, \"Career End\": 1988, \"Matches Played\": 1, \"Innings Batted\": null, \"Not Outs\": null, \"Runs Scored\": null, \"Highest Innings Score\": \"-\", \"Highest Innings Score Num\": \"-\", \"Batting Avg\": null, \"Balls Faced\": null, \"Batting Strike Rate\": null, \"Hundreds Scored\": null, \"Scores Of Fifty Or More\": null, \"Ducks Scored\": null, \"Country\": \"India\", \"Player Count\": 1, \"5000+ Runs Scored\": 0, \"40+ Batting Avg\": 0, \"90+ Batting Strike Rate\": 0}, {\"Player\": \"Randhir Singh (1981-1983)\", \"Career Span\": \"1981-1983\", \"Career Start\": 1981, \"Career End\": 1983, \"Matches Played\": 2, \"Innings Batted\": null, \"Not Outs\": null, \"Runs Scored\": null, \"Highest Innings Score\": \"-\", \"Highest Innings Score Num\": \"-\", \"Batting Avg\": null, \"Balls Faced\": null, \"Batting Strike Rate\": null, \"Hundreds Scored\": null, \"Scores Of Fifty Or More\": null, \"Ducks Scored\": null, \"Country\": \"India\", \"Player Count\": 1, \"5000+ Runs Scored\": 0, \"40+ Batting Avg\": 0, \"90+ Batting Strike Rate\": 0}, {\"Player\": \"TAP Sekhar (1983-1985)\", \"Career Span\": \"1983-1985\", \"Career Start\": 1983, \"Career End\": 1985, \"Matches Played\": 4, \"Innings Batted\": null, \"Not Outs\": null, \"Runs Scored\": null, \"Highest Innings Score\": \"-\", \"Highest Innings Score Num\": \"-\", \"Batting Avg\": null, \"Balls Faced\": null, \"Batting Strike Rate\": null, \"Hundreds Scored\": null, \"Scores Of Fifty Or More\": null, \"Ducks Scored\": null, \"Country\": \"India\", \"Player Count\": 1, \"5000+ Runs Scored\": 0, \"40+ Batting Avg\": 0, \"90+ Batting Strike Rate\": 0}, {\"Player\": \"KV Sharma (2014-2014)\", \"Career Span\": \"2014-2014\", \"Career Start\": 2014, \"Career End\": 2014, \"Matches Played\": 2, \"Innings Batted\": null, \"Not Outs\": null, \"Runs Scored\": null, \"Highest Innings Score\": \"-\", \"Highest Innings Score Num\": \"-\", \"Batting Avg\": null, \"Balls Faced\": null, \"Batting Strike Rate\": null, \"Hundreds Scored\": null, \"Scores Of Fifty Or More\": null, \"Ducks Scored\": null, \"Country\": \"India\", \"Player Count\": 1, \"5000+ Runs Scored\": 0, \"40+ Batting Avg\": 0, \"90+ Batting Strike Rate\": 0}, {\"Player\": \"RP Singh (1986-1986)\", \"Career Span\": \"1986-1986\", \"Career Start\": 1986, \"Career End\": 1986, \"Matches Played\": 2, \"Innings Batted\": null, \"Not Outs\": null, \"Runs Scored\": null, \"Highest Innings Score\": \"-\", \"Highest Innings Score Num\": \"-\", \"Batting Avg\": null, \"Balls Faced\": null, \"Batting Strike Rate\": null, \"Hundreds Scored\": null, \"Scores Of Fifty Or More\": null, \"Ducks Scored\": null, \"Country\": \"India\", \"Player Count\": 1, \"5000+ Runs Scored\": 0, \"40+ Batting Avg\": 0, \"90+ Batting Strike Rate\": 0}, {\"Player\": \"BB Sran (2016-2016)\", \"Career Span\": \"2016-2016\", \"Career Start\": 2016, \"Career End\": 2016, \"Matches Played\": 6, \"Innings Batted\": null, \"Not Outs\": null, \"Runs Scored\": null, \"Highest Innings Score\": \"-\", \"Highest Innings Score Num\": \"-\", \"Batting Avg\": null, \"Balls Faced\": null, \"Batting Strike Rate\": null, \"Hundreds Scored\": null, \"Scores Of Fifty Or More\": null, \"Ducks Scored\": null, \"Country\": \"India\", \"Player Count\": 1, \"5000+ Runs Scored\": 0, \"40+ Batting Avg\": 0, \"90+ Batting Strike Rate\": 0}, {\"Player\": \"JD Unadkat (2013-2013)\", \"Career Span\": \"2013-2013\", \"Career Start\": 2013, \"Career End\": 2013, \"Matches Played\": 7, \"Innings Batted\": null, \"Not Outs\": null, \"Runs Scored\": null, \"Highest Innings Score\": \"-\", \"Highest Innings Score Num\": \"-\", \"Batting Avg\": null, \"Balls Faced\": null, \"Batting Strike Rate\": null, \"Hundreds Scored\": null, \"Scores Of Fifty Or More\": null, \"Ducks Scored\": null, \"Country\": \"India\", \"Player Count\": 1, \"5000+ Runs Scored\": 0, \"40+ Batting Avg\": 0, \"90+ Batting Strike Rate\": 0}, {\"Player\": \"Washington Sundar (2017-2017)\", \"Career Span\": \"2017-2017\", \"Career Start\": 2017, \"Career End\": 2017, \"Matches Played\": 1, \"Innings Batted\": null, \"Not Outs\": null, \"Runs Scored\": null, \"Highest Innings Score\": \"-\", \"Highest Innings Score Num\": \"-\", \"Batting Avg\": null, \"Balls Faced\": null, \"Batting Strike Rate\": null, \"Hundreds Scored\": null, \"Scores Of Fifty Or More\": null, \"Ducks Scored\": null, \"Country\": \"India\", \"Player Count\": 1, \"5000+ Runs Scored\": 0, \"40+ Batting Avg\": 0, \"90+ Batting Strike Rate\": 0}]}}, {\"mode\": \"vega-lite\"});\n",
              "</script>"
            ]
          },
          "metadata": {},
          "execution_count": 69
        }
      ]
    }
  ]
}